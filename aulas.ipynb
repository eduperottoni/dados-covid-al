{
  "nbformat": 4,
  "nbformat_minor": 0,
  "metadata": {
    "colab": {
      "name": "EDUARDO DANI PEROTTONI.ipynb",
      "provenance": [],
      "collapsed_sections": [
        "awFAb2mlq58s",
        "GVQk9obVio9j",
        "IftRhdr9GOy9",
        "HKBvMjj83LS3",
        "iL8UfvMAsnxD",
        "PsP7q71G_-a9",
        "SD2G6qb_ACUx",
        "l043CHYVsu1i",
        "7ROkZ6dmsyGT",
        "n0Z5iRzY9GyR",
        "cdX_AIAtktsX",
        "KMHHNqYLJ2cg"
      ],
      "toc_visible": true,
      "include_colab_link": true
    },
    "kernelspec": {
      "name": "python3",
      "display_name": "Python 3"
    }
  },
  "cells": [
    {
      "cell_type": "markdown",
      "metadata": {
        "id": "view-in-github",
        "colab_type": "text"
      },
      "source": [
        "<a href=\"https://colab.research.google.com/github/eduperottoni/dados-covid-al/blob/main/aulas.ipynb\" target=\"_parent\"><img src=\"https://colab.research.google.com/assets/colab-badge.svg\" alt=\"Open In Colab\"/></a>"
      ]
    },
    {
      "cell_type": "code",
      "metadata": {
        "id": "u6piF0k96FF5"
      },
      "source": [
        "import pandas as pd\n",
        "from matplotlib import pyplot as plt\n",
        "\n",
        "df_covid = pd.read_csv('/content/CovidAL.csv')"
      ],
      "execution_count": 12,
      "outputs": []
    },
    {
      "cell_type": "code",
      "metadata": {
        "id": "FblAU0ZLPX49"
      },
      "source": [
        "import pandas as pd\n",
        "from matplotlib import pyplot as plt"
      ],
      "execution_count": 3,
      "outputs": []
    },
    {
      "cell_type": "markdown",
      "metadata": {
        "id": "awFAb2mlq58s"
      },
      "source": [
        "# **Semana 1**"
      ]
    },
    {
      "cell_type": "markdown",
      "metadata": {
        "id": "JNLKW4E-tbo3"
      },
      "source": [
        "## **O que são dados?**\n"
      ]
    },
    {
      "cell_type": "markdown",
      "metadata": {
        "id": "vW_BKtgn_p8m"
      },
      "source": [
        "\n",
        "*“Soterrados sob esses dados estão as respostas para as inúmeras questões que\n",
        "ninguém nunca pensou em perguntar.”*  \n",
        "\n",
        "*– Joel Grus, Data Science from Scratch*"
      ]
    },
    {
      "cell_type": "markdown",
      "metadata": {
        "id": "TX7zLvAirFvA"
      },
      "source": [
        "Dados são conjuntos de observações brutas a respeito de objetos. Por si só, não são informação, porém, quando munidos de um contexto, podem vir a descrever algum fenômeno. Informação, por sua vez, são dados trabalhados de forma a fornecer algum significado¹.\n",
        "  \n",
        "Uma analogia simples é pensar nos dados como os tijolos que constroem a informação. Por exemplo, as notas dos alunos de uma classe em sua última prova são *dados*. Uma das *informações* que podemos extrair através do processamento destes dados é a nota média da turma.  \n",
        "\n",
        "Nos últimos anos, a quantidade de dados gerada através de dispositivos como celulares, sensores, satélites e máquinas, tem aumentado de maneira extraordinária, como mostra o gráfico abaixo. Para se ter uma ideia, em 2015, a soma dos dados gerados nos dois últimos anos superava o volume de dados criados em todos os outros anos até então².  \n",
        "\n",
        "*Figura 1: Estimativa de crescimento do volume de dados em zetabytes (10²¹) até 2024. (Fonte: Statista)*\n",
        "\n",
        "![Estimativa de crescimento do volume de dados em zetabytes (10²¹). Fonte: Statista. 2020.](https://i.imgur.com/1V4Zdjn.png)\n",
        "\n",
        "Quando trabalhados, dados podem oferecer conhecimento útil: a empresa americana Microsoft analisou por anos dados como perfil, diagnóstico e tratamento de pacientes de um hospital em Washington com o intuito de encontrar fatores relacionados a taxa de retorno ao hospital e foi capaz de identificar que pacientes com indícios de depressão eram, possivelmente, mais suscetíveis a retornar³; serviços de streaming analisam cada conteúdo reproduzido pelos usuarios, de forma a criar recomendações personalizadas; o Facebook investiga os dados cidade natal e localização atual de seus usuários para identificar padrões de migração global⁴. \n",
        "\n",
        "Estas são apenas algumas das muitas aplicações que os dados disponíveis e o poder computacional atual possibilitam. Com os avanços tecnológicos e o já citado crescimento do volume de dados, o cenário de dados tende a expandir ainda mais.\n",
        "\n",
        "Neste curso, focaremos na análise de dados atráves da biblioteca de manipulação ***Pandas***. Nos links abaixo, você encontrará conteúdos mais detalhados a respeito de outros campos importantes para a ciência de dados, como Aprendizado de Máquina e Mineração.\n",
        "\n",
        "### **Links Interessantes**\n",
        "\n",
        "[Data science — Um panorama geral](https://medium.com/trainingcenter/data-science-um-panorama-geral-87edbbd35885)\n",
        "\n",
        "[Machine Learning (Aprendizado de Máquina)](https://blog.rebel.com.br/machine-learning-o-que-e-e-como-funciona/)\n",
        "\n",
        "[Mineração de Dados](https://www.sas.com/pt_br/insights/analytics/mineracao-de-dados.html)\n",
        "\n",
        "### **Referências**\n",
        "\n",
        "¹ Anna da Soledade Vieira\n",
        "\n",
        "² [https://forbes.com.br/fotos/2015/10/20-fatos-sobre-a-internet-que-voce-provavelmente-nao-sabe/](https://forbes.com.br/fotos/2015/10/20-fatos-sobre-a-internet-que-voce-provavelmente-nao-sabe/)\n",
        "\n",
        "³ [https://acontecendoaqui.com.br/colunas/coluna-fernanda-bornhausen-sa-movimento-data-good-data-science-ajudando-solucionar-os](https://acontecendoaqui.com.br/colunas/coluna-fernanda-bornhausen-sa-movimento-data-good-data-science-ajudando-solucionar-os)\n",
        "\n",
        "⁴ Grus, Joel. Data Science From Scratch: First Principles With Python. First edition. Sebastopol, CA: O'Reilly, 2015.\n",
        "\n",
        "\n",
        "Chaim Zins. 2007. Conceptual approaches for defining data, information, and knowledge: Research Articles. J. Am. Soc. Inf. Sci. Technol. 58, 4 (February 2007), 479–493.\n",
        "\n",
        "[https://towardsdatascience.com/data-types-in-statistics-347e152e8bee](https://towardsdatascience.com/data-types-in-statistics-347e152e8bee)"
      ]
    },
    {
      "cell_type": "markdown",
      "metadata": {
        "id": "or8mNAE4q2RN"
      },
      "source": [
        "## **Breve Histórico da Ciência de Dados**"
      ]
    },
    {
      "cell_type": "markdown",
      "metadata": {
        "id": "HR4fBhU4q-aY"
      },
      "source": [
        "Uma das muitas definições disponíveis para a ciência de dados - ou data science - é “um campo interdisciplinar que utiliza métodos, processos, algoritmos e sistemas científicos para extrair conhecimento e *insights* de dados estruturados e não estruturados.\n",
        "\n",
        "Os primeiros vislumbres a respeito deste campo remontam 1962, quando o matemático John Tukey apontou o surgimento de uma nova ciência, que ele inicialmente chamou de *análise de dados*, e que esta seria impulsionadas pelo do avanço tecnológico dos computadores.\n",
        "\n",
        "Mais tarde, em 1974, o termo \"ciência de dados\" foi proposto pelo informático Peter Naur, porém, apenas como um nome alternativo para a ciência da computação. Quatro anos depois, a Associação Internacional de Computação Estatística foi estabalecida com a missão de aliar o método estatístico tradicional e a computação moderna para converter dados em informação e conhecimento.\n",
        "\n",
        "Ao longo dos últimos 20 anos, a ciência de dados moderna tem sido considerada uma disciplina em acensão e aliado seu potencial a outras áreas, como Inteligência Artificial. Hoje, representa uma parte significativa não apenas da inovação ciêntifica, mas também do mercado - a exemplo, está fortemente ligada ao auxílio a tomadas de decisões estratégicas para empresas - e está se consolidando como um peça essencial do mundo como conhecemos.\n",
        "\n",
        "### **Referências**\n",
        "\n",
        "https://www.forbes.com/sites/gilpress/2013/05/28/a-very-short-history-of-data-science\n"
      ]
    },
    {
      "cell_type": "markdown",
      "metadata": {
        "id": "XVMiHAvapoW3"
      },
      "source": [
        "\n",
        "## **Tipos de Dados**  \n",
        "\n"
      ]
    },
    {
      "cell_type": "markdown",
      "metadata": {
        "id": "XV6ojEsCtXb7"
      },
      "source": [
        "\n",
        "Visto que os dados são nossa matéria prima para descrever objetos de interesse ao longo do curso, é importante entender quais aspectos do objeto os dados estão descrevendo. Nesse sentido, existem duas categorias principais: **qualitativos** e **quantitativos**.\n",
        " \n",
        "Dados qualitativos descrevem características que não podem ser medidas, como, por exemplo, cor (amarelo, azul, etc) e avaliações (bom, neutro, ruim). Dados qualiativos que podem ser ordenados são chamados **ordinais**, enquanto os que não podem **nominais**. \n",
        "\n",
        "Já os quantitativos, como o nome sugere, são dados que podem ser quantificados. Esse tipo de dado se divide ainda em duas subcategorias: dados **discretos**, quando podem ser contados (idade, numero de pessoas em um evento), e **contínuos** quando podem assumir qualquer valor (velocidade, temperatura).\n",
        "\n",
        "\n",
        "\n",
        "Além disso, com relação a sua estrutura, os dados são classificados em: **dados estruturados**, quando possuem um formato pré definido ou, mais intuitivamente, são expressos em uma tabela, e dados **não estruturados** dados sem formatação padrão, como imagens, vídeos, textos, etc.\n"
      ]
    },
    {
      "cell_type": "markdown",
      "metadata": {
        "id": "NiltAyffmY5K"
      },
      "source": [
        "***Exercício 1.1.:*** Para a notícia a seguir, identifique:\n",
        "*  os tipos de variáveis utilizadas;\n",
        "* as medidas de tendência central citadas;\n",
        "* as medidas de tendência central calculadas.\n",
        "\n",
        "\"O turista brasileiro tem entre 30 e 40 anos, renda média de R$ 1800 e segundo grau\n",
        "completo. Viaja duas vezes por ano e de ônibus. Seu objetivo principal é visitar parentes e\n",
        "amigos. A maioria - 70% - viaja durante a alta estação. As viagens duram, em média, 72 dias.\"\n",
        "Este é o perfil, traçado pela Fundação Instituto de Pesquisas Econômicas, da USP, do turista\n",
        "brasileiro em 1998. Os dados constam da publicação: Dados Estatísticos de Turismo de 1998. "
      ]
    },
    {
      "cell_type": "markdown",
      "metadata": {
        "id": "pk10OMpTdDxu"
      },
      "source": [
        "**Correção:** renda é um dado contínuo, assim como a porcentagem."
      ]
    },
    {
      "cell_type": "markdown",
      "metadata": {
        "id": "uUzol_R8mZCJ"
      },
      "source": [
        "Tipos de variáveis utilizadas:\n",
        "\n",
        "1.   DADOS QUALITATIVOS NOMINAIS: \n",
        "\n",
        "> * Nacionalidade (\"brasileiro\")\n",
        "* Meio de transporte (\"ônibus\")\n",
        "* Principais objetivos de visita (\"parentes\", \"amigos\")\n",
        "* Período de viagem (\"alta estação\")\n",
        "* Fonte dos dados (\"Fundação Instituto de Pesquisas Econômicas, USP\")\n",
        "\n",
        "2.   DADOS QUALITATIVOS ORDINAIS:\n",
        "\n",
        "> * Escolaridade (\"segundo grau\")\n",
        "\n",
        "3.   DADOS QUANTITATIVOS DISCRETOS:\n",
        "\n",
        "> * Idade (\"30 anos\", \"40 anos\")\n",
        "* Renda (\"R$ 1800\")\n",
        "* Quantidade de viagens/ano (\"2\")\n",
        "* Porcentagem que viaja durante a alta estação (\"70%\")\n",
        "* Duração média das viagens (\"72 dias\")\n",
        "* Ano (\"1998\")\n",
        "\n",
        "\n"
      ]
    },
    {
      "cell_type": "markdown",
      "metadata": {
        "id": "Z190nXhSnhgi"
      },
      "source": [
        "## **Tipos de Gráficos**"
      ]
    },
    {
      "cell_type": "markdown",
      "metadata": {
        "id": "BmhrBZt1n4c5"
      },
      "source": [
        "A vizualização de dados é parte fundamental da análise destes. Ao longo do curso, o uso de alguns gráficos específicos corriqueiro. A seguir, veremos um pouco sobre cada um deles."
      ]
    },
    {
      "cell_type": "markdown",
      "metadata": {
        "id": "DUlOVn0IBEK7"
      },
      "source": [
        "### **Histograma**"
      ]
    },
    {
      "cell_type": "markdown",
      "metadata": {
        "id": "5iR8UT359tWe"
      },
      "source": [
        "Acesse o link a seguir para vizualizar o conteúdo: [**Histograma**](https://www.stoodi.com.br/blog/matematica/histograma-o-que-e-como-fazer/)\n",
        "\n"
      ]
    },
    {
      "cell_type": "markdown",
      "metadata": {
        "id": "KKsvw22GBYi0"
      },
      "source": [
        "### **Gráfico de dispersão**"
      ]
    },
    {
      "cell_type": "markdown",
      "metadata": {
        "id": "4RIjtugUBm_x"
      },
      "source": [
        "Diagrama ou gráfico de dispersão é uma representação gráfica para dados quantitativos, em que cada par de dados (x,y) é representado por um ponto de coordenadas (x,y), num sistema de eixos coordenados¹. \n",
        "\n",
        "No exemplo a seguir, temos o gráfico de dispersão das variáveis `Idade da mulher` e `Idade do marido`.\n"
      ]
    },
    {
      "cell_type": "markdown",
      "metadata": {
        "id": "wvPGGcMzUSB-"
      },
      "source": [
        "![](https://wikiciencias.casadasciencias.org/wiki/images/0/03/Img_Diagrama_ou_gr%C3%A1fico_de_dispers%C3%A3o_Tabela.png)\n",
        "\n",
        "![](https://wikiciencias.casadasciencias.org/wiki/images/4/44/Img_Diagrama_ou_gr%C3%A1fico_de_dispers%C3%A3o_Grafico_1.png)"
      ]
    },
    {
      "cell_type": "markdown",
      "metadata": {
        "id": "cdRVOuH7SN-h"
      },
      "source": [
        "Esse tipo de gráfico é particularmente útil para a vizualizar a relação - ou, formalmente, a *correlação* - existente entre as variáveis. \n",
        "\n",
        "No exemplo, os pontos do gráfico estão aglomerados de forma crescente, ou seja, para o conjunto de dados analisado, a *tendência* é que quanto maior a idade da mulher, maior a idade do marido. Em casos desse gênero, temos uma *correlação positiva* das variáveis.\n",
        "\n",
        "Analogamente, quando os pontos estão dispostos de forma decrescente, temos uma *correlação negativa*. Quando as duas não há relação entre as variáveis, ou seja, elas variam ao acaso, trata-se de um caso de *correlação nula ou inexistente*.\n",
        "\n",
        "\n",
        "![](https://encrypted-tbn0.gstatic.com/images?q=tbn%3AANd9GcSWYXGEjHFBDBBik5rgJvWieFjpbvc8TAG0nA&usqp=CAU)\n",
        "\n",
        "\n",
        "A correlação pode ser avaliada ainda quanto a sua força: quanto menos dispersos estão os pontos do gráfico maior é a correlação, quanto maior a dispersão menor a correlação.\n",
        "\n",
        "![](https://i.imgur.com/uuBP7uO.png)\n"
      ]
    },
    {
      "cell_type": "markdown",
      "metadata": {
        "id": "LsI-8wtXBnqh"
      },
      "source": [
        "### **Mapa de Calor** "
      ]
    },
    {
      "cell_type": "markdown",
      "metadata": {
        "id": "5qexz12_Bwhn"
      },
      "source": [
        "O mapa de calor, também conhecido como heatmap, é um método gráfico de vizualização de dados numéricos baseado em um sistema de representação por cores. \n",
        "\n",
        "Essas cores podem representar a frequência de um determinado evento, a densidade populacional de cada município em um estado, a velocidade de carros nos trechos de uma determinada rodovia, entre outros exemplos. \n",
        "\n",
        "![https://i2.wp.com/indianaiproduction.com/wp-content/uploads/2019/09/28-seaborn-heatmap-example-2.png?resize=768%2C464&ssl=1](https://i2.wp.com/indianaiproduction.com/wp-content/uploads/2019/09/28-seaborn-heatmap-example-2.png?resize=768%2C464&ssl=1)\n",
        "\n",
        "A figura acima é um mapa de calor que ilustra a emissão de gás carbônico na atmosfera entre 2000 e 2014 (eixo X) por um conjunto de países (eixo Y). Quanto mais vermelho (considerada uma cor quente), maior é emissão de CO2. De forma análoga, quanto mais próximo do azul (cor fria) menor é essa emissão.\n",
        "\n"
      ]
    },
    {
      "cell_type": "markdown",
      "metadata": {
        "id": "geDY2l42giRP"
      },
      "source": [
        "### **Referências**\n",
        "\n",
        "¹ https://wikiciencias.casadasciencias.org/wiki/index.php/Diagrama_ou_gr%C3%A1fico_de_dispers%C3%A3o\n",
        "\n",
        "http://leg.ufpr.br/~shimakur/CE001/node15.html\n",
        "\n",
        "https://ferramentasdaqualidade.org/diagrama-de-dispersao/\n",
        "\n",
        "https://vwo.com/blog/heatmap/"
      ]
    },
    {
      "cell_type": "markdown",
      "metadata": {
        "id": "GVQk9obVio9j"
      },
      "source": [
        "# **Semana 2**"
      ]
    },
    {
      "cell_type": "markdown",
      "metadata": {
        "id": "_zDmhytbGiic"
      },
      "source": [
        "## **pandas**"
      ]
    },
    {
      "cell_type": "markdown",
      "metadata": {
        "id": "xP83baUeYera"
      },
      "source": [
        "Como dito da semana passada, o **pandas** é uma poderosa ferramenta de manipulação de dados.\n",
        "\n",
        "Nesta semana, serão apresentadas em detalhe as duas estrututras fundamentais da biblioteca, as Series e os Dataframes.\n",
        "\n",
        "Por convenção, importaremos o pandas da seguinte forma:\n"
      ]
    },
    {
      "cell_type": "code",
      "metadata": {
        "id": "tarptPZYYjug"
      },
      "source": [
        "import pandas as pd"
      ],
      "execution_count": null,
      "outputs": []
    },
    {
      "cell_type": "markdown",
      "metadata": {
        "id": "ZvGiiEsnYuEE"
      },
      "source": [
        "**Lembre-se que, para usar o pandas, é preciso executar a célula acima sempre que o seu arquivo no Colab for reiniciado.**\n",
        "\n"
      ]
    },
    {
      "cell_type": "markdown",
      "metadata": {
        "id": "u3hoeloLYlRB"
      },
      "source": [
        "### **Series**\n",
        "\n",
        "\n"
      ]
    },
    {
      "cell_type": "markdown",
      "metadata": {
        "id": "9uNxVGYdfZ2C"
      },
      "source": [
        "Uma `Series` é um array unidimensional associado a uma sequência de índices. Este objeto pode ser criado ultilizando o comando ```pd.Series(array)```, como no exemplo abaixo."
      ]
    },
    {
      "cell_type": "code",
      "metadata": {
        "id": "4gm90bHvYyaB",
        "outputId": "62dabe30-27af-4cf0-fbda-2781fddb120f",
        "colab": {
          "base_uri": "https://localhost:8080/"
        }
      },
      "source": [
        "# Criação de uma series\n",
        "\n",
        "nova_series = pd.Series([9.5,'Três',10])\n",
        "\n",
        "nova_series # para imprimir"
      ],
      "execution_count": null,
      "outputs": [
        {
          "output_type": "execute_result",
          "data": {
            "text/plain": [
              "0     9.5\n",
              "1    Três\n",
              "2      10\n",
              "dtype: object"
            ]
          },
          "metadata": {
            "tags": []
          },
          "execution_count": 3
        }
      ]
    },
    {
      "cell_type": "markdown",
      "metadata": {
        "id": "El2JkOCWYzxZ"
      },
      "source": [
        "Note que podemos armazenar o array em uma variável sem alterar o resultado final:\n"
      ]
    },
    {
      "cell_type": "code",
      "metadata": {
        "id": "3TmXCm8oY63K",
        "outputId": "c88b2883-f05c-4ca6-9c01-28ce7f99fff2",
        "colab": {
          "base_uri": "https://localhost:8080/"
        }
      },
      "source": [
        "dados = [9.5,'Três',10]\n",
        "nova_series = pd.Series(dados)\n",
        "\n",
        "nova_series # para imprimir"
      ],
      "execution_count": null,
      "outputs": [
        {
          "output_type": "execute_result",
          "data": {
            "text/plain": [
              "0     9.5\n",
              "1    Três\n",
              "2      10\n",
              "dtype: object"
            ]
          },
          "metadata": {
            "tags": []
          },
          "execution_count": 4
        }
      ]
    },
    {
      "cell_type": "markdown",
      "metadata": {
        "id": "CiABZ9sEY9I3"
      },
      "source": [
        "Os dados contidos numa `Series` podem ser acessados através de seus índices com a notação usual do Python:"
      ]
    },
    {
      "cell_type": "code",
      "metadata": {
        "id": "0U6iH4WNY-01",
        "outputId": "3a23b37d-fd41-4486-8f60-7182ee1a82e9",
        "colab": {
          "base_uri": "https://localhost:8080/"
        }
      },
      "source": [
        "nova_series[2]"
      ],
      "execution_count": null,
      "outputs": [
        {
          "output_type": "execute_result",
          "data": {
            "text/plain": [
              "10"
            ]
          },
          "metadata": {
            "tags": []
          },
          "execution_count": 5
        }
      ]
    },
    {
      "cell_type": "code",
      "metadata": {
        "id": "DF1t_eO8ZLru",
        "outputId": "2f9460e1-3f47-4ea5-a363-166b96acb528",
        "colab": {
          "base_uri": "https://localhost:8080/"
        }
      },
      "source": [
        "nova_series[1:2]"
      ],
      "execution_count": null,
      "outputs": [
        {
          "output_type": "execute_result",
          "data": {
            "text/plain": [
              "1    Três\n",
              "dtype: object"
            ]
          },
          "metadata": {
            "tags": []
          },
          "execution_count": 6
        }
      ]
    },
    {
      "cell_type": "markdown",
      "metadata": {
        "id": "1OAR5JKzZN8R"
      },
      "source": [
        "Uma funcionalidade bastante útil do pandas é a personalização dos índices. O método `Series()` possui um parâmetro chamado `index`, específico para isso."
      ]
    },
    {
      "cell_type": "code",
      "metadata": {
        "id": "XDE_szTtCY7j",
        "outputId": "741106cf-b9e4-4055-aecf-6c21d92e49ec",
        "colab": {
          "base_uri": "https://localhost:8080/"
        }
      },
      "source": [
        "indices = ['Alemanha','Brasil']\n",
        "\n",
        "series = pd.Series([7,1], index = indices)\n",
        "\n",
        "series"
      ],
      "execution_count": null,
      "outputs": [
        {
          "output_type": "execute_result",
          "data": {
            "text/plain": [
              "Alemanha    7\n",
              "Brasil      1\n",
              "dtype: int64"
            ]
          },
          "metadata": {
            "tags": []
          },
          "execution_count": 7
        }
      ]
    },
    {
      "cell_type": "markdown",
      "metadata": {
        "id": "d9INIsXResO0"
      },
      "source": [
        "O atributo `values` retorna um array contendo apenas os valores da Series (sem índice)."
      ]
    },
    {
      "cell_type": "code",
      "metadata": {
        "id": "cECNuLkOfA8k",
        "outputId": "34eb2b53-c3ff-4628-f9cc-556b8394052f",
        "colab": {
          "base_uri": "https://localhost:8080/"
        }
      },
      "source": [
        "series.values"
      ],
      "execution_count": null,
      "outputs": [
        {
          "output_type": "execute_result",
          "data": {
            "text/plain": [
              "array([7, 1])"
            ]
          },
          "metadata": {
            "tags": []
          },
          "execution_count": 9
        }
      ]
    },
    {
      "cell_type": "markdown",
      "metadata": {
        "id": "XHKlMPdzZVbv"
      },
      "source": [
        "***Exercício 1.1.:*** Crie uma variavel `dado` que armazena um número inteiro, um array de índice com 5 elementos e, então, crie uma series com esse dado e o array como índice. Analise o resultado.\n"
      ]
    },
    {
      "cell_type": "code",
      "metadata": {
        "id": "USa5RGEBZdg4",
        "outputId": "47272c8a-270b-4ac3-a26b-6987f37cc1cb",
        "colab": {
          "base_uri": "https://localhost:8080/"
        }
      },
      "source": [
        "dado = 5\n",
        "array_de_indice = ['Eduardo', 4, True, 2.5]\n",
        "\n",
        "seriess = pd.Series(dado, index = array_de_indice)\n",
        "\n",
        "seriess"
      ],
      "execution_count": null,
      "outputs": [
        {
          "output_type": "execute_result",
          "data": {
            "text/plain": [
              "Eduardo    5\n",
              "4          5\n",
              "True       5\n",
              "2.5        5\n",
              "dtype: int64"
            ]
          },
          "metadata": {
            "tags": []
          },
          "execution_count": 8
        }
      ]
    },
    {
      "cell_type": "markdown",
      "metadata": {
        "id": "TZBsjk7pZepE"
      },
      "source": [
        "Uma última forma de construir uma series é através de um dicionário ou dict (se você não é familiar com o termo, pode ler a respeito [aqui](https://www.treinaweb.com.br/blog/manipulando-dicionarios-no-python/))."
      ]
    },
    {
      "cell_type": "code",
      "metadata": {
        "id": "2oPRNqV8CV4D",
        "outputId": "475011c1-2e04-4cec-ef81-6335a6527b0b",
        "colab": {
          "base_uri": "https://localhost:8080/"
        }
      },
      "source": [
        "quantidade_dias = {'Agosto': 31,'Setembro': 30, 'Outubro': 31, 'Novembro': 30,'Dezembro': 31}\n",
        "\n",
        "series = pd.Series(quantidade_dias)\n",
        "\n",
        "series"
      ],
      "execution_count": null,
      "outputs": [
        {
          "output_type": "execute_result",
          "data": {
            "text/plain": [
              "Agosto      31\n",
              "Setembro    30\n",
              "Outubro     31\n",
              "Novembro    30\n",
              "Dezembro    31\n",
              "dtype: int64"
            ]
          },
          "metadata": {
            "tags": []
          },
          "execution_count": 10
        }
      ]
    },
    {
      "cell_type": "markdown",
      "metadata": {
        "id": "wHzsun4GZoe_"
      },
      "source": [
        "### **Dataframe**"
      ]
    },
    {
      "cell_type": "markdown",
      "metadata": {
        "id": "GQwt0ZQlZmwz"
      },
      "source": [
        "O objeto DataFrame pode ser visto como a generalização do objeto Series para duas dimensões. É uma estrutura tabular com índices relativos as suas linhas e as suas colunas.\n",
        "\n",
        "Uma forma comum de criar DataFrames é através de dicts."
      ]
    },
    {
      "cell_type": "code",
      "metadata": {
        "id": "b3DEZM9reiqJ",
        "outputId": "ffbc0394-353b-4008-9b6f-392e8fb1ffc9",
        "colab": {
          "base_uri": "https://localhost:8080/",
          "height": 142
        }
      },
      "source": [
        "#Criação de um DataFrame\n",
        "\n",
        "dados = {'Prova1': [7.9,5,10], 'Prova2': [6,3.5,10]}\n",
        "\n",
        "df = pd.DataFrame(dados)\n",
        "\n",
        "df"
      ],
      "execution_count": null,
      "outputs": [
        {
          "output_type": "execute_result",
          "data": {
            "text/html": [
              "<div>\n",
              "<style scoped>\n",
              "    .dataframe tbody tr th:only-of-type {\n",
              "        vertical-align: middle;\n",
              "    }\n",
              "\n",
              "    .dataframe tbody tr th {\n",
              "        vertical-align: top;\n",
              "    }\n",
              "\n",
              "    .dataframe thead th {\n",
              "        text-align: right;\n",
              "    }\n",
              "</style>\n",
              "<table border=\"1\" class=\"dataframe\">\n",
              "  <thead>\n",
              "    <tr style=\"text-align: right;\">\n",
              "      <th></th>\n",
              "      <th>Prova1</th>\n",
              "      <th>Prova2</th>\n",
              "    </tr>\n",
              "  </thead>\n",
              "  <tbody>\n",
              "    <tr>\n",
              "      <th>0</th>\n",
              "      <td>7.9</td>\n",
              "      <td>6.0</td>\n",
              "    </tr>\n",
              "    <tr>\n",
              "      <th>1</th>\n",
              "      <td>5.0</td>\n",
              "      <td>3.5</td>\n",
              "    </tr>\n",
              "    <tr>\n",
              "      <th>2</th>\n",
              "      <td>10.0</td>\n",
              "      <td>10.0</td>\n",
              "    </tr>\n",
              "  </tbody>\n",
              "</table>\n",
              "</div>"
            ],
            "text/plain": [
              "   Prova1  Prova2\n",
              "0     7.9     6.0\n",
              "1     5.0     3.5\n",
              "2    10.0    10.0"
            ]
          },
          "metadata": {
            "tags": []
          },
          "execution_count": 4
        }
      ]
    },
    {
      "cell_type": "code",
      "metadata": {
        "id": "e0hWoVLzzwZ8",
        "outputId": "db3d86df-9fe4-459e-f3d9-9dd05d5df152",
        "colab": {
          "base_uri": "https://localhost:8080/",
          "height": 34
        }
      },
      "source": [
        "df.shape # O atributo shape retorna as dimensões do DataFrame no formato (linhas, colunas)"
      ],
      "execution_count": null,
      "outputs": [
        {
          "output_type": "execute_result",
          "data": {
            "text/plain": [
              "(3, 2)"
            ]
          },
          "metadata": {
            "tags": []
          },
          "execution_count": 5
        }
      ]
    },
    {
      "cell_type": "markdown",
      "metadata": {
        "id": "vhwzAIQEfgId"
      },
      "source": [
        "Similarmente a uma Series, o índíce pode ser especificado através do parâmetro `index`."
      ]
    },
    {
      "cell_type": "code",
      "metadata": {
        "id": "t1telSFEftem",
        "outputId": "0bc4a1ca-b138-481c-d2c7-6c0a5a8b6204",
        "colab": {
          "base_uri": "https://localhost:8080/",
          "height": 142
        }
      },
      "source": [
        "df = pd.DataFrame(dados, index = ['Harry','Ronald','Hermione'])\n",
        "\n",
        "df"
      ],
      "execution_count": null,
      "outputs": [
        {
          "output_type": "execute_result",
          "data": {
            "text/html": [
              "<div>\n",
              "<style scoped>\n",
              "    .dataframe tbody tr th:only-of-type {\n",
              "        vertical-align: middle;\n",
              "    }\n",
              "\n",
              "    .dataframe tbody tr th {\n",
              "        vertical-align: top;\n",
              "    }\n",
              "\n",
              "    .dataframe thead th {\n",
              "        text-align: right;\n",
              "    }\n",
              "</style>\n",
              "<table border=\"1\" class=\"dataframe\">\n",
              "  <thead>\n",
              "    <tr style=\"text-align: right;\">\n",
              "      <th></th>\n",
              "      <th>Prova1</th>\n",
              "      <th>Prova2</th>\n",
              "    </tr>\n",
              "  </thead>\n",
              "  <tbody>\n",
              "    <tr>\n",
              "      <th>Harry</th>\n",
              "      <td>7.9</td>\n",
              "      <td>6.0</td>\n",
              "    </tr>\n",
              "    <tr>\n",
              "      <th>Ronald</th>\n",
              "      <td>5.0</td>\n",
              "      <td>3.5</td>\n",
              "    </tr>\n",
              "    <tr>\n",
              "      <th>Hermione</th>\n",
              "      <td>10.0</td>\n",
              "      <td>10.0</td>\n",
              "    </tr>\n",
              "  </tbody>\n",
              "</table>\n",
              "</div>"
            ],
            "text/plain": [
              "          Prova1  Prova2\n",
              "Harry        7.9     6.0\n",
              "Ronald       5.0     3.5\n",
              "Hermione    10.0    10.0"
            ]
          },
          "metadata": {
            "tags": []
          },
          "execution_count": 6
        }
      ]
    },
    {
      "cell_type": "markdown",
      "metadata": {
        "id": "aIu-qBS8xN4T"
      },
      "source": [
        "As colunas de um DataFrame podem ser acessadas com a notação usual ou por atributo:"
      ]
    },
    {
      "cell_type": "code",
      "metadata": {
        "id": "-Jas_AGNxo9_",
        "outputId": "ae02cfb3-bbff-4387-cbd4-3add07a3c421",
        "colab": {
          "base_uri": "https://localhost:8080/",
          "height": 85
        }
      },
      "source": [
        "df['Prova1']"
      ],
      "execution_count": null,
      "outputs": [
        {
          "output_type": "execute_result",
          "data": {
            "text/plain": [
              "Harry        7.9\n",
              "Ronald       5.0\n",
              "Hermione    10.0\n",
              "Name: Prova1, dtype: float64"
            ]
          },
          "metadata": {
            "tags": []
          },
          "execution_count": 7
        }
      ]
    },
    {
      "cell_type": "code",
      "metadata": {
        "id": "0QRHMjFDxpIG",
        "outputId": "94eacd00-b64c-4030-ae26-86278f4c8ed0",
        "colab": {
          "base_uri": "https://localhost:8080/",
          "height": 85
        }
      },
      "source": [
        "df.Prova2"
      ],
      "execution_count": null,
      "outputs": [
        {
          "output_type": "execute_result",
          "data": {
            "text/plain": [
              "Harry        6.0\n",
              "Ronald       3.5\n",
              "Hermione    10.0\n",
              "Name: Prova2, dtype: float64"
            ]
          },
          "metadata": {
            "tags": []
          },
          "execution_count": 8
        }
      ]
    },
    {
      "cell_type": "markdown",
      "metadata": {
        "id": "-9CMpJJKzXmZ"
      },
      "source": [
        "Também é possivel adicionar novas colunas com a notação de colchetes:"
      ]
    },
    {
      "cell_type": "code",
      "metadata": {
        "id": "3k7q3fgF_nRs",
        "outputId": "7c023fe6-3121-4840-d25d-beaa211c4fb4",
        "colab": {
          "base_uri": "https://localhost:8080/",
          "height": 142
        }
      },
      "source": [
        "df['Prova3'] = [6.1,4,10]\n",
        "\n",
        "df"
      ],
      "execution_count": null,
      "outputs": [
        {
          "output_type": "execute_result",
          "data": {
            "text/html": [
              "<div>\n",
              "<style scoped>\n",
              "    .dataframe tbody tr th:only-of-type {\n",
              "        vertical-align: middle;\n",
              "    }\n",
              "\n",
              "    .dataframe tbody tr th {\n",
              "        vertical-align: top;\n",
              "    }\n",
              "\n",
              "    .dataframe thead th {\n",
              "        text-align: right;\n",
              "    }\n",
              "</style>\n",
              "<table border=\"1\" class=\"dataframe\">\n",
              "  <thead>\n",
              "    <tr style=\"text-align: right;\">\n",
              "      <th></th>\n",
              "      <th>Prova1</th>\n",
              "      <th>Prova2</th>\n",
              "      <th>Prova3</th>\n",
              "    </tr>\n",
              "  </thead>\n",
              "  <tbody>\n",
              "    <tr>\n",
              "      <th>Harry</th>\n",
              "      <td>7.9</td>\n",
              "      <td>6.0</td>\n",
              "      <td>6.1</td>\n",
              "    </tr>\n",
              "    <tr>\n",
              "      <th>Ronald</th>\n",
              "      <td>5.0</td>\n",
              "      <td>3.5</td>\n",
              "      <td>4.0</td>\n",
              "    </tr>\n",
              "    <tr>\n",
              "      <th>Hermione</th>\n",
              "      <td>10.0</td>\n",
              "      <td>10.0</td>\n",
              "      <td>10.0</td>\n",
              "    </tr>\n",
              "  </tbody>\n",
              "</table>\n",
              "</div>"
            ],
            "text/plain": [
              "          Prova1  Prova2  Prova3\n",
              "Harry        7.9     6.0     6.1\n",
              "Ronald       5.0     3.5     4.0\n",
              "Hermione    10.0    10.0    10.0"
            ]
          },
          "metadata": {
            "tags": []
          },
          "execution_count": 9
        }
      ]
    },
    {
      "cell_type": "markdown",
      "metadata": {
        "id": "miqgc3YiNMg2"
      },
      "source": [
        "Para deletar uma coluna, usamos o comando `del`:"
      ]
    },
    {
      "cell_type": "code",
      "metadata": {
        "id": "EpRiarxiNWCG",
        "outputId": "7b660a5c-745d-42e3-877f-79e7065331df",
        "colab": {
          "base_uri": "https://localhost:8080/",
          "height": 142
        }
      },
      "source": [
        "del df['Prova3']\n",
        "\n",
        "df"
      ],
      "execution_count": null,
      "outputs": [
        {
          "output_type": "execute_result",
          "data": {
            "text/html": [
              "<div>\n",
              "<style scoped>\n",
              "    .dataframe tbody tr th:only-of-type {\n",
              "        vertical-align: middle;\n",
              "    }\n",
              "\n",
              "    .dataframe tbody tr th {\n",
              "        vertical-align: top;\n",
              "    }\n",
              "\n",
              "    .dataframe thead th {\n",
              "        text-align: right;\n",
              "    }\n",
              "</style>\n",
              "<table border=\"1\" class=\"dataframe\">\n",
              "  <thead>\n",
              "    <tr style=\"text-align: right;\">\n",
              "      <th></th>\n",
              "      <th>Prova1</th>\n",
              "      <th>Prova2</th>\n",
              "    </tr>\n",
              "  </thead>\n",
              "  <tbody>\n",
              "    <tr>\n",
              "      <th>Harry</th>\n",
              "      <td>7.9</td>\n",
              "      <td>6.0</td>\n",
              "    </tr>\n",
              "    <tr>\n",
              "      <th>Ronald</th>\n",
              "      <td>5.0</td>\n",
              "      <td>3.5</td>\n",
              "    </tr>\n",
              "    <tr>\n",
              "      <th>Hermione</th>\n",
              "      <td>10.0</td>\n",
              "      <td>10.0</td>\n",
              "    </tr>\n",
              "  </tbody>\n",
              "</table>\n",
              "</div>"
            ],
            "text/plain": [
              "          Prova1  Prova2\n",
              "Harry        7.9     6.0\n",
              "Ronald       5.0     3.5\n",
              "Hermione    10.0    10.0"
            ]
          },
          "metadata": {
            "tags": []
          },
          "execution_count": 10
        }
      ]
    },
    {
      "cell_type": "markdown",
      "metadata": {
        "id": "z4btn-_uP0vF"
      },
      "source": [
        "Linhas são acessadas com o método `loc`.\n",
        "\n",
        "\n"
      ]
    },
    {
      "cell_type": "code",
      "metadata": {
        "id": "FGaTaMuCWVXa",
        "outputId": "05371d76-3ea5-440e-e717-dca8c318dfda",
        "colab": {
          "base_uri": "https://localhost:8080/",
          "height": 68
        }
      },
      "source": [
        "df.loc['Ronald']"
      ],
      "execution_count": null,
      "outputs": [
        {
          "output_type": "execute_result",
          "data": {
            "text/plain": [
              "Prova1    5.0\n",
              "Prova2    3.5\n",
              "Name: Ronald, dtype: float64"
            ]
          },
          "metadata": {
            "tags": []
          },
          "execution_count": 11
        }
      ]
    },
    {
      "cell_type": "markdown",
      "metadata": {
        "id": "CA6X3sCCYppI"
      },
      "source": [
        "Além disso, apesar do índice ter sido renomeado para `['Harry','Ronald','Hermione']`, ainda é possivel acessar as linhas por meio dos índices padrão (0,1,...,n) com o método `iloc`:"
      ]
    },
    {
      "cell_type": "code",
      "metadata": {
        "id": "1TdxIiZyZXO5",
        "outputId": "daf458fc-09f0-4979-dae7-91dc11a16471",
        "colab": {
          "base_uri": "https://localhost:8080/",
          "height": 68
        }
      },
      "source": [
        "df.iloc[0]"
      ],
      "execution_count": null,
      "outputs": [
        {
          "output_type": "execute_result",
          "data": {
            "text/plain": [
              "Prova1    7.9\n",
              "Prova2    6.0\n",
              "Name: Harry, dtype: float64"
            ]
          },
          "metadata": {
            "tags": []
          },
          "execution_count": 12
        }
      ]
    },
    {
      "cell_type": "code",
      "metadata": {
        "id": "j-Mf3D0qZeGV",
        "outputId": "73bee011-091a-4ca5-e0b4-bfcc84aa283c",
        "colab": {
          "base_uri": "https://localhost:8080/",
          "height": 68
        }
      },
      "source": [
        "df.iloc[1]"
      ],
      "execution_count": null,
      "outputs": [
        {
          "output_type": "execute_result",
          "data": {
            "text/plain": [
              "Prova1    5.0\n",
              "Prova2    3.5\n",
              "Name: Ronald, dtype: float64"
            ]
          },
          "metadata": {
            "tags": []
          },
          "execution_count": 13
        }
      ]
    },
    {
      "cell_type": "markdown",
      "metadata": {
        "id": "0ykcpSY0ZdYF"
      },
      "source": [
        "Assim como nas Series, DataFrames possuem um atributo `values` que retorna um array com seus valores:"
      ]
    },
    {
      "cell_type": "code",
      "metadata": {
        "id": "GWs7Ni5cb7zP",
        "outputId": "2b139da2-f671-43ca-985e-d71399bff791",
        "colab": {
          "base_uri": "https://localhost:8080/",
          "height": 68
        }
      },
      "source": [
        "df.values"
      ],
      "execution_count": null,
      "outputs": [
        {
          "output_type": "execute_result",
          "data": {
            "text/plain": [
              "array([[ 7.9,  6. ],\n",
              "       [ 5. ,  3.5],\n",
              "       [10. , 10. ]])"
            ]
          },
          "metadata": {
            "tags": []
          },
          "execution_count": 14
        }
      ]
    },
    {
      "cell_type": "markdown",
      "metadata": {
        "id": "Bb5W_Kx830GD"
      },
      "source": [
        "***Exercício 1.2*** Escolha uma das duas tabelas abaixo e crie um Dataframe com seus valores. \n",
        "\n",
        "![](https://profjefferson.files.wordpress.com/2010/03/matrizes_tabela22.jpg)\n",
        "\n",
        "Obs.: as regiões citadas devem ser os índices do *Dataframe*"
      ]
    },
    {
      "cell_type": "code",
      "metadata": {
        "id": "_yeLZPva4sba",
        "outputId": "2d913bc4-e123-4417-ddcc-9a6f657a0a69",
        "colab": {
          "base_uri": "https://localhost:8080/",
          "height": 142
        }
      },
      "source": [
        "dados_2006 = {'soja':[900,2700,600],'feijão':[200,450,300],'arroz':[500,600,100],'milho':[700,1200,450]}\n",
        "\n",
        "data_frame = pd.DataFrame(dados_2006, index = ['Sudeste','Centro-Oeste','Sul'])\n",
        "\n",
        "data_frame"
      ],
      "execution_count": null,
      "outputs": [
        {
          "output_type": "execute_result",
          "data": {
            "text/html": [
              "<div>\n",
              "<style scoped>\n",
              "    .dataframe tbody tr th:only-of-type {\n",
              "        vertical-align: middle;\n",
              "    }\n",
              "\n",
              "    .dataframe tbody tr th {\n",
              "        vertical-align: top;\n",
              "    }\n",
              "\n",
              "    .dataframe thead th {\n",
              "        text-align: right;\n",
              "    }\n",
              "</style>\n",
              "<table border=\"1\" class=\"dataframe\">\n",
              "  <thead>\n",
              "    <tr style=\"text-align: right;\">\n",
              "      <th></th>\n",
              "      <th>soja</th>\n",
              "      <th>feijão</th>\n",
              "      <th>arroz</th>\n",
              "      <th>milho</th>\n",
              "    </tr>\n",
              "  </thead>\n",
              "  <tbody>\n",
              "    <tr>\n",
              "      <th>Sudeste</th>\n",
              "      <td>900</td>\n",
              "      <td>200</td>\n",
              "      <td>500</td>\n",
              "      <td>700</td>\n",
              "    </tr>\n",
              "    <tr>\n",
              "      <th>Centro-Oeste</th>\n",
              "      <td>2700</td>\n",
              "      <td>450</td>\n",
              "      <td>600</td>\n",
              "      <td>1200</td>\n",
              "    </tr>\n",
              "    <tr>\n",
              "      <th>Sul</th>\n",
              "      <td>600</td>\n",
              "      <td>300</td>\n",
              "      <td>100</td>\n",
              "      <td>450</td>\n",
              "    </tr>\n",
              "  </tbody>\n",
              "</table>\n",
              "</div>"
            ],
            "text/plain": [
              "              soja  feijão  arroz  milho\n",
              "Sudeste        900     200    500    700\n",
              "Centro-Oeste  2700     450    600   1200\n",
              "Sul            600     300    100    450"
            ]
          },
          "metadata": {
            "tags": []
          },
          "execution_count": 20
        }
      ]
    },
    {
      "cell_type": "markdown",
      "metadata": {
        "id": "IftRhdr9GOy9"
      },
      "source": [
        "## **matplotlib**"
      ]
    },
    {
      "cell_type": "markdown",
      "metadata": {
        "id": "cqX-jeBQHZuu"
      },
      "source": [
        "Com frequência, a vizualização dos dados em gráficos é útil — principalmente, quando estamos trabalhando com um conjunto grande de dados. Para este fim, utilizaremos a biblioteca **matplotlib**.\n",
        "\n",
        "De forma similar ao pandas, deixaremos como padrão a seguinte importação do módulo:"
      ]
    },
    {
      "cell_type": "code",
      "metadata": {
        "id": "QTgd3oY500nJ"
      },
      "source": [
        "from matplotlib import pyplot as plt"
      ],
      "execution_count": null,
      "outputs": []
    },
    {
      "cell_type": "markdown",
      "metadata": {
        "id": "tKgZpGKafc-J"
      },
      "source": [
        "Por agora, veremos como construir um histograma. Considere o DataFrame abaixo:\n",
        "\n"
      ]
    },
    {
      "cell_type": "code",
      "metadata": {
        "id": "fsLfcjYGk0dj",
        "outputId": "ffa980e2-94c5-42a6-d1f3-9093c611be3e",
        "colab": {
          "base_uri": "https://localhost:8080/",
          "height": 419
        }
      },
      "source": [
        "data = {'quantidade_moedas': [1,1,2,3,3,5,7,8,9,10,\n",
        "10,11,11,13,13,15,16,17,18,18,\n",
        "18,19,20,21,21,23,24,24,25,25,\n",
        "25,25,26,26,26,27,27,27,27,27,\n",
        "29,30,30,31,33,34,34,34,35,36,\n",
        "36,37,37,38,38,39,40,41,41,42,\n",
        "43,44,45,45,46,47,48,48,49,50,\n",
        "51,52,53,54,55,55,56,57,58,60,\n",
        "61,63,64,65,66,68,70,71,72,74,\n",
        "75,77,81,83,84,87,89,90,90,91]}\n",
        "\n",
        "exemplo = pd.DataFrame(data)\n",
        "\n",
        "exemplo"
      ],
      "execution_count": null,
      "outputs": [
        {
          "output_type": "execute_result",
          "data": {
            "text/html": [
              "<div>\n",
              "<style scoped>\n",
              "    .dataframe tbody tr th:only-of-type {\n",
              "        vertical-align: middle;\n",
              "    }\n",
              "\n",
              "    .dataframe tbody tr th {\n",
              "        vertical-align: top;\n",
              "    }\n",
              "\n",
              "    .dataframe thead th {\n",
              "        text-align: right;\n",
              "    }\n",
              "</style>\n",
              "<table border=\"1\" class=\"dataframe\">\n",
              "  <thead>\n",
              "    <tr style=\"text-align: right;\">\n",
              "      <th></th>\n",
              "      <th>quantidade_moedas</th>\n",
              "    </tr>\n",
              "  </thead>\n",
              "  <tbody>\n",
              "    <tr>\n",
              "      <th>0</th>\n",
              "      <td>1</td>\n",
              "    </tr>\n",
              "    <tr>\n",
              "      <th>1</th>\n",
              "      <td>1</td>\n",
              "    </tr>\n",
              "    <tr>\n",
              "      <th>2</th>\n",
              "      <td>2</td>\n",
              "    </tr>\n",
              "    <tr>\n",
              "      <th>3</th>\n",
              "      <td>3</td>\n",
              "    </tr>\n",
              "    <tr>\n",
              "      <th>4</th>\n",
              "      <td>3</td>\n",
              "    </tr>\n",
              "    <tr>\n",
              "      <th>...</th>\n",
              "      <td>...</td>\n",
              "    </tr>\n",
              "    <tr>\n",
              "      <th>95</th>\n",
              "      <td>87</td>\n",
              "    </tr>\n",
              "    <tr>\n",
              "      <th>96</th>\n",
              "      <td>89</td>\n",
              "    </tr>\n",
              "    <tr>\n",
              "      <th>97</th>\n",
              "      <td>90</td>\n",
              "    </tr>\n",
              "    <tr>\n",
              "      <th>98</th>\n",
              "      <td>90</td>\n",
              "    </tr>\n",
              "    <tr>\n",
              "      <th>99</th>\n",
              "      <td>91</td>\n",
              "    </tr>\n",
              "  </tbody>\n",
              "</table>\n",
              "<p>100 rows × 1 columns</p>\n",
              "</div>"
            ],
            "text/plain": [
              "    quantidade_moedas\n",
              "0                   1\n",
              "1                   1\n",
              "2                   2\n",
              "3                   3\n",
              "4                   3\n",
              "..                ...\n",
              "95                 87\n",
              "96                 89\n",
              "97                 90\n",
              "98                 90\n",
              "99                 91\n",
              "\n",
              "[100 rows x 1 columns]"
            ]
          },
          "metadata": {
            "tags": []
          },
          "execution_count": 22
        }
      ]
    },
    {
      "cell_type": "markdown",
      "metadata": {
        "id": "fTeeaTPslq7J"
      },
      "source": [
        "Para construir o histograma da variável `'quantidade_moedas'`, basta usar o método `hist()`."
      ]
    },
    {
      "cell_type": "code",
      "metadata": {
        "id": "cLpSuy-1mI_V",
        "outputId": "c5d09bc9-0ccc-45f1-f3c9-c16b0ea2058d",
        "colab": {
          "base_uri": "https://localhost:8080/",
          "height": 316
        }
      },
      "source": [
        "plt.hist(exemplo['quantidade_moedas']) # passar a coluna como parâmetro"
      ],
      "execution_count": null,
      "outputs": [
        {
          "output_type": "execute_result",
          "data": {
            "text/plain": [
              "(array([ 9., 12., 19., 11., 13., 10.,  8.,  7.,  4.,  7.]),\n",
              " array([ 1., 10., 19., 28., 37., 46., 55., 64., 73., 82., 91.]),\n",
              " <a list of 10 Patch objects>)"
            ]
          },
          "metadata": {
            "tags": []
          },
          "execution_count": 23
        },
        {
          "output_type": "display_data",
          "data": {
            "image/png": "[encoded data removed]",
            "text/plain": [
              "<Figure size 432x288 with 1 Axes>"
            ]
          },
          "metadata": {
            "tags": [],
            "needs_background": "light"
          }
        }
      ]
    },
    {
      "cell_type": "markdown",
      "metadata": {
        "id": "diuVQj0Yr-Vq"
      },
      "source": [
        "É possivel definir o número de intervalos do histograma com o parâmetro `bins`. Se esse parametro não for especificado, assumirá o valor 10 como padrão."
      ]
    },
    {
      "cell_type": "code",
      "metadata": {
        "id": "TWBSugaXsLqI",
        "outputId": "bae37a02-ee64-46d8-eb93-3a82b74f663a",
        "colab": {
          "base_uri": "https://localhost:8080/",
          "height": 350
        }
      },
      "source": [
        "plt.hist(exemplo['quantidade_moedas'],bins=15)"
      ],
      "execution_count": null,
      "outputs": [
        {
          "output_type": "execute_result",
          "data": {
            "text/plain": [
              "(array([ 6.,  7.,  8.,  7., 15.,  8.,  9.,  8.,  6.,  6.,  5.,  4.,  3.,\n",
              "         3.,  5.]),\n",
              " array([ 1.,  7., 13., 19., 25., 31., 37., 43., 49., 55., 61., 67., 73.,\n",
              "        79., 85., 91.]),\n",
              " <a list of 15 Patch objects>)"
            ]
          },
          "metadata": {
            "tags": []
          },
          "execution_count": 24
        },
        {
          "output_type": "display_data",
          "data": {
            "image/png": "[encoded data removed]",
            "text/plain": [
              "<Figure size 432x288 with 1 Axes>"
            ]
          },
          "metadata": {
            "tags": [],
            "needs_background": "light"
          }
        }
      ]
    },
    {
      "cell_type": "markdown",
      "metadata": {
        "id": "14xjBAcLt5Ar"
      },
      "source": [
        "Também é possivel delimitar os valores máximo e mínimo das através do range."
      ]
    },
    {
      "cell_type": "code",
      "metadata": {
        "id": "XEQZCgadudhD",
        "outputId": "3a5ebc71-4243-4d2f-f09e-73bc33ff398b",
        "colab": {
          "base_uri": "https://localhost:8080/",
          "height": 316
        }
      },
      "source": [
        "plt.hist(exemplo['quantidade_moedas'],range=[25,50])"
      ],
      "execution_count": null,
      "outputs": [
        {
          "output_type": "execute_result",
          "data": {
            "text/plain": [
              "(array([12.,  1.,  3.,  4.,  5.,  3.,  4.,  2.,  4.,  4.]),\n",
              " array([25. , 27.5, 30. , 32.5, 35. , 37.5, 40. , 42.5, 45. , 47.5, 50. ]),\n",
              " <a list of 10 Patch objects>)"
            ]
          },
          "metadata": {
            "tags": []
          },
          "execution_count": 25
        },
        {
          "output_type": "display_data",
          "data": {
            "image/png": "[encoded data removed]",
            "text/plain": [
              "<Figure size 432x288 with 1 Axes>"
            ]
          },
          "metadata": {
            "tags": [],
            "needs_background": "light"
          }
        }
      ]
    },
    {
      "cell_type": "markdown",
      "metadata": {
        "id": "WN2mCbFffqMc"
      },
      "source": [
        "## **Importando dados**"
      ]
    },
    {
      "cell_type": "markdown",
      "metadata": {
        "id": "LPxfeM4FmqGg"
      },
      "source": [
        "O pandas é capaz de importar arquivos de diversos formatos, como csv, xlsx e html. Todos os métodos de leitura de dados da biblioteca têm o prefixo `read_`. Para importarmos arquivos em csv, por exemplo, utilizamos o método `read_csv`.\n",
        "\n",
        "A seguir importaremos o dataset (conjunto de dados) CovidAL, que contém dados a respeito de todos os habitantes do estado de Alagoas que testaram positivo para COVID-19 até a confecção desse conjunto de dados. O dataset está disponível na pasta do curso no Google Drive ([link](https://drive.google.com/drive/folders/19Iu4nBOTSAqAvRnuzx-Mgvuk9nU8K-AV?usp=sharing)) e você precisará fazer upload dele no ambiente Colab, [aqui está um tutorial de como proceder](https://drive.google.com/file/d/11e4slvbnt5cqSMl1JX3t4byC9A3hogx4/view?usp=sharing)."
      ]
    },
    {
      "cell_type": "code",
      "metadata": {
        "id": "W9z6cm5NtAc2",
        "outputId": "27e6c761-f4f7-4fc4-8f87-c1d1f8392ed7",
        "colab": {
          "base_uri": "https://localhost:8080/",
          "height": 394
        }
      },
      "source": [
        "df_covid = pd.read_csv('/content/CovidAL.csv') # Você deve passar o caminho do dataset como parâmetro\n",
        "\n",
        "df_covid.head() # O método head() retorna as 5 primeiras linhas de um DataFrame"
      ],
      "execution_count": null,
      "outputs": [
        {
          "output_type": "execute_result",
          "data": {
            "text/html": [
              "<div>\n",
              "<style scoped>\n",
              "    .dataframe tbody tr th:only-of-type {\n",
              "        vertical-align: middle;\n",
              "    }\n",
              "\n",
              "    .dataframe tbody tr th {\n",
              "        vertical-align: top;\n",
              "    }\n",
              "\n",
              "    .dataframe thead th {\n",
              "        text-align: right;\n",
              "    }\n",
              "</style>\n",
              "<table border=\"1\" class=\"dataframe\">\n",
              "  <thead>\n",
              "    <tr style=\"text-align: right;\">\n",
              "      <th></th>\n",
              "      <th>id</th>\n",
              "      <th>etnia</th>\n",
              "      <th>sexo</th>\n",
              "      <th>municipio_residencia</th>\n",
              "      <th>classificacao</th>\n",
              "      <th>situacao_atual</th>\n",
              "      <th>data_resultado_exame</th>\n",
              "      <th>data_atendimento</th>\n",
              "      <th>tipo_coleta</th>\n",
              "      <th>idade</th>\n",
              "      <th>data_obito</th>\n",
              "      <th>data_confirmacao_obito</th>\n",
              "      <th>ausegia</th>\n",
              "      <th>anosmia</th>\n",
              "      <th>febre</th>\n",
              "      <th>tosse</th>\n",
              "      <th>cefaleia</th>\n",
              "      <th>dificuldade_respiratoria</th>\n",
              "      <th>dispineia</th>\n",
              "      <th>mialgia</th>\n",
              "      <th>saturacao_menor_noventa_cinco</th>\n",
              "      <th>adinofagia</th>\n",
              "      <th>diarreia</th>\n",
              "      <th>adinamia</th>\n",
              "      <th>nausea_vomito</th>\n",
              "      <th>coriza</th>\n",
              "      <th>congestao_nasal</th>\n",
              "      <th>calafrio</th>\n",
              "      <th>nao_informado</th>\n",
              "      <th>outros</th>\n",
              "      <th>doenca_cardiovascular</th>\n",
              "      <th>diabetes</th>\n",
              "      <th>doenca_respiratoria_cronica</th>\n",
              "      <th>hipertensao</th>\n",
              "      <th>paciente_oncologico</th>\n",
              "      <th>idoso</th>\n",
              "      <th>profissional_saude</th>\n",
              "      <th>obesidade</th>\n",
              "      <th>doenca_renal_cronica</th>\n",
              "      <th>doenca_auto_imune</th>\n",
              "      <th>asma</th>\n",
              "      <th>sem_comorbidade</th>\n",
              "      <th>fator_nao_informado</th>\n",
              "      <th>outros_fatores</th>\n",
              "      <th>pneumopatia</th>\n",
              "    </tr>\n",
              "  </thead>\n",
              "  <tbody>\n",
              "    <tr>\n",
              "      <th>0</th>\n",
              "      <td>1</td>\n",
              "      <td>Ignorado</td>\n",
              "      <td>Masculino</td>\n",
              "      <td>Maceió</td>\n",
              "      <td>Confirmado</td>\n",
              "      <td>Encerramento do Isolamento Domiciliar</td>\n",
              "      <td>2020-03-08T03:00:00.000Z</td>\n",
              "      <td>2020-03-04T03:00:00.000Z</td>\n",
              "      <td>Swab nasofaringe + RT-PCR</td>\n",
              "      <td>43.0</td>\n",
              "      <td>NaN</td>\n",
              "      <td>NaN</td>\n",
              "      <td>NaN</td>\n",
              "      <td>NaN</td>\n",
              "      <td>X</td>\n",
              "      <td>X</td>\n",
              "      <td>NaN</td>\n",
              "      <td>NaN</td>\n",
              "      <td>NaN</td>\n",
              "      <td>NaN</td>\n",
              "      <td>X</td>\n",
              "      <td>NaN</td>\n",
              "      <td>NaN</td>\n",
              "      <td>NaN</td>\n",
              "      <td>NaN</td>\n",
              "      <td>NaN</td>\n",
              "      <td>NaN</td>\n",
              "      <td>NaN</td>\n",
              "      <td>NaN</td>\n",
              "      <td>NaN</td>\n",
              "      <td>NaN</td>\n",
              "      <td>NaN</td>\n",
              "      <td>NaN</td>\n",
              "      <td>NaN</td>\n",
              "      <td>NaN</td>\n",
              "      <td>NaN</td>\n",
              "      <td>NaN</td>\n",
              "      <td>NaN</td>\n",
              "      <td>NaN</td>\n",
              "      <td>NaN</td>\n",
              "      <td>NaN</td>\n",
              "      <td>NaN</td>\n",
              "      <td>NaN</td>\n",
              "      <td>NaN</td>\n",
              "      <td>NaN</td>\n",
              "    </tr>\n",
              "    <tr>\n",
              "      <th>1</th>\n",
              "      <td>2</td>\n",
              "      <td>Ignorado</td>\n",
              "      <td>Masculino</td>\n",
              "      <td>Maceió</td>\n",
              "      <td>Confirmado</td>\n",
              "      <td>Encerramento do Isolamento Domiciliar</td>\n",
              "      <td>2020-03-18T03:00:00.000Z</td>\n",
              "      <td>2020-03-14T03:00:00.000Z</td>\n",
              "      <td>Swab nasofaringe + RT-PCR</td>\n",
              "      <td>21.0</td>\n",
              "      <td>NaN</td>\n",
              "      <td>NaN</td>\n",
              "      <td>NaN</td>\n",
              "      <td>NaN</td>\n",
              "      <td>X</td>\n",
              "      <td>X</td>\n",
              "      <td>X</td>\n",
              "      <td>NaN</td>\n",
              "      <td>NaN</td>\n",
              "      <td>NaN</td>\n",
              "      <td>NaN</td>\n",
              "      <td>NaN</td>\n",
              "      <td>NaN</td>\n",
              "      <td>NaN</td>\n",
              "      <td>NaN</td>\n",
              "      <td>NaN</td>\n",
              "      <td>NaN</td>\n",
              "      <td>NaN</td>\n",
              "      <td>NaN</td>\n",
              "      <td>NaN</td>\n",
              "      <td>NaN</td>\n",
              "      <td>NaN</td>\n",
              "      <td>NaN</td>\n",
              "      <td>NaN</td>\n",
              "      <td>NaN</td>\n",
              "      <td>NaN</td>\n",
              "      <td>NaN</td>\n",
              "      <td>NaN</td>\n",
              "      <td>NaN</td>\n",
              "      <td>NaN</td>\n",
              "      <td>NaN</td>\n",
              "      <td>NaN</td>\n",
              "      <td>NaN</td>\n",
              "      <td>NaN</td>\n",
              "      <td>NaN</td>\n",
              "    </tr>\n",
              "    <tr>\n",
              "      <th>2</th>\n",
              "      <td>3</td>\n",
              "      <td>Ignorado</td>\n",
              "      <td>Feminino</td>\n",
              "      <td>Maceió</td>\n",
              "      <td>Confirmado</td>\n",
              "      <td>Encerramento do Isolamento Domiciliar</td>\n",
              "      <td>2020-03-18T03:00:00.000Z</td>\n",
              "      <td>2020-03-14T03:00:00.000Z</td>\n",
              "      <td>Swab nasofaringe + RT-PCR</td>\n",
              "      <td>25.0</td>\n",
              "      <td>NaN</td>\n",
              "      <td>NaN</td>\n",
              "      <td>NaN</td>\n",
              "      <td>NaN</td>\n",
              "      <td>X</td>\n",
              "      <td>X</td>\n",
              "      <td>NaN</td>\n",
              "      <td>NaN</td>\n",
              "      <td>NaN</td>\n",
              "      <td>NaN</td>\n",
              "      <td>X</td>\n",
              "      <td>NaN</td>\n",
              "      <td>NaN</td>\n",
              "      <td>NaN</td>\n",
              "      <td>NaN</td>\n",
              "      <td>NaN</td>\n",
              "      <td>NaN</td>\n",
              "      <td>NaN</td>\n",
              "      <td>NaN</td>\n",
              "      <td>NaN</td>\n",
              "      <td>NaN</td>\n",
              "      <td>NaN</td>\n",
              "      <td>NaN</td>\n",
              "      <td>NaN</td>\n",
              "      <td>NaN</td>\n",
              "      <td>NaN</td>\n",
              "      <td>NaN</td>\n",
              "      <td>NaN</td>\n",
              "      <td>NaN</td>\n",
              "      <td>NaN</td>\n",
              "      <td>NaN</td>\n",
              "      <td>NaN</td>\n",
              "      <td>NaN</td>\n",
              "      <td>X</td>\n",
              "      <td>NaN</td>\n",
              "    </tr>\n",
              "    <tr>\n",
              "      <th>3</th>\n",
              "      <td>4</td>\n",
              "      <td>Ignorado</td>\n",
              "      <td>Feminino</td>\n",
              "      <td>Maceió</td>\n",
              "      <td>Confirmado</td>\n",
              "      <td>Óbito</td>\n",
              "      <td>2020-04-16T03:00:00.000Z</td>\n",
              "      <td>2020-03-14T03:00:00.000Z</td>\n",
              "      <td>Swab nasofaringe + RT-PCR</td>\n",
              "      <td>69.0</td>\n",
              "      <td>2020-04-24T03:00:00.000Z</td>\n",
              "      <td>2020-04-26T03:00:00.000Z</td>\n",
              "      <td>NaN</td>\n",
              "      <td>NaN</td>\n",
              "      <td>NaN</td>\n",
              "      <td>NaN</td>\n",
              "      <td>NaN</td>\n",
              "      <td>NaN</td>\n",
              "      <td>NaN</td>\n",
              "      <td>NaN</td>\n",
              "      <td>NaN</td>\n",
              "      <td>NaN</td>\n",
              "      <td>NaN</td>\n",
              "      <td>NaN</td>\n",
              "      <td>NaN</td>\n",
              "      <td>NaN</td>\n",
              "      <td>NaN</td>\n",
              "      <td>NaN</td>\n",
              "      <td>NaN</td>\n",
              "      <td>NaN</td>\n",
              "      <td>NaN</td>\n",
              "      <td>NaN</td>\n",
              "      <td>NaN</td>\n",
              "      <td>NaN</td>\n",
              "      <td>NaN</td>\n",
              "      <td>NaN</td>\n",
              "      <td>NaN</td>\n",
              "      <td>NaN</td>\n",
              "      <td>NaN</td>\n",
              "      <td>NaN</td>\n",
              "      <td>NaN</td>\n",
              "      <td>NaN</td>\n",
              "      <td>NaN</td>\n",
              "      <td>NaN</td>\n",
              "      <td>NaN</td>\n",
              "    </tr>\n",
              "    <tr>\n",
              "      <th>4</th>\n",
              "      <td>5</td>\n",
              "      <td>Ignorado</td>\n",
              "      <td>Feminino</td>\n",
              "      <td>Rio de Janeiro</td>\n",
              "      <td>Confirmado</td>\n",
              "      <td>Encerramento do Isolamento Domiciliar</td>\n",
              "      <td>2020-03-23T03:00:00.000Z</td>\n",
              "      <td>2020-03-16T03:00:00.000Z</td>\n",
              "      <td>Swab nasofaringe + RT-PCR</td>\n",
              "      <td>61.0</td>\n",
              "      <td>NaN</td>\n",
              "      <td>NaN</td>\n",
              "      <td>NaN</td>\n",
              "      <td>NaN</td>\n",
              "      <td>NaN</td>\n",
              "      <td>X</td>\n",
              "      <td>NaN</td>\n",
              "      <td>NaN</td>\n",
              "      <td>NaN</td>\n",
              "      <td>NaN</td>\n",
              "      <td>X</td>\n",
              "      <td>NaN</td>\n",
              "      <td>NaN</td>\n",
              "      <td>NaN</td>\n",
              "      <td>NaN</td>\n",
              "      <td>NaN</td>\n",
              "      <td>NaN</td>\n",
              "      <td>NaN</td>\n",
              "      <td>NaN</td>\n",
              "      <td>NaN</td>\n",
              "      <td>NaN</td>\n",
              "      <td>NaN</td>\n",
              "      <td>NaN</td>\n",
              "      <td>NaN</td>\n",
              "      <td>NaN</td>\n",
              "      <td>NaN</td>\n",
              "      <td>NaN</td>\n",
              "      <td>NaN</td>\n",
              "      <td>NaN</td>\n",
              "      <td>NaN</td>\n",
              "      <td>NaN</td>\n",
              "      <td>NaN</td>\n",
              "      <td>NaN</td>\n",
              "      <td>NaN</td>\n",
              "      <td>NaN</td>\n",
              "    </tr>\n",
              "  </tbody>\n",
              "</table>\n",
              "</div>"
            ],
            "text/plain": [
              "   id     etnia       sexo  ... fator_nao_informado outros_fatores pneumopatia\n",
              "0   1  Ignorado  Masculino  ...                 NaN            NaN         NaN\n",
              "1   2  Ignorado  Masculino  ...                 NaN            NaN         NaN\n",
              "2   3  Ignorado   Feminino  ...                 NaN              X         NaN\n",
              "3   4  Ignorado   Feminino  ...                 NaN            NaN         NaN\n",
              "4   5  Ignorado   Feminino  ...                 NaN            NaN         NaN\n",
              "\n",
              "[5 rows x 45 columns]"
            ]
          },
          "metadata": {
            "tags": []
          },
          "execution_count": 26
        }
      ]
    },
    {
      "cell_type": "markdown",
      "metadata": {
        "id": "iPU4Rk8k0VW-"
      },
      "source": [
        "***Exercício 2.1*** Quais as dimensões desse dataset? Justifique com o código que retorna essa informação."
      ]
    },
    {
      "cell_type": "code",
      "metadata": {
        "id": "V6euy_C6eCEw",
        "outputId": "70cb332b-f501-4c31-b378-080d7e810291",
        "colab": {
          "base_uri": "https://localhost:8080/",
          "height": 34
        }
      },
      "source": [
        "df_covid.shape"
      ],
      "execution_count": null,
      "outputs": [
        {
          "output_type": "execute_result",
          "data": {
            "text/plain": [
              "(64098, 45)"
            ]
          },
          "metadata": {
            "tags": []
          },
          "execution_count": 28
        }
      ]
    },
    {
      "cell_type": "markdown",
      "metadata": {
        "id": "WLwFul-7Esx7"
      },
      "source": [
        "Logo, como o método shape retorna as dimensões no formato (linha, coluna), então esse dataset possui 64098 linhas e 45 colunas;\n"
      ]
    },
    {
      "cell_type": "markdown",
      "metadata": {
        "id": "iGHnFRj-SK5L"
      },
      "source": [
        "***Exercício 2.2*** Crie um histograma para visualizar a distribuição da variável `'idade'`."
      ]
    },
    {
      "cell_type": "code",
      "metadata": {
        "id": "s_MGaSnxeBrS",
        "outputId": "08bc3b7c-951d-4016-bf1c-9611b2187a35",
        "colab": {
          "base_uri": "https://localhost:8080/",
          "height": 418
        }
      },
      "source": [
        "plt.hist(df_covid['idade'],range=[-5,120])"
      ],
      "execution_count": null,
      "outputs": [
        {
          "output_type": "stream",
          "text": [
            "/usr/local/lib/python3.6/dist-packages/numpy/lib/histograms.py:839: RuntimeWarning: invalid value encountered in greater_equal\n",
            "  keep = (tmp_a >= first_edge)\n",
            "/usr/local/lib/python3.6/dist-packages/numpy/lib/histograms.py:840: RuntimeWarning: invalid value encountered in less_equal\n",
            "  keep &= (tmp_a <= last_edge)\n"
          ],
          "name": "stderr"
        },
        {
          "output_type": "execute_result",
          "data": {
            "text/plain": [
              "(array([8.3100e+02, 3.2070e+03, 1.4712e+04, 1.8821e+04, 1.4486e+04,\n",
              "        7.2060e+03, 3.6020e+03, 9.3400e+02, 1.0300e+02, 1.0000e+00]),\n",
              " array([ -5. ,   7.5,  20. ,  32.5,  45. ,  57.5,  70. ,  82.5,  95. ,\n",
              "        107.5, 120. ]),\n",
              " <a list of 10 Patch objects>)"
            ]
          },
          "metadata": {
            "tags": []
          },
          "execution_count": 39
        },
        {
          "output_type": "display_data",
          "data": {
            "image/png": "[encoded data removed]",
            "text/plain": [
              "<Figure size 432x288 with 1 Axes>"
            ]
          },
          "metadata": {
            "tags": [],
            "needs_background": "light"
          }
        }
      ]
    },
    {
      "cell_type": "markdown",
      "metadata": {
        "id": "HKBvMjj83LS3"
      },
      "source": [
        "# **Semana 3**"
      ]
    },
    {
      "cell_type": "markdown",
      "metadata": {
        "id": "fuu2eHRc3qaQ"
      },
      "source": [
        "## **Index**"
      ]
    },
    {
      "cell_type": "markdown",
      "metadata": {
        "id": "VToLel6E3s0z"
      },
      "source": [
        "Além da Series e do DataFrame, o pandas possui um terceiro objeto básico: o Index. Essa estrutura é um array imutável, responsável por armazenar os índices de um(a) DataFrame/Series. A imutabilidade de um Index confere certa segurança quando se quer compartilhar um único índice com múltiplos Series ou DataFrames."
      ]
    },
    {
      "cell_type": "code",
      "metadata": {
        "id": "nbhH2EJ9bhAr",
        "outputId": "18b89661-766d-4c8d-c3c2-ed6bcdce146f",
        "colab": {
          "base_uri": "https://localhost:8080/",
          "height": 108
        }
      },
      "source": [
        "# Criando um Index\n",
        "\n",
        "indice = pd.Index(['a','b','c'])\n",
        "\n",
        "nova_series = pd.Series([1,2,3],index = indice)\n",
        "\n",
        "print(nova_series) # O colab só imprime o último valor citado.\n",
        "# Para imprimir mais de um valor na mesma célula, deve-se usar a função print\n",
        "\n",
        "nova_series.index # O método index retorna o índice de um objeto"
      ],
      "execution_count": null,
      "outputs": [
        {
          "output_type": "stream",
          "text": [
            "a    1\n",
            "b    2\n",
            "c    3\n",
            "dtype: int64\n"
          ],
          "name": "stdout"
        },
        {
          "output_type": "execute_result",
          "data": {
            "text/plain": [
              "Index(['a', 'b', 'c'], dtype='object')"
            ]
          },
          "metadata": {
            "tags": []
          },
          "execution_count": 5
        }
      ]
    },
    {
      "cell_type": "markdown",
      "metadata": {
        "id": "j2T3gx2VhPYU"
      },
      "source": [
        "Qualquer array atribuído ao parâmetro index é automaticamente convertido em um objeto Index."
      ]
    },
    {
      "cell_type": "code",
      "metadata": {
        "id": "i-xZ7jY8hJxP",
        "outputId": "15ac21b8-f4b5-4cc3-8cc7-1ed090a0547d",
        "colab": {
          "base_uri": "https://localhost:8080/",
          "height": 35
        }
      },
      "source": [
        "nova_series2 = pd.Series([1,2,3],index = ['i','j','k'])\n",
        "\n",
        "nova_series2.index"
      ],
      "execution_count": null,
      "outputs": [
        {
          "output_type": "execute_result",
          "data": {
            "text/plain": [
              "Index(['i', 'j', 'k'], dtype='object')"
            ]
          },
          "metadata": {
            "tags": []
          },
          "execution_count": 6
        }
      ]
    },
    {
      "cell_type": "markdown",
      "metadata": {
        "id": "CpS1FS_Yiqyc"
      },
      "source": [
        "Por ser um array, os valores do Index podem ser acessados via notação de colchetes;"
      ]
    },
    {
      "cell_type": "code",
      "metadata": {
        "id": "M1irte8Yh8t7",
        "outputId": "2bd204d4-9db1-43cd-df06-d1bf171ad41a",
        "colab": {
          "base_uri": "https://localhost:8080/",
          "height": 35
        }
      },
      "source": [
        "nova_series2.index[1:3]"
      ],
      "execution_count": null,
      "outputs": [
        {
          "output_type": "execute_result",
          "data": {
            "text/plain": [
              "Index(['j', 'k'], dtype='object')"
            ]
          },
          "metadata": {
            "tags": []
          },
          "execution_count": 7
        }
      ]
    },
    {
      "cell_type": "markdown",
      "metadata": {
        "id": "uV30ilojjgGv"
      },
      "source": [
        "No entanto, não podem ser alterados."
      ]
    },
    {
      "cell_type": "code",
      "metadata": {
        "id": "qjLHt3BYioI6",
        "outputId": "3a3c24df-50dc-4a5f-ba4f-15fa78fcb5b2",
        "colab": {
          "base_uri": "https://localhost:8080/",
          "height": 292
        }
      },
      "source": [
        "nova_series2.index[1] = 'o'"
      ],
      "execution_count": null,
      "outputs": [
        {
          "output_type": "error",
          "ename": "TypeError",
          "evalue": "ignored",
          "traceback": [
            "\u001b[0;31m---------------------------------------------------------------------------\u001b[0m",
            "\u001b[0;31mTypeError\u001b[0m                                 Traceback (most recent call last)",
            "\u001b[0;32m<ipython-input-9-65b80c92c7e9>\u001b[0m in \u001b[0;36m<module>\u001b[0;34m()\u001b[0m\n\u001b[0;32m----> 1\u001b[0;31m \u001b[0mnova_series2\u001b[0m\u001b[0;34m.\u001b[0m\u001b[0mindex\u001b[0m\u001b[0;34m[\u001b[0m\u001b[0;36m1\u001b[0m\u001b[0;34m]\u001b[0m \u001b[0;34m=\u001b[0m \u001b[0;34m'o'\u001b[0m\u001b[0;34m\u001b[0m\u001b[0;34m\u001b[0m\u001b[0m\n\u001b[0m",
            "\u001b[0;32m/usr/local/lib/python3.6/dist-packages/pandas/core/indexes/base.py\u001b[0m in \u001b[0;36m__setitem__\u001b[0;34m(self, key, value)\u001b[0m\n\u001b[1;32m   3908\u001b[0m \u001b[0;34m\u001b[0m\u001b[0m\n\u001b[1;32m   3909\u001b[0m     \u001b[0;32mdef\u001b[0m \u001b[0m__setitem__\u001b[0m\u001b[0;34m(\u001b[0m\u001b[0mself\u001b[0m\u001b[0;34m,\u001b[0m \u001b[0mkey\u001b[0m\u001b[0;34m,\u001b[0m \u001b[0mvalue\u001b[0m\u001b[0;34m)\u001b[0m\u001b[0;34m:\u001b[0m\u001b[0;34m\u001b[0m\u001b[0;34m\u001b[0m\u001b[0m\n\u001b[0;32m-> 3910\u001b[0;31m         \u001b[0;32mraise\u001b[0m \u001b[0mTypeError\u001b[0m\u001b[0;34m(\u001b[0m\u001b[0;34m\"Index does not support mutable operations\"\u001b[0m\u001b[0;34m)\u001b[0m\u001b[0;34m\u001b[0m\u001b[0;34m\u001b[0m\u001b[0m\n\u001b[0m\u001b[1;32m   3911\u001b[0m \u001b[0;34m\u001b[0m\u001b[0m\n\u001b[1;32m   3912\u001b[0m     \u001b[0;32mdef\u001b[0m \u001b[0m__getitem__\u001b[0m\u001b[0;34m(\u001b[0m\u001b[0mself\u001b[0m\u001b[0;34m,\u001b[0m \u001b[0mkey\u001b[0m\u001b[0;34m)\u001b[0m\u001b[0;34m:\u001b[0m\u001b[0;34m\u001b[0m\u001b[0;34m\u001b[0m\u001b[0m\n",
            "\u001b[0;31mTypeError\u001b[0m: Index does not support mutable operations"
          ]
        }
      ]
    },
    {
      "cell_type": "markdown",
      "metadata": {
        "id": "-CvQeSQBjmsM"
      },
      "source": [
        "## **MultiIndex**"
      ]
    },
    {
      "cell_type": "markdown",
      "metadata": {
        "id": "pgIxRi-2yVR_"
      },
      "source": [
        "O pandas possui também  a importante característica de possibilitar múltiplos níves em um índice. Tal função é chamada de MultiIndex ou Indexação Hierárquica.\n",
        "\n",
        "Na figura abaixo, a coluna com os anos 2000 e 2010 não é uma coluna comum; ela faz parte do índice. Dizemos então que o índice possui 2 níveis (região e ano)."
      ]
    },
    {
      "cell_type": "markdown",
      "metadata": {
        "id": "xJhkMnzUm_wr"
      },
      "source": [
        "![](https://i.imgur.com/zXVNgIg.png)"
      ]
    },
    {
      "cell_type": "markdown",
      "metadata": {
        "id": "X4Hova72xMvc"
      },
      "source": [
        "Existem diversas formas de criar um MultiIndex. Uma das mais comuns se dá por meio de um conjunto de arrays, no qual cada array representa um nível do índice."
      ]
    },
    {
      "cell_type": "code",
      "metadata": {
        "id": "Dq6vp-9Qm-Fp",
        "outputId": "cc4feaca-544e-4e7a-a659-6c30e13bb716",
        "colab": {
          "base_uri": "https://localhost:8080/",
          "height": 167
        }
      },
      "source": [
        "multi_index = [['id1', 'id1', 'id2', 'id2'], [1, 2, 1, 2]]\n",
        "\n",
        "dados = {'Quantidade': [84,  3, 35, 77]}\n",
        "\n",
        "df_multi_index = pd.DataFrame(dados,index=multi_index)\n",
        "\n",
        "df_multi_index"
      ],
      "execution_count": null,
      "outputs": [
        {
          "output_type": "execute_result",
          "data": {
            "text/html": [
              "<div>\n",
              "<style scoped>\n",
              "    .dataframe tbody tr th:only-of-type {\n",
              "        vertical-align: middle;\n",
              "    }\n",
              "\n",
              "    .dataframe tbody tr th {\n",
              "        vertical-align: top;\n",
              "    }\n",
              "\n",
              "    .dataframe thead th {\n",
              "        text-align: right;\n",
              "    }\n",
              "</style>\n",
              "<table border=\"1\" class=\"dataframe\">\n",
              "  <thead>\n",
              "    <tr style=\"text-align: right;\">\n",
              "      <th></th>\n",
              "      <th></th>\n",
              "      <th>Quantidade</th>\n",
              "    </tr>\n",
              "  </thead>\n",
              "  <tbody>\n",
              "    <tr>\n",
              "      <th rowspan=\"2\" valign=\"top\">id1</th>\n",
              "      <th>1</th>\n",
              "      <td>84</td>\n",
              "    </tr>\n",
              "    <tr>\n",
              "      <th>2</th>\n",
              "      <td>3</td>\n",
              "    </tr>\n",
              "    <tr>\n",
              "      <th rowspan=\"2\" valign=\"top\">id2</th>\n",
              "      <th>1</th>\n",
              "      <td>35</td>\n",
              "    </tr>\n",
              "    <tr>\n",
              "      <th>2</th>\n",
              "      <td>77</td>\n",
              "    </tr>\n",
              "  </tbody>\n",
              "</table>\n",
              "</div>"
            ],
            "text/plain": [
              "       Quantidade\n",
              "id1 1          84\n",
              "    2           3\n",
              "id2 1          35\n",
              "    2          77"
            ]
          },
          "metadata": {
            "tags": []
          },
          "execution_count": 10
        }
      ]
    },
    {
      "cell_type": "markdown",
      "metadata": {
        "id": "HwLI-17Z3l6z"
      },
      "source": [
        "**Exercício 1.1** Recrie a tabela contendo dados populacionais das regiões brasileiras através de um DataFrame. \n",
        "\n",
        "Obs.: O uso de MultiIndex é obrigatório.\n",
        "\n",
        "![](https://i.imgur.com/zXVNgIg.png)"
      ]
    },
    {
      "cell_type": "code",
      "metadata": {
        "id": "Gf8a_eAF3vcq",
        "outputId": "7e886b9a-f760-4107-f0fa-b1f5453b3b52",
        "colab": {
          "base_uri": "https://localhost:8080/",
          "height": 347
        }
      },
      "source": [
        "index_em_niveis = [['NORTE', 'NORTE', 'NORDESTE', 'NORDESTE','SUDESTE','SUDESTE','SUL','SUL','CENTRO-OESTE','CENTRO-OESTE'], [2000, 2010, 2000, 2010,2000,2010,2000,2010,2000,2010]]\n",
        "\n",
        "dados = {'População': [12900704, 15865678, 47741711, 53078137, 72412411, 80353724, 25107616, 27384815, 11636728, 14050340]}\n",
        "\n",
        "df_index_em_niveis = pd.DataFrame(dados,index=index_em_niveis)\n",
        "\n",
        "df_index_em_niveis"
      ],
      "execution_count": null,
      "outputs": [
        {
          "output_type": "execute_result",
          "data": {
            "text/html": [
              "<div>\n",
              "<style scoped>\n",
              "    .dataframe tbody tr th:only-of-type {\n",
              "        vertical-align: middle;\n",
              "    }\n",
              "\n",
              "    .dataframe tbody tr th {\n",
              "        vertical-align: top;\n",
              "    }\n",
              "\n",
              "    .dataframe thead th {\n",
              "        text-align: right;\n",
              "    }\n",
              "</style>\n",
              "<table border=\"1\" class=\"dataframe\">\n",
              "  <thead>\n",
              "    <tr style=\"text-align: right;\">\n",
              "      <th></th>\n",
              "      <th></th>\n",
              "      <th>População</th>\n",
              "    </tr>\n",
              "  </thead>\n",
              "  <tbody>\n",
              "    <tr>\n",
              "      <th rowspan=\"2\" valign=\"top\">NORTE</th>\n",
              "      <th>2000</th>\n",
              "      <td>12900704</td>\n",
              "    </tr>\n",
              "    <tr>\n",
              "      <th>2010</th>\n",
              "      <td>15865678</td>\n",
              "    </tr>\n",
              "    <tr>\n",
              "      <th rowspan=\"2\" valign=\"top\">NORDESTE</th>\n",
              "      <th>2000</th>\n",
              "      <td>47741711</td>\n",
              "    </tr>\n",
              "    <tr>\n",
              "      <th>2010</th>\n",
              "      <td>53078137</td>\n",
              "    </tr>\n",
              "    <tr>\n",
              "      <th rowspan=\"2\" valign=\"top\">SUDESTE</th>\n",
              "      <th>2000</th>\n",
              "      <td>72412411</td>\n",
              "    </tr>\n",
              "    <tr>\n",
              "      <th>2010</th>\n",
              "      <td>80353724</td>\n",
              "    </tr>\n",
              "    <tr>\n",
              "      <th rowspan=\"2\" valign=\"top\">SUL</th>\n",
              "      <th>2000</th>\n",
              "      <td>25107616</td>\n",
              "    </tr>\n",
              "    <tr>\n",
              "      <th>2010</th>\n",
              "      <td>27384815</td>\n",
              "    </tr>\n",
              "    <tr>\n",
              "      <th rowspan=\"2\" valign=\"top\">CENTRO-OESTE</th>\n",
              "      <th>2000</th>\n",
              "      <td>11636728</td>\n",
              "    </tr>\n",
              "    <tr>\n",
              "      <th>2010</th>\n",
              "      <td>14050340</td>\n",
              "    </tr>\n",
              "  </tbody>\n",
              "</table>\n",
              "</div>"
            ],
            "text/plain": [
              "                   População\n",
              "NORTE        2000   12900704\n",
              "             2010   15865678\n",
              "NORDESTE     2000   47741711\n",
              "             2010   53078137\n",
              "SUDESTE      2000   72412411\n",
              "             2010   80353724\n",
              "SUL          2000   25107616\n",
              "             2010   27384815\n",
              "CENTRO-OESTE 2000   11636728\n",
              "             2010   14050340"
            ]
          },
          "metadata": {
            "tags": []
          },
          "execution_count": 11
        }
      ]
    },
    {
      "cell_type": "markdown",
      "metadata": {
        "id": "JvYlXDAt4sgG"
      },
      "source": [
        "**Exercício 1.2** Crie um DataFrame qualquer com um índice de 3 níveis."
      ]
    },
    {
      "cell_type": "code",
      "metadata": {
        "id": "pGbbFHMT6RCr",
        "outputId": "e261c83d-ca13-48fa-e77d-3443a8a8b870",
        "colab": {
          "base_uri": "https://localhost:8080/",
          "height": 317
        }
      },
      "source": [
        "indice_tres_niveis = [['1ºANO','1ºANO','1ºANO','1ºANO','1ºANO','1ºANO','1ºANO','1ºANO','1ºANO'],\n",
        "                      ['TURMA 1', 'TURMA 1','TURMA 1','TURMA 2','TURMA 2','TURMA 2','TURMA 3', 'TURMA 3','TURMA 3'],\n",
        "                      ['MANHÃ','TARDE','NOITE','MANHÃ','TARDE','NOITE','MANHÃ','TARDE','NOITE']]\n",
        "\n",
        "horarios = {'HORÁRIOS' : 3*['7:30 às 11:00','14:00 às 17:30','19:00 às 22:30']}\n",
        "\n",
        "df_horarios_curso = pd.DataFrame(horarios, index=indice_tres_niveis)\n",
        "\n",
        "df_horarios_curso"
      ],
      "execution_count": null,
      "outputs": [
        {
          "output_type": "execute_result",
          "data": {
            "text/html": [
              "<div>\n",
              "<style scoped>\n",
              "    .dataframe tbody tr th:only-of-type {\n",
              "        vertical-align: middle;\n",
              "    }\n",
              "\n",
              "    .dataframe tbody tr th {\n",
              "        vertical-align: top;\n",
              "    }\n",
              "\n",
              "    .dataframe thead th {\n",
              "        text-align: right;\n",
              "    }\n",
              "</style>\n",
              "<table border=\"1\" class=\"dataframe\">\n",
              "  <thead>\n",
              "    <tr style=\"text-align: right;\">\n",
              "      <th></th>\n",
              "      <th></th>\n",
              "      <th></th>\n",
              "      <th>HORÁRIOS</th>\n",
              "    </tr>\n",
              "  </thead>\n",
              "  <tbody>\n",
              "    <tr>\n",
              "      <th rowspan=\"9\" valign=\"top\">1ºANO</th>\n",
              "      <th rowspan=\"3\" valign=\"top\">TURMA 1</th>\n",
              "      <th>MANHÃ</th>\n",
              "      <td>7:30 às 11:00</td>\n",
              "    </tr>\n",
              "    <tr>\n",
              "      <th>TARDE</th>\n",
              "      <td>14:00 às 17:30</td>\n",
              "    </tr>\n",
              "    <tr>\n",
              "      <th>NOITE</th>\n",
              "      <td>19:00 às 22:30</td>\n",
              "    </tr>\n",
              "    <tr>\n",
              "      <th rowspan=\"3\" valign=\"top\">TURMA 2</th>\n",
              "      <th>MANHÃ</th>\n",
              "      <td>7:30 às 11:00</td>\n",
              "    </tr>\n",
              "    <tr>\n",
              "      <th>TARDE</th>\n",
              "      <td>14:00 às 17:30</td>\n",
              "    </tr>\n",
              "    <tr>\n",
              "      <th>NOITE</th>\n",
              "      <td>19:00 às 22:30</td>\n",
              "    </tr>\n",
              "    <tr>\n",
              "      <th rowspan=\"3\" valign=\"top\">TURMA 3</th>\n",
              "      <th>MANHÃ</th>\n",
              "      <td>7:30 às 11:00</td>\n",
              "    </tr>\n",
              "    <tr>\n",
              "      <th>TARDE</th>\n",
              "      <td>14:00 às 17:30</td>\n",
              "    </tr>\n",
              "    <tr>\n",
              "      <th>NOITE</th>\n",
              "      <td>19:00 às 22:30</td>\n",
              "    </tr>\n",
              "  </tbody>\n",
              "</table>\n",
              "</div>"
            ],
            "text/plain": [
              "                           HORÁRIOS\n",
              "1ºANO TURMA 1 MANHÃ   7:30 às 11:00\n",
              "              TARDE  14:00 às 17:30\n",
              "              NOITE  19:00 às 22:30\n",
              "      TURMA 2 MANHÃ   7:30 às 11:00\n",
              "              TARDE  14:00 às 17:30\n",
              "              NOITE  19:00 às 22:30\n",
              "      TURMA 3 MANHÃ   7:30 às 11:00\n",
              "              TARDE  14:00 às 17:30\n",
              "              NOITE  19:00 às 22:30"
            ]
          },
          "metadata": {
            "tags": []
          },
          "execution_count": 30
        }
      ]
    },
    {
      "cell_type": "markdown",
      "metadata": {
        "id": "Y5UclEur8DAe"
      },
      "source": [
        "## **Funcionalidades Básicas**"
      ]
    },
    {
      "cell_type": "markdown",
      "metadata": {
        "id": "GNL0yVvB8Gvh"
      },
      "source": [
        "### **Reindex**"
      ]
    },
    {
      "cell_type": "markdown",
      "metadata": {
        "id": "fASJAnI5IKMd"
      },
      "source": [
        "Apesar da impossibilidade de alterar os valores do índice, é permitido reorganizar sua ordem com o método `reindex`."
      ]
    },
    {
      "cell_type": "code",
      "metadata": {
        "id": "9YyFxBKLHvX0",
        "outputId": "3bdd52c6-3028-4f9c-c9cd-d6d34b466cdb",
        "colab": {
          "base_uri": "https://localhost:8080/",
          "height": 87
        }
      },
      "source": [
        "nova_series2 = pd.Series([1,2,3],index = ['i','j','k'])\n",
        "\n",
        "nova_series2"
      ],
      "execution_count": null,
      "outputs": [
        {
          "output_type": "execute_result",
          "data": {
            "text/plain": [
              "i    1\n",
              "j    2\n",
              "k    3\n",
              "dtype: int64"
            ]
          },
          "metadata": {
            "tags": []
          },
          "execution_count": 31
        }
      ]
    },
    {
      "cell_type": "code",
      "metadata": {
        "id": "3tD6fPSPIjIM",
        "outputId": "95930b56-d546-4ef6-bacf-1357f001c5e8",
        "colab": {
          "base_uri": "https://localhost:8080/",
          "height": 87
        }
      },
      "source": [
        "nova_ordem = ['k','i','j']\n",
        "\n",
        "series_reindexada = nova_series2.reindex(nova_ordem)\n",
        "\n",
        "series_reindexada"
      ],
      "execution_count": null,
      "outputs": [
        {
          "output_type": "execute_result",
          "data": {
            "text/plain": [
              "k    3\n",
              "i    1\n",
              "j    2\n",
              "dtype: int64"
            ]
          },
          "metadata": {
            "tags": []
          },
          "execution_count": 32
        }
      ]
    },
    {
      "cell_type": "markdown",
      "metadata": {
        "id": "NeB0UCdBJZ9a"
      },
      "source": [
        "Caso o novo índice possua um elemento que não estava presente no original, um valor nulo(NaN) será adicionado a Series."
      ]
    },
    {
      "cell_type": "code",
      "metadata": {
        "id": "BzU62zoOJ7hl",
        "outputId": "f352d92c-923e-452f-fdb6-cf9bf0ee83b0",
        "colab": {
          "base_uri": "https://localhost:8080/",
          "height": 105
        }
      },
      "source": [
        "nova_ordem = ['k','i','j','a']\n",
        "\n",
        "series_reindexada = nova_series2.reindex(nova_ordem)\n",
        "\n",
        "series_reindexada"
      ],
      "execution_count": null,
      "outputs": [
        {
          "output_type": "execute_result",
          "data": {
            "text/plain": [
              "k    3.0\n",
              "i    1.0\n",
              "j    2.0\n",
              "a    NaN\n",
              "dtype: float64"
            ]
          },
          "metadata": {
            "tags": []
          },
          "execution_count": 33
        }
      ]
    },
    {
      "cell_type": "markdown",
      "metadata": {
        "id": "2z-uK2VbKFdg"
      },
      "source": [
        "Esse valor pode ser substituído com o argumento `fill_value`:"
      ]
    },
    {
      "cell_type": "code",
      "metadata": {
        "id": "0ZaClrp_KX_p",
        "outputId": "2e847d92-2892-4b45-9bab-d145151eeaa0",
        "colab": {
          "base_uri": "https://localhost:8080/",
          "height": 105
        }
      },
      "source": [
        "nova_ordem = ['k','i','j','a']\n",
        "\n",
        "series_reindexada = nova_series2.reindex(nova_ordem,fill_value=110)\n",
        "\n",
        "series_reindexada"
      ],
      "execution_count": null,
      "outputs": [
        {
          "output_type": "execute_result",
          "data": {
            "text/plain": [
              "k      3\n",
              "i      1\n",
              "j      2\n",
              "a    110\n",
              "dtype: int64"
            ]
          },
          "metadata": {
            "tags": []
          },
          "execution_count": 34
        }
      ]
    },
    {
      "cell_type": "markdown",
      "metadata": {
        "id": "Fv1KJybpKnMy"
      },
      "source": [
        "No caso de DataFrames, tanto os rótulos os índices (linhas) quanto os rótulos das colunas podem ser reindexados."
      ]
    },
    {
      "cell_type": "code",
      "metadata": {
        "id": "uA9W9HXvMKc7",
        "outputId": "0f231722-ce07-4911-9683-b4d24cad1cd1",
        "colab": {
          "base_uri": "https://localhost:8080/",
          "height": 137
        }
      },
      "source": [
        "dados = {'Prova1': [7.9,5,10], 'Prova2': [6,3.5,10]}\n",
        "\n",
        "df = pd.DataFrame(dados,index = ['Harry','Ronald','Hermione'])\n",
        "\n",
        "df"
      ],
      "execution_count": null,
      "outputs": [
        {
          "output_type": "execute_result",
          "data": {
            "text/html": [
              "<div>\n",
              "<style scoped>\n",
              "    .dataframe tbody tr th:only-of-type {\n",
              "        vertical-align: middle;\n",
              "    }\n",
              "\n",
              "    .dataframe tbody tr th {\n",
              "        vertical-align: top;\n",
              "    }\n",
              "\n",
              "    .dataframe thead th {\n",
              "        text-align: right;\n",
              "    }\n",
              "</style>\n",
              "<table border=\"1\" class=\"dataframe\">\n",
              "  <thead>\n",
              "    <tr style=\"text-align: right;\">\n",
              "      <th></th>\n",
              "      <th>Prova1</th>\n",
              "      <th>Prova2</th>\n",
              "    </tr>\n",
              "  </thead>\n",
              "  <tbody>\n",
              "    <tr>\n",
              "      <th>Harry</th>\n",
              "      <td>7.9</td>\n",
              "      <td>6.0</td>\n",
              "    </tr>\n",
              "    <tr>\n",
              "      <th>Ronald</th>\n",
              "      <td>5.0</td>\n",
              "      <td>3.5</td>\n",
              "    </tr>\n",
              "    <tr>\n",
              "      <th>Hermione</th>\n",
              "      <td>10.0</td>\n",
              "      <td>10.0</td>\n",
              "    </tr>\n",
              "  </tbody>\n",
              "</table>\n",
              "</div>"
            ],
            "text/plain": [
              "          Prova1  Prova2\n",
              "Harry        7.9     6.0\n",
              "Ronald       5.0     3.5\n",
              "Hermione    10.0    10.0"
            ]
          },
          "metadata": {
            "tags": []
          },
          "execution_count": 35
        }
      ]
    },
    {
      "cell_type": "markdown",
      "metadata": {
        "id": "Jzcl14fiMma_"
      },
      "source": [
        "Para reindexar as colunas, usa-se o argumento `columns`:"
      ]
    },
    {
      "cell_type": "code",
      "metadata": {
        "id": "B5zePugAMgYi",
        "outputId": "6207286e-aadf-43fa-da64-68f35fa9f130",
        "colab": {
          "base_uri": "https://localhost:8080/",
          "height": 137
        }
      },
      "source": [
        "reindex_colunas = ['Prova2','Prova1']\n",
        "\n",
        "df.reindex(columns=reindex_colunas)"
      ],
      "execution_count": null,
      "outputs": [
        {
          "output_type": "execute_result",
          "data": {
            "text/html": [
              "<div>\n",
              "<style scoped>\n",
              "    .dataframe tbody tr th:only-of-type {\n",
              "        vertical-align: middle;\n",
              "    }\n",
              "\n",
              "    .dataframe tbody tr th {\n",
              "        vertical-align: top;\n",
              "    }\n",
              "\n",
              "    .dataframe thead th {\n",
              "        text-align: right;\n",
              "    }\n",
              "</style>\n",
              "<table border=\"1\" class=\"dataframe\">\n",
              "  <thead>\n",
              "    <tr style=\"text-align: right;\">\n",
              "      <th></th>\n",
              "      <th>Prova2</th>\n",
              "      <th>Prova1</th>\n",
              "    </tr>\n",
              "  </thead>\n",
              "  <tbody>\n",
              "    <tr>\n",
              "      <th>Harry</th>\n",
              "      <td>6.0</td>\n",
              "      <td>7.9</td>\n",
              "    </tr>\n",
              "    <tr>\n",
              "      <th>Ronald</th>\n",
              "      <td>3.5</td>\n",
              "      <td>5.0</td>\n",
              "    </tr>\n",
              "    <tr>\n",
              "      <th>Hermione</th>\n",
              "      <td>10.0</td>\n",
              "      <td>10.0</td>\n",
              "    </tr>\n",
              "  </tbody>\n",
              "</table>\n",
              "</div>"
            ],
            "text/plain": [
              "          Prova2  Prova1\n",
              "Harry        6.0     7.9\n",
              "Ronald       3.5     5.0\n",
              "Hermione    10.0    10.0"
            ]
          },
          "metadata": {
            "tags": []
          },
          "execution_count": 36
        }
      ]
    },
    {
      "cell_type": "markdown",
      "metadata": {
        "id": "tET-IdVvNnhC"
      },
      "source": [
        "Análogo ao que ocorre nas Series, se houver um elemento novo, a coluna será preenchida com valores nulos."
      ]
    },
    {
      "cell_type": "code",
      "metadata": {
        "id": "pgIe4DMUN7VT",
        "outputId": "6942534b-28ce-4f3b-daf4-ae6cbf526b71",
        "colab": {
          "base_uri": "https://localhost:8080/",
          "height": 137
        }
      },
      "source": [
        "reindex_colunas = ['Prova2','Prova1','Prova3']\n",
        "\n",
        "df_prova3 = df.reindex(columns=reindex_colunas)\n",
        "\n",
        "df_prova3"
      ],
      "execution_count": null,
      "outputs": [
        {
          "output_type": "execute_result",
          "data": {
            "text/html": [
              "<div>\n",
              "<style scoped>\n",
              "    .dataframe tbody tr th:only-of-type {\n",
              "        vertical-align: middle;\n",
              "    }\n",
              "\n",
              "    .dataframe tbody tr th {\n",
              "        vertical-align: top;\n",
              "    }\n",
              "\n",
              "    .dataframe thead th {\n",
              "        text-align: right;\n",
              "    }\n",
              "</style>\n",
              "<table border=\"1\" class=\"dataframe\">\n",
              "  <thead>\n",
              "    <tr style=\"text-align: right;\">\n",
              "      <th></th>\n",
              "      <th>Prova2</th>\n",
              "      <th>Prova1</th>\n",
              "      <th>Prova3</th>\n",
              "    </tr>\n",
              "  </thead>\n",
              "  <tbody>\n",
              "    <tr>\n",
              "      <th>Harry</th>\n",
              "      <td>6.0</td>\n",
              "      <td>7.9</td>\n",
              "      <td>NaN</td>\n",
              "    </tr>\n",
              "    <tr>\n",
              "      <th>Ronald</th>\n",
              "      <td>3.5</td>\n",
              "      <td>5.0</td>\n",
              "      <td>NaN</td>\n",
              "    </tr>\n",
              "    <tr>\n",
              "      <th>Hermione</th>\n",
              "      <td>10.0</td>\n",
              "      <td>10.0</td>\n",
              "      <td>NaN</td>\n",
              "    </tr>\n",
              "  </tbody>\n",
              "</table>\n",
              "</div>"
            ],
            "text/plain": [
              "          Prova2  Prova1  Prova3\n",
              "Harry        6.0     7.9     NaN\n",
              "Ronald       3.5     5.0     NaN\n",
              "Hermione    10.0    10.0     NaN"
            ]
          },
          "metadata": {
            "tags": []
          },
          "execution_count": 37
        }
      ]
    },
    {
      "cell_type": "markdown",
      "metadata": {
        "id": "iCbbVL9EOYkA"
      },
      "source": [
        "Indices são reidexados como nas Series:"
      ]
    },
    {
      "cell_type": "code",
      "metadata": {
        "id": "rPAUmu-nOW7C",
        "outputId": "5fe0f27d-1ea4-4b4d-fd7f-55b61dad3069",
        "colab": {
          "base_uri": "https://localhost:8080/",
          "height": 137
        }
      },
      "source": [
        "indice = ['Harry','Hermione','Ronald']\n",
        "\n",
        "df.reindex(indice)"
      ],
      "execution_count": null,
      "outputs": [
        {
          "output_type": "execute_result",
          "data": {
            "text/html": [
              "<div>\n",
              "<style scoped>\n",
              "    .dataframe tbody tr th:only-of-type {\n",
              "        vertical-align: middle;\n",
              "    }\n",
              "\n",
              "    .dataframe tbody tr th {\n",
              "        vertical-align: top;\n",
              "    }\n",
              "\n",
              "    .dataframe thead th {\n",
              "        text-align: right;\n",
              "    }\n",
              "</style>\n",
              "<table border=\"1\" class=\"dataframe\">\n",
              "  <thead>\n",
              "    <tr style=\"text-align: right;\">\n",
              "      <th></th>\n",
              "      <th>Prova1</th>\n",
              "      <th>Prova2</th>\n",
              "    </tr>\n",
              "  </thead>\n",
              "  <tbody>\n",
              "    <tr>\n",
              "      <th>Harry</th>\n",
              "      <td>7.9</td>\n",
              "      <td>6.0</td>\n",
              "    </tr>\n",
              "    <tr>\n",
              "      <th>Hermione</th>\n",
              "      <td>10.0</td>\n",
              "      <td>10.0</td>\n",
              "    </tr>\n",
              "    <tr>\n",
              "      <th>Ronald</th>\n",
              "      <td>5.0</td>\n",
              "      <td>3.5</td>\n",
              "    </tr>\n",
              "  </tbody>\n",
              "</table>\n",
              "</div>"
            ],
            "text/plain": [
              "          Prova1  Prova2\n",
              "Harry        7.9     6.0\n",
              "Hermione    10.0    10.0\n",
              "Ronald       5.0     3.5"
            ]
          },
          "metadata": {
            "tags": []
          },
          "execution_count": 38
        }
      ]
    },
    {
      "cell_type": "markdown",
      "metadata": {
        "id": "KrUYkKBzPCqg"
      },
      "source": [
        "Naturalmente, os eixos podem ser reidexados ao mesmo tempo com os argumentos `columns` e `index`."
      ]
    },
    {
      "cell_type": "code",
      "metadata": {
        "id": "l4rMJaSnO_67",
        "outputId": "d539816f-8804-4084-bcbb-c789b2dc1ae9",
        "colab": {
          "base_uri": "https://localhost:8080/",
          "height": 137
        }
      },
      "source": [
        "indice = ['Ronald','Hermione','Harry']\n",
        "colunas = ['Prova2','Prova1']\n",
        "\n",
        "df.reindex(index=indice,columns=colunas)"
      ],
      "execution_count": null,
      "outputs": [
        {
          "output_type": "execute_result",
          "data": {
            "text/html": [
              "<div>\n",
              "<style scoped>\n",
              "    .dataframe tbody tr th:only-of-type {\n",
              "        vertical-align: middle;\n",
              "    }\n",
              "\n",
              "    .dataframe tbody tr th {\n",
              "        vertical-align: top;\n",
              "    }\n",
              "\n",
              "    .dataframe thead th {\n",
              "        text-align: right;\n",
              "    }\n",
              "</style>\n",
              "<table border=\"1\" class=\"dataframe\">\n",
              "  <thead>\n",
              "    <tr style=\"text-align: right;\">\n",
              "      <th></th>\n",
              "      <th>Prova2</th>\n",
              "      <th>Prova1</th>\n",
              "    </tr>\n",
              "  </thead>\n",
              "  <tbody>\n",
              "    <tr>\n",
              "      <th>Ronald</th>\n",
              "      <td>3.5</td>\n",
              "      <td>5.0</td>\n",
              "    </tr>\n",
              "    <tr>\n",
              "      <th>Hermione</th>\n",
              "      <td>10.0</td>\n",
              "      <td>10.0</td>\n",
              "    </tr>\n",
              "    <tr>\n",
              "      <th>Harry</th>\n",
              "      <td>6.0</td>\n",
              "      <td>7.9</td>\n",
              "    </tr>\n",
              "  </tbody>\n",
              "</table>\n",
              "</div>"
            ],
            "text/plain": [
              "          Prova2  Prova1\n",
              "Ronald       3.5     5.0\n",
              "Hermione    10.0    10.0\n",
              "Harry        6.0     7.9"
            ]
          },
          "metadata": {
            "tags": []
          },
          "execution_count": 39
        }
      ]
    },
    {
      "cell_type": "markdown",
      "metadata": {
        "id": "wfVEy10NGvaU"
      },
      "source": [
        "### **Drop**"
      ]
    },
    {
      "cell_type": "markdown",
      "metadata": {
        "id": "F0xHPDD_PfLp"
      },
      "source": [
        "O método `drop` possibilita que linhas e colunas especificadas sejam dispensadas de um objeto do pandas."
      ]
    },
    {
      "cell_type": "code",
      "metadata": {
        "id": "KjMwlsHyRiEc",
        "outputId": "481ae363-066e-4942-9774-846fe00a87ea",
        "colab": {
          "base_uri": "https://localhost:8080/",
          "height": 87
        }
      },
      "source": [
        "indice = ['a','b','c']\n",
        "\n",
        "nova_series = pd.Series([1,2,3],index = indice)\n",
        "nova_series"
      ],
      "execution_count": null,
      "outputs": [
        {
          "output_type": "execute_result",
          "data": {
            "text/plain": [
              "a    1\n",
              "b    2\n",
              "c    3\n",
              "dtype: int64"
            ]
          },
          "metadata": {
            "tags": []
          },
          "execution_count": 40
        }
      ]
    },
    {
      "cell_type": "code",
      "metadata": {
        "id": "3ykYb3l1R598",
        "outputId": "bd643cb5-f8c4-4fdd-a99f-3fc422b2aef1",
        "colab": {
          "base_uri": "https://localhost:8080/",
          "height": 70
        }
      },
      "source": [
        "nova_series.drop('c')"
      ],
      "execution_count": null,
      "outputs": [
        {
          "output_type": "execute_result",
          "data": {
            "text/plain": [
              "a    1\n",
              "b    2\n",
              "dtype: int64"
            ]
          },
          "metadata": {
            "tags": []
          },
          "execution_count": 41
        }
      ]
    },
    {
      "cell_type": "code",
      "metadata": {
        "id": "Z0y2V-O4R_GX",
        "outputId": "3b589766-0336-4a85-e985-55181b1cb262",
        "colab": {
          "base_uri": "https://localhost:8080/",
          "height": 52
        }
      },
      "source": [
        "nova_series.drop(['c','a'])"
      ],
      "execution_count": null,
      "outputs": [
        {
          "output_type": "execute_result",
          "data": {
            "text/plain": [
              "b    2\n",
              "dtype: int64"
            ]
          },
          "metadata": {
            "tags": []
          },
          "execution_count": 42
        }
      ]
    },
    {
      "cell_type": "markdown",
      "metadata": {
        "id": "_bi-O57mTVGc"
      },
      "source": [
        "Caso o objetivo seja dispensar uma coluna de um DataFrame, basta especificar o eixo das colunas (`1`) no argumento `axis`."
      ]
    },
    {
      "cell_type": "code",
      "metadata": {
        "id": "lFUOmvmzSUek",
        "outputId": "69592eef-bff4-45d6-e517-886fc6d3bada",
        "colab": {
          "base_uri": "https://localhost:8080/",
          "height": 137
        }
      },
      "source": [
        "df_prova3"
      ],
      "execution_count": null,
      "outputs": [
        {
          "output_type": "execute_result",
          "data": {
            "text/html": [
              "<div>\n",
              "<style scoped>\n",
              "    .dataframe tbody tr th:only-of-type {\n",
              "        vertical-align: middle;\n",
              "    }\n",
              "\n",
              "    .dataframe tbody tr th {\n",
              "        vertical-align: top;\n",
              "    }\n",
              "\n",
              "    .dataframe thead th {\n",
              "        text-align: right;\n",
              "    }\n",
              "</style>\n",
              "<table border=\"1\" class=\"dataframe\">\n",
              "  <thead>\n",
              "    <tr style=\"text-align: right;\">\n",
              "      <th></th>\n",
              "      <th>Prova2</th>\n",
              "      <th>Prova1</th>\n",
              "      <th>Prova3</th>\n",
              "    </tr>\n",
              "  </thead>\n",
              "  <tbody>\n",
              "    <tr>\n",
              "      <th>Harry</th>\n",
              "      <td>6.0</td>\n",
              "      <td>7.9</td>\n",
              "      <td>NaN</td>\n",
              "    </tr>\n",
              "    <tr>\n",
              "      <th>Ronald</th>\n",
              "      <td>3.5</td>\n",
              "      <td>5.0</td>\n",
              "      <td>NaN</td>\n",
              "    </tr>\n",
              "    <tr>\n",
              "      <th>Hermione</th>\n",
              "      <td>10.0</td>\n",
              "      <td>10.0</td>\n",
              "      <td>NaN</td>\n",
              "    </tr>\n",
              "  </tbody>\n",
              "</table>\n",
              "</div>"
            ],
            "text/plain": [
              "          Prova2  Prova1  Prova3\n",
              "Harry        6.0     7.9     NaN\n",
              "Ronald       3.5     5.0     NaN\n",
              "Hermione    10.0    10.0     NaN"
            ]
          },
          "metadata": {
            "tags": []
          },
          "execution_count": 43
        }
      ]
    },
    {
      "cell_type": "code",
      "metadata": {
        "id": "OdWrmQrfTpnb",
        "outputId": "7ff42ef1-a396-42cc-ac6a-a560e5a68acd",
        "colab": {
          "base_uri": "https://localhost:8080/",
          "height": 137
        }
      },
      "source": [
        "df_prova3.drop('Prova3',axis=1)"
      ],
      "execution_count": null,
      "outputs": [
        {
          "output_type": "execute_result",
          "data": {
            "text/html": [
              "<div>\n",
              "<style scoped>\n",
              "    .dataframe tbody tr th:only-of-type {\n",
              "        vertical-align: middle;\n",
              "    }\n",
              "\n",
              "    .dataframe tbody tr th {\n",
              "        vertical-align: top;\n",
              "    }\n",
              "\n",
              "    .dataframe thead th {\n",
              "        text-align: right;\n",
              "    }\n",
              "</style>\n",
              "<table border=\"1\" class=\"dataframe\">\n",
              "  <thead>\n",
              "    <tr style=\"text-align: right;\">\n",
              "      <th></th>\n",
              "      <th>Prova2</th>\n",
              "      <th>Prova1</th>\n",
              "    </tr>\n",
              "  </thead>\n",
              "  <tbody>\n",
              "    <tr>\n",
              "      <th>Harry</th>\n",
              "      <td>6.0</td>\n",
              "      <td>7.9</td>\n",
              "    </tr>\n",
              "    <tr>\n",
              "      <th>Ronald</th>\n",
              "      <td>3.5</td>\n",
              "      <td>5.0</td>\n",
              "    </tr>\n",
              "    <tr>\n",
              "      <th>Hermione</th>\n",
              "      <td>10.0</td>\n",
              "      <td>10.0</td>\n",
              "    </tr>\n",
              "  </tbody>\n",
              "</table>\n",
              "</div>"
            ],
            "text/plain": [
              "          Prova2  Prova1\n",
              "Harry        6.0     7.9\n",
              "Ronald       3.5     5.0\n",
              "Hermione    10.0    10.0"
            ]
          },
          "metadata": {
            "tags": []
          },
          "execution_count": 44
        }
      ]
    },
    {
      "cell_type": "markdown",
      "metadata": {
        "id": "BtjkkgeCSVAi"
      },
      "source": [
        "Linhas são \"droppadas\" de forma análoga as Series:"
      ]
    },
    {
      "cell_type": "code",
      "metadata": {
        "id": "y-gC8eX4Sl7r",
        "outputId": "85331f5b-3de5-40de-a167-054b26ec5ddc",
        "colab": {
          "base_uri": "https://localhost:8080/",
          "height": 107
        }
      },
      "source": [
        "df_prova3.drop('Harry')"
      ],
      "execution_count": null,
      "outputs": [
        {
          "output_type": "execute_result",
          "data": {
            "text/html": [
              "<div>\n",
              "<style scoped>\n",
              "    .dataframe tbody tr th:only-of-type {\n",
              "        vertical-align: middle;\n",
              "    }\n",
              "\n",
              "    .dataframe tbody tr th {\n",
              "        vertical-align: top;\n",
              "    }\n",
              "\n",
              "    .dataframe thead th {\n",
              "        text-align: right;\n",
              "    }\n",
              "</style>\n",
              "<table border=\"1\" class=\"dataframe\">\n",
              "  <thead>\n",
              "    <tr style=\"text-align: right;\">\n",
              "      <th></th>\n",
              "      <th>Prova2</th>\n",
              "      <th>Prova1</th>\n",
              "      <th>Prova3</th>\n",
              "    </tr>\n",
              "  </thead>\n",
              "  <tbody>\n",
              "    <tr>\n",
              "      <th>Ronald</th>\n",
              "      <td>3.5</td>\n",
              "      <td>5.0</td>\n",
              "      <td>NaN</td>\n",
              "    </tr>\n",
              "    <tr>\n",
              "      <th>Hermione</th>\n",
              "      <td>10.0</td>\n",
              "      <td>10.0</td>\n",
              "      <td>NaN</td>\n",
              "    </tr>\n",
              "  </tbody>\n",
              "</table>\n",
              "</div>"
            ],
            "text/plain": [
              "          Prova2  Prova1  Prova3\n",
              "Ronald       3.5     5.0     NaN\n",
              "Hermione    10.0    10.0     NaN"
            ]
          },
          "metadata": {
            "tags": []
          },
          "execution_count": 45
        }
      ]
    },
    {
      "cell_type": "markdown",
      "metadata": {
        "id": "7A934MDDQblE"
      },
      "source": [
        "**Exercício 2.1** Qual a diferença entre usar o método `drop` e o comando `del` (apresentado na Semana 2) para dispensar uma coluna?"
      ]
    },
    {
      "cell_type": "markdown",
      "metadata": {
        "id": "X9KZz3yfdfBp"
      },
      "source": [
        "**Observação:** além disso, o `del` apaga a coluna de forma permanente, diferentemente do `drop`."
      ]
    },
    {
      "cell_type": "markdown",
      "metadata": {
        "id": "0l35Oq96QvgQ"
      },
      "source": [
        "O método drop apresenta mais parâmetros e pode apagar linhas ou colunas do DataFrame, de acordo com os parâmetros especificados em axis (linhas ou colunas). Ou seja, ele apaga um rótulo específico em linha(s) ou coluna(s).\n",
        "\n",
        "Já o comando del admite apenas a especificação do rótulo da coluna, sendo que permite apagar uma coluna apenas e não permite deletar índice."
      ]
    },
    {
      "cell_type": "markdown",
      "metadata": {
        "id": "jeT1WdNNGyaC"
      },
      "source": [
        "### **Indexação, seleção e filtragem**"
      ]
    },
    {
      "cell_type": "markdown",
      "metadata": {
        "id": "XN6p5_JlWsqk"
      },
      "source": [
        "Como visto na Semana 2, os elementos de uma Series e as colunas de um DataFrame podem ser acessados através da notação de colchetes."
      ]
    },
    {
      "cell_type": "code",
      "metadata": {
        "id": "uLbFT_HNXAq0",
        "outputId": "911dff0a-d1e2-47ef-a12d-a227c06b184f",
        "colab": {
          "base_uri": "https://localhost:8080/",
          "height": 137
        }
      },
      "source": [
        "dados = {'Prova1': [7.9,5,10], 'Prova2': [6,3.5,10]}\n",
        "\n",
        "df = pd.DataFrame(dados,index=['Harry','Ronald','Hermione'])\n",
        "\n",
        "df"
      ],
      "execution_count": null,
      "outputs": [
        {
          "output_type": "execute_result",
          "data": {
            "text/html": [
              "<div>\n",
              "<style scoped>\n",
              "    .dataframe tbody tr th:only-of-type {\n",
              "        vertical-align: middle;\n",
              "    }\n",
              "\n",
              "    .dataframe tbody tr th {\n",
              "        vertical-align: top;\n",
              "    }\n",
              "\n",
              "    .dataframe thead th {\n",
              "        text-align: right;\n",
              "    }\n",
              "</style>\n",
              "<table border=\"1\" class=\"dataframe\">\n",
              "  <thead>\n",
              "    <tr style=\"text-align: right;\">\n",
              "      <th></th>\n",
              "      <th>Prova1</th>\n",
              "      <th>Prova2</th>\n",
              "    </tr>\n",
              "  </thead>\n",
              "  <tbody>\n",
              "    <tr>\n",
              "      <th>Harry</th>\n",
              "      <td>7.9</td>\n",
              "      <td>6.0</td>\n",
              "    </tr>\n",
              "    <tr>\n",
              "      <th>Ronald</th>\n",
              "      <td>5.0</td>\n",
              "      <td>3.5</td>\n",
              "    </tr>\n",
              "    <tr>\n",
              "      <th>Hermione</th>\n",
              "      <td>10.0</td>\n",
              "      <td>10.0</td>\n",
              "    </tr>\n",
              "  </tbody>\n",
              "</table>\n",
              "</div>"
            ],
            "text/plain": [
              "          Prova1  Prova2\n",
              "Harry        7.9     6.0\n",
              "Ronald       5.0     3.5\n",
              "Hermione    10.0    10.0"
            ]
          },
          "metadata": {
            "tags": []
          },
          "execution_count": 46
        }
      ]
    },
    {
      "cell_type": "code",
      "metadata": {
        "id": "W6f8fuosXUCT",
        "outputId": "5e2a0cc1-c69b-4ac0-dd39-68dca5f410ff",
        "colab": {
          "base_uri": "https://localhost:8080/",
          "height": 87
        }
      },
      "source": [
        "prova1 = df['Prova1']\n",
        "\n",
        "prova1"
      ],
      "execution_count": null,
      "outputs": [
        {
          "output_type": "execute_result",
          "data": {
            "text/plain": [
              "Harry        7.9\n",
              "Ronald       5.0\n",
              "Hermione    10.0\n",
              "Name: Prova1, dtype: float64"
            ]
          },
          "metadata": {
            "tags": []
          },
          "execution_count": 47
        }
      ]
    },
    {
      "cell_type": "markdown",
      "metadata": {
        "id": "NVQhxH-sXh-P"
      },
      "source": [
        "Podemos também acessar apenas os valores que satisfazem uma condição específica."
      ]
    },
    {
      "cell_type": "code",
      "metadata": {
        "id": "XCEcJAGNYefT",
        "outputId": "0e2f9cc3-fe42-4613-ca1f-0345d4dc0ea3",
        "colab": {
          "base_uri": "https://localhost:8080/",
          "height": 70
        }
      },
      "source": [
        "nota_azul_p1 = prova1[prova1 >= 6]\n",
        "\n",
        "nota_azul_p1"
      ],
      "execution_count": null,
      "outputs": [
        {
          "output_type": "execute_result",
          "data": {
            "text/plain": [
              "Harry        7.9\n",
              "Hermione    10.0\n",
              "Name: Prova1, dtype: float64"
            ]
          },
          "metadata": {
            "tags": []
          },
          "execution_count": 48
        }
      ]
    },
    {
      "cell_type": "markdown",
      "metadata": {
        "id": "IBLmFC1dZQsk"
      },
      "source": [
        "Ou ainda, uma tabela booleana informando se uma condição foi satisfeita:"
      ]
    },
    {
      "cell_type": "code",
      "metadata": {
        "id": "FrstLcWlXrNA",
        "outputId": "c58f6543-99bc-474c-84e8-0e112cbbb83d",
        "colab": {
          "base_uri": "https://localhost:8080/",
          "height": 87
        }
      },
      "source": [
        "media = (df['Prova1'] + df['Prova2'])/2 # Colunas e linhas suportam operações aritméticas (veremos mais \n",
        "# sobre isso futuramente).\n",
        "aprovados = media >= 6\n",
        "\n",
        "aprovados"
      ],
      "execution_count": null,
      "outputs": [
        {
          "output_type": "execute_result",
          "data": {
            "text/plain": [
              "Harry        True\n",
              "Ronald      False\n",
              "Hermione     True\n",
              "dtype: bool"
            ]
          },
          "metadata": {
            "tags": []
          },
          "execution_count": 49
        }
      ]
    },
    {
      "cell_type": "markdown",
      "metadata": {
        "id": "zQNPLCYncOrU"
      },
      "source": [
        "Combinando a seleção de colunas e os métodos loc e iloc, subconjuntos específicos podem ser selecionados."
      ]
    },
    {
      "cell_type": "code",
      "metadata": {
        "id": "FnK-SSM8cPMn",
        "outputId": "bd103c1c-a348-432c-82ec-1bab1afdf0a8",
        "colab": {
          "base_uri": "https://localhost:8080/",
          "height": 107
        }
      },
      "source": [
        "linhas = ['Harry','Ronald']\n",
        "colunas = ['Prova2']\n",
        "\n",
        "selecao_linhas = df.loc[linhas]\n",
        "\n",
        "selecao_linhas[colunas]"
      ],
      "execution_count": null,
      "outputs": [
        {
          "output_type": "execute_result",
          "data": {
            "text/html": [
              "<div>\n",
              "<style scoped>\n",
              "    .dataframe tbody tr th:only-of-type {\n",
              "        vertical-align: middle;\n",
              "    }\n",
              "\n",
              "    .dataframe tbody tr th {\n",
              "        vertical-align: top;\n",
              "    }\n",
              "\n",
              "    .dataframe thead th {\n",
              "        text-align: right;\n",
              "    }\n",
              "</style>\n",
              "<table border=\"1\" class=\"dataframe\">\n",
              "  <thead>\n",
              "    <tr style=\"text-align: right;\">\n",
              "      <th></th>\n",
              "      <th>Prova2</th>\n",
              "    </tr>\n",
              "  </thead>\n",
              "  <tbody>\n",
              "    <tr>\n",
              "      <th>Harry</th>\n",
              "      <td>6.0</td>\n",
              "    </tr>\n",
              "    <tr>\n",
              "      <th>Ronald</th>\n",
              "      <td>3.5</td>\n",
              "    </tr>\n",
              "  </tbody>\n",
              "</table>\n",
              "</div>"
            ],
            "text/plain": [
              "        Prova2\n",
              "Harry      6.0\n",
              "Ronald     3.5"
            ]
          },
          "metadata": {
            "tags": []
          },
          "execution_count": 50
        }
      ]
    },
    {
      "cell_type": "markdown",
      "metadata": {
        "id": "0dECBYlQesDU"
      },
      "source": [
        "Note que a criação da variável selecao_linhas é opcional, visto que escrever apenas a linha abaixo tem o mesmo efeito."
      ]
    },
    {
      "cell_type": "code",
      "metadata": {
        "id": "xSnBF2elfHuz",
        "outputId": "5bff5c96-3645-4336-8a94-dea021460b79",
        "colab": {
          "base_uri": "https://localhost:8080/",
          "height": 107
        }
      },
      "source": [
        "df.loc[linhas][colunas]"
      ],
      "execution_count": null,
      "outputs": [
        {
          "output_type": "execute_result",
          "data": {
            "text/html": [
              "<div>\n",
              "<style scoped>\n",
              "    .dataframe tbody tr th:only-of-type {\n",
              "        vertical-align: middle;\n",
              "    }\n",
              "\n",
              "    .dataframe tbody tr th {\n",
              "        vertical-align: top;\n",
              "    }\n",
              "\n",
              "    .dataframe thead th {\n",
              "        text-align: right;\n",
              "    }\n",
              "</style>\n",
              "<table border=\"1\" class=\"dataframe\">\n",
              "  <thead>\n",
              "    <tr style=\"text-align: right;\">\n",
              "      <th></th>\n",
              "      <th>Prova2</th>\n",
              "    </tr>\n",
              "  </thead>\n",
              "  <tbody>\n",
              "    <tr>\n",
              "      <th>Harry</th>\n",
              "      <td>6.0</td>\n",
              "    </tr>\n",
              "    <tr>\n",
              "      <th>Ronald</th>\n",
              "      <td>3.5</td>\n",
              "    </tr>\n",
              "  </tbody>\n",
              "</table>\n",
              "</div>"
            ],
            "text/plain": [
              "        Prova2\n",
              "Harry      6.0\n",
              "Ronald     3.5"
            ]
          },
          "metadata": {
            "tags": []
          },
          "execution_count": 51
        }
      ]
    },
    {
      "cell_type": "markdown",
      "metadata": {
        "id": "iMVq5T4vlDht"
      },
      "source": [
        "## **Exercícios - Dataset CovidAL**"
      ]
    },
    {
      "cell_type": "code",
      "metadata": {
        "id": "Crb1f7BGizZq",
        "outputId": "d237a8f3-9a02-4bb4-b644-5fc642777872",
        "colab": {
          "base_uri": "https://localhost:8080/",
          "height": 384
        }
      },
      "source": [
        "df_covid.head()"
      ],
      "execution_count": null,
      "outputs": [
        {
          "output_type": "execute_result",
          "data": {
            "text/html": [
              "<div>\n",
              "<style scoped>\n",
              "    .dataframe tbody tr th:only-of-type {\n",
              "        vertical-align: middle;\n",
              "    }\n",
              "\n",
              "    .dataframe tbody tr th {\n",
              "        vertical-align: top;\n",
              "    }\n",
              "\n",
              "    .dataframe thead th {\n",
              "        text-align: right;\n",
              "    }\n",
              "</style>\n",
              "<table border=\"1\" class=\"dataframe\">\n",
              "  <thead>\n",
              "    <tr style=\"text-align: right;\">\n",
              "      <th></th>\n",
              "      <th>id</th>\n",
              "      <th>etnia</th>\n",
              "      <th>sexo</th>\n",
              "      <th>municipio_residencia</th>\n",
              "      <th>classificacao</th>\n",
              "      <th>situacao_atual</th>\n",
              "      <th>data_resultado_exame</th>\n",
              "      <th>data_atendimento</th>\n",
              "      <th>tipo_coleta</th>\n",
              "      <th>idade</th>\n",
              "      <th>data_obito</th>\n",
              "      <th>data_confirmacao_obito</th>\n",
              "      <th>ausegia</th>\n",
              "      <th>anosmia</th>\n",
              "      <th>febre</th>\n",
              "      <th>tosse</th>\n",
              "      <th>cefaleia</th>\n",
              "      <th>dificuldade_respiratoria</th>\n",
              "      <th>dispineia</th>\n",
              "      <th>mialgia</th>\n",
              "      <th>saturacao_menor_noventa_cinco</th>\n",
              "      <th>adinofagia</th>\n",
              "      <th>diarreia</th>\n",
              "      <th>adinamia</th>\n",
              "      <th>nausea_vomito</th>\n",
              "      <th>coriza</th>\n",
              "      <th>congestao_nasal</th>\n",
              "      <th>calafrio</th>\n",
              "      <th>nao_informado</th>\n",
              "      <th>outros</th>\n",
              "      <th>doenca_cardiovascular</th>\n",
              "      <th>diabetes</th>\n",
              "      <th>doenca_respiratoria_cronica</th>\n",
              "      <th>hipertensao</th>\n",
              "      <th>paciente_oncologico</th>\n",
              "      <th>idoso</th>\n",
              "      <th>profissional_saude</th>\n",
              "      <th>obesidade</th>\n",
              "      <th>doenca_renal_cronica</th>\n",
              "      <th>doenca_auto_imune</th>\n",
              "      <th>asma</th>\n",
              "      <th>sem_comorbidade</th>\n",
              "      <th>fator_nao_informado</th>\n",
              "      <th>outros_fatores</th>\n",
              "      <th>pneumopatia</th>\n",
              "    </tr>\n",
              "  </thead>\n",
              "  <tbody>\n",
              "    <tr>\n",
              "      <th>0</th>\n",
              "      <td>1</td>\n",
              "      <td>Ignorado</td>\n",
              "      <td>Masculino</td>\n",
              "      <td>Maceió</td>\n",
              "      <td>Confirmado</td>\n",
              "      <td>Encerramento do Isolamento Domiciliar</td>\n",
              "      <td>2020-03-08T03:00:00.000Z</td>\n",
              "      <td>2020-03-04T03:00:00.000Z</td>\n",
              "      <td>Swab nasofaringe + RT-PCR</td>\n",
              "      <td>43.0</td>\n",
              "      <td>NaN</td>\n",
              "      <td>NaN</td>\n",
              "      <td>NaN</td>\n",
              "      <td>NaN</td>\n",
              "      <td>X</td>\n",
              "      <td>X</td>\n",
              "      <td>NaN</td>\n",
              "      <td>NaN</td>\n",
              "      <td>NaN</td>\n",
              "      <td>NaN</td>\n",
              "      <td>X</td>\n",
              "      <td>NaN</td>\n",
              "      <td>NaN</td>\n",
              "      <td>NaN</td>\n",
              "      <td>NaN</td>\n",
              "      <td>NaN</td>\n",
              "      <td>NaN</td>\n",
              "      <td>NaN</td>\n",
              "      <td>NaN</td>\n",
              "      <td>NaN</td>\n",
              "      <td>NaN</td>\n",
              "      <td>NaN</td>\n",
              "      <td>NaN</td>\n",
              "      <td>NaN</td>\n",
              "      <td>NaN</td>\n",
              "      <td>NaN</td>\n",
              "      <td>NaN</td>\n",
              "      <td>NaN</td>\n",
              "      <td>NaN</td>\n",
              "      <td>NaN</td>\n",
              "      <td>NaN</td>\n",
              "      <td>NaN</td>\n",
              "      <td>NaN</td>\n",
              "      <td>NaN</td>\n",
              "      <td>NaN</td>\n",
              "    </tr>\n",
              "    <tr>\n",
              "      <th>1</th>\n",
              "      <td>2</td>\n",
              "      <td>Ignorado</td>\n",
              "      <td>Masculino</td>\n",
              "      <td>Maceió</td>\n",
              "      <td>Confirmado</td>\n",
              "      <td>Encerramento do Isolamento Domiciliar</td>\n",
              "      <td>2020-03-18T03:00:00.000Z</td>\n",
              "      <td>2020-03-14T03:00:00.000Z</td>\n",
              "      <td>Swab nasofaringe + RT-PCR</td>\n",
              "      <td>21.0</td>\n",
              "      <td>NaN</td>\n",
              "      <td>NaN</td>\n",
              "      <td>NaN</td>\n",
              "      <td>NaN</td>\n",
              "      <td>X</td>\n",
              "      <td>X</td>\n",
              "      <td>X</td>\n",
              "      <td>NaN</td>\n",
              "      <td>NaN</td>\n",
              "      <td>NaN</td>\n",
              "      <td>NaN</td>\n",
              "      <td>NaN</td>\n",
              "      <td>NaN</td>\n",
              "      <td>NaN</td>\n",
              "      <td>NaN</td>\n",
              "      <td>NaN</td>\n",
              "      <td>NaN</td>\n",
              "      <td>NaN</td>\n",
              "      <td>NaN</td>\n",
              "      <td>NaN</td>\n",
              "      <td>NaN</td>\n",
              "      <td>NaN</td>\n",
              "      <td>NaN</td>\n",
              "      <td>NaN</td>\n",
              "      <td>NaN</td>\n",
              "      <td>NaN</td>\n",
              "      <td>NaN</td>\n",
              "      <td>NaN</td>\n",
              "      <td>NaN</td>\n",
              "      <td>NaN</td>\n",
              "      <td>NaN</td>\n",
              "      <td>NaN</td>\n",
              "      <td>NaN</td>\n",
              "      <td>NaN</td>\n",
              "      <td>NaN</td>\n",
              "    </tr>\n",
              "    <tr>\n",
              "      <th>2</th>\n",
              "      <td>3</td>\n",
              "      <td>Ignorado</td>\n",
              "      <td>Feminino</td>\n",
              "      <td>Maceió</td>\n",
              "      <td>Confirmado</td>\n",
              "      <td>Encerramento do Isolamento Domiciliar</td>\n",
              "      <td>2020-03-18T03:00:00.000Z</td>\n",
              "      <td>2020-03-14T03:00:00.000Z</td>\n",
              "      <td>Swab nasofaringe + RT-PCR</td>\n",
              "      <td>25.0</td>\n",
              "      <td>NaN</td>\n",
              "      <td>NaN</td>\n",
              "      <td>NaN</td>\n",
              "      <td>NaN</td>\n",
              "      <td>X</td>\n",
              "      <td>X</td>\n",
              "      <td>NaN</td>\n",
              "      <td>NaN</td>\n",
              "      <td>NaN</td>\n",
              "      <td>NaN</td>\n",
              "      <td>X</td>\n",
              "      <td>NaN</td>\n",
              "      <td>NaN</td>\n",
              "      <td>NaN</td>\n",
              "      <td>NaN</td>\n",
              "      <td>NaN</td>\n",
              "      <td>NaN</td>\n",
              "      <td>NaN</td>\n",
              "      <td>NaN</td>\n",
              "      <td>NaN</td>\n",
              "      <td>NaN</td>\n",
              "      <td>NaN</td>\n",
              "      <td>NaN</td>\n",
              "      <td>NaN</td>\n",
              "      <td>NaN</td>\n",
              "      <td>NaN</td>\n",
              "      <td>NaN</td>\n",
              "      <td>NaN</td>\n",
              "      <td>NaN</td>\n",
              "      <td>NaN</td>\n",
              "      <td>NaN</td>\n",
              "      <td>NaN</td>\n",
              "      <td>NaN</td>\n",
              "      <td>X</td>\n",
              "      <td>NaN</td>\n",
              "    </tr>\n",
              "    <tr>\n",
              "      <th>3</th>\n",
              "      <td>4</td>\n",
              "      <td>Ignorado</td>\n",
              "      <td>Feminino</td>\n",
              "      <td>Maceió</td>\n",
              "      <td>Confirmado</td>\n",
              "      <td>Óbito</td>\n",
              "      <td>2020-04-16T03:00:00.000Z</td>\n",
              "      <td>2020-03-14T03:00:00.000Z</td>\n",
              "      <td>Swab nasofaringe + RT-PCR</td>\n",
              "      <td>69.0</td>\n",
              "      <td>2020-04-24T03:00:00.000Z</td>\n",
              "      <td>2020-04-26T03:00:00.000Z</td>\n",
              "      <td>NaN</td>\n",
              "      <td>NaN</td>\n",
              "      <td>NaN</td>\n",
              "      <td>NaN</td>\n",
              "      <td>NaN</td>\n",
              "      <td>NaN</td>\n",
              "      <td>NaN</td>\n",
              "      <td>NaN</td>\n",
              "      <td>NaN</td>\n",
              "      <td>NaN</td>\n",
              "      <td>NaN</td>\n",
              "      <td>NaN</td>\n",
              "      <td>NaN</td>\n",
              "      <td>NaN</td>\n",
              "      <td>NaN</td>\n",
              "      <td>NaN</td>\n",
              "      <td>NaN</td>\n",
              "      <td>NaN</td>\n",
              "      <td>NaN</td>\n",
              "      <td>NaN</td>\n",
              "      <td>NaN</td>\n",
              "      <td>NaN</td>\n",
              "      <td>NaN</td>\n",
              "      <td>NaN</td>\n",
              "      <td>NaN</td>\n",
              "      <td>NaN</td>\n",
              "      <td>NaN</td>\n",
              "      <td>NaN</td>\n",
              "      <td>NaN</td>\n",
              "      <td>NaN</td>\n",
              "      <td>NaN</td>\n",
              "      <td>NaN</td>\n",
              "      <td>NaN</td>\n",
              "    </tr>\n",
              "    <tr>\n",
              "      <th>4</th>\n",
              "      <td>5</td>\n",
              "      <td>Ignorado</td>\n",
              "      <td>Feminino</td>\n",
              "      <td>Rio de Janeiro</td>\n",
              "      <td>Confirmado</td>\n",
              "      <td>Encerramento do Isolamento Domiciliar</td>\n",
              "      <td>2020-03-23T03:00:00.000Z</td>\n",
              "      <td>2020-03-16T03:00:00.000Z</td>\n",
              "      <td>Swab nasofaringe + RT-PCR</td>\n",
              "      <td>61.0</td>\n",
              "      <td>NaN</td>\n",
              "      <td>NaN</td>\n",
              "      <td>NaN</td>\n",
              "      <td>NaN</td>\n",
              "      <td>NaN</td>\n",
              "      <td>X</td>\n",
              "      <td>NaN</td>\n",
              "      <td>NaN</td>\n",
              "      <td>NaN</td>\n",
              "      <td>NaN</td>\n",
              "      <td>X</td>\n",
              "      <td>NaN</td>\n",
              "      <td>NaN</td>\n",
              "      <td>NaN</td>\n",
              "      <td>NaN</td>\n",
              "      <td>NaN</td>\n",
              "      <td>NaN</td>\n",
              "      <td>NaN</td>\n",
              "      <td>NaN</td>\n",
              "      <td>NaN</td>\n",
              "      <td>NaN</td>\n",
              "      <td>NaN</td>\n",
              "      <td>NaN</td>\n",
              "      <td>NaN</td>\n",
              "      <td>NaN</td>\n",
              "      <td>NaN</td>\n",
              "      <td>NaN</td>\n",
              "      <td>NaN</td>\n",
              "      <td>NaN</td>\n",
              "      <td>NaN</td>\n",
              "      <td>NaN</td>\n",
              "      <td>NaN</td>\n",
              "      <td>NaN</td>\n",
              "      <td>NaN</td>\n",
              "      <td>NaN</td>\n",
              "    </tr>\n",
              "  </tbody>\n",
              "</table>\n",
              "</div>"
            ],
            "text/plain": [
              "   id     etnia       sexo  ... fator_nao_informado outros_fatores pneumopatia\n",
              "0   1  Ignorado  Masculino  ...                 NaN            NaN         NaN\n",
              "1   2  Ignorado  Masculino  ...                 NaN            NaN         NaN\n",
              "2   3  Ignorado   Feminino  ...                 NaN              X         NaN\n",
              "3   4  Ignorado   Feminino  ...                 NaN            NaN         NaN\n",
              "4   5  Ignorado   Feminino  ...                 NaN            NaN         NaN\n",
              "\n",
              "[5 rows x 45 columns]"
            ]
          },
          "metadata": {
            "tags": []
          },
          "execution_count": 52
        }
      ]
    },
    {
      "cell_type": "markdown",
      "metadata": {
        "id": "AGpVwtDFhbLY"
      },
      "source": [
        "**Exercício 3.1** Selecione um subconjunto do dataset contendo apenas o indivíduo de `id` 54825, seu munincípio de residência e sua situação atual.\n",
        "\n",
        "Saída esperada:\n",
        "\n",
        "![](https://i.imgur.com/9SICkCg.png)"
      ]
    },
    {
      "cell_type": "code",
      "metadata": {
        "id": "qWh-AQuWox9I",
        "outputId": "71ac7e47-c681-4d5c-f36b-01c1999bf50c",
        "colab": {
          "base_uri": "https://localhost:8080/",
          "height": 77
        }
      },
      "source": [
        "col =['id','municipio_residencia','situacao_atual']\n",
        "\n",
        "lin = df_covid.loc[df_covid['id']==54825]\n",
        "\n",
        "lin[col]"
      ],
      "execution_count": null,
      "outputs": [
        {
          "output_type": "execute_result",
          "data": {
            "text/html": [
              "<div>\n",
              "<style scoped>\n",
              "    .dataframe tbody tr th:only-of-type {\n",
              "        vertical-align: middle;\n",
              "    }\n",
              "\n",
              "    .dataframe tbody tr th {\n",
              "        vertical-align: top;\n",
              "    }\n",
              "\n",
              "    .dataframe thead th {\n",
              "        text-align: right;\n",
              "    }\n",
              "</style>\n",
              "<table border=\"1\" class=\"dataframe\">\n",
              "  <thead>\n",
              "    <tr style=\"text-align: right;\">\n",
              "      <th></th>\n",
              "      <th>id</th>\n",
              "      <th>municipio_residencia</th>\n",
              "      <th>situacao_atual</th>\n",
              "    </tr>\n",
              "  </thead>\n",
              "  <tbody>\n",
              "    <tr>\n",
              "      <th>52230</th>\n",
              "      <td>54825</td>\n",
              "      <td>Florianópolis</td>\n",
              "      <td>Isolamento Domiciliar</td>\n",
              "    </tr>\n",
              "  </tbody>\n",
              "</table>\n",
              "</div>"
            ],
            "text/plain": [
              "          id municipio_residencia         situacao_atual\n",
              "52230  54825        Florianópolis  Isolamento Domiciliar"
            ]
          },
          "metadata": {
            "tags": []
          },
          "execution_count": 63
        }
      ]
    },
    {
      "cell_type": "markdown",
      "metadata": {
        "id": "RhR4eUOAokDo"
      },
      "source": [
        "**Exercício 3.2** Quantos anos tem o indivíduo de índice 56518?\n",
        "\n",
        "Saída esperada: -2958 "
      ]
    },
    {
      "cell_type": "code",
      "metadata": {
        "id": "hufkdI8ItwcV",
        "outputId": "5d1ca484-ec46-41f0-eef5-e5d225390fc3",
        "colab": {
          "base_uri": "https://localhost:8080/",
          "height": 52
        }
      },
      "source": [
        "col = ['idade']\n",
        "\n",
        "lin = df_covid.loc[56518]\n",
        "\n",
        "lin[col]"
      ],
      "execution_count": null,
      "outputs": [
        {
          "output_type": "execute_result",
          "data": {
            "text/plain": [
              "idade   -2958\n",
              "Name: 56518, dtype: object"
            ]
          },
          "metadata": {
            "tags": []
          },
          "execution_count": 68
        }
      ]
    },
    {
      "cell_type": "markdown",
      "metadata": {
        "id": "rLEkzHPunVsV"
      },
      "source": [
        "**Exercício 3.3** Todo o dataset está sujeito a possibilidade de conter erros. No caso acima, temos um valor absurdo para a variável `idade`. Como retornar apenas os exemplos onde a idade é positiva?"
      ]
    },
    {
      "cell_type": "code",
      "metadata": {
        "id": "dIe0V35nnKqA",
        "outputId": "3fe4ed3b-d62b-47a4-c391-47f4a9f095f1",
        "colab": {
          "base_uri": "https://localhost:8080/",
          "height": 676
        }
      },
      "source": [
        "#Criando uma condição de filtro para os valores de idade maiores que zero\n",
        "cond_idade = df_covid.loc[df_covid['idade']>0]\n",
        "\n",
        "cond_idade"
      ],
      "execution_count": null,
      "outputs": [
        {
          "output_type": "execute_result",
          "data": {
            "text/html": [
              "<div>\n",
              "<style scoped>\n",
              "    .dataframe tbody tr th:only-of-type {\n",
              "        vertical-align: middle;\n",
              "    }\n",
              "\n",
              "    .dataframe tbody tr th {\n",
              "        vertical-align: top;\n",
              "    }\n",
              "\n",
              "    .dataframe thead th {\n",
              "        text-align: right;\n",
              "    }\n",
              "</style>\n",
              "<table border=\"1\" class=\"dataframe\">\n",
              "  <thead>\n",
              "    <tr style=\"text-align: right;\">\n",
              "      <th></th>\n",
              "      <th>id</th>\n",
              "      <th>etnia</th>\n",
              "      <th>sexo</th>\n",
              "      <th>municipio_residencia</th>\n",
              "      <th>classificacao</th>\n",
              "      <th>situacao_atual</th>\n",
              "      <th>data_resultado_exame</th>\n",
              "      <th>data_atendimento</th>\n",
              "      <th>tipo_coleta</th>\n",
              "      <th>idade</th>\n",
              "      <th>data_obito</th>\n",
              "      <th>data_confirmacao_obito</th>\n",
              "      <th>ausegia</th>\n",
              "      <th>anosmia</th>\n",
              "      <th>febre</th>\n",
              "      <th>tosse</th>\n",
              "      <th>cefaleia</th>\n",
              "      <th>dificuldade_respiratoria</th>\n",
              "      <th>dispineia</th>\n",
              "      <th>mialgia</th>\n",
              "      <th>saturacao_menor_noventa_cinco</th>\n",
              "      <th>adinofagia</th>\n",
              "      <th>diarreia</th>\n",
              "      <th>adinamia</th>\n",
              "      <th>nausea_vomito</th>\n",
              "      <th>coriza</th>\n",
              "      <th>congestao_nasal</th>\n",
              "      <th>calafrio</th>\n",
              "      <th>nao_informado</th>\n",
              "      <th>outros</th>\n",
              "      <th>doenca_cardiovascular</th>\n",
              "      <th>diabetes</th>\n",
              "      <th>doenca_respiratoria_cronica</th>\n",
              "      <th>hipertensao</th>\n",
              "      <th>paciente_oncologico</th>\n",
              "      <th>idoso</th>\n",
              "      <th>profissional_saude</th>\n",
              "      <th>obesidade</th>\n",
              "      <th>doenca_renal_cronica</th>\n",
              "      <th>doenca_auto_imune</th>\n",
              "      <th>asma</th>\n",
              "      <th>sem_comorbidade</th>\n",
              "      <th>fator_nao_informado</th>\n",
              "      <th>outros_fatores</th>\n",
              "      <th>pneumopatia</th>\n",
              "    </tr>\n",
              "  </thead>\n",
              "  <tbody>\n",
              "    <tr>\n",
              "      <th>0</th>\n",
              "      <td>1</td>\n",
              "      <td>Ignorado</td>\n",
              "      <td>Masculino</td>\n",
              "      <td>Maceió</td>\n",
              "      <td>Confirmado</td>\n",
              "      <td>Encerramento do Isolamento Domiciliar</td>\n",
              "      <td>2020-03-08T03:00:00.000Z</td>\n",
              "      <td>2020-03-04T03:00:00.000Z</td>\n",
              "      <td>Swab nasofaringe + RT-PCR</td>\n",
              "      <td>43.0</td>\n",
              "      <td>NaN</td>\n",
              "      <td>NaN</td>\n",
              "      <td>NaN</td>\n",
              "      <td>NaN</td>\n",
              "      <td>X</td>\n",
              "      <td>X</td>\n",
              "      <td>NaN</td>\n",
              "      <td>NaN</td>\n",
              "      <td>NaN</td>\n",
              "      <td>NaN</td>\n",
              "      <td>X</td>\n",
              "      <td>NaN</td>\n",
              "      <td>NaN</td>\n",
              "      <td>NaN</td>\n",
              "      <td>NaN</td>\n",
              "      <td>NaN</td>\n",
              "      <td>NaN</td>\n",
              "      <td>NaN</td>\n",
              "      <td>NaN</td>\n",
              "      <td>NaN</td>\n",
              "      <td>NaN</td>\n",
              "      <td>NaN</td>\n",
              "      <td>NaN</td>\n",
              "      <td>NaN</td>\n",
              "      <td>NaN</td>\n",
              "      <td>NaN</td>\n",
              "      <td>NaN</td>\n",
              "      <td>NaN</td>\n",
              "      <td>NaN</td>\n",
              "      <td>NaN</td>\n",
              "      <td>NaN</td>\n",
              "      <td>NaN</td>\n",
              "      <td>NaN</td>\n",
              "      <td>NaN</td>\n",
              "      <td>NaN</td>\n",
              "    </tr>\n",
              "    <tr>\n",
              "      <th>1</th>\n",
              "      <td>2</td>\n",
              "      <td>Ignorado</td>\n",
              "      <td>Masculino</td>\n",
              "      <td>Maceió</td>\n",
              "      <td>Confirmado</td>\n",
              "      <td>Encerramento do Isolamento Domiciliar</td>\n",
              "      <td>2020-03-18T03:00:00.000Z</td>\n",
              "      <td>2020-03-14T03:00:00.000Z</td>\n",
              "      <td>Swab nasofaringe + RT-PCR</td>\n",
              "      <td>21.0</td>\n",
              "      <td>NaN</td>\n",
              "      <td>NaN</td>\n",
              "      <td>NaN</td>\n",
              "      <td>NaN</td>\n",
              "      <td>X</td>\n",
              "      <td>X</td>\n",
              "      <td>X</td>\n",
              "      <td>NaN</td>\n",
              "      <td>NaN</td>\n",
              "      <td>NaN</td>\n",
              "      <td>NaN</td>\n",
              "      <td>NaN</td>\n",
              "      <td>NaN</td>\n",
              "      <td>NaN</td>\n",
              "      <td>NaN</td>\n",
              "      <td>NaN</td>\n",
              "      <td>NaN</td>\n",
              "      <td>NaN</td>\n",
              "      <td>NaN</td>\n",
              "      <td>NaN</td>\n",
              "      <td>NaN</td>\n",
              "      <td>NaN</td>\n",
              "      <td>NaN</td>\n",
              "      <td>NaN</td>\n",
              "      <td>NaN</td>\n",
              "      <td>NaN</td>\n",
              "      <td>NaN</td>\n",
              "      <td>NaN</td>\n",
              "      <td>NaN</td>\n",
              "      <td>NaN</td>\n",
              "      <td>NaN</td>\n",
              "      <td>NaN</td>\n",
              "      <td>NaN</td>\n",
              "      <td>NaN</td>\n",
              "      <td>NaN</td>\n",
              "    </tr>\n",
              "    <tr>\n",
              "      <th>2</th>\n",
              "      <td>3</td>\n",
              "      <td>Ignorado</td>\n",
              "      <td>Feminino</td>\n",
              "      <td>Maceió</td>\n",
              "      <td>Confirmado</td>\n",
              "      <td>Encerramento do Isolamento Domiciliar</td>\n",
              "      <td>2020-03-18T03:00:00.000Z</td>\n",
              "      <td>2020-03-14T03:00:00.000Z</td>\n",
              "      <td>Swab nasofaringe + RT-PCR</td>\n",
              "      <td>25.0</td>\n",
              "      <td>NaN</td>\n",
              "      <td>NaN</td>\n",
              "      <td>NaN</td>\n",
              "      <td>NaN</td>\n",
              "      <td>X</td>\n",
              "      <td>X</td>\n",
              "      <td>NaN</td>\n",
              "      <td>NaN</td>\n",
              "      <td>NaN</td>\n",
              "      <td>NaN</td>\n",
              "      <td>X</td>\n",
              "      <td>NaN</td>\n",
              "      <td>NaN</td>\n",
              "      <td>NaN</td>\n",
              "      <td>NaN</td>\n",
              "      <td>NaN</td>\n",
              "      <td>NaN</td>\n",
              "      <td>NaN</td>\n",
              "      <td>NaN</td>\n",
              "      <td>NaN</td>\n",
              "      <td>NaN</td>\n",
              "      <td>NaN</td>\n",
              "      <td>NaN</td>\n",
              "      <td>NaN</td>\n",
              "      <td>NaN</td>\n",
              "      <td>NaN</td>\n",
              "      <td>NaN</td>\n",
              "      <td>NaN</td>\n",
              "      <td>NaN</td>\n",
              "      <td>NaN</td>\n",
              "      <td>NaN</td>\n",
              "      <td>NaN</td>\n",
              "      <td>NaN</td>\n",
              "      <td>X</td>\n",
              "      <td>NaN</td>\n",
              "    </tr>\n",
              "    <tr>\n",
              "      <th>3</th>\n",
              "      <td>4</td>\n",
              "      <td>Ignorado</td>\n",
              "      <td>Feminino</td>\n",
              "      <td>Maceió</td>\n",
              "      <td>Confirmado</td>\n",
              "      <td>Óbito</td>\n",
              "      <td>2020-04-16T03:00:00.000Z</td>\n",
              "      <td>2020-03-14T03:00:00.000Z</td>\n",
              "      <td>Swab nasofaringe + RT-PCR</td>\n",
              "      <td>69.0</td>\n",
              "      <td>2020-04-24T03:00:00.000Z</td>\n",
              "      <td>2020-04-26T03:00:00.000Z</td>\n",
              "      <td>NaN</td>\n",
              "      <td>NaN</td>\n",
              "      <td>NaN</td>\n",
              "      <td>NaN</td>\n",
              "      <td>NaN</td>\n",
              "      <td>NaN</td>\n",
              "      <td>NaN</td>\n",
              "      <td>NaN</td>\n",
              "      <td>NaN</td>\n",
              "      <td>NaN</td>\n",
              "      <td>NaN</td>\n",
              "      <td>NaN</td>\n",
              "      <td>NaN</td>\n",
              "      <td>NaN</td>\n",
              "      <td>NaN</td>\n",
              "      <td>NaN</td>\n",
              "      <td>NaN</td>\n",
              "      <td>NaN</td>\n",
              "      <td>NaN</td>\n",
              "      <td>NaN</td>\n",
              "      <td>NaN</td>\n",
              "      <td>NaN</td>\n",
              "      <td>NaN</td>\n",
              "      <td>NaN</td>\n",
              "      <td>NaN</td>\n",
              "      <td>NaN</td>\n",
              "      <td>NaN</td>\n",
              "      <td>NaN</td>\n",
              "      <td>NaN</td>\n",
              "      <td>NaN</td>\n",
              "      <td>NaN</td>\n",
              "      <td>NaN</td>\n",
              "      <td>NaN</td>\n",
              "    </tr>\n",
              "    <tr>\n",
              "      <th>4</th>\n",
              "      <td>5</td>\n",
              "      <td>Ignorado</td>\n",
              "      <td>Feminino</td>\n",
              "      <td>Rio de Janeiro</td>\n",
              "      <td>Confirmado</td>\n",
              "      <td>Encerramento do Isolamento Domiciliar</td>\n",
              "      <td>2020-03-23T03:00:00.000Z</td>\n",
              "      <td>2020-03-16T03:00:00.000Z</td>\n",
              "      <td>Swab nasofaringe + RT-PCR</td>\n",
              "      <td>61.0</td>\n",
              "      <td>NaN</td>\n",
              "      <td>NaN</td>\n",
              "      <td>NaN</td>\n",
              "      <td>NaN</td>\n",
              "      <td>NaN</td>\n",
              "      <td>X</td>\n",
              "      <td>NaN</td>\n",
              "      <td>NaN</td>\n",
              "      <td>NaN</td>\n",
              "      <td>NaN</td>\n",
              "      <td>X</td>\n",
              "      <td>NaN</td>\n",
              "      <td>NaN</td>\n",
              "      <td>NaN</td>\n",
              "      <td>NaN</td>\n",
              "      <td>NaN</td>\n",
              "      <td>NaN</td>\n",
              "      <td>NaN</td>\n",
              "      <td>NaN</td>\n",
              "      <td>NaN</td>\n",
              "      <td>NaN</td>\n",
              "      <td>NaN</td>\n",
              "      <td>NaN</td>\n",
              "      <td>NaN</td>\n",
              "      <td>NaN</td>\n",
              "      <td>NaN</td>\n",
              "      <td>NaN</td>\n",
              "      <td>NaN</td>\n",
              "      <td>NaN</td>\n",
              "      <td>NaN</td>\n",
              "      <td>NaN</td>\n",
              "      <td>NaN</td>\n",
              "      <td>NaN</td>\n",
              "      <td>NaN</td>\n",
              "      <td>NaN</td>\n",
              "    </tr>\n",
              "    <tr>\n",
              "      <th>...</th>\n",
              "      <td>...</td>\n",
              "      <td>...</td>\n",
              "      <td>...</td>\n",
              "      <td>...</td>\n",
              "      <td>...</td>\n",
              "      <td>...</td>\n",
              "      <td>...</td>\n",
              "      <td>...</td>\n",
              "      <td>...</td>\n",
              "      <td>...</td>\n",
              "      <td>...</td>\n",
              "      <td>...</td>\n",
              "      <td>...</td>\n",
              "      <td>...</td>\n",
              "      <td>...</td>\n",
              "      <td>...</td>\n",
              "      <td>...</td>\n",
              "      <td>...</td>\n",
              "      <td>...</td>\n",
              "      <td>...</td>\n",
              "      <td>...</td>\n",
              "      <td>...</td>\n",
              "      <td>...</td>\n",
              "      <td>...</td>\n",
              "      <td>...</td>\n",
              "      <td>...</td>\n",
              "      <td>...</td>\n",
              "      <td>...</td>\n",
              "      <td>...</td>\n",
              "      <td>...</td>\n",
              "      <td>...</td>\n",
              "      <td>...</td>\n",
              "      <td>...</td>\n",
              "      <td>...</td>\n",
              "      <td>...</td>\n",
              "      <td>...</td>\n",
              "      <td>...</td>\n",
              "      <td>...</td>\n",
              "      <td>...</td>\n",
              "      <td>...</td>\n",
              "      <td>...</td>\n",
              "      <td>...</td>\n",
              "      <td>...</td>\n",
              "      <td>...</td>\n",
              "      <td>...</td>\n",
              "    </tr>\n",
              "    <tr>\n",
              "      <th>64093</th>\n",
              "      <td>66992</td>\n",
              "      <td>Branca</td>\n",
              "      <td>Feminino</td>\n",
              "      <td>Arapiraca</td>\n",
              "      <td>Confirmado</td>\n",
              "      <td>Isolamento Domiciliar</td>\n",
              "      <td>2020-07-01T03:00:00.000Z</td>\n",
              "      <td>2020-07-01T03:00:00.000Z</td>\n",
              "      <td>Teste Rápido</td>\n",
              "      <td>30.0</td>\n",
              "      <td>NaN</td>\n",
              "      <td>NaN</td>\n",
              "      <td>NaN</td>\n",
              "      <td>NaN</td>\n",
              "      <td>NaN</td>\n",
              "      <td>X</td>\n",
              "      <td>NaN</td>\n",
              "      <td>X</td>\n",
              "      <td>NaN</td>\n",
              "      <td>NaN</td>\n",
              "      <td>NaN</td>\n",
              "      <td>NaN</td>\n",
              "      <td>NaN</td>\n",
              "      <td>X</td>\n",
              "      <td>NaN</td>\n",
              "      <td>NaN</td>\n",
              "      <td>NaN</td>\n",
              "      <td>NaN</td>\n",
              "      <td>X</td>\n",
              "      <td>NaN</td>\n",
              "      <td>NaN</td>\n",
              "      <td>NaN</td>\n",
              "      <td>NaN</td>\n",
              "      <td>NaN</td>\n",
              "      <td>NaN</td>\n",
              "      <td>NaN</td>\n",
              "      <td>NaN</td>\n",
              "      <td>NaN</td>\n",
              "      <td>NaN</td>\n",
              "      <td>NaN</td>\n",
              "      <td>NaN</td>\n",
              "      <td>NaN</td>\n",
              "      <td>NaN</td>\n",
              "      <td>NaN</td>\n",
              "      <td>NaN</td>\n",
              "    </tr>\n",
              "    <tr>\n",
              "      <th>64094</th>\n",
              "      <td>66993</td>\n",
              "      <td>Parda</td>\n",
              "      <td>Feminino</td>\n",
              "      <td>Arapiraca</td>\n",
              "      <td>Confirmado</td>\n",
              "      <td>Isolamento Domiciliar</td>\n",
              "      <td>2020-07-09T03:00:00.000Z</td>\n",
              "      <td>2020-07-09T03:00:00.000Z</td>\n",
              "      <td>Teste Rápido</td>\n",
              "      <td>38.0</td>\n",
              "      <td>NaN</td>\n",
              "      <td>NaN</td>\n",
              "      <td>NaN</td>\n",
              "      <td>NaN</td>\n",
              "      <td>NaN</td>\n",
              "      <td>NaN</td>\n",
              "      <td>X</td>\n",
              "      <td>NaN</td>\n",
              "      <td>NaN</td>\n",
              "      <td>NaN</td>\n",
              "      <td>NaN</td>\n",
              "      <td>NaN</td>\n",
              "      <td>NaN</td>\n",
              "      <td>NaN</td>\n",
              "      <td>NaN</td>\n",
              "      <td>NaN</td>\n",
              "      <td>NaN</td>\n",
              "      <td>NaN</td>\n",
              "      <td>X</td>\n",
              "      <td>NaN</td>\n",
              "      <td>NaN</td>\n",
              "      <td>NaN</td>\n",
              "      <td>NaN</td>\n",
              "      <td>NaN</td>\n",
              "      <td>NaN</td>\n",
              "      <td>NaN</td>\n",
              "      <td>NaN</td>\n",
              "      <td>NaN</td>\n",
              "      <td>NaN</td>\n",
              "      <td>NaN</td>\n",
              "      <td>X</td>\n",
              "      <td>NaN</td>\n",
              "      <td>NaN</td>\n",
              "      <td>NaN</td>\n",
              "      <td>NaN</td>\n",
              "    </tr>\n",
              "    <tr>\n",
              "      <th>64095</th>\n",
              "      <td>66994</td>\n",
              "      <td>Parda</td>\n",
              "      <td>Feminino</td>\n",
              "      <td>Arapiraca</td>\n",
              "      <td>Confirmado</td>\n",
              "      <td>Isolamento Domiciliar</td>\n",
              "      <td>2020-07-02T03:00:00.000Z</td>\n",
              "      <td>2020-07-02T03:00:00.000Z</td>\n",
              "      <td>Teste Rápido</td>\n",
              "      <td>25.0</td>\n",
              "      <td>NaN</td>\n",
              "      <td>NaN</td>\n",
              "      <td>NaN</td>\n",
              "      <td>NaN</td>\n",
              "      <td>X</td>\n",
              "      <td>NaN</td>\n",
              "      <td>X</td>\n",
              "      <td>NaN</td>\n",
              "      <td>NaN</td>\n",
              "      <td>NaN</td>\n",
              "      <td>NaN</td>\n",
              "      <td>NaN</td>\n",
              "      <td>NaN</td>\n",
              "      <td>NaN</td>\n",
              "      <td>NaN</td>\n",
              "      <td>NaN</td>\n",
              "      <td>NaN</td>\n",
              "      <td>NaN</td>\n",
              "      <td>NaN</td>\n",
              "      <td>NaN</td>\n",
              "      <td>NaN</td>\n",
              "      <td>NaN</td>\n",
              "      <td>NaN</td>\n",
              "      <td>NaN</td>\n",
              "      <td>NaN</td>\n",
              "      <td>NaN</td>\n",
              "      <td>NaN</td>\n",
              "      <td>NaN</td>\n",
              "      <td>NaN</td>\n",
              "      <td>NaN</td>\n",
              "      <td>X</td>\n",
              "      <td>NaN</td>\n",
              "      <td>NaN</td>\n",
              "      <td>NaN</td>\n",
              "      <td>NaN</td>\n",
              "    </tr>\n",
              "    <tr>\n",
              "      <th>64096</th>\n",
              "      <td>66995</td>\n",
              "      <td>Parda</td>\n",
              "      <td>Feminino</td>\n",
              "      <td>Arapiraca</td>\n",
              "      <td>Confirmado</td>\n",
              "      <td>Isolamento Domiciliar</td>\n",
              "      <td>2020-07-03T03:00:00.000Z</td>\n",
              "      <td>2020-07-03T03:00:00.000Z</td>\n",
              "      <td>Teste Rápido</td>\n",
              "      <td>34.0</td>\n",
              "      <td>NaN</td>\n",
              "      <td>NaN</td>\n",
              "      <td>NaN</td>\n",
              "      <td>NaN</td>\n",
              "      <td>NaN</td>\n",
              "      <td>NaN</td>\n",
              "      <td>X</td>\n",
              "      <td>NaN</td>\n",
              "      <td>NaN</td>\n",
              "      <td>NaN</td>\n",
              "      <td>NaN</td>\n",
              "      <td>X</td>\n",
              "      <td>NaN</td>\n",
              "      <td>X</td>\n",
              "      <td>NaN</td>\n",
              "      <td>NaN</td>\n",
              "      <td>NaN</td>\n",
              "      <td>NaN</td>\n",
              "      <td>X</td>\n",
              "      <td>NaN</td>\n",
              "      <td>NaN</td>\n",
              "      <td>NaN</td>\n",
              "      <td>NaN</td>\n",
              "      <td>NaN</td>\n",
              "      <td>NaN</td>\n",
              "      <td>NaN</td>\n",
              "      <td>NaN</td>\n",
              "      <td>NaN</td>\n",
              "      <td>NaN</td>\n",
              "      <td>NaN</td>\n",
              "      <td>NaN</td>\n",
              "      <td>NaN</td>\n",
              "      <td>NaN</td>\n",
              "      <td>NaN</td>\n",
              "      <td>NaN</td>\n",
              "    </tr>\n",
              "    <tr>\n",
              "      <th>64097</th>\n",
              "      <td>66996</td>\n",
              "      <td>Parda</td>\n",
              "      <td>Feminino</td>\n",
              "      <td>Arapiraca</td>\n",
              "      <td>Confirmado</td>\n",
              "      <td>Isolamento Domiciliar</td>\n",
              "      <td>2020-07-09T03:00:00.000Z</td>\n",
              "      <td>2020-07-09T03:00:00.000Z</td>\n",
              "      <td>Teste Rápido</td>\n",
              "      <td>30.0</td>\n",
              "      <td>NaN</td>\n",
              "      <td>NaN</td>\n",
              "      <td>NaN</td>\n",
              "      <td>NaN</td>\n",
              "      <td>NaN</td>\n",
              "      <td>X</td>\n",
              "      <td>X</td>\n",
              "      <td>NaN</td>\n",
              "      <td>NaN</td>\n",
              "      <td>NaN</td>\n",
              "      <td>NaN</td>\n",
              "      <td>X</td>\n",
              "      <td>NaN</td>\n",
              "      <td>X</td>\n",
              "      <td>NaN</td>\n",
              "      <td>NaN</td>\n",
              "      <td>NaN</td>\n",
              "      <td>NaN</td>\n",
              "      <td>X</td>\n",
              "      <td>NaN</td>\n",
              "      <td>NaN</td>\n",
              "      <td>NaN</td>\n",
              "      <td>NaN</td>\n",
              "      <td>NaN</td>\n",
              "      <td>NaN</td>\n",
              "      <td>NaN</td>\n",
              "      <td>NaN</td>\n",
              "      <td>NaN</td>\n",
              "      <td>NaN</td>\n",
              "      <td>NaN</td>\n",
              "      <td>NaN</td>\n",
              "      <td>NaN</td>\n",
              "      <td>NaN</td>\n",
              "      <td>NaN</td>\n",
              "      <td>NaN</td>\n",
              "    </tr>\n",
              "  </tbody>\n",
              "</table>\n",
              "<p>63909 rows × 45 columns</p>\n",
              "</div>"
            ],
            "text/plain": [
              "          id     etnia  ... outros_fatores pneumopatia\n",
              "0          1  Ignorado  ...            NaN         NaN\n",
              "1          2  Ignorado  ...            NaN         NaN\n",
              "2          3  Ignorado  ...              X         NaN\n",
              "3          4  Ignorado  ...            NaN         NaN\n",
              "4          5  Ignorado  ...            NaN         NaN\n",
              "...      ...       ...  ...            ...         ...\n",
              "64093  66992    Branca  ...            NaN         NaN\n",
              "64094  66993     Parda  ...            NaN         NaN\n",
              "64095  66994     Parda  ...            NaN         NaN\n",
              "64096  66995     Parda  ...            NaN         NaN\n",
              "64097  66996     Parda  ...            NaN         NaN\n",
              "\n",
              "[63909 rows x 45 columns]"
            ]
          },
          "metadata": {
            "tags": []
          },
          "execution_count": 66
        }
      ]
    },
    {
      "cell_type": "code",
      "metadata": {
        "id": "jpYxUlrn9Q3R",
        "outputId": "d2a8304a-132f-409f-dd6d-08f1f6a059e3",
        "colab": {
          "base_uri": "https://localhost:8080/",
          "height": 67
        }
      },
      "source": [
        "\"\"\"Para confirmar a resposta anterior, pediremos para retornar, em cima da condição criada, a parte que não queremos (idade negativa), \n",
        "esperando um retorno nulo.\"\"\"\n",
        "\n",
        "cond_neg = cond_idade.loc[df_covid['idade']<0]\n",
        "cond_neg"
      ],
      "execution_count": null,
      "outputs": [
        {
          "output_type": "execute_result",
          "data": {
            "text/html": [
              "<div>\n",
              "<style scoped>\n",
              "    .dataframe tbody tr th:only-of-type {\n",
              "        vertical-align: middle;\n",
              "    }\n",
              "\n",
              "    .dataframe tbody tr th {\n",
              "        vertical-align: top;\n",
              "    }\n",
              "\n",
              "    .dataframe thead th {\n",
              "        text-align: right;\n",
              "    }\n",
              "</style>\n",
              "<table border=\"1\" class=\"dataframe\">\n",
              "  <thead>\n",
              "    <tr style=\"text-align: right;\">\n",
              "      <th></th>\n",
              "      <th>id</th>\n",
              "      <th>etnia</th>\n",
              "      <th>sexo</th>\n",
              "      <th>municipio_residencia</th>\n",
              "      <th>classificacao</th>\n",
              "      <th>situacao_atual</th>\n",
              "      <th>data_resultado_exame</th>\n",
              "      <th>data_atendimento</th>\n",
              "      <th>tipo_coleta</th>\n",
              "      <th>idade</th>\n",
              "      <th>data_obito</th>\n",
              "      <th>data_confirmacao_obito</th>\n",
              "      <th>ausegia</th>\n",
              "      <th>anosmia</th>\n",
              "      <th>febre</th>\n",
              "      <th>tosse</th>\n",
              "      <th>cefaleia</th>\n",
              "      <th>dificuldade_respiratoria</th>\n",
              "      <th>dispineia</th>\n",
              "      <th>mialgia</th>\n",
              "      <th>saturacao_menor_noventa_cinco</th>\n",
              "      <th>adinofagia</th>\n",
              "      <th>diarreia</th>\n",
              "      <th>adinamia</th>\n",
              "      <th>nausea_vomito</th>\n",
              "      <th>coriza</th>\n",
              "      <th>congestao_nasal</th>\n",
              "      <th>calafrio</th>\n",
              "      <th>nao_informado</th>\n",
              "      <th>outros</th>\n",
              "      <th>doenca_cardiovascular</th>\n",
              "      <th>diabetes</th>\n",
              "      <th>doenca_respiratoria_cronica</th>\n",
              "      <th>hipertensao</th>\n",
              "      <th>paciente_oncologico</th>\n",
              "      <th>idoso</th>\n",
              "      <th>profissional_saude</th>\n",
              "      <th>obesidade</th>\n",
              "      <th>doenca_renal_cronica</th>\n",
              "      <th>doenca_auto_imune</th>\n",
              "      <th>asma</th>\n",
              "      <th>sem_comorbidade</th>\n",
              "      <th>fator_nao_informado</th>\n",
              "      <th>outros_fatores</th>\n",
              "      <th>pneumopatia</th>\n",
              "    </tr>\n",
              "  </thead>\n",
              "  <tbody>\n",
              "  </tbody>\n",
              "</table>\n",
              "</div>"
            ],
            "text/plain": [
              "Empty DataFrame\n",
              "Columns: [id, etnia, sexo, municipio_residencia, classificacao, situacao_atual, data_resultado_exame, data_atendimento, tipo_coleta, idade, data_obito, data_confirmacao_obito, ausegia, anosmia, febre, tosse, cefaleia, dificuldade_respiratoria, dispineia, mialgia, saturacao_menor_noventa_cinco, adinofagia, diarreia, adinamia, nausea_vomito, coriza, congestao_nasal, calafrio, nao_informado, outros, doenca_cardiovascular, diabetes, doenca_respiratoria_cronica, hipertensao, paciente_oncologico, idoso, profissional_saude, obesidade, doenca_renal_cronica, doenca_auto_imune, asma, sem_comorbidade, fator_nao_informado, outros_fatores, pneumopatia]\n",
              "Index: []"
            ]
          },
          "metadata": {
            "tags": []
          },
          "execution_count": 67
        }
      ]
    },
    {
      "cell_type": "markdown",
      "metadata": {
        "id": "iL8UfvMAsnxD"
      },
      "source": [
        "# **Semana 4**"
      ]
    },
    {
      "cell_type": "markdown",
      "metadata": {
        "id": "NO9l0XBPsrkK"
      },
      "source": [
        "## **Funcionalidades Básicas - Continuação**"
      ]
    },
    {
      "cell_type": "markdown",
      "metadata": {
        "id": "Gj46JPYgswd8"
      },
      "source": [
        "### **Aritmética no pandas**"
      ]
    },
    {
      "cell_type": "markdown",
      "metadata": {
        "id": "IZz2R2AF5I54"
      },
      "source": [
        "No pandas, operações aritmética são baseadas nos índices ou em colunas."
      ]
    },
    {
      "cell_type": "code",
      "metadata": {
        "id": "dtYS2FL0B90C",
        "outputId": "2a6560b3-e82d-4ed6-adeb-c530b3d619b3",
        "colab": {
          "base_uri": "https://localhost:8080/",
          "height": 170
        }
      },
      "source": [
        "series_1 = pd.Series([1,2,3],index=['a','b','e'],name='series_1')\n",
        "series_2 = pd.Series([4,5,6,7],index=['a','b','c','d'],name='series_2')\n",
        "\n",
        "print(series_1)\n",
        "series_2"
      ],
      "execution_count": null,
      "outputs": [
        {
          "output_type": "stream",
          "text": [
            "a    1\n",
            "b    2\n",
            "e    3\n",
            "Name: series_1, dtype: int64\n"
          ],
          "name": "stdout"
        },
        {
          "output_type": "execute_result",
          "data": {
            "text/plain": [
              "a    4\n",
              "b    5\n",
              "c    6\n",
              "d    7\n",
              "Name: series_2, dtype: int64"
            ]
          },
          "metadata": {
            "tags": []
          },
          "execution_count": 4
        }
      ]
    },
    {
      "cell_type": "code",
      "metadata": {
        "id": "jf-oi44WDGin",
        "outputId": "8adb5ea4-2e1a-43d2-9e34-d04d2bb94983",
        "colab": {
          "base_uri": "https://localhost:8080/",
          "height": 119
        }
      },
      "source": [
        "series_1 + series_2"
      ],
      "execution_count": null,
      "outputs": [
        {
          "output_type": "execute_result",
          "data": {
            "text/plain": [
              "a    5.0\n",
              "b    7.0\n",
              "c    NaN\n",
              "d    NaN\n",
              "e    NaN\n",
              "dtype: float64"
            ]
          },
          "metadata": {
            "tags": []
          },
          "execution_count": 5
        }
      ]
    },
    {
      "cell_type": "markdown",
      "metadata": {
        "id": "g7rPj6PBDtU7"
      },
      "source": [
        "Note que `series_1['a']` foi somada a `series_2['a']`, `series_1['b']` foi somada a `series_2['b']` e assim sucessivamente. No caso de um dos índices não pertencer a alguma das series na operação, o resultado é o valor nulo \"NaN\".\n",
        "\n",
        "As outras operações funcionam de forma análoga."
      ]
    },
    {
      "cell_type": "code",
      "metadata": {
        "id": "d5A8RQWQDMrs",
        "outputId": "451c2c39-ab27-4604-f8c3-45562cd19025",
        "colab": {
          "base_uri": "https://localhost:8080/",
          "height": 119
        }
      },
      "source": [
        "series_1 * series_2"
      ],
      "execution_count": null,
      "outputs": [
        {
          "output_type": "execute_result",
          "data": {
            "text/plain": [
              "a     4.0\n",
              "b    10.0\n",
              "c     NaN\n",
              "d     NaN\n",
              "e     NaN\n",
              "dtype: float64"
            ]
          },
          "metadata": {
            "tags": []
          },
          "execution_count": 6
        }
      ]
    },
    {
      "cell_type": "code",
      "metadata": {
        "id": "NsWnudhhvfA0",
        "outputId": "a99463c0-4bfd-4069-cb1e-daa3f0c6eb49",
        "colab": {
          "base_uri": "https://localhost:8080/",
          "height": 119
        }
      },
      "source": [
        "series_1 - series_2"
      ],
      "execution_count": null,
      "outputs": [
        {
          "output_type": "execute_result",
          "data": {
            "text/plain": [
              "a   -3.0\n",
              "b   -3.0\n",
              "c    NaN\n",
              "d    NaN\n",
              "e    NaN\n",
              "dtype: float64"
            ]
          },
          "metadata": {
            "tags": []
          },
          "execution_count": 7
        }
      ]
    },
    {
      "cell_type": "code",
      "metadata": {
        "id": "rNx8Mhk3vfPK",
        "outputId": "9603756d-1640-4c74-f6fc-4e3cc04d6423",
        "colab": {
          "base_uri": "https://localhost:8080/",
          "height": 119
        }
      },
      "source": [
        "series_1 / series_2"
      ],
      "execution_count": null,
      "outputs": [
        {
          "output_type": "execute_result",
          "data": {
            "text/plain": [
              "a    0.25\n",
              "b    0.40\n",
              "c     NaN\n",
              "d     NaN\n",
              "e     NaN\n",
              "dtype: float64"
            ]
          },
          "metadata": {
            "tags": []
          },
          "execution_count": 8
        }
      ]
    },
    {
      "cell_type": "markdown",
      "metadata": {
        "id": "tH2ED2Ftv4L1"
      },
      "source": [
        "Com DataFrames as operações levam em conta indice e colunas. Então, genericamente, serão realizadas relacionando `df1.loc['linha_x']['coluna_y']` e `df2.loc['linha_x']['coluna_y']`."
      ]
    },
    {
      "cell_type": "code",
      "metadata": {
        "id": "UwcVxe-Bzh_F",
        "outputId": "33e08fa4-b0a8-49cc-cf7b-ac7dcc8e67c5",
        "colab": {
          "base_uri": "https://localhost:8080/",
          "height": 204
        }
      },
      "source": [
        "semestre_1 = pd.DataFrame({'Faltas' : [3,4,2,1,4],\n",
        "                   'Prova' : [2,7,5,10,6],\n",
        "                   'Seminário': [8.5,7.5,9.0,7.5,8.0]},index=[\"Luis\", \"Melissa\", \"Carlos\", \"Julia\", \"Maria\"])\n",
        "semestre_2 = pd.DataFrame({'Faltas' : [0,0,3,2],\n",
        "                   'Prova' : [7,8,5,9],\n",
        "                   'Seminário': [8.5,7.5,9.0,7.5]}, index = [\"Luis\", \"Melissa\", \"Carlos\", \"Maria\"])\n",
        "\n",
        "semestre_1"
      ],
      "execution_count": null,
      "outputs": [
        {
          "output_type": "execute_result",
          "data": {
            "text/html": [
              "<div>\n",
              "<style scoped>\n",
              "    .dataframe tbody tr th:only-of-type {\n",
              "        vertical-align: middle;\n",
              "    }\n",
              "\n",
              "    .dataframe tbody tr th {\n",
              "        vertical-align: top;\n",
              "    }\n",
              "\n",
              "    .dataframe thead th {\n",
              "        text-align: right;\n",
              "    }\n",
              "</style>\n",
              "<table border=\"1\" class=\"dataframe\">\n",
              "  <thead>\n",
              "    <tr style=\"text-align: right;\">\n",
              "      <th></th>\n",
              "      <th>Faltas</th>\n",
              "      <th>Prova</th>\n",
              "      <th>Seminário</th>\n",
              "    </tr>\n",
              "  </thead>\n",
              "  <tbody>\n",
              "    <tr>\n",
              "      <th>Luis</th>\n",
              "      <td>3</td>\n",
              "      <td>2</td>\n",
              "      <td>8.5</td>\n",
              "    </tr>\n",
              "    <tr>\n",
              "      <th>Melissa</th>\n",
              "      <td>4</td>\n",
              "      <td>7</td>\n",
              "      <td>7.5</td>\n",
              "    </tr>\n",
              "    <tr>\n",
              "      <th>Carlos</th>\n",
              "      <td>2</td>\n",
              "      <td>5</td>\n",
              "      <td>9.0</td>\n",
              "    </tr>\n",
              "    <tr>\n",
              "      <th>Julia</th>\n",
              "      <td>1</td>\n",
              "      <td>10</td>\n",
              "      <td>7.5</td>\n",
              "    </tr>\n",
              "    <tr>\n",
              "      <th>Maria</th>\n",
              "      <td>4</td>\n",
              "      <td>6</td>\n",
              "      <td>8.0</td>\n",
              "    </tr>\n",
              "  </tbody>\n",
              "</table>\n",
              "</div>"
            ],
            "text/plain": [
              "         Faltas  Prova  Seminário\n",
              "Luis          3      2        8.5\n",
              "Melissa       4      7        7.5\n",
              "Carlos        2      5        9.0\n",
              "Julia         1     10        7.5\n",
              "Maria         4      6        8.0"
            ]
          },
          "metadata": {
            "tags": []
          },
          "execution_count": 9
        }
      ]
    },
    {
      "cell_type": "code",
      "metadata": {
        "id": "9ytKsMN_1yVX",
        "outputId": "dfcf1a0d-a27b-40ee-bf55-86f91ed666cd",
        "colab": {
          "base_uri": "https://localhost:8080/",
          "height": 173
        }
      },
      "source": [
        "semestre_2"
      ],
      "execution_count": null,
      "outputs": [
        {
          "output_type": "execute_result",
          "data": {
            "text/html": [
              "<div>\n",
              "<style scoped>\n",
              "    .dataframe tbody tr th:only-of-type {\n",
              "        vertical-align: middle;\n",
              "    }\n",
              "\n",
              "    .dataframe tbody tr th {\n",
              "        vertical-align: top;\n",
              "    }\n",
              "\n",
              "    .dataframe thead th {\n",
              "        text-align: right;\n",
              "    }\n",
              "</style>\n",
              "<table border=\"1\" class=\"dataframe\">\n",
              "  <thead>\n",
              "    <tr style=\"text-align: right;\">\n",
              "      <th></th>\n",
              "      <th>Faltas</th>\n",
              "      <th>Prova</th>\n",
              "      <th>Seminário</th>\n",
              "    </tr>\n",
              "  </thead>\n",
              "  <tbody>\n",
              "    <tr>\n",
              "      <th>Luis</th>\n",
              "      <td>0</td>\n",
              "      <td>7</td>\n",
              "      <td>8.5</td>\n",
              "    </tr>\n",
              "    <tr>\n",
              "      <th>Melissa</th>\n",
              "      <td>0</td>\n",
              "      <td>8</td>\n",
              "      <td>7.5</td>\n",
              "    </tr>\n",
              "    <tr>\n",
              "      <th>Carlos</th>\n",
              "      <td>3</td>\n",
              "      <td>5</td>\n",
              "      <td>9.0</td>\n",
              "    </tr>\n",
              "    <tr>\n",
              "      <th>Maria</th>\n",
              "      <td>2</td>\n",
              "      <td>9</td>\n",
              "      <td>7.5</td>\n",
              "    </tr>\n",
              "  </tbody>\n",
              "</table>\n",
              "</div>"
            ],
            "text/plain": [
              "         Faltas  Prova  Seminário\n",
              "Luis          0      7        8.5\n",
              "Melissa       0      8        7.5\n",
              "Carlos        3      5        9.0\n",
              "Maria         2      9        7.5"
            ]
          },
          "metadata": {
            "tags": []
          },
          "execution_count": 10
        }
      ]
    },
    {
      "cell_type": "code",
      "metadata": {
        "id": "ISFoszX61zWz",
        "outputId": "5f07c11c-04b7-480b-e1c9-226371452214",
        "colab": {
          "base_uri": "https://localhost:8080/",
          "height": 204
        }
      },
      "source": [
        "semestre_1 + semestre_2"
      ],
      "execution_count": null,
      "outputs": [
        {
          "output_type": "execute_result",
          "data": {
            "text/html": [
              "<div>\n",
              "<style scoped>\n",
              "    .dataframe tbody tr th:only-of-type {\n",
              "        vertical-align: middle;\n",
              "    }\n",
              "\n",
              "    .dataframe tbody tr th {\n",
              "        vertical-align: top;\n",
              "    }\n",
              "\n",
              "    .dataframe thead th {\n",
              "        text-align: right;\n",
              "    }\n",
              "</style>\n",
              "<table border=\"1\" class=\"dataframe\">\n",
              "  <thead>\n",
              "    <tr style=\"text-align: right;\">\n",
              "      <th></th>\n",
              "      <th>Faltas</th>\n",
              "      <th>Prova</th>\n",
              "      <th>Seminário</th>\n",
              "    </tr>\n",
              "  </thead>\n",
              "  <tbody>\n",
              "    <tr>\n",
              "      <th>Carlos</th>\n",
              "      <td>5.0</td>\n",
              "      <td>10.0</td>\n",
              "      <td>18.0</td>\n",
              "    </tr>\n",
              "    <tr>\n",
              "      <th>Julia</th>\n",
              "      <td>NaN</td>\n",
              "      <td>NaN</td>\n",
              "      <td>NaN</td>\n",
              "    </tr>\n",
              "    <tr>\n",
              "      <th>Luis</th>\n",
              "      <td>3.0</td>\n",
              "      <td>9.0</td>\n",
              "      <td>17.0</td>\n",
              "    </tr>\n",
              "    <tr>\n",
              "      <th>Maria</th>\n",
              "      <td>6.0</td>\n",
              "      <td>15.0</td>\n",
              "      <td>15.5</td>\n",
              "    </tr>\n",
              "    <tr>\n",
              "      <th>Melissa</th>\n",
              "      <td>4.0</td>\n",
              "      <td>15.0</td>\n",
              "      <td>15.0</td>\n",
              "    </tr>\n",
              "  </tbody>\n",
              "</table>\n",
              "</div>"
            ],
            "text/plain": [
              "         Faltas  Prova  Seminário\n",
              "Carlos      5.0   10.0       18.0\n",
              "Julia       NaN    NaN        NaN\n",
              "Luis        3.0    9.0       17.0\n",
              "Maria       6.0   15.0       15.5\n",
              "Melissa     4.0   15.0       15.0"
            ]
          },
          "metadata": {
            "tags": []
          },
          "execution_count": 11
        }
      ]
    },
    {
      "cell_type": "markdown",
      "metadata": {
        "id": "YugeH-bh256w"
      },
      "source": [
        "Além da representação usual para as operações (`+,-,*,/`), existem métodos para o mesmo fim. "
      ]
    },
    {
      "cell_type": "code",
      "metadata": {
        "id": "KOLC6B4k33jI",
        "outputId": "f263153d-b5ea-4dfb-e35c-caf7a9f891d6",
        "colab": {
          "base_uri": "https://localhost:8080/",
          "height": 173
        }
      },
      "source": [
        "métodos = pd.DataFrame({'Operação': ['Adição','Subtração','Multiplicação','Divisão']},index=['add','sub','mul','div'])\n",
        "\n",
        "métodos"
      ],
      "execution_count": null,
      "outputs": [
        {
          "output_type": "execute_result",
          "data": {
            "text/html": [
              "<div>\n",
              "<style scoped>\n",
              "    .dataframe tbody tr th:only-of-type {\n",
              "        vertical-align: middle;\n",
              "    }\n",
              "\n",
              "    .dataframe tbody tr th {\n",
              "        vertical-align: top;\n",
              "    }\n",
              "\n",
              "    .dataframe thead th {\n",
              "        text-align: right;\n",
              "    }\n",
              "</style>\n",
              "<table border=\"1\" class=\"dataframe\">\n",
              "  <thead>\n",
              "    <tr style=\"text-align: right;\">\n",
              "      <th></th>\n",
              "      <th>Operação</th>\n",
              "    </tr>\n",
              "  </thead>\n",
              "  <tbody>\n",
              "    <tr>\n",
              "      <th>add</th>\n",
              "      <td>Adição</td>\n",
              "    </tr>\n",
              "    <tr>\n",
              "      <th>sub</th>\n",
              "      <td>Subtração</td>\n",
              "    </tr>\n",
              "    <tr>\n",
              "      <th>mul</th>\n",
              "      <td>Multiplicação</td>\n",
              "    </tr>\n",
              "    <tr>\n",
              "      <th>div</th>\n",
              "      <td>Divisão</td>\n",
              "    </tr>\n",
              "  </tbody>\n",
              "</table>\n",
              "</div>"
            ],
            "text/plain": [
              "          Operação\n",
              "add         Adição\n",
              "sub      Subtração\n",
              "mul  Multiplicação\n",
              "div        Divisão"
            ]
          },
          "metadata": {
            "tags": []
          },
          "execution_count": 12
        }
      ]
    },
    {
      "cell_type": "markdown",
      "metadata": {
        "id": "RXJhpw2k334t"
      },
      "source": [
        "A vantagem de usar tais métodos é que podemos evitar os valores nulos definindo um valor a ser somado, subtraído, etc. com os elementos que não têm um elemento correspondente, através do argumento `fill_value`."
      ]
    },
    {
      "cell_type": "code",
      "metadata": {
        "id": "03L5oCVM4dV-",
        "outputId": "7ada8347-6966-43eb-8f42-4997f211d321",
        "colab": {
          "base_uri": "https://localhost:8080/",
          "height": 204
        }
      },
      "source": [
        "semestre_1.add(semestre_2,fill_value=6)"
      ],
      "execution_count": null,
      "outputs": [
        {
          "output_type": "execute_result",
          "data": {
            "text/html": [
              "<div>\n",
              "<style scoped>\n",
              "    .dataframe tbody tr th:only-of-type {\n",
              "        vertical-align: middle;\n",
              "    }\n",
              "\n",
              "    .dataframe tbody tr th {\n",
              "        vertical-align: top;\n",
              "    }\n",
              "\n",
              "    .dataframe thead th {\n",
              "        text-align: right;\n",
              "    }\n",
              "</style>\n",
              "<table border=\"1\" class=\"dataframe\">\n",
              "  <thead>\n",
              "    <tr style=\"text-align: right;\">\n",
              "      <th></th>\n",
              "      <th>Faltas</th>\n",
              "      <th>Prova</th>\n",
              "      <th>Seminário</th>\n",
              "    </tr>\n",
              "  </thead>\n",
              "  <tbody>\n",
              "    <tr>\n",
              "      <th>Carlos</th>\n",
              "      <td>5.0</td>\n",
              "      <td>10.0</td>\n",
              "      <td>18.0</td>\n",
              "    </tr>\n",
              "    <tr>\n",
              "      <th>Julia</th>\n",
              "      <td>7.0</td>\n",
              "      <td>16.0</td>\n",
              "      <td>13.5</td>\n",
              "    </tr>\n",
              "    <tr>\n",
              "      <th>Luis</th>\n",
              "      <td>3.0</td>\n",
              "      <td>9.0</td>\n",
              "      <td>17.0</td>\n",
              "    </tr>\n",
              "    <tr>\n",
              "      <th>Maria</th>\n",
              "      <td>6.0</td>\n",
              "      <td>15.0</td>\n",
              "      <td>15.5</td>\n",
              "    </tr>\n",
              "    <tr>\n",
              "      <th>Melissa</th>\n",
              "      <td>4.0</td>\n",
              "      <td>15.0</td>\n",
              "      <td>15.0</td>\n",
              "    </tr>\n",
              "  </tbody>\n",
              "</table>\n",
              "</div>"
            ],
            "text/plain": [
              "         Faltas  Prova  Seminário\n",
              "Carlos      5.0   10.0       18.0\n",
              "Julia       7.0   16.0       13.5\n",
              "Luis        3.0    9.0       17.0\n",
              "Maria       6.0   15.0       15.5\n",
              "Melissa     4.0   15.0       15.0"
            ]
          },
          "metadata": {
            "tags": []
          },
          "execution_count": 13
        }
      ]
    },
    {
      "cell_type": "markdown",
      "metadata": {
        "id": "wqFsEcqV48az"
      },
      "source": [
        "No exemplo acima, o dataframe `semestre_2` não possui uma linha de índice `'Julia'`. O `fill_value` foi definido para `6`, logo, todos os elementos da linha `'Julia'` de `semestre_1` serão somados a `6`.\n",
        "\n"
      ]
    },
    {
      "cell_type": "markdown",
      "metadata": {
        "id": "uAjTI0Ez9Zo4"
      },
      "source": [
        "Objetos no pandas também suportam operações elemento a elemento com números inteiros."
      ]
    },
    {
      "cell_type": "code",
      "metadata": {
        "id": "30qdipy6_PIf",
        "outputId": "bdf6d435-7226-49a7-b162-5eb069212e42",
        "colab": {
          "base_uri": "https://localhost:8080/",
          "height": 204
        }
      },
      "source": [
        "notas = semestre_1[['Prova','Seminário']].add(semestre_2[['Prova','Seminário']],fill_value=6)\n",
        "\n",
        "notas"
      ],
      "execution_count": null,
      "outputs": [
        {
          "output_type": "execute_result",
          "data": {
            "text/html": [
              "<div>\n",
              "<style scoped>\n",
              "    .dataframe tbody tr th:only-of-type {\n",
              "        vertical-align: middle;\n",
              "    }\n",
              "\n",
              "    .dataframe tbody tr th {\n",
              "        vertical-align: top;\n",
              "    }\n",
              "\n",
              "    .dataframe thead th {\n",
              "        text-align: right;\n",
              "    }\n",
              "</style>\n",
              "<table border=\"1\" class=\"dataframe\">\n",
              "  <thead>\n",
              "    <tr style=\"text-align: right;\">\n",
              "      <th></th>\n",
              "      <th>Prova</th>\n",
              "      <th>Seminário</th>\n",
              "    </tr>\n",
              "  </thead>\n",
              "  <tbody>\n",
              "    <tr>\n",
              "      <th>Carlos</th>\n",
              "      <td>10.0</td>\n",
              "      <td>18.0</td>\n",
              "    </tr>\n",
              "    <tr>\n",
              "      <th>Julia</th>\n",
              "      <td>16.0</td>\n",
              "      <td>13.5</td>\n",
              "    </tr>\n",
              "    <tr>\n",
              "      <th>Luis</th>\n",
              "      <td>9.0</td>\n",
              "      <td>17.0</td>\n",
              "    </tr>\n",
              "    <tr>\n",
              "      <th>Maria</th>\n",
              "      <td>15.0</td>\n",
              "      <td>15.5</td>\n",
              "    </tr>\n",
              "    <tr>\n",
              "      <th>Melissa</th>\n",
              "      <td>15.0</td>\n",
              "      <td>15.0</td>\n",
              "    </tr>\n",
              "  </tbody>\n",
              "</table>\n",
              "</div>"
            ],
            "text/plain": [
              "         Prova  Seminário\n",
              "Carlos    10.0       18.0\n",
              "Julia     16.0       13.5\n",
              "Luis       9.0       17.0\n",
              "Maria     15.0       15.5\n",
              "Melissa   15.0       15.0"
            ]
          },
          "metadata": {
            "tags": []
          },
          "execution_count": 15
        }
      ]
    },
    {
      "cell_type": "code",
      "metadata": {
        "id": "KMkz7fKH_2Z1",
        "outputId": "45316352-4d9d-4d2e-a46c-b7f9eec777e5",
        "colab": {
          "base_uri": "https://localhost:8080/",
          "height": 204
        }
      },
      "source": [
        "medias = notas / 2\n",
        "\n",
        "medias"
      ],
      "execution_count": null,
      "outputs": [
        {
          "output_type": "execute_result",
          "data": {
            "text/html": [
              "<div>\n",
              "<style scoped>\n",
              "    .dataframe tbody tr th:only-of-type {\n",
              "        vertical-align: middle;\n",
              "    }\n",
              "\n",
              "    .dataframe tbody tr th {\n",
              "        vertical-align: top;\n",
              "    }\n",
              "\n",
              "    .dataframe thead th {\n",
              "        text-align: right;\n",
              "    }\n",
              "</style>\n",
              "<table border=\"1\" class=\"dataframe\">\n",
              "  <thead>\n",
              "    <tr style=\"text-align: right;\">\n",
              "      <th></th>\n",
              "      <th>Prova</th>\n",
              "      <th>Seminário</th>\n",
              "    </tr>\n",
              "  </thead>\n",
              "  <tbody>\n",
              "    <tr>\n",
              "      <th>Carlos</th>\n",
              "      <td>5.0</td>\n",
              "      <td>9.00</td>\n",
              "    </tr>\n",
              "    <tr>\n",
              "      <th>Julia</th>\n",
              "      <td>8.0</td>\n",
              "      <td>6.75</td>\n",
              "    </tr>\n",
              "    <tr>\n",
              "      <th>Luis</th>\n",
              "      <td>4.5</td>\n",
              "      <td>8.50</td>\n",
              "    </tr>\n",
              "    <tr>\n",
              "      <th>Maria</th>\n",
              "      <td>7.5</td>\n",
              "      <td>7.75</td>\n",
              "    </tr>\n",
              "    <tr>\n",
              "      <th>Melissa</th>\n",
              "      <td>7.5</td>\n",
              "      <td>7.50</td>\n",
              "    </tr>\n",
              "  </tbody>\n",
              "</table>\n",
              "</div>"
            ],
            "text/plain": [
              "         Prova  Seminário\n",
              "Carlos     5.0       9.00\n",
              "Julia      8.0       6.75\n",
              "Luis       4.5       8.50\n",
              "Maria      7.5       7.75\n",
              "Melissa    7.5       7.50"
            ]
          },
          "metadata": {
            "tags": []
          },
          "execution_count": 16
        }
      ]
    },
    {
      "cell_type": "markdown",
      "metadata": {
        "id": "zZQJpFY0s4gr"
      },
      "source": [
        "### **Ordenação**"
      ]
    },
    {
      "cell_type": "markdown",
      "metadata": {
        "id": "9Mf3FTntAfIO"
      },
      "source": [
        "É possivel ordenar um dataset de acordo com os valores de uma coluna ou índice.\n",
        "\n",
        "\n",
        "\n"
      ]
    },
    {
      "cell_type": "code",
      "metadata": {
        "id": "GSPjtKrDGvpV",
        "outputId": "f636e998-eb31-47f5-e2ad-76daffb46c1e",
        "colab": {
          "base_uri": "https://localhost:8080/",
          "height": 119
        }
      },
      "source": [
        "s1 = pd.Series([1,6,5,8,9], index =['a','n','c','y','b'])\n",
        "\n",
        "s1"
      ],
      "execution_count": null,
      "outputs": [
        {
          "output_type": "execute_result",
          "data": {
            "text/plain": [
              "a    1\n",
              "n    6\n",
              "c    5\n",
              "y    8\n",
              "b    9\n",
              "dtype: int64"
            ]
          },
          "metadata": {
            "tags": []
          },
          "execution_count": 17
        }
      ]
    },
    {
      "cell_type": "code",
      "metadata": {
        "id": "D1bqIfpnQZ-q",
        "outputId": "ad689f27-4a6d-474c-df27-f4fe97cacd6c",
        "colab": {
          "base_uri": "https://localhost:8080/",
          "height": 119
        }
      },
      "source": [
        "# Ordenação a partir do index: sort_index()\n",
        "\n",
        "s1.sort_index()"
      ],
      "execution_count": null,
      "outputs": [
        {
          "output_type": "execute_result",
          "data": {
            "text/plain": [
              "a    1\n",
              "b    9\n",
              "c    5\n",
              "n    6\n",
              "y    8\n",
              "dtype: int64"
            ]
          },
          "metadata": {
            "tags": []
          },
          "execution_count": 18
        }
      ]
    },
    {
      "cell_type": "code",
      "metadata": {
        "id": "c5k4PDezQy6z",
        "outputId": "78755584-d684-483e-e3a7-a68ea853940f",
        "colab": {
          "base_uri": "https://localhost:8080/",
          "height": 119
        }
      },
      "source": [
        "# Ordenação por valores: sort_values()\n",
        "\n",
        "s1.sort_values()"
      ],
      "execution_count": null,
      "outputs": [
        {
          "output_type": "execute_result",
          "data": {
            "text/plain": [
              "a    1\n",
              "c    5\n",
              "n    6\n",
              "y    8\n",
              "b    9\n",
              "dtype: int64"
            ]
          },
          "metadata": {
            "tags": []
          },
          "execution_count": 19
        }
      ]
    },
    {
      "cell_type": "markdown",
      "metadata": {
        "id": "PT4lxkEcQvKV"
      },
      "source": [
        "Por padrão, a ordenação é feita em ordem crescente. Para ordem decrescente, deve se passar `ascending =  False`."
      ]
    },
    {
      "cell_type": "code",
      "metadata": {
        "id": "et22ZB9nRS1k",
        "outputId": "32cb0574-5a26-4319-91cc-fc6220ac3520",
        "colab": {
          "base_uri": "https://localhost:8080/",
          "height": 119
        }
      },
      "source": [
        "s1.sort_values(ascending=False)"
      ],
      "execution_count": null,
      "outputs": [
        {
          "output_type": "execute_result",
          "data": {
            "text/plain": [
              "b    9\n",
              "y    8\n",
              "n    6\n",
              "c    5\n",
              "a    1\n",
              "dtype: int64"
            ]
          },
          "metadata": {
            "tags": []
          },
          "execution_count": 20
        }
      ]
    },
    {
      "cell_type": "markdown",
      "metadata": {
        "id": "fa90akxyRdfe"
      },
      "source": [
        "Em DataFrames, é possivel escolher uma ou mais colunas como referência para ordenação."
      ]
    },
    {
      "cell_type": "code",
      "metadata": {
        "id": "mUnTMWn7RlzT",
        "outputId": "d5923c20-5e6d-4554-844a-5c4b43d6c153",
        "colab": {
          "base_uri": "https://localhost:8080/",
          "height": 204
        }
      },
      "source": [
        "medias"
      ],
      "execution_count": null,
      "outputs": [
        {
          "output_type": "execute_result",
          "data": {
            "text/html": [
              "<div>\n",
              "<style scoped>\n",
              "    .dataframe tbody tr th:only-of-type {\n",
              "        vertical-align: middle;\n",
              "    }\n",
              "\n",
              "    .dataframe tbody tr th {\n",
              "        vertical-align: top;\n",
              "    }\n",
              "\n",
              "    .dataframe thead th {\n",
              "        text-align: right;\n",
              "    }\n",
              "</style>\n",
              "<table border=\"1\" class=\"dataframe\">\n",
              "  <thead>\n",
              "    <tr style=\"text-align: right;\">\n",
              "      <th></th>\n",
              "      <th>Prova</th>\n",
              "      <th>Seminário</th>\n",
              "    </tr>\n",
              "  </thead>\n",
              "  <tbody>\n",
              "    <tr>\n",
              "      <th>Carlos</th>\n",
              "      <td>5.0</td>\n",
              "      <td>9.00</td>\n",
              "    </tr>\n",
              "    <tr>\n",
              "      <th>Julia</th>\n",
              "      <td>8.0</td>\n",
              "      <td>6.75</td>\n",
              "    </tr>\n",
              "    <tr>\n",
              "      <th>Luis</th>\n",
              "      <td>4.5</td>\n",
              "      <td>8.50</td>\n",
              "    </tr>\n",
              "    <tr>\n",
              "      <th>Maria</th>\n",
              "      <td>7.5</td>\n",
              "      <td>7.75</td>\n",
              "    </tr>\n",
              "    <tr>\n",
              "      <th>Melissa</th>\n",
              "      <td>7.5</td>\n",
              "      <td>7.50</td>\n",
              "    </tr>\n",
              "  </tbody>\n",
              "</table>\n",
              "</div>"
            ],
            "text/plain": [
              "         Prova  Seminário\n",
              "Carlos     5.0       9.00\n",
              "Julia      8.0       6.75\n",
              "Luis       4.5       8.50\n",
              "Maria      7.5       7.75\n",
              "Melissa    7.5       7.50"
            ]
          },
          "metadata": {
            "tags": []
          },
          "execution_count": 21
        }
      ]
    },
    {
      "cell_type": "code",
      "metadata": {
        "id": "7PcFSQeURtNF",
        "outputId": "6a3c97d9-c6f4-4b1d-cf5f-ad96b0d89a75",
        "colab": {
          "base_uri": "https://localhost:8080/",
          "height": 204
        }
      },
      "source": [
        "# Selecionando colunas para ordenação: by = lista de colunas\n",
        "\n",
        "medias.sort_values(by=['Prova'])"
      ],
      "execution_count": null,
      "outputs": [
        {
          "output_type": "execute_result",
          "data": {
            "text/html": [
              "<div>\n",
              "<style scoped>\n",
              "    .dataframe tbody tr th:only-of-type {\n",
              "        vertical-align: middle;\n",
              "    }\n",
              "\n",
              "    .dataframe tbody tr th {\n",
              "        vertical-align: top;\n",
              "    }\n",
              "\n",
              "    .dataframe thead th {\n",
              "        text-align: right;\n",
              "    }\n",
              "</style>\n",
              "<table border=\"1\" class=\"dataframe\">\n",
              "  <thead>\n",
              "    <tr style=\"text-align: right;\">\n",
              "      <th></th>\n",
              "      <th>Prova</th>\n",
              "      <th>Seminário</th>\n",
              "    </tr>\n",
              "  </thead>\n",
              "  <tbody>\n",
              "    <tr>\n",
              "      <th>Luis</th>\n",
              "      <td>4.5</td>\n",
              "      <td>8.50</td>\n",
              "    </tr>\n",
              "    <tr>\n",
              "      <th>Carlos</th>\n",
              "      <td>5.0</td>\n",
              "      <td>9.00</td>\n",
              "    </tr>\n",
              "    <tr>\n",
              "      <th>Maria</th>\n",
              "      <td>7.5</td>\n",
              "      <td>7.75</td>\n",
              "    </tr>\n",
              "    <tr>\n",
              "      <th>Melissa</th>\n",
              "      <td>7.5</td>\n",
              "      <td>7.50</td>\n",
              "    </tr>\n",
              "    <tr>\n",
              "      <th>Julia</th>\n",
              "      <td>8.0</td>\n",
              "      <td>6.75</td>\n",
              "    </tr>\n",
              "  </tbody>\n",
              "</table>\n",
              "</div>"
            ],
            "text/plain": [
              "         Prova  Seminário\n",
              "Luis       4.5       8.50\n",
              "Carlos     5.0       9.00\n",
              "Maria      7.5       7.75\n",
              "Melissa    7.5       7.50\n",
              "Julia      8.0       6.75"
            ]
          },
          "metadata": {
            "tags": []
          },
          "execution_count": 22
        }
      ]
    },
    {
      "cell_type": "code",
      "metadata": {
        "id": "3u8hslLNR_Vl",
        "outputId": "c4fb79d7-ffe0-480d-9d75-2c10d2152c1a",
        "colab": {
          "base_uri": "https://localhost:8080/",
          "height": 204
        }
      },
      "source": [
        "medias.sort_values(by=['Prova','Seminário'])"
      ],
      "execution_count": null,
      "outputs": [
        {
          "output_type": "execute_result",
          "data": {
            "text/html": [
              "<div>\n",
              "<style scoped>\n",
              "    .dataframe tbody tr th:only-of-type {\n",
              "        vertical-align: middle;\n",
              "    }\n",
              "\n",
              "    .dataframe tbody tr th {\n",
              "        vertical-align: top;\n",
              "    }\n",
              "\n",
              "    .dataframe thead th {\n",
              "        text-align: right;\n",
              "    }\n",
              "</style>\n",
              "<table border=\"1\" class=\"dataframe\">\n",
              "  <thead>\n",
              "    <tr style=\"text-align: right;\">\n",
              "      <th></th>\n",
              "      <th>Prova</th>\n",
              "      <th>Seminário</th>\n",
              "    </tr>\n",
              "  </thead>\n",
              "  <tbody>\n",
              "    <tr>\n",
              "      <th>Luis</th>\n",
              "      <td>4.5</td>\n",
              "      <td>8.50</td>\n",
              "    </tr>\n",
              "    <tr>\n",
              "      <th>Carlos</th>\n",
              "      <td>5.0</td>\n",
              "      <td>9.00</td>\n",
              "    </tr>\n",
              "    <tr>\n",
              "      <th>Melissa</th>\n",
              "      <td>7.5</td>\n",
              "      <td>7.50</td>\n",
              "    </tr>\n",
              "    <tr>\n",
              "      <th>Maria</th>\n",
              "      <td>7.5</td>\n",
              "      <td>7.75</td>\n",
              "    </tr>\n",
              "    <tr>\n",
              "      <th>Julia</th>\n",
              "      <td>8.0</td>\n",
              "      <td>6.75</td>\n",
              "    </tr>\n",
              "  </tbody>\n",
              "</table>\n",
              "</div>"
            ],
            "text/plain": [
              "         Prova  Seminário\n",
              "Luis       4.5       8.50\n",
              "Carlos     5.0       9.00\n",
              "Melissa    7.5       7.50\n",
              "Maria      7.5       7.75\n",
              "Julia      8.0       6.75"
            ]
          },
          "metadata": {
            "tags": []
          },
          "execution_count": 23
        }
      ]
    },
    {
      "cell_type": "markdown",
      "metadata": {
        "id": "zZxFEJQESJWP"
      },
      "source": [
        "A ordenação por mais de uma coluna é hierárquica. Isso quer dizer que as primeiras colunas da lista têm prioridade sobre as seguintes.\n",
        "\n",
        "No exemplo acima, o dataset é ordenado pela coluna `'Prova'`. Como `'Maria'` e `'Melissa'` tem valores iguais na prova, essas linhas são reorganizadas de acordo com o 2º critério de ordenação, a coluna `'Seminário'`."
      ]
    },
    {
      "cell_type": "markdown",
      "metadata": {
        "id": "yZIII7AtAYqf"
      },
      "source": [
        "### **Ranking**"
      ]
    },
    {
      "cell_type": "markdown",
      "metadata": {
        "id": "UIHosNmndYH0"
      },
      "source": [
        "O ranqueamento é uma operação que classificar valores de uma determinada coluna de forma a criar um ranking."
      ]
    },
    {
      "cell_type": "code",
      "metadata": {
        "id": "3ujbVjC6XPYG",
        "outputId": "87e03e30-dd34-4e06-d07b-154f48ee1d95",
        "colab": {
          "base_uri": "https://localhost:8080/",
          "height": 204
        }
      },
      "source": [
        "index = ['Alex Albon','Max Verstappen','Lando Norris','Lewis Hamilton','Valteri Bottas']\n",
        "\n",
        "data = {'Pontos': [63,110,65,190,135],'Vitórias': [0,1,0,6,1], 'Pódios':[1,6,1,7,7]}\n",
        "\n",
        "formula1 = pd.DataFrame(data,index=index)\n",
        "\n",
        "formula1"
      ],
      "execution_count": null,
      "outputs": [
        {
          "output_type": "execute_result",
          "data": {
            "text/html": [
              "<div>\n",
              "<style scoped>\n",
              "    .dataframe tbody tr th:only-of-type {\n",
              "        vertical-align: middle;\n",
              "    }\n",
              "\n",
              "    .dataframe tbody tr th {\n",
              "        vertical-align: top;\n",
              "    }\n",
              "\n",
              "    .dataframe thead th {\n",
              "        text-align: right;\n",
              "    }\n",
              "</style>\n",
              "<table border=\"1\" class=\"dataframe\">\n",
              "  <thead>\n",
              "    <tr style=\"text-align: right;\">\n",
              "      <th></th>\n",
              "      <th>Pontos</th>\n",
              "      <th>Vitórias</th>\n",
              "      <th>Pódios</th>\n",
              "    </tr>\n",
              "  </thead>\n",
              "  <tbody>\n",
              "    <tr>\n",
              "      <th>Alex Albon</th>\n",
              "      <td>63</td>\n",
              "      <td>0</td>\n",
              "      <td>1</td>\n",
              "    </tr>\n",
              "    <tr>\n",
              "      <th>Max Verstappen</th>\n",
              "      <td>110</td>\n",
              "      <td>1</td>\n",
              "      <td>6</td>\n",
              "    </tr>\n",
              "    <tr>\n",
              "      <th>Lando Norris</th>\n",
              "      <td>65</td>\n",
              "      <td>0</td>\n",
              "      <td>1</td>\n",
              "    </tr>\n",
              "    <tr>\n",
              "      <th>Lewis Hamilton</th>\n",
              "      <td>190</td>\n",
              "      <td>6</td>\n",
              "      <td>7</td>\n",
              "    </tr>\n",
              "    <tr>\n",
              "      <th>Valteri Bottas</th>\n",
              "      <td>135</td>\n",
              "      <td>1</td>\n",
              "      <td>7</td>\n",
              "    </tr>\n",
              "  </tbody>\n",
              "</table>\n",
              "</div>"
            ],
            "text/plain": [
              "                Pontos  Vitórias  Pódios\n",
              "Alex Albon          63         0       1\n",
              "Max Verstappen     110         1       6\n",
              "Lando Norris        65         0       1\n",
              "Lewis Hamilton     190         6       7\n",
              "Valteri Bottas     135         1       7"
            ]
          },
          "metadata": {
            "tags": []
          },
          "execution_count": 24
        }
      ]
    },
    {
      "cell_type": "code",
      "metadata": {
        "id": "RPLBVBSJjIfW",
        "outputId": "30aa49b4-ac06-4490-8838-0f60305febcc",
        "colab": {
          "base_uri": "https://localhost:8080/",
          "height": 119
        }
      },
      "source": [
        "# O método para realizar o ranquamento é o rank()\n",
        "\n",
        "formula1['Pontos'].rank()"
      ],
      "execution_count": null,
      "outputs": [
        {
          "output_type": "execute_result",
          "data": {
            "text/plain": [
              "Alex Albon        1.0\n",
              "Max Verstappen    3.0\n",
              "Lando Norris      2.0\n",
              "Lewis Hamilton    5.0\n",
              "Valteri Bottas    4.0\n",
              "Name: Pontos, dtype: float64"
            ]
          },
          "metadata": {
            "tags": []
          },
          "execution_count": 25
        }
      ]
    },
    {
      "cell_type": "markdown",
      "metadata": {
        "id": "LlfhOn5SinZd"
      },
      "source": [
        "Note que, no exemplo, o ranking está invertido (em ordem crescente). Como na ordenação, usamos o ascending para mudar isso."
      ]
    },
    {
      "cell_type": "code",
      "metadata": {
        "id": "Uk4m8pZbijeo",
        "outputId": "eaf1098b-93d0-4e75-98bc-34da1e1785a0",
        "colab": {
          "base_uri": "https://localhost:8080/",
          "height": 119
        }
      },
      "source": [
        "formula1['Pontos'].rank(ascending=False)"
      ],
      "execution_count": null,
      "outputs": [
        {
          "output_type": "execute_result",
          "data": {
            "text/plain": [
              "Alex Albon        5.0\n",
              "Max Verstappen    3.0\n",
              "Lando Norris      4.0\n",
              "Lewis Hamilton    1.0\n",
              "Valteri Bottas    2.0\n",
              "Name: Pontos, dtype: float64"
            ]
          },
          "metadata": {
            "tags": []
          },
          "execution_count": 26
        }
      ]
    },
    {
      "cell_type": "markdown",
      "metadata": {
        "id": "X1HzE9o1lhSA"
      },
      "source": [
        "**Exercício 1.1** Adicione uma coluna chamada `'Classificação'` ao dataset `formula1`. Ela deve conter o ranking dos pilotos."
      ]
    },
    {
      "cell_type": "code",
      "metadata": {
        "id": "i1WH2IWJmI59",
        "outputId": "763eeb9c-589b-49a5-8269-3f35c321bf4d",
        "colab": {
          "base_uri": "https://localhost:8080/",
          "height": 204
        }
      },
      "source": [
        "formula1['Classificação'] = formula1['Pontos'].rank()\n",
        "\n",
        "formula1"
      ],
      "execution_count": null,
      "outputs": [
        {
          "output_type": "execute_result",
          "data": {
            "text/html": [
              "<div>\n",
              "<style scoped>\n",
              "    .dataframe tbody tr th:only-of-type {\n",
              "        vertical-align: middle;\n",
              "    }\n",
              "\n",
              "    .dataframe tbody tr th {\n",
              "        vertical-align: top;\n",
              "    }\n",
              "\n",
              "    .dataframe thead th {\n",
              "        text-align: right;\n",
              "    }\n",
              "</style>\n",
              "<table border=\"1\" class=\"dataframe\">\n",
              "  <thead>\n",
              "    <tr style=\"text-align: right;\">\n",
              "      <th></th>\n",
              "      <th>Pontos</th>\n",
              "      <th>Vitórias</th>\n",
              "      <th>Pódios</th>\n",
              "      <th>Classificação</th>\n",
              "    </tr>\n",
              "  </thead>\n",
              "  <tbody>\n",
              "    <tr>\n",
              "      <th>Alex Albon</th>\n",
              "      <td>63</td>\n",
              "      <td>0</td>\n",
              "      <td>1</td>\n",
              "      <td>1.0</td>\n",
              "    </tr>\n",
              "    <tr>\n",
              "      <th>Max Verstappen</th>\n",
              "      <td>110</td>\n",
              "      <td>1</td>\n",
              "      <td>6</td>\n",
              "      <td>3.0</td>\n",
              "    </tr>\n",
              "    <tr>\n",
              "      <th>Lando Norris</th>\n",
              "      <td>65</td>\n",
              "      <td>0</td>\n",
              "      <td>1</td>\n",
              "      <td>2.0</td>\n",
              "    </tr>\n",
              "    <tr>\n",
              "      <th>Lewis Hamilton</th>\n",
              "      <td>190</td>\n",
              "      <td>6</td>\n",
              "      <td>7</td>\n",
              "      <td>5.0</td>\n",
              "    </tr>\n",
              "    <tr>\n",
              "      <th>Valteri Bottas</th>\n",
              "      <td>135</td>\n",
              "      <td>1</td>\n",
              "      <td>7</td>\n",
              "      <td>4.0</td>\n",
              "    </tr>\n",
              "  </tbody>\n",
              "</table>\n",
              "</div>"
            ],
            "text/plain": [
              "                Pontos  Vitórias  Pódios  Classificação\n",
              "Alex Albon          63         0       1            1.0\n",
              "Max Verstappen     110         1       6            3.0\n",
              "Lando Norris        65         0       1            2.0\n",
              "Lewis Hamilton     190         6       7            5.0\n",
              "Valteri Bottas     135         1       7            4.0"
            ]
          },
          "metadata": {
            "tags": []
          },
          "execution_count": 34
        }
      ]
    },
    {
      "cell_type": "markdown",
      "metadata": {
        "id": "dGhT33k-l0Fb"
      },
      "source": [
        "**Exercício 1.2** Ordene (de forma crescente) `formula1` de acordo com a coluna `'Classificação'`."
      ]
    },
    {
      "cell_type": "code",
      "metadata": {
        "id": "p661eTa6mJkl",
        "outputId": "a73b0b61-421f-4a4c-f76d-fb031b9c6faf",
        "colab": {
          "base_uri": "https://localhost:8080/",
          "height": 204
        }
      },
      "source": [
        "formula1.sort_values(by=['Classificação'])"
      ],
      "execution_count": null,
      "outputs": [
        {
          "output_type": "execute_result",
          "data": {
            "text/html": [
              "<div>\n",
              "<style scoped>\n",
              "    .dataframe tbody tr th:only-of-type {\n",
              "        vertical-align: middle;\n",
              "    }\n",
              "\n",
              "    .dataframe tbody tr th {\n",
              "        vertical-align: top;\n",
              "    }\n",
              "\n",
              "    .dataframe thead th {\n",
              "        text-align: right;\n",
              "    }\n",
              "</style>\n",
              "<table border=\"1\" class=\"dataframe\">\n",
              "  <thead>\n",
              "    <tr style=\"text-align: right;\">\n",
              "      <th></th>\n",
              "      <th>Pontos</th>\n",
              "      <th>Vitórias</th>\n",
              "      <th>Pódios</th>\n",
              "      <th>Classificação</th>\n",
              "    </tr>\n",
              "  </thead>\n",
              "  <tbody>\n",
              "    <tr>\n",
              "      <th>Alex Albon</th>\n",
              "      <td>63</td>\n",
              "      <td>0</td>\n",
              "      <td>1</td>\n",
              "      <td>1.0</td>\n",
              "    </tr>\n",
              "    <tr>\n",
              "      <th>Lando Norris</th>\n",
              "      <td>65</td>\n",
              "      <td>0</td>\n",
              "      <td>1</td>\n",
              "      <td>2.0</td>\n",
              "    </tr>\n",
              "    <tr>\n",
              "      <th>Max Verstappen</th>\n",
              "      <td>110</td>\n",
              "      <td>1</td>\n",
              "      <td>6</td>\n",
              "      <td>3.0</td>\n",
              "    </tr>\n",
              "    <tr>\n",
              "      <th>Valteri Bottas</th>\n",
              "      <td>135</td>\n",
              "      <td>1</td>\n",
              "      <td>7</td>\n",
              "      <td>4.0</td>\n",
              "    </tr>\n",
              "    <tr>\n",
              "      <th>Lewis Hamilton</th>\n",
              "      <td>190</td>\n",
              "      <td>6</td>\n",
              "      <td>7</td>\n",
              "      <td>5.0</td>\n",
              "    </tr>\n",
              "  </tbody>\n",
              "</table>\n",
              "</div>"
            ],
            "text/plain": [
              "                Pontos  Vitórias  Pódios  Classificação\n",
              "Alex Albon          63         0       1            1.0\n",
              "Lando Norris        65         0       1            2.0\n",
              "Max Verstappen     110         1       6            3.0\n",
              "Valteri Bottas     135         1       7            4.0\n",
              "Lewis Hamilton     190         6       7            5.0"
            ]
          },
          "metadata": {
            "tags": []
          },
          "execution_count": 38
        }
      ]
    },
    {
      "cell_type": "markdown",
      "metadata": {
        "id": "Tdo0NLfsrrRO"
      },
      "source": [
        "## **Estatísticas Descritivas**"
      ]
    },
    {
      "cell_type": "markdown",
      "metadata": {
        "id": "FG_Ao6RDtmdr"
      },
      "source": [
        "O pandas fornece alguns métodos úteis para visualização de estatísticas descritivas."
      ]
    },
    {
      "cell_type": "code",
      "metadata": {
        "id": "94nwheTJvJO9",
        "outputId": "12e3d83c-c7b4-4303-cc47-293f455594f8",
        "colab": {
          "base_uri": "https://localhost:8080/",
          "height": 119
        }
      },
      "source": [
        "semestre_1 = pd.DataFrame({'Faltas' : [3,4,2,1,4],\n",
        "                   'Prova' : [2,7,5,10,6],\n",
        "                   'Seminário': [8.5,7.5,9.0,7.5,8.0]},index=[\"Luis\", \"Melissa\", \"Carlos\", \"Julia\", \"Maria\"])\n",
        "\n",
        "faltas = semestre_1['Faltas'].copy()\n",
        "\n",
        "faltas"
      ],
      "execution_count": null,
      "outputs": [
        {
          "output_type": "execute_result",
          "data": {
            "text/plain": [
              "Luis       3\n",
              "Melissa    4\n",
              "Carlos     2\n",
              "Julia      1\n",
              "Maria      4\n",
              "Name: Faltas, dtype: int64"
            ]
          },
          "metadata": {
            "tags": []
          },
          "execution_count": 43
        }
      ]
    },
    {
      "cell_type": "code",
      "metadata": {
        "id": "8Zr46Ic3ubeU",
        "outputId": "e13e7316-b9aa-46f6-e0b0-60d6e6b7ed24",
        "colab": {
          "base_uri": "https://localhost:8080/",
          "height": 34
        }
      },
      "source": [
        "# O método sum() soma todas as colunas/linhas de um dataframe\n",
        "\n",
        "faltas.sum()"
      ],
      "execution_count": null,
      "outputs": [
        {
          "output_type": "execute_result",
          "data": {
            "text/plain": [
              "14"
            ]
          },
          "metadata": {
            "tags": []
          },
          "execution_count": 40
        }
      ]
    },
    {
      "cell_type": "markdown",
      "metadata": {
        "id": "V-cKHR81voc9"
      },
      "source": [
        "Por padrão, o sum soma as linhas do dataframe. Para somar colunas, basta atribuir `1` ao argumento `axis`."
      ]
    },
    {
      "cell_type": "code",
      "metadata": {
        "id": "xLcyO8Rkwmdk",
        "outputId": "cc43f36a-7a11-4fba-b0ef-79874d6039d1",
        "colab": {
          "base_uri": "https://localhost:8080/",
          "height": 142
        }
      },
      "source": [
        "dados = {'Semestre 1':[2,2,0],'Semestre 2':[4,3,5]}\n",
        "index = ['João','Maria','Marcos']\n",
        "\n",
        "faltas2 = pd.DataFrame(dados,index=index)\n",
        "\n",
        "faltas2"
      ],
      "execution_count": null,
      "outputs": [
        {
          "output_type": "execute_result",
          "data": {
            "text/html": [
              "<div>\n",
              "<style scoped>\n",
              "    .dataframe tbody tr th:only-of-type {\n",
              "        vertical-align: middle;\n",
              "    }\n",
              "\n",
              "    .dataframe tbody tr th {\n",
              "        vertical-align: top;\n",
              "    }\n",
              "\n",
              "    .dataframe thead th {\n",
              "        text-align: right;\n",
              "    }\n",
              "</style>\n",
              "<table border=\"1\" class=\"dataframe\">\n",
              "  <thead>\n",
              "    <tr style=\"text-align: right;\">\n",
              "      <th></th>\n",
              "      <th>Semestre 1</th>\n",
              "      <th>Semestre 2</th>\n",
              "    </tr>\n",
              "  </thead>\n",
              "  <tbody>\n",
              "    <tr>\n",
              "      <th>João</th>\n",
              "      <td>2</td>\n",
              "      <td>4</td>\n",
              "    </tr>\n",
              "    <tr>\n",
              "      <th>Maria</th>\n",
              "      <td>2</td>\n",
              "      <td>3</td>\n",
              "    </tr>\n",
              "    <tr>\n",
              "      <th>Marcos</th>\n",
              "      <td>0</td>\n",
              "      <td>5</td>\n",
              "    </tr>\n",
              "  </tbody>\n",
              "</table>\n",
              "</div>"
            ],
            "text/plain": [
              "        Semestre 1  Semestre 2\n",
              "João             2           4\n",
              "Maria            2           3\n",
              "Marcos           0           5"
            ]
          },
          "metadata": {
            "tags": []
          },
          "execution_count": 41
        }
      ]
    },
    {
      "cell_type": "code",
      "metadata": {
        "id": "x6915oUdy3JV",
        "outputId": "7c2a1260-d78f-46ad-ae38-2c7e22923169",
        "colab": {
          "base_uri": "https://localhost:8080/",
          "height": 85
        }
      },
      "source": [
        "faltas2.sum(axis=1)"
      ],
      "execution_count": null,
      "outputs": [
        {
          "output_type": "execute_result",
          "data": {
            "text/plain": [
              "João      6\n",
              "Maria     5\n",
              "Marcos    5\n",
              "dtype: int64"
            ]
          },
          "metadata": {
            "tags": []
          },
          "execution_count": 42
        }
      ]
    },
    {
      "cell_type": "code",
      "metadata": {
        "id": "mb0qNANwzjTV",
        "outputId": "9f8ae887-eeef-44a7-87d0-a3e6544d8cc1",
        "colab": {
          "base_uri": "https://localhost:8080/",
          "height": 68
        }
      },
      "source": [
        "# O método max() retorna o maior valor de uma coluna\n",
        "\n",
        "faltas2.max()"
      ],
      "execution_count": null,
      "outputs": [
        {
          "output_type": "execute_result",
          "data": {
            "text/plain": [
              "Semestre 1    2\n",
              "Semestre 2    5\n",
              "dtype: int64"
            ]
          },
          "metadata": {
            "tags": []
          },
          "execution_count": 45
        }
      ]
    },
    {
      "cell_type": "code",
      "metadata": {
        "id": "42BBirvC0mhk",
        "outputId": "d92e0f38-5743-45a9-f8df-f2823df0a92c",
        "colab": {
          "base_uri": "https://localhost:8080/",
          "height": 34
        }
      },
      "source": [
        "# Analogamente, há o método min() que retorna o menor valor de uma coluna\n",
        "\n",
        "faltas.min()"
      ],
      "execution_count": null,
      "outputs": [
        {
          "output_type": "execute_result",
          "data": {
            "text/plain": [
              "1"
            ]
          },
          "metadata": {
            "tags": []
          },
          "execution_count": 46
        }
      ]
    },
    {
      "cell_type": "code",
      "metadata": {
        "id": "CTzw0zMp06Ml",
        "outputId": "ca9825af-3267-4c74-9a94-646ae912cda7",
        "colab": {
          "base_uri": "https://localhost:8080/",
          "height": 35
        }
      },
      "source": [
        "# Os métodos idxmin() e idxmax() retornam, respectivamente, \n",
        "# o índice da linha com o menor e com o maior valor\n",
        "\n",
        "faltas.idxmin()"
      ],
      "execution_count": null,
      "outputs": [
        {
          "output_type": "execute_result",
          "data": {
            "application/vnd.google.colaboratory.intrinsic+json": {
              "type": "string"
            },
            "text/plain": [
              "'Julia'"
            ]
          },
          "metadata": {
            "tags": []
          },
          "execution_count": 47
        }
      ]
    },
    {
      "cell_type": "code",
      "metadata": {
        "id": "NKVCWdZQ128z",
        "outputId": "52487036-bb3c-49f3-fae3-54c4adccd104",
        "colab": {
          "base_uri": "https://localhost:8080/",
          "height": 68
        }
      },
      "source": [
        "faltas2.idxmax()"
      ],
      "execution_count": null,
      "outputs": [
        {
          "output_type": "execute_result",
          "data": {
            "text/plain": [
              "Semestre 1      João\n",
              "Semestre 2    Marcos\n",
              "dtype: object"
            ]
          },
          "metadata": {
            "tags": []
          },
          "execution_count": 48
        }
      ]
    },
    {
      "cell_type": "code",
      "metadata": {
        "id": "hzLUfB_h2oQM",
        "outputId": "ae7ee545-25ff-4745-97cc-d215ae9b49ad",
        "colab": {
          "base_uri": "https://localhost:8080/",
          "height": 68
        }
      },
      "source": [
        "# O método mean() retorna a média dos valores de uma coluna/linha\n",
        "\n",
        "#Coluna\n",
        "faltas2.mean()"
      ],
      "execution_count": null,
      "outputs": [
        {
          "output_type": "execute_result",
          "data": {
            "text/plain": [
              "Semestre 1    1.333333\n",
              "Semestre 2    4.000000\n",
              "dtype: float64"
            ]
          },
          "metadata": {
            "tags": []
          },
          "execution_count": 49
        }
      ]
    },
    {
      "cell_type": "code",
      "metadata": {
        "id": "MqfH12P23Q71",
        "outputId": "c78fffc6-22a8-4e37-f074-835d8c102d81",
        "colab": {
          "base_uri": "https://localhost:8080/",
          "height": 85
        }
      },
      "source": [
        "#Linha\n",
        "faltas2.mean(axis=1)"
      ],
      "execution_count": null,
      "outputs": [
        {
          "output_type": "execute_result",
          "data": {
            "text/plain": [
              "João      3.0\n",
              "Maria     2.5\n",
              "Marcos    2.5\n",
              "dtype: float64"
            ]
          },
          "metadata": {
            "tags": []
          },
          "execution_count": 50
        }
      ]
    },
    {
      "cell_type": "code",
      "metadata": {
        "id": "2tbqBlsX3b9c",
        "outputId": "5fbc4313-1dda-4a16-fd40-e3e77eb73435",
        "colab": {
          "base_uri": "https://localhost:8080/",
          "height": 68
        }
      },
      "source": [
        "# O método median() retorna a mediana de uma coluna/linha\n",
        "\n",
        "faltas2.median()"
      ],
      "execution_count": null,
      "outputs": [
        {
          "output_type": "execute_result",
          "data": {
            "text/plain": [
              "Semestre 1    2.0\n",
              "Semestre 2    4.0\n",
              "dtype: float64"
            ]
          },
          "metadata": {
            "tags": []
          },
          "execution_count": 51
        }
      ]
    },
    {
      "cell_type": "code",
      "metadata": {
        "id": "vSvza2rw33NU",
        "outputId": "0dbafba6-dfad-4dfc-9a2c-bf6ce10af0c0",
        "colab": {
          "base_uri": "https://localhost:8080/",
          "height": 51
        }
      },
      "source": [
        "# O método mode() retorna a moda de uma coluna/linha\n",
        "\n",
        "faltas2['Semestre 1'].mode()"
      ],
      "execution_count": null,
      "outputs": [
        {
          "output_type": "execute_result",
          "data": {
            "text/plain": [
              "0    2\n",
              "dtype: int64"
            ]
          },
          "metadata": {
            "tags": []
          },
          "execution_count": 52
        }
      ]
    },
    {
      "cell_type": "markdown",
      "metadata": {
        "id": "dwbCR4hv4hLe"
      },
      "source": [
        "Existem outros métodos para estatísticas descritivas no pandas, mas, por agora, nos ateremos a estes."
      ]
    },
    {
      "cell_type": "markdown",
      "metadata": {
        "id": "zXE8x6Ae7p78"
      },
      "source": [
        "## **Exercícios - Dataset CovidAL**"
      ]
    },
    {
      "cell_type": "markdown",
      "metadata": {
        "id": "RbYEqbks7yWd"
      },
      "source": [
        "**Exercício 2.1** Qual a maior idade entre os identificados?\n",
        "\n",
        "Saída esperada: 1824.0"
      ]
    },
    {
      "cell_type": "code",
      "metadata": {
        "id": "YO4zNp5S7xTK",
        "outputId": "1dcbd2cd-fac2-4ce7-f148-e98953399be9",
        "colab": {
          "base_uri": "https://localhost:8080/",
          "height": 34
        }
      },
      "source": [
        "df_covid['idade'].max()"
      ],
      "execution_count": null,
      "outputs": [
        {
          "output_type": "execute_result",
          "data": {
            "text/plain": [
              "1824.0"
            ]
          },
          "metadata": {
            "tags": []
          },
          "execution_count": 56
        }
      ]
    },
    {
      "cell_type": "markdown",
      "metadata": {
        "id": "dHqGMKHz9S7Q"
      },
      "source": [
        "**Exercício 2.2** Mais uma vez, há um valor absurdo par a a idade. Selecione apenas os exemplos tais que 0 ≤ idade ≤ 110. Qual a maior idade identificada?\n",
        "\n",
        "Saída esperada: 109"
      ]
    },
    {
      "cell_type": "code",
      "metadata": {
        "id": "QqbabF-I-8hq",
        "outputId": "54e98152-52f9-47e0-8442-42f8c3f143d5",
        "colab": {
          "base_uri": "https://localhost:8080/",
          "height": 34
        }
      },
      "source": [
        "maxima_idade_coerente = (df_covid.loc[df_covid['idade']>0].loc[df_covid['idade']<=110].max())['idade']\n",
        "\n",
        "maxima_idade_coerente"
      ],
      "execution_count": null,
      "outputs": [
        {
          "output_type": "execute_result",
          "data": {
            "text/plain": [
              "109.0"
            ]
          },
          "metadata": {
            "tags": []
          },
          "execution_count": 69
        }
      ]
    },
    {
      "cell_type": "markdown",
      "metadata": {
        "id": "PO0Ir7gT-9jF"
      },
      "source": [
        "**Exercício 2.3** Qual a média de idade dos infectados? Considere o intervalo da questão anterior.\n",
        "\n",
        "Saída esperada: 42.51114971128116"
      ]
    },
    {
      "cell_type": "code",
      "metadata": {
        "id": "2wU1WzN9_j2l",
        "outputId": "4655be76-d015-4c0e-f71e-d7ca392e6a10",
        "colab": {
          "base_uri": "https://localhost:8080/",
          "height": 34
        }
      },
      "source": [
        "media_idade = (df_covid.loc[df_covid['idade']>0].loc[df_covid['idade']<=110].mean())['idade']\n",
        "\n",
        "media_idade"
      ],
      "execution_count": null,
      "outputs": [
        {
          "output_type": "execute_result",
          "data": {
            "text/plain": [
              "42.51114971128116"
            ]
          },
          "metadata": {
            "tags": []
          },
          "execution_count": 80
        }
      ]
    },
    {
      "cell_type": "markdown",
      "metadata": {
        "id": "7dAts2v5ATF9"
      },
      "source": [
        "**Exercício 2.4** Qual a moda entre as idades?\n",
        "\n",
        "Saída esperada: 39.0"
      ]
    },
    {
      "cell_type": "code",
      "metadata": {
        "id": "zdUwiSWVASY2",
        "outputId": "4b7995fa-fd73-4f07-87ab-4779ac62e435",
        "colab": {
          "base_uri": "https://localhost:8080/",
          "height": 34
        }
      },
      "source": [
        "moda_idade = (df_covid.loc[df_covid['idade']>0].loc[df_covid['idade']<=110].mode())['idade']\n",
        "\n",
        "moda_idade.loc[0]"
      ],
      "execution_count": null,
      "outputs": [
        {
          "output_type": "execute_result",
          "data": {
            "text/plain": [
              "39.0"
            ]
          },
          "metadata": {
            "tags": []
          },
          "execution_count": 85
        }
      ]
    },
    {
      "cell_type": "markdown",
      "metadata": {
        "id": "PsP7q71G_-a9"
      },
      "source": [
        "# **Semana 5**"
      ]
    },
    {
      "cell_type": "markdown",
      "metadata": {
        "id": "SD2G6qb_ACUx"
      },
      "source": [
        "## **Valores únicos e value counts**\n",
        "\n",
        "\n",
        "\n",
        "\n",
        "\n",
        "\n",
        "\n",
        "\n"
      ]
    },
    {
      "cell_type": "markdown",
      "metadata": {
        "id": "S0LQg_cNyvvy"
      },
      "source": [
        "Muitas vezes é útil saber os valores estão presentes numa series/coluna. Para este fim, usamos o método `unique`."
      ]
    },
    {
      "cell_type": "code",
      "metadata": {
        "id": "caQLGSR71okd",
        "outputId": "a4fa3bf4-1272-44ff-ef58-299defb29a5a",
        "colab": {
          "base_uri": "https://localhost:8080/",
          "height": 119
        }
      },
      "source": [
        "series = pd.Series(['a','b','c','c','c'])\n",
        "\n",
        "series"
      ],
      "execution_count": null,
      "outputs": [
        {
          "output_type": "execute_result",
          "data": {
            "text/plain": [
              "0    a\n",
              "1    b\n",
              "2    c\n",
              "3    c\n",
              "4    c\n",
              "dtype: object"
            ]
          },
          "metadata": {
            "tags": []
          },
          "execution_count": 3
        }
      ]
    },
    {
      "cell_type": "code",
      "metadata": {
        "id": "SuQlkBRI2MCs",
        "outputId": "6de8a1a8-0da7-46eb-df2a-f21167327a85",
        "colab": {
          "base_uri": "https://localhost:8080/",
          "height": 34
        }
      },
      "source": [
        "series.unique()"
      ],
      "execution_count": null,
      "outputs": [
        {
          "output_type": "execute_result",
          "data": {
            "text/plain": [
              "array(['a', 'b', 'c'], dtype=object)"
            ]
          },
          "metadata": {
            "tags": []
          },
          "execution_count": 4
        }
      ]
    },
    {
      "cell_type": "markdown",
      "metadata": {
        "id": "sFc3QaXy28gR"
      },
      "source": [
        "As frequências dos valores em uma series podem ser vizualizadas com o método `value_counts()`."
      ]
    },
    {
      "cell_type": "code",
      "metadata": {
        "id": "ceS0555v230c",
        "outputId": "03119f44-7e68-4274-fa4b-9f6083354b8a",
        "colab": {
          "base_uri": "https://localhost:8080/",
          "height": 85
        }
      },
      "source": [
        "series.value_counts()"
      ],
      "execution_count": null,
      "outputs": [
        {
          "output_type": "execute_result",
          "data": {
            "text/plain": [
              "c    3\n",
              "b    1\n",
              "a    1\n",
              "dtype: int64"
            ]
          },
          "metadata": {
            "tags": []
          },
          "execution_count": 5
        }
      ]
    },
    {
      "cell_type": "markdown",
      "metadata": {
        "id": "nnjZ6g24o8Yh"
      },
      "source": [
        "Além disso, o pandas disponibiliza o método isin() que verifica se determinado elemento pertence a uma series/um dataframe."
      ]
    },
    {
      "cell_type": "code",
      "metadata": {
        "id": "MgH7weB1pfht",
        "outputId": "ffb49780-5923-4f2f-cd57-7d38bf937975",
        "colab": {
          "base_uri": "https://localhost:8080/",
          "height": 142
        }
      },
      "source": [
        "df = pd.DataFrame({'a':[1,2,3],'b':[0,2,6]})\n",
        "\n",
        "df"
      ],
      "execution_count": null,
      "outputs": [
        {
          "output_type": "execute_result",
          "data": {
            "text/html": [
              "<div>\n",
              "<style scoped>\n",
              "    .dataframe tbody tr th:only-of-type {\n",
              "        vertical-align: middle;\n",
              "    }\n",
              "\n",
              "    .dataframe tbody tr th {\n",
              "        vertical-align: top;\n",
              "    }\n",
              "\n",
              "    .dataframe thead th {\n",
              "        text-align: right;\n",
              "    }\n",
              "</style>\n",
              "<table border=\"1\" class=\"dataframe\">\n",
              "  <thead>\n",
              "    <tr style=\"text-align: right;\">\n",
              "      <th></th>\n",
              "      <th>a</th>\n",
              "      <th>b</th>\n",
              "    </tr>\n",
              "  </thead>\n",
              "  <tbody>\n",
              "    <tr>\n",
              "      <th>0</th>\n",
              "      <td>1</td>\n",
              "      <td>0</td>\n",
              "    </tr>\n",
              "    <tr>\n",
              "      <th>1</th>\n",
              "      <td>2</td>\n",
              "      <td>2</td>\n",
              "    </tr>\n",
              "    <tr>\n",
              "      <th>2</th>\n",
              "      <td>3</td>\n",
              "      <td>6</td>\n",
              "    </tr>\n",
              "  </tbody>\n",
              "</table>\n",
              "</div>"
            ],
            "text/plain": [
              "   a  b\n",
              "0  1  0\n",
              "1  2  2\n",
              "2  3  6"
            ]
          },
          "metadata": {
            "tags": []
          },
          "execution_count": 6
        }
      ]
    },
    {
      "cell_type": "code",
      "metadata": {
        "id": "FxAaQZahqybH",
        "outputId": "32cabab9-28e5-41c0-df17-729c340f0d19",
        "colab": {
          "base_uri": "https://localhost:8080/",
          "height": 142
        }
      },
      "source": [
        "df.isin(['2'])"
      ],
      "execution_count": null,
      "outputs": [
        {
          "output_type": "execute_result",
          "data": {
            "text/html": [
              "<div>\n",
              "<style scoped>\n",
              "    .dataframe tbody tr th:only-of-type {\n",
              "        vertical-align: middle;\n",
              "    }\n",
              "\n",
              "    .dataframe tbody tr th {\n",
              "        vertical-align: top;\n",
              "    }\n",
              "\n",
              "    .dataframe thead th {\n",
              "        text-align: right;\n",
              "    }\n",
              "</style>\n",
              "<table border=\"1\" class=\"dataframe\">\n",
              "  <thead>\n",
              "    <tr style=\"text-align: right;\">\n",
              "      <th></th>\n",
              "      <th>a</th>\n",
              "      <th>b</th>\n",
              "    </tr>\n",
              "  </thead>\n",
              "  <tbody>\n",
              "    <tr>\n",
              "      <th>0</th>\n",
              "      <td>False</td>\n",
              "      <td>False</td>\n",
              "    </tr>\n",
              "    <tr>\n",
              "      <th>1</th>\n",
              "      <td>True</td>\n",
              "      <td>True</td>\n",
              "    </tr>\n",
              "    <tr>\n",
              "      <th>2</th>\n",
              "      <td>False</td>\n",
              "      <td>False</td>\n",
              "    </tr>\n",
              "  </tbody>\n",
              "</table>\n",
              "</div>"
            ],
            "text/plain": [
              "       a      b\n",
              "0  False  False\n",
              "1   True   True\n",
              "2  False  False"
            ]
          },
          "metadata": {
            "tags": []
          },
          "execution_count": 7
        }
      ]
    },
    {
      "cell_type": "markdown",
      "metadata": {
        "id": "tEm5lTfjAXC-"
      },
      "source": [
        "## **Dados Faltantes**"
      ]
    },
    {
      "cell_type": "markdown",
      "metadata": {
        "id": "WkPA2sKX724M"
      },
      "source": [
        "Seja por erro na confecção do dataset, indisponibilidade ou perda, entre outros fatores, os dados faltantes — dados não definidos ou incompletos — são um problema frequente.\n",
        "\n",
        "Duas abordagens são usuais para tratar desse inconveniente: a substituição e a remoção. Porém, antes de entrar em detalhe a respeito dessas metodologias, veremos como identificar tais lacunas."
      ]
    },
    {
      "cell_type": "markdown",
      "metadata": {
        "id": "EQNBpytYSGsc"
      },
      "source": [
        "No pandas, valores em branco são representados pelo valor `NaN` (Not A Number, em livre tradução, \"Não é um número\")."
      ]
    },
    {
      "cell_type": "markdown",
      "metadata": {
        "id": "O6INiQq7qqrl"
      },
      "source": [
        "O método `isnull()` retorna uma series/um dataframe booleano de mesmo índice do objeto que está sendo avaliado.\n",
        "\n",
        "Caso algum elemento no seja um `NaN`, o local correspondente no resultado será preenchido com o valor `True`; do contrário, `False`."
      ]
    },
    {
      "cell_type": "code",
      "metadata": {
        "id": "16wJ0s1FFkDA",
        "outputId": "fde24291-5e31-43dc-a57b-8f570237d7bb",
        "colab": {
          "base_uri": "https://localhost:8080/",
          "height": 142
        }
      },
      "source": [
        "dados = {'a': [1,2,None],'b':[None,1,None],'c':[1,5,None]}\n",
        "\n",
        "exemplo = pd.DataFrame(dados)\n",
        "\n",
        "exemplo"
      ],
      "execution_count": null,
      "outputs": [
        {
          "output_type": "execute_result",
          "data": {
            "text/html": [
              "<div>\n",
              "<style scoped>\n",
              "    .dataframe tbody tr th:only-of-type {\n",
              "        vertical-align: middle;\n",
              "    }\n",
              "\n",
              "    .dataframe tbody tr th {\n",
              "        vertical-align: top;\n",
              "    }\n",
              "\n",
              "    .dataframe thead th {\n",
              "        text-align: right;\n",
              "    }\n",
              "</style>\n",
              "<table border=\"1\" class=\"dataframe\">\n",
              "  <thead>\n",
              "    <tr style=\"text-align: right;\">\n",
              "      <th></th>\n",
              "      <th>a</th>\n",
              "      <th>b</th>\n",
              "      <th>c</th>\n",
              "    </tr>\n",
              "  </thead>\n",
              "  <tbody>\n",
              "    <tr>\n",
              "      <th>0</th>\n",
              "      <td>1.0</td>\n",
              "      <td>NaN</td>\n",
              "      <td>1.0</td>\n",
              "    </tr>\n",
              "    <tr>\n",
              "      <th>1</th>\n",
              "      <td>2.0</td>\n",
              "      <td>1.0</td>\n",
              "      <td>5.0</td>\n",
              "    </tr>\n",
              "    <tr>\n",
              "      <th>2</th>\n",
              "      <td>NaN</td>\n",
              "      <td>NaN</td>\n",
              "      <td>NaN</td>\n",
              "    </tr>\n",
              "  </tbody>\n",
              "</table>\n",
              "</div>"
            ],
            "text/plain": [
              "     a    b    c\n",
              "0  1.0  NaN  1.0\n",
              "1  2.0  1.0  5.0\n",
              "2  NaN  NaN  NaN"
            ]
          },
          "metadata": {
            "tags": []
          },
          "execution_count": 8
        }
      ]
    },
    {
      "cell_type": "code",
      "metadata": {
        "id": "FAy-Np73r6vs",
        "outputId": "46327324-33b6-43f5-871f-df6c8f1984e5",
        "colab": {
          "base_uri": "https://localhost:8080/",
          "height": 142
        }
      },
      "source": [
        "exemplo.isnull()"
      ],
      "execution_count": null,
      "outputs": [
        {
          "output_type": "execute_result",
          "data": {
            "text/html": [
              "<div>\n",
              "<style scoped>\n",
              "    .dataframe tbody tr th:only-of-type {\n",
              "        vertical-align: middle;\n",
              "    }\n",
              "\n",
              "    .dataframe tbody tr th {\n",
              "        vertical-align: top;\n",
              "    }\n",
              "\n",
              "    .dataframe thead th {\n",
              "        text-align: right;\n",
              "    }\n",
              "</style>\n",
              "<table border=\"1\" class=\"dataframe\">\n",
              "  <thead>\n",
              "    <tr style=\"text-align: right;\">\n",
              "      <th></th>\n",
              "      <th>a</th>\n",
              "      <th>b</th>\n",
              "      <th>c</th>\n",
              "    </tr>\n",
              "  </thead>\n",
              "  <tbody>\n",
              "    <tr>\n",
              "      <th>0</th>\n",
              "      <td>False</td>\n",
              "      <td>True</td>\n",
              "      <td>False</td>\n",
              "    </tr>\n",
              "    <tr>\n",
              "      <th>1</th>\n",
              "      <td>False</td>\n",
              "      <td>False</td>\n",
              "      <td>False</td>\n",
              "    </tr>\n",
              "    <tr>\n",
              "      <th>2</th>\n",
              "      <td>True</td>\n",
              "      <td>True</td>\n",
              "      <td>True</td>\n",
              "    </tr>\n",
              "  </tbody>\n",
              "</table>\n",
              "</div>"
            ],
            "text/plain": [
              "       a      b      c\n",
              "0  False   True  False\n",
              "1  False  False  False\n",
              "2   True   True   True"
            ]
          },
          "metadata": {
            "tags": []
          },
          "execution_count": 9
        }
      ]
    },
    {
      "cell_type": "markdown",
      "metadata": {
        "id": "EsE_kgdWtYjZ"
      },
      "source": [
        "Há também o notnull(), que retorna `False` para `NaN` e \n",
        "`True` para outros valores."
      ]
    },
    {
      "cell_type": "code",
      "metadata": {
        "id": "yz5VdjgAtv9S",
        "outputId": "f8378405-486d-4fbc-c481-79d9e51b0b91",
        "colab": {
          "base_uri": "https://localhost:8080/",
          "height": 142
        }
      },
      "source": [
        "exemplo.notnull()"
      ],
      "execution_count": null,
      "outputs": [
        {
          "output_type": "execute_result",
          "data": {
            "text/html": [
              "<div>\n",
              "<style scoped>\n",
              "    .dataframe tbody tr th:only-of-type {\n",
              "        vertical-align: middle;\n",
              "    }\n",
              "\n",
              "    .dataframe tbody tr th {\n",
              "        vertical-align: top;\n",
              "    }\n",
              "\n",
              "    .dataframe thead th {\n",
              "        text-align: right;\n",
              "    }\n",
              "</style>\n",
              "<table border=\"1\" class=\"dataframe\">\n",
              "  <thead>\n",
              "    <tr style=\"text-align: right;\">\n",
              "      <th></th>\n",
              "      <th>a</th>\n",
              "      <th>b</th>\n",
              "      <th>c</th>\n",
              "    </tr>\n",
              "  </thead>\n",
              "  <tbody>\n",
              "    <tr>\n",
              "      <th>0</th>\n",
              "      <td>True</td>\n",
              "      <td>False</td>\n",
              "      <td>True</td>\n",
              "    </tr>\n",
              "    <tr>\n",
              "      <th>1</th>\n",
              "      <td>True</td>\n",
              "      <td>True</td>\n",
              "      <td>True</td>\n",
              "    </tr>\n",
              "    <tr>\n",
              "      <th>2</th>\n",
              "      <td>False</td>\n",
              "      <td>False</td>\n",
              "      <td>False</td>\n",
              "    </tr>\n",
              "  </tbody>\n",
              "</table>\n",
              "</div>"
            ],
            "text/plain": [
              "       a      b      c\n",
              "0   True  False   True\n",
              "1   True   True   True\n",
              "2  False  False  False"
            ]
          },
          "metadata": {
            "tags": []
          },
          "execution_count": 10
        }
      ]
    },
    {
      "cell_type": "markdown",
      "metadata": {
        "id": "6kzPAbgGt7Ei"
      },
      "source": [
        "**Exercício 1.1** Alguns datasets podem ter representações particulares para os dados faltantes, como as strings `'?'`, `'NA'` e `'N/A'`. Naturalmente,  `isnull` e `notnull` são capazes de detectá-los. Como identificar a existência desses valores numa coluna/linha?"
      ]
    },
    {
      "cell_type": "markdown",
      "metadata": {
        "id": "cMsM7pLEGpJi"
      },
      "source": [
        "Podemos identificar esses valores usando o índice (filtro) por linha ou coluna. Como feito abaixo:"
      ]
    },
    {
      "cell_type": "code",
      "metadata": {
        "id": "VPW3ylLoHzVK",
        "outputId": "03c851d1-dd7a-47fd-f54c-44f4e56c31da",
        "colab": {
          "base_uri": "https://localhost:8080/",
          "height": 142
        }
      },
      "source": [
        "#Utilizando o isnull e filtrando uma coluna\n",
        "exemplo1 = pd.DataFrame(exemplo['b'].isnull())\n",
        "exemplo1\n"
      ],
      "execution_count": null,
      "outputs": [
        {
          "output_type": "execute_result",
          "data": {
            "text/html": [
              "<div>\n",
              "<style scoped>\n",
              "    .dataframe tbody tr th:only-of-type {\n",
              "        vertical-align: middle;\n",
              "    }\n",
              "\n",
              "    .dataframe tbody tr th {\n",
              "        vertical-align: top;\n",
              "    }\n",
              "\n",
              "    .dataframe thead th {\n",
              "        text-align: right;\n",
              "    }\n",
              "</style>\n",
              "<table border=\"1\" class=\"dataframe\">\n",
              "  <thead>\n",
              "    <tr style=\"text-align: right;\">\n",
              "      <th></th>\n",
              "      <th>b</th>\n",
              "    </tr>\n",
              "  </thead>\n",
              "  <tbody>\n",
              "    <tr>\n",
              "      <th>0</th>\n",
              "      <td>False</td>\n",
              "    </tr>\n",
              "    <tr>\n",
              "      <th>1</th>\n",
              "      <td>False</td>\n",
              "    </tr>\n",
              "    <tr>\n",
              "      <th>2</th>\n",
              "      <td>False</td>\n",
              "    </tr>\n",
              "  </tbody>\n",
              "</table>\n",
              "</div>"
            ],
            "text/plain": [
              "       b\n",
              "0  False\n",
              "1  False\n",
              "2  False"
            ]
          },
          "metadata": {
            "tags": []
          },
          "execution_count": 78
        }
      ]
    },
    {
      "cell_type": "code",
      "metadata": {
        "id": "ONRZLQGJIcgS",
        "outputId": "04b0c3e1-e97b-4fc2-c26e-d673f9210dd6",
        "colab": {
          "base_uri": "https://localhost:8080/",
          "height": 142
        }
      },
      "source": [
        "#Utilizando o notnull e filtrando uma linha\n",
        "exemplo2 = pd.DataFrame(exemplo.loc[0].notnull())\n",
        "exemplo2\n"
      ],
      "execution_count": null,
      "outputs": [
        {
          "output_type": "execute_result",
          "data": {
            "text/html": [
              "<div>\n",
              "<style scoped>\n",
              "    .dataframe tbody tr th:only-of-type {\n",
              "        vertical-align: middle;\n",
              "    }\n",
              "\n",
              "    .dataframe tbody tr th {\n",
              "        vertical-align: top;\n",
              "    }\n",
              "\n",
              "    .dataframe thead th {\n",
              "        text-align: right;\n",
              "    }\n",
              "</style>\n",
              "<table border=\"1\" class=\"dataframe\">\n",
              "  <thead>\n",
              "    <tr style=\"text-align: right;\">\n",
              "      <th></th>\n",
              "      <th>0</th>\n",
              "    </tr>\n",
              "  </thead>\n",
              "  <tbody>\n",
              "    <tr>\n",
              "      <th>a</th>\n",
              "      <td>True</td>\n",
              "    </tr>\n",
              "    <tr>\n",
              "      <th>b</th>\n",
              "      <td>False</td>\n",
              "    </tr>\n",
              "    <tr>\n",
              "      <th>c</th>\n",
              "      <td>True</td>\n",
              "    </tr>\n",
              "  </tbody>\n",
              "</table>\n",
              "</div>"
            ],
            "text/plain": [
              "       0\n",
              "a   True\n",
              "b  False\n",
              "c   True"
            ]
          },
          "metadata": {
            "tags": []
          },
          "execution_count": 32
        }
      ]
    },
    {
      "cell_type": "markdown",
      "metadata": {
        "id": "l043CHYVsu1i"
      },
      "source": [
        "### **Remoção**"
      ]
    },
    {
      "cell_type": "markdown",
      "metadata": {
        "id": "4GTNuRBBvpgt"
      },
      "source": [
        "Para remoção/filtragem de NaNs, o pandas disponibiliza o `dropna()`."
      ]
    },
    {
      "cell_type": "markdown",
      "metadata": {
        "id": "6IgJgXW4wLaB"
      },
      "source": [
        "Em Series, o uso do `dropna` retorna apenas os exemplos não nulos."
      ]
    },
    {
      "cell_type": "code",
      "metadata": {
        "id": "uiWDOXddv2yq",
        "outputId": "65a94005-f6f6-4f6a-dd43-24db7ae3b647",
        "colab": {
          "base_uri": "https://localhost:8080/",
          "height": 85
        }
      },
      "source": [
        "series = exemplo['b']\n",
        "\n",
        "series"
      ],
      "execution_count": null,
      "outputs": [
        {
          "output_type": "execute_result",
          "data": {
            "text/plain": [
              "0    NaN\n",
              "1    1.0\n",
              "2    NaN\n",
              "Name: b, dtype: float64"
            ]
          },
          "metadata": {
            "tags": []
          },
          "execution_count": 37
        }
      ]
    },
    {
      "cell_type": "code",
      "metadata": {
        "id": "UsphyeL-wFvq",
        "outputId": "c3db88ea-3bd5-45b7-d9b0-0c3e21b6f9ab",
        "colab": {
          "base_uri": "https://localhost:8080/",
          "height": 51
        }
      },
      "source": [
        "series.dropna()"
      ],
      "execution_count": null,
      "outputs": [
        {
          "output_type": "execute_result",
          "data": {
            "text/plain": [
              "1    1.0\n",
              "Name: b, dtype: float64"
            ]
          },
          "metadata": {
            "tags": []
          },
          "execution_count": 38
        }
      ]
    },
    {
      "cell_type": "markdown",
      "metadata": {
        "id": "62MJ34j0wjhC"
      },
      "source": [
        "Já nos DataFrames, por padrão, todas as linhas que contém pelo menos um NaN serão dispensadas."
      ]
    },
    {
      "cell_type": "code",
      "metadata": {
        "id": "UFq4x94uxQcb",
        "outputId": "550d9cc9-c729-4256-9e32-37508194438c",
        "colab": {
          "base_uri": "https://localhost:8080/",
          "height": 80
        }
      },
      "source": [
        "exemplo.dropna()"
      ],
      "execution_count": null,
      "outputs": [
        {
          "output_type": "execute_result",
          "data": {
            "text/html": [
              "<div>\n",
              "<style scoped>\n",
              "    .dataframe tbody tr th:only-of-type {\n",
              "        vertical-align: middle;\n",
              "    }\n",
              "\n",
              "    .dataframe tbody tr th {\n",
              "        vertical-align: top;\n",
              "    }\n",
              "\n",
              "    .dataframe thead th {\n",
              "        text-align: right;\n",
              "    }\n",
              "</style>\n",
              "<table border=\"1\" class=\"dataframe\">\n",
              "  <thead>\n",
              "    <tr style=\"text-align: right;\">\n",
              "      <th></th>\n",
              "      <th>a</th>\n",
              "      <th>b</th>\n",
              "      <th>c</th>\n",
              "    </tr>\n",
              "  </thead>\n",
              "  <tbody>\n",
              "    <tr>\n",
              "      <th>1</th>\n",
              "      <td>2.0</td>\n",
              "      <td>1.0</td>\n",
              "      <td>5.0</td>\n",
              "    </tr>\n",
              "  </tbody>\n",
              "</table>\n",
              "</div>"
            ],
            "text/plain": [
              "     a    b    c\n",
              "1  2.0  1.0  5.0"
            ]
          },
          "metadata": {
            "tags": []
          },
          "execution_count": 39
        }
      ]
    },
    {
      "cell_type": "markdown",
      "metadata": {
        "id": "8uFVO_UqxfeK"
      },
      "source": [
        "De forma similar, se atribuído `1` ao `axis`, as colunas são dispensadas."
      ]
    },
    {
      "cell_type": "code",
      "metadata": {
        "id": "E0rNNybbxt7C",
        "outputId": "a0349852-c896-4947-ef17-40a7c5716442",
        "colab": {
          "base_uri": "https://localhost:8080/",
          "height": 125
        }
      },
      "source": [
        "exemplo.dropna(axis=1)"
      ],
      "execution_count": null,
      "outputs": [
        {
          "output_type": "execute_result",
          "data": {
            "text/html": [
              "<div>\n",
              "<style scoped>\n",
              "    .dataframe tbody tr th:only-of-type {\n",
              "        vertical-align: middle;\n",
              "    }\n",
              "\n",
              "    .dataframe tbody tr th {\n",
              "        vertical-align: top;\n",
              "    }\n",
              "\n",
              "    .dataframe thead th {\n",
              "        text-align: right;\n",
              "    }\n",
              "</style>\n",
              "<table border=\"1\" class=\"dataframe\">\n",
              "  <thead>\n",
              "    <tr style=\"text-align: right;\">\n",
              "      <th></th>\n",
              "    </tr>\n",
              "  </thead>\n",
              "  <tbody>\n",
              "    <tr>\n",
              "      <th>0</th>\n",
              "    </tr>\n",
              "    <tr>\n",
              "      <th>1</th>\n",
              "    </tr>\n",
              "    <tr>\n",
              "      <th>2</th>\n",
              "    </tr>\n",
              "  </tbody>\n",
              "</table>\n",
              "</div>"
            ],
            "text/plain": [
              "Empty DataFrame\n",
              "Columns: []\n",
              "Index: [0, 1, 2]"
            ]
          },
          "metadata": {
            "tags": []
          },
          "execution_count": 40
        }
      ]
    },
    {
      "cell_type": "markdown",
      "metadata": {
        "id": "2uRt4UIKySzh"
      },
      "source": [
        "É possível dispensar apenas as colunas/linhas onde todos os valores são nulos, ao atribuir `'all'` para o argumento `how`."
      ]
    },
    {
      "cell_type": "code",
      "metadata": {
        "id": "ngDT11LMyk2S",
        "outputId": "87317f75-51c4-4fd9-f0be-8f4eaf82caa9",
        "colab": {
          "base_uri": "https://localhost:8080/",
          "height": 111
        }
      },
      "source": [
        "exemplo.dropna(how='all')"
      ],
      "execution_count": null,
      "outputs": [
        {
          "output_type": "execute_result",
          "data": {
            "text/html": [
              "<div>\n",
              "<style scoped>\n",
              "    .dataframe tbody tr th:only-of-type {\n",
              "        vertical-align: middle;\n",
              "    }\n",
              "\n",
              "    .dataframe tbody tr th {\n",
              "        vertical-align: top;\n",
              "    }\n",
              "\n",
              "    .dataframe thead th {\n",
              "        text-align: right;\n",
              "    }\n",
              "</style>\n",
              "<table border=\"1\" class=\"dataframe\">\n",
              "  <thead>\n",
              "    <tr style=\"text-align: right;\">\n",
              "      <th></th>\n",
              "      <th>a</th>\n",
              "      <th>b</th>\n",
              "      <th>c</th>\n",
              "    </tr>\n",
              "  </thead>\n",
              "  <tbody>\n",
              "    <tr>\n",
              "      <th>0</th>\n",
              "      <td>1.0</td>\n",
              "      <td>NaN</td>\n",
              "      <td>1.0</td>\n",
              "    </tr>\n",
              "    <tr>\n",
              "      <th>1</th>\n",
              "      <td>2.0</td>\n",
              "      <td>1.0</td>\n",
              "      <td>5.0</td>\n",
              "    </tr>\n",
              "  </tbody>\n",
              "</table>\n",
              "</div>"
            ],
            "text/plain": [
              "     a    b    c\n",
              "0  1.0  NaN  1.0\n",
              "1  2.0  1.0  5.0"
            ]
          },
          "metadata": {
            "tags": []
          },
          "execution_count": 41
        }
      ]
    },
    {
      "cell_type": "markdown",
      "metadata": {
        "id": "7ROkZ6dmsyGT"
      },
      "source": [
        "### **Substituição**"
      ]
    },
    {
      "cell_type": "markdown",
      "metadata": {
        "id": "F_75FnjS0FB9"
      },
      "source": [
        "Em alguns casos, é mais útil subistituir os valores faltantes do que descartá-los. Para este fim, há o método `fillna()`."
      ]
    },
    {
      "cell_type": "code",
      "metadata": {
        "id": "_CoQS3hU2Jif",
        "outputId": "2f2bb8ba-5841-4f79-c6f6-e94ee5f2e766",
        "colab": {
          "base_uri": "https://localhost:8080/",
          "height": 142
        }
      },
      "source": [
        "# Passar um único número 'x' substitui todos os NaNs por 'x'\n",
        "\n",
        "exemplo.fillna(10)"
      ],
      "execution_count": null,
      "outputs": [
        {
          "output_type": "execute_result",
          "data": {
            "text/html": [
              "<div>\n",
              "<style scoped>\n",
              "    .dataframe tbody tr th:only-of-type {\n",
              "        vertical-align: middle;\n",
              "    }\n",
              "\n",
              "    .dataframe tbody tr th {\n",
              "        vertical-align: top;\n",
              "    }\n",
              "\n",
              "    .dataframe thead th {\n",
              "        text-align: right;\n",
              "    }\n",
              "</style>\n",
              "<table border=\"1\" class=\"dataframe\">\n",
              "  <thead>\n",
              "    <tr style=\"text-align: right;\">\n",
              "      <th></th>\n",
              "      <th>a</th>\n",
              "      <th>b</th>\n",
              "      <th>c</th>\n",
              "    </tr>\n",
              "  </thead>\n",
              "  <tbody>\n",
              "    <tr>\n",
              "      <th>0</th>\n",
              "      <td>1.0</td>\n",
              "      <td>10.0</td>\n",
              "      <td>1.0</td>\n",
              "    </tr>\n",
              "    <tr>\n",
              "      <th>1</th>\n",
              "      <td>2.0</td>\n",
              "      <td>1.0</td>\n",
              "      <td>5.0</td>\n",
              "    </tr>\n",
              "    <tr>\n",
              "      <th>2</th>\n",
              "      <td>10.0</td>\n",
              "      <td>10.0</td>\n",
              "      <td>10.0</td>\n",
              "    </tr>\n",
              "  </tbody>\n",
              "</table>\n",
              "</div>"
            ],
            "text/plain": [
              "      a     b     c\n",
              "0   1.0  10.0   1.0\n",
              "1   2.0   1.0   5.0\n",
              "2  10.0  10.0  10.0"
            ]
          },
          "metadata": {
            "tags": []
          },
          "execution_count": 42
        }
      ]
    },
    {
      "cell_type": "markdown",
      "metadata": {
        "id": "PeeKgazG4cQT"
      },
      "source": [
        "É possivel definir valores de substituição específicos para cada coluna usando um dict ou uma Series."
      ]
    },
    {
      "cell_type": "code",
      "metadata": {
        "id": "6cVgrmnT2JyF",
        "outputId": "2fa8a2d3-168b-4b47-9d20-4aa20918a3e7",
        "colab": {
          "base_uri": "https://localhost:8080/",
          "height": 142
        }
      },
      "source": [
        "# dict\n",
        "\n",
        "exemplo.fillna({'a': 1,'b': 2,'c': 3})"
      ],
      "execution_count": null,
      "outputs": [
        {
          "output_type": "execute_result",
          "data": {
            "text/html": [
              "<div>\n",
              "<style scoped>\n",
              "    .dataframe tbody tr th:only-of-type {\n",
              "        vertical-align: middle;\n",
              "    }\n",
              "\n",
              "    .dataframe tbody tr th {\n",
              "        vertical-align: top;\n",
              "    }\n",
              "\n",
              "    .dataframe thead th {\n",
              "        text-align: right;\n",
              "    }\n",
              "</style>\n",
              "<table border=\"1\" class=\"dataframe\">\n",
              "  <thead>\n",
              "    <tr style=\"text-align: right;\">\n",
              "      <th></th>\n",
              "      <th>a</th>\n",
              "      <th>b</th>\n",
              "      <th>c</th>\n",
              "    </tr>\n",
              "  </thead>\n",
              "  <tbody>\n",
              "    <tr>\n",
              "      <th>0</th>\n",
              "      <td>1.0</td>\n",
              "      <td>2.0</td>\n",
              "      <td>1.0</td>\n",
              "    </tr>\n",
              "    <tr>\n",
              "      <th>1</th>\n",
              "      <td>2.0</td>\n",
              "      <td>1.0</td>\n",
              "      <td>5.0</td>\n",
              "    </tr>\n",
              "    <tr>\n",
              "      <th>2</th>\n",
              "      <td>1.0</td>\n",
              "      <td>2.0</td>\n",
              "      <td>3.0</td>\n",
              "    </tr>\n",
              "  </tbody>\n",
              "</table>\n",
              "</div>"
            ],
            "text/plain": [
              "     a    b    c\n",
              "0  1.0  2.0  1.0\n",
              "1  2.0  1.0  5.0\n",
              "2  1.0  2.0  3.0"
            ]
          },
          "metadata": {
            "tags": []
          },
          "execution_count": 43
        }
      ]
    },
    {
      "cell_type": "code",
      "metadata": {
        "id": "aA223QFs4uM7",
        "outputId": "9a4a9496-265e-4378-9095-0cf75fdf21fd",
        "colab": {
          "base_uri": "https://localhost:8080/",
          "height": 142
        }
      },
      "source": [
        "# Series\n",
        "\n",
        "medias = exemplo.mean()\n",
        "exemplo.fillna(medias)"
      ],
      "execution_count": null,
      "outputs": [
        {
          "output_type": "execute_result",
          "data": {
            "text/html": [
              "<div>\n",
              "<style scoped>\n",
              "    .dataframe tbody tr th:only-of-type {\n",
              "        vertical-align: middle;\n",
              "    }\n",
              "\n",
              "    .dataframe tbody tr th {\n",
              "        vertical-align: top;\n",
              "    }\n",
              "\n",
              "    .dataframe thead th {\n",
              "        text-align: right;\n",
              "    }\n",
              "</style>\n",
              "<table border=\"1\" class=\"dataframe\">\n",
              "  <thead>\n",
              "    <tr style=\"text-align: right;\">\n",
              "      <th></th>\n",
              "      <th>a</th>\n",
              "      <th>b</th>\n",
              "      <th>c</th>\n",
              "    </tr>\n",
              "  </thead>\n",
              "  <tbody>\n",
              "    <tr>\n",
              "      <th>0</th>\n",
              "      <td>1.0</td>\n",
              "      <td>1.0</td>\n",
              "      <td>1.0</td>\n",
              "    </tr>\n",
              "    <tr>\n",
              "      <th>1</th>\n",
              "      <td>2.0</td>\n",
              "      <td>1.0</td>\n",
              "      <td>5.0</td>\n",
              "    </tr>\n",
              "    <tr>\n",
              "      <th>2</th>\n",
              "      <td>1.5</td>\n",
              "      <td>1.0</td>\n",
              "      <td>3.0</td>\n",
              "    </tr>\n",
              "  </tbody>\n",
              "</table>\n",
              "</div>"
            ],
            "text/plain": [
              "     a    b    c\n",
              "0  1.0  1.0  1.0\n",
              "1  2.0  1.0  5.0\n",
              "2  1.5  1.0  3.0"
            ]
          },
          "metadata": {
            "tags": []
          },
          "execution_count": 44
        }
      ]
    },
    {
      "cell_type": "markdown",
      "metadata": {
        "id": "3xMeN8hG5MCz"
      },
      "source": [
        "Note que não há alterações no conteúdo da variável `exemplo`.\n",
        "\n"
      ]
    },
    {
      "cell_type": "code",
      "metadata": {
        "id": "Kef1qanv6vIE",
        "outputId": "eb2b889d-d3c7-4ec6-e16a-f2c7ec1a5ae6",
        "colab": {
          "base_uri": "https://localhost:8080/",
          "height": 142
        }
      },
      "source": [
        "exemplo"
      ],
      "execution_count": null,
      "outputs": [
        {
          "output_type": "execute_result",
          "data": {
            "text/html": [
              "<div>\n",
              "<style scoped>\n",
              "    .dataframe tbody tr th:only-of-type {\n",
              "        vertical-align: middle;\n",
              "    }\n",
              "\n",
              "    .dataframe tbody tr th {\n",
              "        vertical-align: top;\n",
              "    }\n",
              "\n",
              "    .dataframe thead th {\n",
              "        text-align: right;\n",
              "    }\n",
              "</style>\n",
              "<table border=\"1\" class=\"dataframe\">\n",
              "  <thead>\n",
              "    <tr style=\"text-align: right;\">\n",
              "      <th></th>\n",
              "      <th>a</th>\n",
              "      <th>b</th>\n",
              "      <th>c</th>\n",
              "    </tr>\n",
              "  </thead>\n",
              "  <tbody>\n",
              "    <tr>\n",
              "      <th>0</th>\n",
              "      <td>1.0</td>\n",
              "      <td>NaN</td>\n",
              "      <td>1.0</td>\n",
              "    </tr>\n",
              "    <tr>\n",
              "      <th>1</th>\n",
              "      <td>2.0</td>\n",
              "      <td>1.0</td>\n",
              "      <td>5.0</td>\n",
              "    </tr>\n",
              "    <tr>\n",
              "      <th>2</th>\n",
              "      <td>NaN</td>\n",
              "      <td>NaN</td>\n",
              "      <td>NaN</td>\n",
              "    </tr>\n",
              "  </tbody>\n",
              "</table>\n",
              "</div>"
            ],
            "text/plain": [
              "     a    b    c\n",
              "0  1.0  NaN  1.0\n",
              "1  2.0  1.0  5.0\n",
              "2  NaN  NaN  NaN"
            ]
          },
          "metadata": {
            "tags": []
          },
          "execution_count": 45
        }
      ]
    },
    {
      "cell_type": "markdown",
      "metadata": {
        "id": "D2mhUFMS6uJr"
      },
      "source": [
        "`exemplo.fillna(algo)` apenas retorna uma cópia do DataFrame original com as mudanças solicitadas, sem alterá-lo. \n",
        "\n",
        "Para modificá-lo, basta passar o argumento `inplace` como `True`."
      ]
    },
    {
      "cell_type": "code",
      "metadata": {
        "id": "FNRXfXyF6eju",
        "outputId": "b1fca0ce-bb73-4b6d-f097-83cd3ac1cdf7",
        "colab": {
          "base_uri": "https://localhost:8080/",
          "height": 142
        }
      },
      "source": [
        "exemplo.fillna(medias,inplace=True)\n",
        "\n",
        "exemplo"
      ],
      "execution_count": null,
      "outputs": [
        {
          "output_type": "execute_result",
          "data": {
            "text/html": [
              "<div>\n",
              "<style scoped>\n",
              "    .dataframe tbody tr th:only-of-type {\n",
              "        vertical-align: middle;\n",
              "    }\n",
              "\n",
              "    .dataframe tbody tr th {\n",
              "        vertical-align: top;\n",
              "    }\n",
              "\n",
              "    .dataframe thead th {\n",
              "        text-align: right;\n",
              "    }\n",
              "</style>\n",
              "<table border=\"1\" class=\"dataframe\">\n",
              "  <thead>\n",
              "    <tr style=\"text-align: right;\">\n",
              "      <th></th>\n",
              "      <th>a</th>\n",
              "      <th>b</th>\n",
              "      <th>c</th>\n",
              "    </tr>\n",
              "  </thead>\n",
              "  <tbody>\n",
              "    <tr>\n",
              "      <th>0</th>\n",
              "      <td>1.0</td>\n",
              "      <td>1.0</td>\n",
              "      <td>1.0</td>\n",
              "    </tr>\n",
              "    <tr>\n",
              "      <th>1</th>\n",
              "      <td>2.0</td>\n",
              "      <td>1.0</td>\n",
              "      <td>5.0</td>\n",
              "    </tr>\n",
              "    <tr>\n",
              "      <th>2</th>\n",
              "      <td>1.5</td>\n",
              "      <td>1.0</td>\n",
              "      <td>3.0</td>\n",
              "    </tr>\n",
              "  </tbody>\n",
              "</table>\n",
              "</div>"
            ],
            "text/plain": [
              "     a    b    c\n",
              "0  1.0  1.0  1.0\n",
              "1  2.0  1.0  5.0\n",
              "2  1.5  1.0  3.0"
            ]
          },
          "metadata": {
            "tags": []
          },
          "execution_count": 46
        }
      ]
    },
    {
      "cell_type": "markdown",
      "metadata": {
        "id": "bZLfR2R14-mb"
      },
      "source": [
        "Por fim, o método `counts()` retorna a quantidade de valores diferentes de NaN em uma linha/coluna."
      ]
    },
    {
      "cell_type": "code",
      "metadata": {
        "id": "-D1jfYvQ5YZy",
        "outputId": "01cfb034-7a9c-49a2-c978-6dc0da6a059e",
        "colab": {
          "base_uri": "https://localhost:8080/",
          "height": 142
        }
      },
      "source": [
        "dados = {'a': [1,2,None],'b':[None,1,None],'c':[1,5,None]}\n",
        "\n",
        "exemplo = pd.DataFrame(dados, index = ['id1','id2','id3'])\n",
        "\n",
        "exemplo"
      ],
      "execution_count": null,
      "outputs": [
        {
          "output_type": "execute_result",
          "data": {
            "text/html": [
              "<div>\n",
              "<style scoped>\n",
              "    .dataframe tbody tr th:only-of-type {\n",
              "        vertical-align: middle;\n",
              "    }\n",
              "\n",
              "    .dataframe tbody tr th {\n",
              "        vertical-align: top;\n",
              "    }\n",
              "\n",
              "    .dataframe thead th {\n",
              "        text-align: right;\n",
              "    }\n",
              "</style>\n",
              "<table border=\"1\" class=\"dataframe\">\n",
              "  <thead>\n",
              "    <tr style=\"text-align: right;\">\n",
              "      <th></th>\n",
              "      <th>a</th>\n",
              "      <th>b</th>\n",
              "      <th>c</th>\n",
              "    </tr>\n",
              "  </thead>\n",
              "  <tbody>\n",
              "    <tr>\n",
              "      <th>id1</th>\n",
              "      <td>1.0</td>\n",
              "      <td>NaN</td>\n",
              "      <td>1.0</td>\n",
              "    </tr>\n",
              "    <tr>\n",
              "      <th>id2</th>\n",
              "      <td>2.0</td>\n",
              "      <td>1.0</td>\n",
              "      <td>5.0</td>\n",
              "    </tr>\n",
              "    <tr>\n",
              "      <th>id3</th>\n",
              "      <td>NaN</td>\n",
              "      <td>NaN</td>\n",
              "      <td>NaN</td>\n",
              "    </tr>\n",
              "  </tbody>\n",
              "</table>\n",
              "</div>"
            ],
            "text/plain": [
              "       a    b    c\n",
              "id1  1.0  NaN  1.0\n",
              "id2  2.0  1.0  5.0\n",
              "id3  NaN  NaN  NaN"
            ]
          },
          "metadata": {
            "tags": []
          },
          "execution_count": 15
        }
      ]
    },
    {
      "cell_type": "code",
      "metadata": {
        "id": "C_85EMaA48ZG",
        "outputId": "ccf84a70-8ad4-47c3-b127-b6c0b4ed4280",
        "colab": {
          "base_uri": "https://localhost:8080/",
          "height": 85
        }
      },
      "source": [
        "# Em colunas\n",
        "exemplo.count()"
      ],
      "execution_count": null,
      "outputs": [
        {
          "output_type": "execute_result",
          "data": {
            "text/plain": [
              "a    2\n",
              "b    1\n",
              "c    2\n",
              "dtype: int64"
            ]
          },
          "metadata": {
            "tags": []
          },
          "execution_count": 12
        }
      ]
    },
    {
      "cell_type": "code",
      "metadata": {
        "id": "Is1qxwKB5gz6",
        "outputId": "ae4ec196-e201-4e7d-fd35-9347eacf4368",
        "colab": {
          "base_uri": "https://localhost:8080/",
          "height": 85
        }
      },
      "source": [
        "# Nas linhas\n",
        "\n",
        "exemplo.count(axis=1)"
      ],
      "execution_count": null,
      "outputs": [
        {
          "output_type": "execute_result",
          "data": {
            "text/plain": [
              "id1    2\n",
              "id2    3\n",
              "id3    0\n",
              "dtype: int64"
            ]
          },
          "metadata": {
            "tags": []
          },
          "execution_count": 16
        }
      ]
    },
    {
      "cell_type": "markdown",
      "metadata": {
        "id": "n0Z5iRzY9GyR"
      },
      "source": [
        "## **Gráficos de barras**"
      ]
    },
    {
      "cell_type": "markdown",
      "metadata": {
        "id": "B3xeHyvDLQdx"
      },
      "source": [
        "O gráfico de barras é um gráfico similar ao histograma, bastante útil para comparação de quantidades. Nele cada barra representa uma categoria e possui tamanho proporcional ao valor atribuido a essa categoria."
      ]
    },
    {
      "cell_type": "markdown",
      "metadata": {
        "id": "Rx0theFAH3Ls"
      },
      "source": [
        "Para criar um gráfico de barras, basta usar \n",
        "```python\n",
        "plt.bar(eixo_x, height =  eixo_y)\n",
        "```\n",
        "\n"
      ]
    },
    {
      "cell_type": "markdown",
      "metadata": {
        "id": "rq0x1Hw6MM_z"
      },
      "source": [
        "Por exemplo:"
      ]
    },
    {
      "cell_type": "code",
      "metadata": {
        "id": "l0ZzOizRJXeM",
        "outputId": "3053ac2f-9b6c-4677-adaa-ef472ce350ae",
        "colab": {
          "base_uri": "https://localhost:8080/",
          "height": 85
        }
      },
      "source": [
        "dados = {'a': [1,2,0],'b':[0,1,9],'c':[1,5,10]}\n",
        "\n",
        "exemplo = pd.DataFrame(dados)\n",
        "\n",
        "soma = exemplo.sum()\n",
        "\n",
        "soma"
      ],
      "execution_count": null,
      "outputs": [
        {
          "output_type": "execute_result",
          "data": {
            "text/plain": [
              "a     3\n",
              "b    10\n",
              "c    16\n",
              "dtype: int64"
            ]
          },
          "metadata": {
            "tags": []
          },
          "execution_count": 69
        }
      ]
    },
    {
      "cell_type": "code",
      "metadata": {
        "id": "n8AwA-wpJxFU",
        "outputId": "7d83f67d-4e0c-4d15-9b1e-eac2dcf295fe",
        "colab": {
          "base_uri": "https://localhost:8080/",
          "height": 692
        }
      },
      "source": [
        "x = soma.index.values # Rótulos/nomes das barras\n",
        "y = soma.values # Valores\n",
        "\n",
        "plt.bar(x,height = y)"
      ],
      "execution_count": null,
      "outputs": [
        {
          "output_type": "execute_result",
          "data": {
            "text/plain": [
              "<BarContainer object of 3 artists>"
            ]
          },
          "metadata": {
            "tags": []
          },
          "execution_count": 72
        },
        {
          "output_type": "display_data",
          "data": {
            "image/png": "[encoded data removed]",
            "text/plain": [
              "<Figure size 1512x1080 with 1 Axes>"
            ]
          },
          "metadata": {
            "tags": [],
            "needs_background": "light"
          }
        }
      ]
    },
    {
      "cell_type": "markdown",
      "metadata": {
        "id": "1LBETI2RIlyJ"
      },
      "source": [
        "Por padrão a cor das barras é azul, mas pode ser alterada com o argumento `color`."
      ]
    },
    {
      "cell_type": "code",
      "metadata": {
        "id": "7TGjyB9FKSus",
        "outputId": "4f684182-082d-4ea6-a740-5fa02a3cffd5",
        "colab": {
          "base_uri": "https://localhost:8080/",
          "height": 692
        }
      },
      "source": [
        "plt.bar(x,height = y,color='green')"
      ],
      "execution_count": null,
      "outputs": [
        {
          "output_type": "execute_result",
          "data": {
            "text/plain": [
              "<BarContainer object of 3 artists>"
            ]
          },
          "metadata": {
            "tags": []
          },
          "execution_count": 73
        },
        {
          "output_type": "display_data",
          "data": {
            "image/png": "[encoded data removed]",
            "text/plain": [
              "<Figure size 1512x1080 with 1 Axes>"
            ]
          },
          "metadata": {
            "tags": [],
            "needs_background": "light"
          }
        }
      ]
    },
    {
      "cell_type": "markdown",
      "metadata": {
        "id": "nMY7lQslI52I"
      },
      "source": [
        "A distância entre as barras pode ser alterada com o width, que por padrão tem valor 0.8. Quanto menor o width, maior a distância."
      ]
    },
    {
      "cell_type": "code",
      "metadata": {
        "id": "EFu8SSxFKVsx",
        "outputId": "ed2b5d18-c2e0-4d6d-b21a-10c1da897d09",
        "colab": {
          "base_uri": "https://localhost:8080/",
          "height": 692
        }
      },
      "source": [
        "plt.bar(x,height = y,color='green',width=0.5)"
      ],
      "execution_count": null,
      "outputs": [
        {
          "output_type": "execute_result",
          "data": {
            "text/plain": [
              "<BarContainer object of 3 artists>"
            ]
          },
          "metadata": {
            "tags": []
          },
          "execution_count": 74
        },
        {
          "output_type": "display_data",
          "data": {
            "image/png": "[encoded data removed]",
            "text/plain": [
              "<Figure size 1512x1080 with 1 Axes>"
            ]
          },
          "metadata": {
            "tags": [],
            "needs_background": "light"
          }
        }
      ]
    },
    {
      "cell_type": "markdown",
      "metadata": {
        "id": "_HB3i1A1198m"
      },
      "source": [
        "## **Exercícios - Covid AL**"
      ]
    },
    {
      "cell_type": "markdown",
      "metadata": {
        "id": "rRX7aYTs2EMU"
      },
      "source": [
        "**Exercício 2.1** Há alguma coluna no dataset onde todos os elementos são NaNs?"
      ]
    },
    {
      "cell_type": "code",
      "metadata": {
        "id": "kjYjvPrw3YiH",
        "outputId": "21296187-89bc-467a-c138-9816b8af496d",
        "colab": {
          "base_uri": "https://localhost:8080/",
          "height": 34
        }
      },
      "source": [
        "#comparando numero de colunas do shape total com numero de colunas do shape sem as colunas onde todos os elementos são NaNs\n",
        "num_col_nan = df_covid.shape[1] - df_covid.dropna(axis=1, how='all').shape[1]\n",
        "\n",
        "if num_col_nan < 0:\n",
        "  print('Não, nenhuma coluna possui todos os elementos sendo NaNs.')\n",
        "else:\n",
        "  print('Sim, há', num_col_nan, 'colunas onde todos os elementos são NaNs.')"
      ],
      "execution_count": null,
      "outputs": [
        {
          "output_type": "stream",
          "text": [
            "Sim, há 7 colunas onde todos os elementos são NaNs.\n"
          ],
          "name": "stdout"
        }
      ]
    },
    {
      "cell_type": "markdown",
      "metadata": {
        "id": "yGQ22KZA3mg7"
      },
      "source": [
        "**Exercício 2.2** Identifique as colunas que possuem pelo menos um NaN."
      ]
    },
    {
      "cell_type": "code",
      "metadata": {
        "id": "AiYll3bWgn5I",
        "outputId": "773ab3c6-d4b9-4c7a-87a7-e8b84b2e5110",
        "colab": {
          "base_uri": "https://localhost:8080/",
          "height": 34
        }
      },
      "source": [
        "#numero de colunas que possuem pelo menos um NaN\n",
        "num_col_nans = df_covid.shape[1] - df_covid.dropna(axis=1).shape[1]\n",
        "num_col_nans"
      ],
      "execution_count": null,
      "outputs": [
        {
          "output_type": "execute_result",
          "data": {
            "text/plain": [
              "36"
            ]
          },
          "metadata": {
            "tags": []
          },
          "execution_count": 12
        }
      ]
    },
    {
      "cell_type": "code",
      "metadata": {
        "id": "kyKFWLnbgS21",
        "outputId": "a8545033-b867-49af-f24e-9b0b4ddb627d",
        "colab": {
          "base_uri": "https://localhost:8080/",
          "height": 646
        }
      },
      "source": [
        "#selecionando as colunas que possuem pelo menos um NaN\n",
        "df_covid.isnull().sum().sort_values(ascending=False)[:num_col_nans]"
      ],
      "execution_count": null,
      "outputs": [
        {
          "output_type": "execute_result",
          "data": {
            "text/plain": [
              "calafrio                         64098\n",
              "congestao_nasal                  64098\n",
              "coriza                           64098\n",
              "outros                           64098\n",
              "ausegia                          64098\n",
              "nausea_vomito                    64098\n",
              "anosmia                          64098\n",
              "paciente_oncologico              64066\n",
              "pneumopatia                      64064\n",
              "sem_comorbidade                  64039\n",
              "obesidade                        63959\n",
              "fator_nao_informado              63927\n",
              "doenca_renal_cronica             63851\n",
              "profissional_saude               63798\n",
              "idoso                            63722\n",
              "dispineia                        63682\n",
              "doenca_auto_imune                63499\n",
              "doenca_respiratoria_cronica      63430\n",
              "diarreia                         62900\n",
              "hipertensao                      62771\n",
              "data_confirmacao_obito           62427\n",
              "data_obito                       62404\n",
              "saturacao_menor_noventa_cinco    61752\n",
              "doenca_cardiovascular            61518\n",
              "dificuldade_respiratoria         61249\n",
              "diabetes                         61165\n",
              "adinofagia                       57956\n",
              "mialgia                          56355\n",
              "adinamia                         50850\n",
              "nao_informado                    49188\n",
              "asma                             46717\n",
              "outros_fatores                   44577\n",
              "cefaleia                         43458\n",
              "febre                            30879\n",
              "tosse                            28876\n",
              "idade                              176\n",
              "dtype: int64"
            ]
          },
          "metadata": {
            "tags": []
          },
          "execution_count": 152
        }
      ]
    },
    {
      "cell_type": "markdown",
      "metadata": {
        "id": "R5kKJOMi2rZS"
      },
      "source": [
        "**Exercício 2.3** Escreva um programa que conte a quantidade total de NaN's no dataset."
      ]
    },
    {
      "cell_type": "code",
      "metadata": {
        "id": "_921COTk3ZEb",
        "outputId": "4bd4cba2-3f29-412e-e891-b2d976263008",
        "colab": {
          "base_uri": "https://localhost:8080/",
          "height": 34
        }
      },
      "source": [
        "#somando a serie obtida no item anterior com o método sum\n",
        "total_nans = df_covid.isnull().sum().sort_values(ascending=False)[:num_col_nans].sum()\n",
        "print('O total de NaNs no dataset é:', total_nans)"
      ],
      "execution_count": null,
      "outputs": [
        {
          "output_type": "stream",
          "text": [
            "O total de NaNs no dataset é: 2055941\n"
          ],
          "name": "stdout"
        }
      ]
    },
    {
      "cell_type": "markdown",
      "metadata": {
        "id": "CAXw95Pf3-um"
      },
      "source": [
        "**Exercício 2.4** As colunas  \n",
        "\n",
        "```python\n",
        " ['ausegia', 'anosmia', 'febre', 'tosse', 'cefaleia',\n",
        "       'dificuldade_respiratoria', 'dispineia', 'mialgia',\n",
        "       'saturacao_menor_noventa_cinco', 'adinofagia', 'diarreia', 'adinamia',\n",
        "       'nausea_vomito', 'coriza', 'congestao_nasal', 'calafrio',\n",
        "       'nao_informado', 'outros']\n",
        "```\n",
        "\n",
        "representam os sintomas avaliados nos pacientes. Caso o indivíduo tenha apresentado um sintoma `'a'`, consta um `'X'` na coluna relacionada a esse sintoma; do contrário, o espaço fica em branco.\n",
        "\n",
        "Qual o sintoma mais frequentes entre os pacientes?"
      ]
    },
    {
      "cell_type": "code",
      "metadata": {
        "id": "3mdMDVxT867A",
        "outputId": "26e770be-5191-4046-b991-8e5c877b7119",
        "colab": {
          "base_uri": "https://localhost:8080/",
          "height": 340
        }
      },
      "source": [
        "#criando variável que armazena o array\n",
        "colunas = ['ausegia', 'anosmia', 'febre', 'tosse', 'cefaleia',\n",
        "       'dificuldade_respiratoria', 'dispineia', 'mialgia',\n",
        "       'saturacao_menor_noventa_cinco', 'adinofagia', 'diarreia', 'adinamia',\n",
        "       'nausea_vomito', 'coriza', 'congestao_nasal', 'calafrio',\n",
        "       'nao_informado', 'outros']\n",
        "\n",
        "#usando o método count e sort_values para obter frequencia e rankear em ordem decrescente\n",
        "freq_sintomas = df_covid[colunas].count().sort_values(ascending=False)\n",
        "freq_sintomas\n"
      ],
      "execution_count": null,
      "outputs": [
        {
          "output_type": "execute_result",
          "data": {
            "text/plain": [
              "tosse                            35222\n",
              "febre                            33219\n",
              "cefaleia                         20640\n",
              "nao_informado                    14910\n",
              "adinamia                         13248\n",
              "mialgia                           7743\n",
              "adinofagia                        6142\n",
              "dificuldade_respiratoria          2849\n",
              "saturacao_menor_noventa_cinco     2346\n",
              "diarreia                          1198\n",
              "dispineia                          416\n",
              "anosmia                              0\n",
              "outros                               0\n",
              "nausea_vomito                        0\n",
              "coriza                               0\n",
              "congestao_nasal                      0\n",
              "calafrio                             0\n",
              "ausegia                              0\n",
              "dtype: int64"
            ]
          },
          "metadata": {
            "tags": []
          },
          "execution_count": 145
        }
      ]
    },
    {
      "cell_type": "markdown",
      "metadata": {
        "id": "erqLBT3kSY6B"
      },
      "source": [
        "Portanto, o sintoma com maior frequência foi a tosse"
      ]
    },
    {
      "cell_type": "markdown",
      "metadata": {
        "id": "r71OpYID8Jr0"
      },
      "source": [
        "**Exercício 2.5** Plote um gráfico de barras com as frequências de cada sintoma.\n",
        "\n",
        "Obs.: dispense colunas onde a frequência é 0."
      ]
    },
    {
      "cell_type": "code",
      "metadata": {
        "id": "zjdcKgBEUro1",
        "outputId": "863642f9-c7bd-469a-8e33-5193bc2bcf84",
        "colab": {
          "base_uri": "https://localhost:8080/",
          "height": 221
        }
      },
      "source": [
        "#filtro para uso de dados de interesse\n",
        "freq_sintomas_nao_nulos = freq_sintomas[:11]\n",
        "freq_sintomas_nao_nulos"
      ],
      "execution_count": null,
      "outputs": [
        {
          "output_type": "execute_result",
          "data": {
            "text/plain": [
              "tosse                            35222\n",
              "febre                            33219\n",
              "cefaleia                         20640\n",
              "nao_informado                    14910\n",
              "adinamia                         13248\n",
              "mialgia                           7743\n",
              "adinofagia                        6142\n",
              "dificuldade_respiratoria          2849\n",
              "saturacao_menor_noventa_cinco     2346\n",
              "diarreia                          1198\n",
              "dispineia                          416\n",
              "dtype: int64"
            ]
          },
          "metadata": {
            "tags": []
          },
          "execution_count": 142
        }
      ]
    },
    {
      "cell_type": "code",
      "metadata": {
        "id": "fgpN3WL8XhjY",
        "outputId": "eb2e7e40-bc82-4bbe-a2ce-3c810189f414",
        "colab": {
          "base_uri": "https://localhost:8080/",
          "height": 773
        }
      },
      "source": [
        "x = freq_sintomas_nao_nulos.index.values\n",
        "y = freq_sintomas_nao_nulos.values\n",
        "\n",
        "\n",
        "plt.bar(x,height = y,color='red',width=0.75)\n",
        "\n",
        "#configs do layout do gráfico\n",
        "plt.rcParams['figure.figsize'] = (18,10)\n",
        "plt.xticks(rotation=75)\n",
        "plt.xlabel('Número de pessoas', color='white')\n",
        "plt.ylabel('Sintomas', color='white')\n",
        "plt.title('FREQUÊNCIA DOS SINTOMAS - COVID19 ALAGOAS', color='white')\n",
        "\n",
        "plt.show()\n"
      ],
      "execution_count": null,
      "outputs": [
        {
          "output_type": "display_data",
          "data": {
            "image/png": "[encoded data removed]",
            "text/plain": [
              "<Figure size 1296x720 with 1 Axes>"
            ]
          },
          "metadata": {
            "tags": [],
            "needs_background": "light"
          }
        }
      ]
    },
    {
      "cell_type": "markdown",
      "metadata": {
        "id": "cdX_AIAtktsX"
      },
      "source": [
        "# **Semana 6**"
      ]
    },
    {
      "cell_type": "markdown",
      "metadata": {
        "id": "GeRmRKZpeGVH"
      },
      "source": [
        "## **Substituição de não-NaNs**"
      ]
    },
    {
      "cell_type": "markdown",
      "metadata": {
        "id": "7vZeTSCpfw2s"
      },
      "source": [
        "O pandas dispõe de dois métodos principais de substituição de valores em geral, o `replace` e o `where`."
      ]
    },
    {
      "cell_type": "markdown",
      "metadata": {
        "id": "qNrvuz4wgzOM"
      },
      "source": [
        "O `where` substitui valores que **não satisfazem** um condição pré-definida. \n",
        "\n",
        "\n",
        "\n",
        "```python\n",
        "# Forma padrão de usar o where\n",
        "dataframe.where(condição,novo valor)\n",
        "```\n",
        "\n"
      ]
    },
    {
      "cell_type": "code",
      "metadata": {
        "id": "xumDosXAfwKI",
        "outputId": "8693d5cb-90c4-44ba-d839-af68aea33828",
        "colab": {
          "base_uri": "https://localhost:8080/",
          "height": 142
        }
      },
      "source": [
        "\n",
        "exemplo = pd.DataFrame({'a':[1,2,3],'b':[3,7,10]})\n",
        "\n",
        "exemplo"
      ],
      "execution_count": null,
      "outputs": [
        {
          "output_type": "execute_result",
          "data": {
            "text/html": [
              "<div>\n",
              "<style scoped>\n",
              "    .dataframe tbody tr th:only-of-type {\n",
              "        vertical-align: middle;\n",
              "    }\n",
              "\n",
              "    .dataframe tbody tr th {\n",
              "        vertical-align: top;\n",
              "    }\n",
              "\n",
              "    .dataframe thead th {\n",
              "        text-align: right;\n",
              "    }\n",
              "</style>\n",
              "<table border=\"1\" class=\"dataframe\">\n",
              "  <thead>\n",
              "    <tr style=\"text-align: right;\">\n",
              "      <th></th>\n",
              "      <th>a</th>\n",
              "      <th>b</th>\n",
              "    </tr>\n",
              "  </thead>\n",
              "  <tbody>\n",
              "    <tr>\n",
              "      <th>0</th>\n",
              "      <td>1</td>\n",
              "      <td>3</td>\n",
              "    </tr>\n",
              "    <tr>\n",
              "      <th>1</th>\n",
              "      <td>2</td>\n",
              "      <td>7</td>\n",
              "    </tr>\n",
              "    <tr>\n",
              "      <th>2</th>\n",
              "      <td>3</td>\n",
              "      <td>10</td>\n",
              "    </tr>\n",
              "  </tbody>\n",
              "</table>\n",
              "</div>"
            ],
            "text/plain": [
              "   a   b\n",
              "0  1   3\n",
              "1  2   7\n",
              "2  3  10"
            ]
          },
          "metadata": {
            "tags": []
          },
          "execution_count": 37
        }
      ]
    },
    {
      "cell_type": "code",
      "metadata": {
        "id": "1px5uJTzFqs3",
        "outputId": "5690a9ce-3500-41e1-eb76-63318f06f93e",
        "colab": {
          "base_uri": "https://localhost:8080/",
          "height": 142
        }
      },
      "source": [
        "exemplo.where(exemplo == 3, 9)"
      ],
      "execution_count": null,
      "outputs": [
        {
          "output_type": "execute_result",
          "data": {
            "text/html": [
              "<div>\n",
              "<style scoped>\n",
              "    .dataframe tbody tr th:only-of-type {\n",
              "        vertical-align: middle;\n",
              "    }\n",
              "\n",
              "    .dataframe tbody tr th {\n",
              "        vertical-align: top;\n",
              "    }\n",
              "\n",
              "    .dataframe thead th {\n",
              "        text-align: right;\n",
              "    }\n",
              "</style>\n",
              "<table border=\"1\" class=\"dataframe\">\n",
              "  <thead>\n",
              "    <tr style=\"text-align: right;\">\n",
              "      <th></th>\n",
              "      <th>a</th>\n",
              "      <th>b</th>\n",
              "    </tr>\n",
              "  </thead>\n",
              "  <tbody>\n",
              "    <tr>\n",
              "      <th>0</th>\n",
              "      <td>9</td>\n",
              "      <td>3</td>\n",
              "    </tr>\n",
              "    <tr>\n",
              "      <th>1</th>\n",
              "      <td>9</td>\n",
              "      <td>9</td>\n",
              "    </tr>\n",
              "    <tr>\n",
              "      <th>2</th>\n",
              "      <td>3</td>\n",
              "      <td>9</td>\n",
              "    </tr>\n",
              "  </tbody>\n",
              "</table>\n",
              "</div>"
            ],
            "text/plain": [
              "   a  b\n",
              "0  9  3\n",
              "1  9  9\n",
              "2  3  9"
            ]
          },
          "metadata": {
            "tags": []
          },
          "execution_count": 40
        }
      ]
    },
    {
      "cell_type": "code",
      "metadata": {
        "id": "x6t2TvcAFaOz",
        "outputId": "b95fb1fa-2b13-4d07-bb2a-c5d86f9dc949",
        "colab": {
          "base_uri": "https://localhost:8080/",
          "height": 142
        }
      },
      "source": [
        "exemplo.where(exemplo['b'] > 5, 0)"
      ],
      "execution_count": null,
      "outputs": [
        {
          "output_type": "execute_result",
          "data": {
            "text/html": [
              "<div>\n",
              "<style scoped>\n",
              "    .dataframe tbody tr th:only-of-type {\n",
              "        vertical-align: middle;\n",
              "    }\n",
              "\n",
              "    .dataframe tbody tr th {\n",
              "        vertical-align: top;\n",
              "    }\n",
              "\n",
              "    .dataframe thead th {\n",
              "        text-align: right;\n",
              "    }\n",
              "</style>\n",
              "<table border=\"1\" class=\"dataframe\">\n",
              "  <thead>\n",
              "    <tr style=\"text-align: right;\">\n",
              "      <th></th>\n",
              "      <th>a</th>\n",
              "      <th>b</th>\n",
              "    </tr>\n",
              "  </thead>\n",
              "  <tbody>\n",
              "    <tr>\n",
              "      <th>0</th>\n",
              "      <td>0</td>\n",
              "      <td>0</td>\n",
              "    </tr>\n",
              "    <tr>\n",
              "      <th>1</th>\n",
              "      <td>2</td>\n",
              "      <td>7</td>\n",
              "    </tr>\n",
              "    <tr>\n",
              "      <th>2</th>\n",
              "      <td>3</td>\n",
              "      <td>10</td>\n",
              "    </tr>\n",
              "  </tbody>\n",
              "</table>\n",
              "</div>"
            ],
            "text/plain": [
              "   a   b\n",
              "0  0   0\n",
              "1  2   7\n",
              "2  3  10"
            ]
          },
          "metadata": {
            "tags": []
          },
          "execution_count": 39
        }
      ]
    },
    {
      "cell_type": "code",
      "metadata": {
        "id": "VZbqQFCDF77o",
        "outputId": "ecfcd2c8-8c8e-4647-ab88-4deaa197ffe5",
        "colab": {
          "base_uri": "https://localhost:8080/",
          "height": 142
        }
      },
      "source": [
        "# Caso só seja passado a condição, os valores são substituidos por NaN\n",
        "\n",
        "exemplo.where(exemplo < 7)"
      ],
      "execution_count": null,
      "outputs": [
        {
          "output_type": "execute_result",
          "data": {
            "text/html": [
              "<div>\n",
              "<style scoped>\n",
              "    .dataframe tbody tr th:only-of-type {\n",
              "        vertical-align: middle;\n",
              "    }\n",
              "\n",
              "    .dataframe tbody tr th {\n",
              "        vertical-align: top;\n",
              "    }\n",
              "\n",
              "    .dataframe thead th {\n",
              "        text-align: right;\n",
              "    }\n",
              "</style>\n",
              "<table border=\"1\" class=\"dataframe\">\n",
              "  <thead>\n",
              "    <tr style=\"text-align: right;\">\n",
              "      <th></th>\n",
              "      <th>a</th>\n",
              "      <th>b</th>\n",
              "    </tr>\n",
              "  </thead>\n",
              "  <tbody>\n",
              "    <tr>\n",
              "      <th>0</th>\n",
              "      <td>1</td>\n",
              "      <td>3.0</td>\n",
              "    </tr>\n",
              "    <tr>\n",
              "      <th>1</th>\n",
              "      <td>2</td>\n",
              "      <td>NaN</td>\n",
              "    </tr>\n",
              "    <tr>\n",
              "      <th>2</th>\n",
              "      <td>3</td>\n",
              "      <td>NaN</td>\n",
              "    </tr>\n",
              "  </tbody>\n",
              "</table>\n",
              "</div>"
            ],
            "text/plain": [
              "   a    b\n",
              "0  1  3.0\n",
              "1  2  NaN\n",
              "2  3  NaN"
            ]
          },
          "metadata": {
            "tags": []
          },
          "execution_count": 41
        }
      ]
    },
    {
      "cell_type": "markdown",
      "metadata": {
        "id": "iMk-O6ljGpwj"
      },
      "source": [
        "Já com o replace é preciso definir valores específicos para substituir.\n",
        "\n",
        "\n",
        "\n",
        "```python\n",
        "dataframe.replace(valor a substituir, novo valor)\n",
        "```\n",
        "\n"
      ]
    },
    {
      "cell_type": "code",
      "metadata": {
        "id": "nbm5U7alKUQv",
        "outputId": "b2144d9b-6d1e-4a7f-c62c-6106a627c1da",
        "colab": {
          "base_uri": "https://localhost:8080/",
          "height": 142
        }
      },
      "source": [
        "exemplo"
      ],
      "execution_count": null,
      "outputs": [
        {
          "output_type": "execute_result",
          "data": {
            "text/html": [
              "<div>\n",
              "<style scoped>\n",
              "    .dataframe tbody tr th:only-of-type {\n",
              "        vertical-align: middle;\n",
              "    }\n",
              "\n",
              "    .dataframe tbody tr th {\n",
              "        vertical-align: top;\n",
              "    }\n",
              "\n",
              "    .dataframe thead th {\n",
              "        text-align: right;\n",
              "    }\n",
              "</style>\n",
              "<table border=\"1\" class=\"dataframe\">\n",
              "  <thead>\n",
              "    <tr style=\"text-align: right;\">\n",
              "      <th></th>\n",
              "      <th>a</th>\n",
              "      <th>b</th>\n",
              "    </tr>\n",
              "  </thead>\n",
              "  <tbody>\n",
              "    <tr>\n",
              "      <th>0</th>\n",
              "      <td>1</td>\n",
              "      <td>3</td>\n",
              "    </tr>\n",
              "    <tr>\n",
              "      <th>1</th>\n",
              "      <td>2</td>\n",
              "      <td>7</td>\n",
              "    </tr>\n",
              "    <tr>\n",
              "      <th>2</th>\n",
              "      <td>3</td>\n",
              "      <td>10</td>\n",
              "    </tr>\n",
              "  </tbody>\n",
              "</table>\n",
              "</div>"
            ],
            "text/plain": [
              "   a   b\n",
              "0  1   3\n",
              "1  2   7\n",
              "2  3  10"
            ]
          },
          "metadata": {
            "tags": []
          },
          "execution_count": 42
        }
      ]
    },
    {
      "cell_type": "code",
      "metadata": {
        "id": "CKu6T7uzKXoA",
        "outputId": "4b482267-7b4b-4e63-8666-969dd2e8a92f",
        "colab": {
          "base_uri": "https://localhost:8080/",
          "height": 142
        }
      },
      "source": [
        "exemplo.replace(3,2)"
      ],
      "execution_count": null,
      "outputs": [
        {
          "output_type": "execute_result",
          "data": {
            "text/html": [
              "<div>\n",
              "<style scoped>\n",
              "    .dataframe tbody tr th:only-of-type {\n",
              "        vertical-align: middle;\n",
              "    }\n",
              "\n",
              "    .dataframe tbody tr th {\n",
              "        vertical-align: top;\n",
              "    }\n",
              "\n",
              "    .dataframe thead th {\n",
              "        text-align: right;\n",
              "    }\n",
              "</style>\n",
              "<table border=\"1\" class=\"dataframe\">\n",
              "  <thead>\n",
              "    <tr style=\"text-align: right;\">\n",
              "      <th></th>\n",
              "      <th>a</th>\n",
              "      <th>b</th>\n",
              "    </tr>\n",
              "  </thead>\n",
              "  <tbody>\n",
              "    <tr>\n",
              "      <th>0</th>\n",
              "      <td>1</td>\n",
              "      <td>2</td>\n",
              "    </tr>\n",
              "    <tr>\n",
              "      <th>1</th>\n",
              "      <td>2</td>\n",
              "      <td>7</td>\n",
              "    </tr>\n",
              "    <tr>\n",
              "      <th>2</th>\n",
              "      <td>2</td>\n",
              "      <td>10</td>\n",
              "    </tr>\n",
              "  </tbody>\n",
              "</table>\n",
              "</div>"
            ],
            "text/plain": [
              "   a   b\n",
              "0  1   2\n",
              "1  2   7\n",
              "2  2  10"
            ]
          },
          "metadata": {
            "tags": []
          },
          "execution_count": 43
        }
      ]
    },
    {
      "cell_type": "code",
      "metadata": {
        "id": "ccvhrUG4Kc8o",
        "outputId": "7353d95c-bab4-49c4-cb31-f500d7021e2a",
        "colab": {
          "base_uri": "https://localhost:8080/",
          "height": 142
        }
      },
      "source": [
        "# Pode se definir um conjunto de valores a substiuir\n",
        "\n",
        "exemplo.replace([3,1,10],5)"
      ],
      "execution_count": null,
      "outputs": [
        {
          "output_type": "execute_result",
          "data": {
            "text/html": [
              "<div>\n",
              "<style scoped>\n",
              "    .dataframe tbody tr th:only-of-type {\n",
              "        vertical-align: middle;\n",
              "    }\n",
              "\n",
              "    .dataframe tbody tr th {\n",
              "        vertical-align: top;\n",
              "    }\n",
              "\n",
              "    .dataframe thead th {\n",
              "        text-align: right;\n",
              "    }\n",
              "</style>\n",
              "<table border=\"1\" class=\"dataframe\">\n",
              "  <thead>\n",
              "    <tr style=\"text-align: right;\">\n",
              "      <th></th>\n",
              "      <th>a</th>\n",
              "      <th>b</th>\n",
              "    </tr>\n",
              "  </thead>\n",
              "  <tbody>\n",
              "    <tr>\n",
              "      <th>0</th>\n",
              "      <td>5</td>\n",
              "      <td>5</td>\n",
              "    </tr>\n",
              "    <tr>\n",
              "      <th>1</th>\n",
              "      <td>2</td>\n",
              "      <td>7</td>\n",
              "    </tr>\n",
              "    <tr>\n",
              "      <th>2</th>\n",
              "      <td>5</td>\n",
              "      <td>5</td>\n",
              "    </tr>\n",
              "  </tbody>\n",
              "</table>\n",
              "</div>"
            ],
            "text/plain": [
              "   a  b\n",
              "0  5  5\n",
              "1  2  7\n",
              "2  5  5"
            ]
          },
          "metadata": {
            "tags": []
          },
          "execution_count": 44
        }
      ]
    },
    {
      "cell_type": "code",
      "metadata": {
        "id": "vqmQnXxxK0hQ",
        "outputId": "3fb80d4c-c0c7-49b4-c8d7-c0d2c3d295da",
        "colab": {
          "base_uri": "https://localhost:8080/",
          "height": 142
        }
      },
      "source": [
        "# E também um conjunto de valores novos\n",
        "\n",
        "exemplo.replace([3,1,10],[0,-1,-2])"
      ],
      "execution_count": null,
      "outputs": [
        {
          "output_type": "execute_result",
          "data": {
            "text/html": [
              "<div>\n",
              "<style scoped>\n",
              "    .dataframe tbody tr th:only-of-type {\n",
              "        vertical-align: middle;\n",
              "    }\n",
              "\n",
              "    .dataframe tbody tr th {\n",
              "        vertical-align: top;\n",
              "    }\n",
              "\n",
              "    .dataframe thead th {\n",
              "        text-align: right;\n",
              "    }\n",
              "</style>\n",
              "<table border=\"1\" class=\"dataframe\">\n",
              "  <thead>\n",
              "    <tr style=\"text-align: right;\">\n",
              "      <th></th>\n",
              "      <th>a</th>\n",
              "      <th>b</th>\n",
              "    </tr>\n",
              "  </thead>\n",
              "  <tbody>\n",
              "    <tr>\n",
              "      <th>0</th>\n",
              "      <td>-1</td>\n",
              "      <td>0</td>\n",
              "    </tr>\n",
              "    <tr>\n",
              "      <th>1</th>\n",
              "      <td>2</td>\n",
              "      <td>7</td>\n",
              "    </tr>\n",
              "    <tr>\n",
              "      <th>2</th>\n",
              "      <td>0</td>\n",
              "      <td>-2</td>\n",
              "    </tr>\n",
              "  </tbody>\n",
              "</table>\n",
              "</div>"
            ],
            "text/plain": [
              "   a  b\n",
              "0 -1  0\n",
              "1  2  7\n",
              "2  0 -2"
            ]
          },
          "metadata": {
            "tags": []
          },
          "execution_count": 46
        }
      ]
    },
    {
      "cell_type": "markdown",
      "metadata": {
        "id": "u9zhYwkVLRJv"
      },
      "source": [
        "Note que, nesse último caso, 3 é substituido por 0, 1 é substituído por -1, 10 por -2 e assim em diante."
      ]
    },
    {
      "cell_type": "markdown",
      "metadata": {
        "id": "FTknFrrcMXQh"
      },
      "source": [
        "É bom lembrar que nenhum dos dois métodos faz mudanças no dataframe original `exemplo` a não ser que argumento `inplace` seja definido como `True`."
      ]
    },
    {
      "cell_type": "code",
      "metadata": {
        "id": "SBfoY-N0MrzI",
        "outputId": "426dc323-2998-4bbc-f4cb-92a63e54a32b",
        "colab": {
          "base_uri": "https://localhost:8080/",
          "height": 142
        }
      },
      "source": [
        "exemplo.replace(3,-1,inplace=True)\n",
        "\n",
        "exemplo"
      ],
      "execution_count": null,
      "outputs": [
        {
          "output_type": "execute_result",
          "data": {
            "text/html": [
              "<div>\n",
              "<style scoped>\n",
              "    .dataframe tbody tr th:only-of-type {\n",
              "        vertical-align: middle;\n",
              "    }\n",
              "\n",
              "    .dataframe tbody tr th {\n",
              "        vertical-align: top;\n",
              "    }\n",
              "\n",
              "    .dataframe thead th {\n",
              "        text-align: right;\n",
              "    }\n",
              "</style>\n",
              "<table border=\"1\" class=\"dataframe\">\n",
              "  <thead>\n",
              "    <tr style=\"text-align: right;\">\n",
              "      <th></th>\n",
              "      <th>a</th>\n",
              "      <th>b</th>\n",
              "    </tr>\n",
              "  </thead>\n",
              "  <tbody>\n",
              "    <tr>\n",
              "      <th>0</th>\n",
              "      <td>1</td>\n",
              "      <td>-1</td>\n",
              "    </tr>\n",
              "    <tr>\n",
              "      <th>1</th>\n",
              "      <td>2</td>\n",
              "      <td>7</td>\n",
              "    </tr>\n",
              "    <tr>\n",
              "      <th>2</th>\n",
              "      <td>-1</td>\n",
              "      <td>10</td>\n",
              "    </tr>\n",
              "  </tbody>\n",
              "</table>\n",
              "</div>"
            ],
            "text/plain": [
              "   a   b\n",
              "0  1  -1\n",
              "1  2   7\n",
              "2 -1  10"
            ]
          },
          "metadata": {
            "tags": []
          },
          "execution_count": 47
        }
      ]
    },
    {
      "cell_type": "markdown",
      "metadata": {
        "id": "ItyXDp3beSMV"
      },
      "source": [
        "## **Projeto - Limpeza de Dados**"
      ]
    },
    {
      "cell_type": "markdown",
      "metadata": {
        "id": "5CBq4uCDOrOV"
      },
      "source": [
        "A limpeza de dados é o processo de detecção e correção (ou remoção) de itens corrompidos ou imprecisos e também da identificação de partes irrelevantes em um conjunto de dados. Não é possivel fazer qualquer análise sem antes garantir que os dados sejam devidamente limpos.\n",
        "\n",
        "Nesse projeto, você deverá executar algumas tarefas (tasks) de limpeza no dataset CovidAL. "
      ]
    },
    {
      "cell_type": "markdown",
      "metadata": {
        "id": "TuN9anuEauwp"
      },
      "source": [
        "Um recurso importante para limpeza é o dicionário de dados. Trata-se de um arquivo com várias informações a respeito do conjunto de dados, como a descrição das colunas e quais são os valores possíveis para uma determinada coluna. Para o projeto, você vai precisar do dicionário do CovidAL, disponível [aqui](https://drive.google.com/file/d/1XYoWvjXj03bS8dPUjR3dxlNi2UsuPpnH/view?usp=sharing).\n"
      ]
    },
    {
      "cell_type": "markdown",
      "metadata": {
        "id": "iVYmbMuYibU5"
      },
      "source": [
        "**Task 1:** remova as colunas que possuem apenas NaNs.\n",
        "\n",
        "Saída esperada: DataFrame com 38 colunas."
      ]
    },
    {
      "cell_type": "code",
      "metadata": {
        "id": "afJKdnbENzsc",
        "outputId": "0a4db212-db1e-4cc9-f238-4c62c994db33",
        "colab": {
          "base_uri": "https://localhost:8080/",
          "height": 34
        }
      },
      "source": [
        "#Removendo as colunas que possuem apenas NaNs com o método dropna\n",
        "df_covid_v1 = df_covid.dropna(axis=1, how='all')\n",
        "\n",
        "print('Agora, df_covid é um Dataframe com',df_covid_v1.shape[1],'colunas')"
      ],
      "execution_count": 13,
      "outputs": [
        {
          "output_type": "stream",
          "text": [
            "Agora, df_covid é um Dataframe com 38 colunas\n"
          ],
          "name": "stdout"
        }
      ]
    },
    {
      "cell_type": "markdown",
      "metadata": {
        "id": "JnTBxkTAlcLE"
      },
      "source": [
        "**Task 2:** A coluna `id` contem apenas números para identificar cada paciente. Como para esse fim já temos o índice, exclua essa coluna do dataset.\n",
        "\n",
        "Saída esperada: DataFrame com 37 colunas."
      ]
    },
    {
      "cell_type": "code",
      "metadata": {
        "id": "U3FUbqGQM9t8",
        "outputId": "3e05ed2f-9f0d-4d91-98cb-cbc82e0a5306",
        "colab": {
          "base_uri": "https://localhost:8080/",
          "height": 34
        }
      },
      "source": [
        "#Não usarei o atributo inplace por conta da possível nocessidade de voltar para o estado anterior do dataframe eu ter mais facilidade\n",
        "\n",
        "df_covid_v2 = df_covid_v1.drop(columns=['id'])\n",
        "\n",
        "print('Agora, df_covid é um Dataframe com',df_covid_v2.shape[1],'colunas')"
      ],
      "execution_count": 14,
      "outputs": [
        {
          "output_type": "stream",
          "text": [
            "Agora, df_covid é um Dataframe com 37 colunas\n"
          ],
          "name": "stdout"
        }
      ]
    },
    {
      "cell_type": "markdown",
      "metadata": {
        "id": "G_80-UXg5qE7"
      },
      "source": [
        "**Task 3:** O dicionário do dataset informa quais os valores possíveis para cada coluna. Verifique se alguma das colunas apresenta valores fora dos estabelecidos no documento.\n",
        "\n"
      ]
    },
    {
      "cell_type": "code",
      "metadata": {
        "id": "VIED1YvM7N13",
        "outputId": "81a51874-8143-4984-9ac6-0680ffb5401c",
        "colab": {
          "base_uri": "https://localhost:8080/",
          "height": 1000
        }
      },
      "source": [
        "lista_mun_AL = ['Água Branca', 'Anadia', 'Arapiraca', 'Atalaia', 'Barra de Santo Antônio', 'Barra de São Miguel', 'Batalha', 'Belém', 'Belo Monte', 'Boca da Mata', 'Branquinha', 'Cacimbinhas', \n",
        "                'Cajueiro', 'Campestre', 'Campo Alegre', 'Campo Grande', 'Canapi', 'Capela', 'Carneiros', 'Chã Preta', 'Coité do Noia', 'Colônia Leopoldina', 'Coqueiro Seco', 'Coruripe', 'Craíbas', \n",
        "                'Delmiro Gouveia', 'Dois Riachos', 'Estrela de Alagoas', 'Feira Grande', 'Feliz Deserto', 'Flexeiras', 'Girau do Ponciano', 'Ibateguara', 'Igaci', 'Igreja Nova', 'Inhapi', 'Jacuípe', \n",
        "                'Japaratinga', 'Jaramataia', 'Jequiá da Praia', 'Joaquim Gomes', 'Jundiá', 'Junqueiro', 'Lagoa da Canoa', 'Limoeiro de Anadia', 'Maceió', 'Major Isidoro', 'Mar Vermelho', 'Maragogi', \n",
        "                'Maravilha', 'Marechal Deodoro', 'Maribondo', 'Mata Grande', 'Matriz de Camaragibe', 'Messias', 'Minador do Negrão', 'Monteirópolis', 'Murici', 'Novo Lino', \"Olho d'Água das Flores\", \n",
        "                \"Olho d'Água do Casado\", \"Olho d'Água Grande\", 'Olivença', 'Ouro Branco', 'Palestina', 'Palmeira dos Índios', 'Pão de Açúcar', 'Pariconha', 'Paripueira', 'Passo de Camaragibe', \n",
        "                'Paulo Jacinto', 'Penedo', 'Piaçabuçu', 'Pilar', 'Pindoba', 'Piranhas', 'Poço das Trincheiras', 'Porto Calvo', 'Porto de Pedras', 'Porto Real do Colégio', 'Quebrangulo', 'Rio Largo', \n",
        "                'Roteiro', 'Santa Luzia do Norte', 'Santana do Ipanema', 'Santana do Mundaú', 'São Brás', 'São José da Laje', 'São José da Tapera', 'São Luís do Quitunde', 'São Miguel dos Campos', \n",
        "                'São Miguel dos Milagres', 'São Sebastião', 'Satuba', 'Senador Rui Palmeira','Tanque dArca', 'Taquarana', 'Teotônio Vilela', 'Traipu', 'União dos Palmares', 'Viçosa']\n",
        "\n",
        "lista_estados = ['Acre', 'Alagoas', 'Amapá', 'Amazonas', 'Bahia', 'Brasília', 'Ceará', 'Distrito Federal', 'Espírito Santo', 'Goiás', 'Maranhão',\n",
        "                 'Mato Grosso', 'Mato Grosso do Sul', 'Minas Gerais', 'Pará', 'Paraíba', 'Paraná', 'Pernambuco', 'Piauí', 'Rio de Janeiro',\n",
        "                 'Rio Grande do Norte', 'Rio Grande do Sul', 'Rondônia', 'Roraima', 'Santa Catarina', 'São Paulo', 'Sergipe', 'Tocantins']\n",
        "\n",
        "colunas_restantes = ['febre', 'tosse', 'cefaleia','dificuldade_respiratoria', 'dispineia', 'mialgia','saturacao_menor_noventa_cinco', 'adinofagia', 'diarreia',\n",
        "                    'adinamia','nao_informado','doenca_cardiovascular','diabetes','doenca_respiratoria_cronica',\n",
        "                    'hipertensao','paciente_oncologico','idoso','profissional_saude','obesidade','doenca_renal_cronica','doenca_auto_imune','asma','sem_comorbidade','fator_nao_informado',\n",
        "                    'outros_fatores','pneumopatia']\n",
        "\n",
        "#Fazendo o dicionário de valores possíveis\n",
        "dict_df_covid = {'etnia': ['Amarela','Branca','Ignorado','Parda','Preta', None],\n",
        "                 'sexo': ['Feminino','Masculino',None],\n",
        "                 'municipio_residencia': lista_mun_AL + lista_estados,\n",
        "                 'classificacao': ['Confirmado'],\n",
        "                 'situacao_atual': ['Alta Hospitalar', 'Alta Médica', 'Encerramento do Isolamento Domiciliar', 'Internação leito clínico','Internação UTI', 'Isolamento Domiciliar', 'Internação Leito Clínico'],\n",
        "                 'data_resultado_exame': [None],\n",
        "                 'data_atendimento': [None],\n",
        "                 'tipo_coleta': ['Não Informado', 'Outros', 'Swab Nasofaringe + RT-PCR', 'Teste Rápido'],\n",
        "                 'idade': range(1,103),\n",
        "                 'data_obito' : [None],\n",
        "                 'data_confirmacao_obito' : [None]\n",
        "                 }\n",
        "\n",
        "#Adicionando o restante das colunas (que possuem possíveis valores iguais) ao dicionário\n",
        "for i in colunas_restantes:\n",
        "  dict_df_covid[i] = ['X', None]\n",
        "\n",
        "#Verificando quais colunas apresentam valores fora do estabelecido no documento\n",
        "#Nesta análise, desconsideremos os dados referentes a datas\n",
        "#imprimindo os valores de cada coluna que estão em desacordo com o documento do dicionário\n",
        "for i in df_covid_v2.columns:\n",
        "  for c in pd.unique(df_covid_v2[i]):\n",
        "    if c not in dict_df_covid[i]:\n",
        "      if i not in ['data_resultado_exame','data_atendimento','data_atendimento','data_obito','data_confirmacao_obito']:\n",
        "        print(i,':',c)\n"
      ],
      "execution_count": 15,
      "outputs": [
        {
          "output_type": "stream",
          "text": [
            "etnia : Indígena\n",
            "sexo : Mascuino\n",
            "municipio_residencia : Recife\n",
            "municipio_residencia : Coité do Nóia\n",
            "municipio_residencia : São Sebastião do Passé\n",
            "municipio_residencia : Lauro de Freitas\n",
            "municipio_residencia : Serra do Ramalho\n",
            "municipio_residencia : Tanque d Arca\n",
            "municipio_residencia : Garanhuns\n",
            "municipio_residencia : Sorocaba\n",
            "municipio_residencia : Juazeiro do Norte\n",
            "municipio_residencia : Petrolina\n",
            "municipio_residencia : Jacaré dos Homens\n",
            "municipio_residencia : Água Preta\n",
            "municipio_residencia : Guarulhos\n",
            "municipio_residencia : Pinhais\n",
            "municipio_residencia : São João del-Rei\n",
            "municipio_residencia : Toritama\n",
            "municipio_residencia : Rio Claro\n",
            "municipio_residencia : Cabo Frio\n",
            "municipio_residencia : Camaragibe\n",
            "municipio_residencia : Ribeirão Preto\n",
            "municipio_residencia : Maraial\n",
            "municipio_residencia : Campinas\n",
            "municipio_residencia : TABULEIRO\n",
            "municipio_residencia : Carmópolis\n",
            "municipio_residencia : Santo André\n",
            "municipio_residencia : Areia Branca\n",
            "municipio_residencia : São José da Coroa Grande\n",
            "municipio_residencia : Palmares\n",
            "municipio_residencia : Tamandaré\n",
            "municipio_residencia : Jaboatão dos Guararapes\n",
            "municipio_residencia : Palmeira das Missões\n",
            "municipio_residencia : Juniaí\n",
            "municipio_residencia : Angelim\n",
            "municipio_residencia : Uberlândia\n",
            "municipio_residencia : Cachoeiro de Itapemirim\n",
            "municipio_residencia : Campina Grande\n",
            "municipio_residencia : Aquidabã\n",
            "municipio_residencia : Caruaru\n",
            "municipio_residencia : Salvador\n",
            "municipio_residencia : Florianópolis\n",
            "municipio_residencia : Santa Cruz da Palmeira\n",
            "municipio_residencia : Palhoça\n",
            "municipio_residencia : Aracajú\n",
            "municipio_residencia : Xambioa\n",
            "municipio_residencia : Pesqueira\n",
            "situacao_atual : Óbito\n",
            "tipo_coleta : Swab nasofaringe + RT-PCR\n",
            "tipo_coleta : Vísceras (em caso de paciente falecido) + RT-PCR\n",
            "idade : nan\n",
            "idade : 104.0\n",
            "idade : 105.0\n",
            "idade : 103.0\n",
            "idade : 121.0\n",
            "idade : 109.0\n",
            "idade : 106.0\n",
            "idade : -1761.0\n",
            "idade : -1799.0\n",
            "idade : -1781.0\n",
            "idade : 153.0\n",
            "idade : 914.0\n",
            "idade : -1782.0\n",
            "idade : -1510.0\n",
            "idade : -4024.0\n",
            "idade : 1732.0\n",
            "idade : -591.0\n",
            "idade : -5796.0\n",
            "idade : -4388.0\n",
            "idade : -2958.0\n",
            "idade : -1783.0\n",
            "idade : 1824.0\n",
            "idade : -6162.0\n",
            "idade : -6089.0\n",
            "febre : nan\n",
            "tosse : nan\n",
            "cefaleia : nan\n",
            "dificuldade_respiratoria : nan\n",
            "dispineia : nan\n",
            "mialgia : nan\n",
            "saturacao_menor_noventa_cinco : nan\n",
            "adinofagia : nan\n",
            "diarreia : nan\n",
            "adinamia : nan\n",
            "nao_informado : nan\n",
            "doenca_cardiovascular : nan\n",
            "diabetes : nan\n",
            "doenca_respiratoria_cronica : nan\n",
            "hipertensao : nan\n",
            "paciente_oncologico : nan\n",
            "idoso : nan\n",
            "profissional_saude : nan\n",
            "obesidade : nan\n",
            "doenca_renal_cronica : nan\n",
            "doenca_auto_imune : nan\n",
            "doenca_auto_imune : DOENCAS CARDICAS CRONICA\n",
            "doenca_auto_imune : DOENCAS CARDIACAS CRONICAS\n",
            "doenca_auto_imune : IMUNOSSUPRESSÃO\n",
            "doenca_auto_imune : IMONUSSUPRESSÃO\n",
            "doenca_auto_imune : PROBLEMAS DE CIRCULAÇAO\n",
            "doenca_auto_imune : DOENÇAS CARDÍACAS CRÔNICAS\n",
            "doenca_auto_imune : PORTADOR DE DOENCAS CROMOSSOMICAS OU ESTADO DE FRAGILIDADE IMUNOLOGICA\n",
            "doenca_auto_imune : DOENÇAS CARDIACAS CRONICAS\n",
            "doenca_auto_imune : PORTADOR DE DOENCAS CROMOSSOMICAS OU ESTADO DE FLAGILIDADE IMUNOLOGICA\n",
            "doenca_auto_imune : DESCOMPENSADAS\n",
            "doenca_auto_imune : IMUNOSSUPRESSAO\n",
            "doenca_auto_imune : DOENÇAS RENAIS CRONICAS EM ESTAGIO AVANÇADO \n",
            "doenca_auto_imune : DOENÇAS RENAIS CRONICAS EM ESTAGIO AVANÇADO\n",
            "doenca_auto_imune : GESTANTE ALTO RISCO\n",
            "doenca_auto_imune : PORTADOR DE DOENÇAS CROMOSSÔMICAS OU ESTADO DE FRAGILIDADE IMUNOLÓGICA\n",
            "doenca_auto_imune : PORTADOR DE DOAÇAS CROMOSSOMICAS\n",
            "doenca_auto_imune : HERNIA DISCAL PROTUSÃO DISCAL ARTROSE\n",
            "doenca_auto_imune : ARTRITE E ARTROSE\n",
            "doenca_auto_imune : PORTADOR DE DOENCAS CROMOSSMICAS OU ESTADO DE FRAGILIDADE IMUNOLGICAOO\n",
            "doenca_auto_imune : OBESIDADE\n",
            "doenca_auto_imune : DOENÇAS CARDIACAS CRONICA\n",
            "doenca_auto_imune : LUPUS\n",
            "doenca_auto_imune : DOENÇAS RENAIS CRÔNICAS EM ESTÁGIO AVANÇADO GRAUS   OU \n",
            "doenca_auto_imune : IMUNOSUPRESSAO\n",
            "doenca_auto_imune : GESTANTE DE ALTO RISCO\n",
            "doenca_auto_imune : DOENÇAS CROMOSSÔMICAS \n",
            "doenca_auto_imune :  DOENÇAS CROMOSSÔMICAS OU ESTADO DE FRAGILIDADE IMUNOLÓGICA\n",
            "doenca_auto_imune : BRONQUITE CRONICA\n",
            "doenca_auto_imune :  DPOC? TABAGISTA \n",
            "doenca_auto_imune : DOENÇAS CARDIACAS CRÔNICAS\n",
            "doenca_auto_imune : DEMENCIA\n",
            "doenca_auto_imune : PROBLEMA DE TIREOIDE   COLESTEROL\n",
            "doenca_auto_imune : HEPATOPATIA E ETILISMO\n",
            "doenca_auto_imune : DOENCAS CARDIACAS CRONICA\n",
            "doenca_auto_imune : CANCER\n",
            "doenca_auto_imune : EM ESTAGIO AVANCADO \n",
            "doenca_auto_imune : IMUNOSSUPRESSOR\n",
            "doenca_auto_imune : IMONUSSUPRESSAO\n",
            "doenca_auto_imune : DOENÇAS RENAIS CRÔNICAS EM ESTÁGIO AVANÇADO\n",
            "doenca_auto_imune : PORTADOR DE DOENÇAS CROMOSSOMICAS OU ESTADO DE FRAGILIDADE IMUNOLOGICA\n",
            "doenca_auto_imune : PORTADOR DE DOENÇAS CROMOSSÔMICAS IMUNOSSUPRESSÃO\n",
            "doenca_auto_imune : DOENCAS CARDIACAS CRONICAS DOENÇAS CROMOSSOMICAS OU ESTADO DE FRAGILIDADE\n",
            "doenca_auto_imune : DOENÇAS RENAIS CRÔNICAS \n",
            "doenca_auto_imune : TABAGISTA HA  ANOS \n",
            "doenca_auto_imune : GASTRITE\n",
            "doenca_auto_imune : SEM DESCRIÇAO NO PRONTUARIO\n",
            "doenca_auto_imune : TRANSTORNO DE ANSIEDADE\n",
            "doenca_auto_imune : E DESCOMPENSADAS\n",
            "doenca_auto_imune : SACORPENICO\n",
            "doenca_auto_imune : GESTANTE DE RISCO\n",
            "doenca_auto_imune : NAPRIX\n",
            "doenca_auto_imune : HISTÓRICO DE AVE\n",
            "doenca_auto_imune : CARDIOPATIA\n",
            "doenca_auto_imune :  IMUNOSSUPRESSÃO\n",
            "doenca_auto_imune : PORTADOR DE DOENÇAS CROMOSSOMICAS OU ESTADO DE FRAGILIDADE IMUNOLGICAO\n",
            "doenca_auto_imune : HISTORICO DE ALCOOLISMO\n",
            "doenca_auto_imune : SEM RELATO\n",
            "doenca_auto_imune : CRONICA\n",
            "doenca_auto_imune : PORTADOR DE DOENÇAS CROMOSSÔMICAS \n",
            "doenca_auto_imune : SEQUELA DE AVC\n",
            "doenca_auto_imune : DOENCAS CROMOSSOMICAS OU ESTADO DE FRAGILIDADE IMUNOLOGICA\n",
            "doenca_auto_imune : DOENÇAS RESPIRATÓRIAS CRÔNICAS\n",
            "doenca_auto_imune : SEQUELAS DE AVC\n",
            "doenca_auto_imune : EX TABAGISTA\n",
            "doenca_auto_imune : HEPATOPATA\n",
            "doenca_auto_imune :  ESTÁGIO AVANÇADO GRAUS UM DOIS E CINCO\n",
            "doenca_auto_imune : SINDROME DE COCKETT E QUEBRA NOZES\n",
            "doenca_auto_imune : IMUNOSUPRESSÃO CROMOSSOMICA\n",
            "doenca_auto_imune : EM ESTÁGIO AVANÇADO \n",
            "doenca_auto_imune : PORTADOR DE DOENÇAS CROMOSSOMICAS OU ESTADO DE FRAGILIDADE IMUNOLGICA\n",
            "doenca_auto_imune : EPILEPSIA\n",
            "doenca_auto_imune : TABAGISTA\n",
            "doenca_auto_imune : FUMANTE\n",
            "doenca_auto_imune : CARDIACA\n",
            "doenca_auto_imune : LINFOMA\n",
            "doenca_auto_imune : DOENCAS RENAIS CRONICAS\n",
            "doenca_auto_imune : PUBERDADE PRECOCE\n",
            "doenca_auto_imune : PORTADOR DE DOENÇAS CROMOSSOMICAS  FRAGILIDADE IMUNOLOGICA\n",
            "doenca_auto_imune : CRÔNICAS DESCOMPENSADAS\n",
            "doenca_auto_imune : DOENÇCAS RESPIRATORIA CRÔBICAS DESCOMPENSADAS\n",
            "doenca_auto_imune : DOENÇAS RESPIRATÓRIAS CRÔNICAS DESCOMPENSADAS\n",
            "doenca_auto_imune : DEPRESSÃO\n",
            "doenca_auto_imune : DEPRESSÃO SINDROME DO PANICO ESTEATOSE HEPÁTICA CALCULO BILIAR\n",
            "doenca_auto_imune : PORTADOR DE DOENCAS COMOMOSSOMICAS  OU ESTADO DE FLAGILIDADE IMUNOLOGICA\n",
            "doenca_auto_imune : HIPOTIREOIDISMO\n",
            "doenca_auto_imune : PORTADOR DE DOENCAS CROMOSSOMICAS OU ESTADO DE FRAGLIDADE IMUNOLOGICA\n",
            "doenca_auto_imune : PORTADOR DE DOENCAS CROMOSSOMICAS OU ETADO DE FRAGILIDADE IMUNOLOGICA\n",
            "doenca_auto_imune : DOENÇAS CROMOSSÔMICAS FRAGILIDADE IMUNOLÓGICA\n",
            "doenca_auto_imune : GASTRITE CRONICA\n",
            "doenca_auto_imune : DOENÇAS RESPIRATORIAS CRONICAS DESCOMPENSADAS\n",
            "doenca_auto_imune : DOENÇAS RENAIS CRONICAS DESCOMPENSADAS\n",
            "doenca_auto_imune : DEMENCIA VASCULAR\n",
            "doenca_auto_imune : DLP ETILISTA EX TABAGISTA\n",
            "doenca_auto_imune : PORTADOR DE DOENÇAS CROMOSSÔMICAS FRAGILIDADE IMUNOLÓGICA\n",
            "doenca_auto_imune : PORTADOR DE DOENÇAS CROMOSSÔMICAS  FRAGILIDADE IMUNOLÓGICA\n",
            "doenca_auto_imune : TIREOIDE\n",
            "doenca_auto_imune : ARTRITE REUMATOIDE PROTESE NA PERNA DIREITA\n",
            "doenca_auto_imune : RINITE ALERGICA\n",
            "doenca_auto_imune : SINUSITE E RINITE\n",
            "doenca_auto_imune : DOENÇAS CROMOSSÔMICAS  FRAGILIDADE IMUNOLÓGICA\n",
            "doenca_auto_imune : ENZIMAIMUNOENSAIO ELISA IGM\n",
            "doenca_auto_imune : DIVERTICULITE\n",
            "doenca_auto_imune : CA DE BEXIGA\n",
            "doenca_auto_imune : PREDIABETICA\n",
            "doenca_auto_imune : NÃO INFORMADO\n",
            "doenca_auto_imune : HIPERTIREODISMO\n",
            "doenca_auto_imune : PORTADOR DE DOENÇAS CROMOSSOMICAS\n",
            "doenca_auto_imune : ARTROSE HERNIA DE DISCO\n",
            "doenca_auto_imune : COLUNA\n",
            "doenca_auto_imune : HEPATOCARCINOMA INFILTRATIVO  HEPATOPATIA CRÔNICA POR HCV \n",
            "doenca_auto_imune :  LEUCEMIA LINFOCÍTICA CRÔNICA\n",
            "doenca_auto_imune : HIPOTIREODISMO\n",
            "doenca_auto_imune : DOENCAS CARDIACAS CRONICAS DESCOMPENSADAS\n",
            "doenca_auto_imune : RENITE SINUSITE\n",
            "doenca_auto_imune : DOENÇAS RENAIS CRÔNICAS EM ESTÁGIO AVANÇADO GRAUS  TRES QUATRO E CINCO\n",
            "doenca_auto_imune : DOENÇAS RENAIS CRÔNICAS UM DOIS E TRES\n",
            "doenca_auto_imune : TABAGISMO\n",
            "doenca_auto_imune : TUBERCULOSE\n",
            "doenca_auto_imune : DEPRESSAO GLAUCOMA\n",
            "doenca_auto_imune : PSIQUIÁTRICO\n",
            "doenca_auto_imune : GESTANTE\n",
            "doenca_auto_imune : GESTANTE \n",
            "doenca_auto_imune : DESNUTRIÇÃO ETILISTA\n",
            "doenca_auto_imune : DEPRESSAO\n",
            "doenca_auto_imune : ETILISTA CRONICO \n",
            "doenca_auto_imune : LABIRINTITE OSTEOPOROSE\n",
            "doenca_auto_imune : FIBROMIALGIA\n",
            "doenca_auto_imune : DOENÇA HEPATICA CRONICA\n",
            "doenca_auto_imune : DESVIO DE SEPTO\n",
            "doenca_auto_imune : LEUSEMIA CRONICA\n",
            "doenca_auto_imune : ARTRITE ANTROSE OSTEOPOROSE\n",
            "doenca_auto_imune : EXTABAGISTA EX ETILISTA \n",
            "doenca_auto_imune : LITIOSE RENAL\n",
            "doenca_auto_imune : IMUNOENSAIO POR ELETROQUIMIOLUMINESCÊNCIA \n",
            "doenca_auto_imune : IMUNOENSAIO POR ELETROQUIMIOLUMINESCÊNCIA\n",
            "doenca_auto_imune : PORTADOR DE DOENCAS CROMOSSOMICAS E DOENCAS CARDIACAS CRONICA\n",
            "doenca_auto_imune : ANOREXIA\n",
            "doenca_auto_imune : PORTADOR DE DOENÇA CROMOSSOMICA OU DE FRAGILIDADE IMUNOLOGICA\n",
            "doenca_auto_imune :  DOENÇAS CROMOSSÔMICAS  ESTADO DE FRAGILIDADE IMUNOLÓGICA\n",
            "doenca_auto_imune : DOENÇAS CROMOSSÔMICA FRAGILIDADE IMUNOLÓGICA\n",
            "doenca_auto_imune : ETILISMO\n",
            "doenca_auto_imune : ERISIPELA\n",
            "doenca_auto_imune : EX TABAJISTA\n",
            "doenca_auto_imune : TABAGISTA ETILISTA\n",
            "doenca_auto_imune : EX TABAGISTA \n",
            "doenca_auto_imune : TABAGISTA \n",
            "doenca_auto_imune : CA DE PROSTATA TRATADO\n",
            "doenca_auto_imune : AVE PRÉVIO E DISLIPIDEMIA \n",
            "doenca_auto_imune : PORTADOR DE DOENÇAS CROMOSSÔMICAS\n",
            "doenca_auto_imune : GASTRITE E DAC\n",
            "doenca_auto_imune : HPB\n",
            "doenca_auto_imune : GASTRITE E SCA\n",
            "doenca_auto_imune : HAS\n",
            "doenca_auto_imune : ALZHEIMER DEFICIENCIA VISUAL\n",
            "doenca_auto_imune : MIELOMA MULTIPLO\n",
            "doenca_auto_imune : SINUSITE CRONICA E RINITE\n",
            "doenca_auto_imune : TABAGISTA  ESPLENOMEGALIA  ESQUISTOSSOMOSE \n",
            "doenca_auto_imune : BRONQUITE ASMATICA\n",
            "doenca_auto_imune : HEPATOPATICA\n",
            "doenca_auto_imune : RINS\n",
            "doenca_auto_imune : CROMOSSÔMICAS OU ESTADO DE FRAGILIDADE IMUNOLÓGICA\n",
            "doenca_auto_imune : DEFICIENTE MENTAL\n",
            "doenca_auto_imune : GLAUCOMA\n",
            "doenca_auto_imune : NEOPLASIA DE PRÓSTATA\n",
            "doenca_auto_imune : ERNIA DE DISCO\n",
            "doenca_auto_imune : HIPOTIREOIDISMO FEBRE REUMATICA\n",
            "doenca_auto_imune : PORTADOR DE DOENÇA CROMOSSÔMICA\n",
            "doenca_auto_imune : DOENCA CARDIACA CRONOCA\n",
            "doenca_auto_imune :  DOENÇAS CARDÍACAS CRÔNICAS\n",
            "doenca_auto_imune : IMUNOSSUPRESSÃO DOENCAS CARDIACAS CRONICA\n",
            "doenca_auto_imune : DOENÇAS CARDÍACAS CRÔNICAS   IMUNOSSUPRESSÃO\n",
            "doenca_auto_imune : PORTADOR DE TRAQUEOSTOMIA E GASTROSTOMIA \n",
            "doenca_auto_imune : DOENÇAS CARDÍACAS CRÔNICAS IMUNOSSUPRESSÃO\n",
            "doenca_auto_imune : IMUNOENSAIO POR ELETROQUIMIOLUMINESCÊNCIA - ECLIA IGG\n",
            "doenca_auto_imune : EPILEPSIA HERNIA DE HIATO ALZHEIMER\n",
            "doenca_auto_imune : DOENCAS CARDIACAS  CRONICA\n",
            "doenca_auto_imune : SEQUELADA DE AVC\n",
            "doenca_auto_imune : ALFA TELASSEMIA\n",
            "doenca_auto_imune : SEQUELAS DE AVE\n",
            "doenca_auto_imune : BRONQUITE\n",
            "doenca_auto_imune : ANGIOEDEMA HEREDITARIO\n",
            "doenca_auto_imune : TIREOPATIA\n",
            "doenca_auto_imune : RELATOS DE  AVES PRÉVIOS\n",
            "doenca_auto_imune : SEQUELADO DE AVC\n",
            "doenca_auto_imune : SEQUELA DE AVE\n",
            "doenca_auto_imune : RETNOPATIA DIABETICA\n",
            "doenca_auto_imune : TABAGISTA ETILSITA DPOC PSITQUIATRICO \n",
            "doenca_auto_imune : HEPATICA CRONICA\n",
            "doenca_auto_imune : HEPATITE B\n",
            "doenca_auto_imune : NEFROPATIA\n",
            "doenca_auto_imune : SINTOMAS GASTROINTESTINAIS \n",
            "doenca_auto_imune :  DOENÇAS RENAIS CRÔNICAS EM ESTÁGIO AVANÇADO \n",
            "doenca_auto_imune : TRANSP RENAL\n",
            "doenca_auto_imune : DPOC\n",
            "doenca_auto_imune : TROMBOFILIA\n",
            "doenca_auto_imune : A DOENÇA PULMONAR OBSTRUTIVA CRÔNICA\n",
            "doenca_auto_imune : DERMATOPOLIMISETE\n",
            "doenca_auto_imune : HIV\n",
            "doenca_auto_imune : HIPERPLASIA PROTASTICA \n",
            "doenca_auto_imune : EPILÉTICO\n",
            "asma : nan\n",
            "sem_comorbidade : nan\n",
            "fator_nao_informado : nan\n",
            "outros_fatores : nan\n",
            "pneumopatia : nan\n"
          ],
          "name": "stdout"
        }
      ]
    },
    {
      "cell_type": "markdown",
      "metadata": {
        "id": "j0UDbZgB7OQm"
      },
      "source": [
        "**Task 4:** Como visto na task anterior há erros de digitação na coluna `sexo`. Substitua os valores 'Mascuin' por 'Masculino'. \n",
        "\n",
        "Saída esperada: DataFrame com 37 colunas.\n",
        "\n"
      ]
    },
    {
      "cell_type": "code",
      "metadata": {
        "id": "0gj_ykV6-PAg",
        "outputId": "5d00deb2-f43c-4ab5-ef03-171713197f64",
        "colab": {
          "base_uri": "https://localhost:8080/",
          "height": 34
        }
      },
      "source": [
        "#Substituindo os valores utilizando o método replace\n",
        "df_covid_v3 = df_covid_v2.replace('Mascuino','Masculino')\n",
        "\n",
        "#Conferindo os valores presentes na coluna após a substituição\n",
        "print(pd.unique(df_covid_v3['sexo']))"
      ],
      "execution_count": 16,
      "outputs": [
        {
          "output_type": "stream",
          "text": [
            "['Masculino' 'Feminino']\n"
          ],
          "name": "stdout"
        }
      ]
    },
    {
      "cell_type": "markdown",
      "metadata": {
        "id": "3jEiyh_x-PHU"
      },
      "source": [
        "**Task 5.1:** Na coluna `idade` além de NaN temos idados fora do intervalo estabelecido pelo dicionário (1  ≤ `idade` ≤    102). Calcule a porcentagem de dados faltantes na coluna.\n",
        "\n",
        "\n",
        "\n",
        "```python\n",
        "porcentagem = (número de nans + número de dados fora do intervalo)/número de linhas da coluna * 100\n",
        "```\n",
        "\n",
        "Saída esperada: 0.3276233267808668 %"
      ]
    },
    {
      "cell_type": "code",
      "metadata": {
        "id": "bxezSmYsM-HW",
        "outputId": "6ea45754-57b2-4185-a787-78cb73dc194f",
        "colab": {
          "base_uri": "https://localhost:8080/",
          "height": 34
        }
      },
      "source": [
        "#Calculando número de dados fora do intervalo\n",
        "qtd_dados_fora_intervalo = 0\n",
        "dados_fora_intervalo = []\n",
        "for i in df_covid_v3['idade']:\n",
        "  if i not in range(0,103):\n",
        "    dados_fora_intervalo.append(i)\n",
        "    qtd_dados_fora_intervalo = qtd_dados_fora_intervalo+1\n",
        "\n",
        "porcentagem = qtd_dados_fora_intervalo/df_covid_v3.shape[0]*100\n",
        "\n",
        "print('Há', porcentagem, '% de dados faltantes na coluna')\n"
      ],
      "execution_count": 17,
      "outputs": [
        {
          "output_type": "stream",
          "text": [
            "Há 0.3276233267808668 % de dados faltantes na coluna\n"
          ],
          "name": "stdout"
        }
      ]
    },
    {
      "cell_type": "markdown",
      "metadata": {
        "id": "Ityp9oAUC_fy"
      },
      "source": [
        "**Task 5.2:** Visto que a porcentagem de dados faltantes é desprezível, não vale a pena subistituí-los com valores como a média das idades que estão dentro do intervalo, por exemplo.\n",
        "\n",
        "O pandas ignora automaticamente o valor NaN ao calcular alguma estatística descritiva, logo não há problema em deixá-los na coluna. No entanto, deixar os valores que estão fora do intervalo irá ocasionar erros no cálculo das estatíticas, já que são números.\n",
        "\n",
        "Substitua os valores fora do intervalo especificado por NaN para assegurar que sejam ignorados.\n"
      ]
    },
    {
      "cell_type": "code",
      "metadata": {
        "id": "RVwaZsRndLjW"
      },
      "source": [
        "import numpy as np\n",
        "\n",
        "#Pegando a lista de elementos fora do intervalo e substituindo por NaNs\n",
        "df_covid_v4 = df_covid_v3.replace(dados_fora_intervalo, np.nan)\n"
      ],
      "execution_count": 18,
      "outputs": []
    },
    {
      "cell_type": "code",
      "metadata": {
        "id": "dRoFwDE4Pptl",
        "outputId": "7a3cd3fa-e41e-4f56-be21-41e1f36e8051",
        "colab": {
          "base_uri": "https://localhost:8080/",
          "height": 676
        }
      },
      "source": [
        "# Use esta célula para imprimir seu DataFrame final, com todas as correções anteriores aplicadas\n",
        "\n",
        "df_covid_v4"
      ],
      "execution_count": 19,
      "outputs": [
        {
          "output_type": "execute_result",
          "data": {
            "text/html": [
              "<div>\n",
              "<style scoped>\n",
              "    .dataframe tbody tr th:only-of-type {\n",
              "        vertical-align: middle;\n",
              "    }\n",
              "\n",
              "    .dataframe tbody tr th {\n",
              "        vertical-align: top;\n",
              "    }\n",
              "\n",
              "    .dataframe thead th {\n",
              "        text-align: right;\n",
              "    }\n",
              "</style>\n",
              "<table border=\"1\" class=\"dataframe\">\n",
              "  <thead>\n",
              "    <tr style=\"text-align: right;\">\n",
              "      <th></th>\n",
              "      <th>etnia</th>\n",
              "      <th>sexo</th>\n",
              "      <th>municipio_residencia</th>\n",
              "      <th>classificacao</th>\n",
              "      <th>situacao_atual</th>\n",
              "      <th>data_resultado_exame</th>\n",
              "      <th>data_atendimento</th>\n",
              "      <th>tipo_coleta</th>\n",
              "      <th>idade</th>\n",
              "      <th>data_obito</th>\n",
              "      <th>data_confirmacao_obito</th>\n",
              "      <th>febre</th>\n",
              "      <th>tosse</th>\n",
              "      <th>cefaleia</th>\n",
              "      <th>dificuldade_respiratoria</th>\n",
              "      <th>dispineia</th>\n",
              "      <th>mialgia</th>\n",
              "      <th>saturacao_menor_noventa_cinco</th>\n",
              "      <th>adinofagia</th>\n",
              "      <th>diarreia</th>\n",
              "      <th>adinamia</th>\n",
              "      <th>nao_informado</th>\n",
              "      <th>doenca_cardiovascular</th>\n",
              "      <th>diabetes</th>\n",
              "      <th>doenca_respiratoria_cronica</th>\n",
              "      <th>hipertensao</th>\n",
              "      <th>paciente_oncologico</th>\n",
              "      <th>idoso</th>\n",
              "      <th>profissional_saude</th>\n",
              "      <th>obesidade</th>\n",
              "      <th>doenca_renal_cronica</th>\n",
              "      <th>doenca_auto_imune</th>\n",
              "      <th>asma</th>\n",
              "      <th>sem_comorbidade</th>\n",
              "      <th>fator_nao_informado</th>\n",
              "      <th>outros_fatores</th>\n",
              "      <th>pneumopatia</th>\n",
              "    </tr>\n",
              "  </thead>\n",
              "  <tbody>\n",
              "    <tr>\n",
              "      <th>0</th>\n",
              "      <td>Ignorado</td>\n",
              "      <td>Masculino</td>\n",
              "      <td>Maceió</td>\n",
              "      <td>Confirmado</td>\n",
              "      <td>Encerramento do Isolamento Domiciliar</td>\n",
              "      <td>2020-03-08T03:00:00.000Z</td>\n",
              "      <td>2020-03-04T03:00:00.000Z</td>\n",
              "      <td>Swab nasofaringe + RT-PCR</td>\n",
              "      <td>43.0</td>\n",
              "      <td>NaN</td>\n",
              "      <td>NaN</td>\n",
              "      <td>X</td>\n",
              "      <td>X</td>\n",
              "      <td>NaN</td>\n",
              "      <td>NaN</td>\n",
              "      <td>NaN</td>\n",
              "      <td>NaN</td>\n",
              "      <td>X</td>\n",
              "      <td>NaN</td>\n",
              "      <td>NaN</td>\n",
              "      <td>NaN</td>\n",
              "      <td>NaN</td>\n",
              "      <td>NaN</td>\n",
              "      <td>NaN</td>\n",
              "      <td>NaN</td>\n",
              "      <td>NaN</td>\n",
              "      <td>NaN</td>\n",
              "      <td>NaN</td>\n",
              "      <td>NaN</td>\n",
              "      <td>NaN</td>\n",
              "      <td>NaN</td>\n",
              "      <td>NaN</td>\n",
              "      <td>NaN</td>\n",
              "      <td>NaN</td>\n",
              "      <td>NaN</td>\n",
              "      <td>NaN</td>\n",
              "      <td>NaN</td>\n",
              "    </tr>\n",
              "    <tr>\n",
              "      <th>1</th>\n",
              "      <td>Ignorado</td>\n",
              "      <td>Masculino</td>\n",
              "      <td>Maceió</td>\n",
              "      <td>Confirmado</td>\n",
              "      <td>Encerramento do Isolamento Domiciliar</td>\n",
              "      <td>2020-03-18T03:00:00.000Z</td>\n",
              "      <td>2020-03-14T03:00:00.000Z</td>\n",
              "      <td>Swab nasofaringe + RT-PCR</td>\n",
              "      <td>21.0</td>\n",
              "      <td>NaN</td>\n",
              "      <td>NaN</td>\n",
              "      <td>X</td>\n",
              "      <td>X</td>\n",
              "      <td>X</td>\n",
              "      <td>NaN</td>\n",
              "      <td>NaN</td>\n",
              "      <td>NaN</td>\n",
              "      <td>NaN</td>\n",
              "      <td>NaN</td>\n",
              "      <td>NaN</td>\n",
              "      <td>NaN</td>\n",
              "      <td>NaN</td>\n",
              "      <td>NaN</td>\n",
              "      <td>NaN</td>\n",
              "      <td>NaN</td>\n",
              "      <td>NaN</td>\n",
              "      <td>NaN</td>\n",
              "      <td>NaN</td>\n",
              "      <td>NaN</td>\n",
              "      <td>NaN</td>\n",
              "      <td>NaN</td>\n",
              "      <td>NaN</td>\n",
              "      <td>NaN</td>\n",
              "      <td>NaN</td>\n",
              "      <td>NaN</td>\n",
              "      <td>NaN</td>\n",
              "      <td>NaN</td>\n",
              "    </tr>\n",
              "    <tr>\n",
              "      <th>2</th>\n",
              "      <td>Ignorado</td>\n",
              "      <td>Feminino</td>\n",
              "      <td>Maceió</td>\n",
              "      <td>Confirmado</td>\n",
              "      <td>Encerramento do Isolamento Domiciliar</td>\n",
              "      <td>2020-03-18T03:00:00.000Z</td>\n",
              "      <td>2020-03-14T03:00:00.000Z</td>\n",
              "      <td>Swab nasofaringe + RT-PCR</td>\n",
              "      <td>25.0</td>\n",
              "      <td>NaN</td>\n",
              "      <td>NaN</td>\n",
              "      <td>X</td>\n",
              "      <td>X</td>\n",
              "      <td>NaN</td>\n",
              "      <td>NaN</td>\n",
              "      <td>NaN</td>\n",
              "      <td>NaN</td>\n",
              "      <td>X</td>\n",
              "      <td>NaN</td>\n",
              "      <td>NaN</td>\n",
              "      <td>NaN</td>\n",
              "      <td>NaN</td>\n",
              "      <td>NaN</td>\n",
              "      <td>NaN</td>\n",
              "      <td>NaN</td>\n",
              "      <td>NaN</td>\n",
              "      <td>NaN</td>\n",
              "      <td>NaN</td>\n",
              "      <td>NaN</td>\n",
              "      <td>NaN</td>\n",
              "      <td>NaN</td>\n",
              "      <td>NaN</td>\n",
              "      <td>NaN</td>\n",
              "      <td>NaN</td>\n",
              "      <td>NaN</td>\n",
              "      <td>X</td>\n",
              "      <td>NaN</td>\n",
              "    </tr>\n",
              "    <tr>\n",
              "      <th>3</th>\n",
              "      <td>Ignorado</td>\n",
              "      <td>Feminino</td>\n",
              "      <td>Maceió</td>\n",
              "      <td>Confirmado</td>\n",
              "      <td>Óbito</td>\n",
              "      <td>2020-04-16T03:00:00.000Z</td>\n",
              "      <td>2020-03-14T03:00:00.000Z</td>\n",
              "      <td>Swab nasofaringe + RT-PCR</td>\n",
              "      <td>69.0</td>\n",
              "      <td>2020-04-24T03:00:00.000Z</td>\n",
              "      <td>2020-04-26T03:00:00.000Z</td>\n",
              "      <td>NaN</td>\n",
              "      <td>NaN</td>\n",
              "      <td>NaN</td>\n",
              "      <td>NaN</td>\n",
              "      <td>NaN</td>\n",
              "      <td>NaN</td>\n",
              "      <td>NaN</td>\n",
              "      <td>NaN</td>\n",
              "      <td>NaN</td>\n",
              "      <td>NaN</td>\n",
              "      <td>NaN</td>\n",
              "      <td>NaN</td>\n",
              "      <td>NaN</td>\n",
              "      <td>NaN</td>\n",
              "      <td>NaN</td>\n",
              "      <td>NaN</td>\n",
              "      <td>NaN</td>\n",
              "      <td>NaN</td>\n",
              "      <td>NaN</td>\n",
              "      <td>NaN</td>\n",
              "      <td>NaN</td>\n",
              "      <td>NaN</td>\n",
              "      <td>NaN</td>\n",
              "      <td>NaN</td>\n",
              "      <td>NaN</td>\n",
              "      <td>NaN</td>\n",
              "    </tr>\n",
              "    <tr>\n",
              "      <th>4</th>\n",
              "      <td>Ignorado</td>\n",
              "      <td>Feminino</td>\n",
              "      <td>Rio de Janeiro</td>\n",
              "      <td>Confirmado</td>\n",
              "      <td>Encerramento do Isolamento Domiciliar</td>\n",
              "      <td>2020-03-23T03:00:00.000Z</td>\n",
              "      <td>2020-03-16T03:00:00.000Z</td>\n",
              "      <td>Swab nasofaringe + RT-PCR</td>\n",
              "      <td>61.0</td>\n",
              "      <td>NaN</td>\n",
              "      <td>NaN</td>\n",
              "      <td>NaN</td>\n",
              "      <td>X</td>\n",
              "      <td>NaN</td>\n",
              "      <td>NaN</td>\n",
              "      <td>NaN</td>\n",
              "      <td>NaN</td>\n",
              "      <td>X</td>\n",
              "      <td>NaN</td>\n",
              "      <td>NaN</td>\n",
              "      <td>NaN</td>\n",
              "      <td>NaN</td>\n",
              "      <td>NaN</td>\n",
              "      <td>NaN</td>\n",
              "      <td>NaN</td>\n",
              "      <td>NaN</td>\n",
              "      <td>NaN</td>\n",
              "      <td>NaN</td>\n",
              "      <td>NaN</td>\n",
              "      <td>NaN</td>\n",
              "      <td>NaN</td>\n",
              "      <td>NaN</td>\n",
              "      <td>NaN</td>\n",
              "      <td>NaN</td>\n",
              "      <td>NaN</td>\n",
              "      <td>NaN</td>\n",
              "      <td>NaN</td>\n",
              "    </tr>\n",
              "    <tr>\n",
              "      <th>...</th>\n",
              "      <td>...</td>\n",
              "      <td>...</td>\n",
              "      <td>...</td>\n",
              "      <td>...</td>\n",
              "      <td>...</td>\n",
              "      <td>...</td>\n",
              "      <td>...</td>\n",
              "      <td>...</td>\n",
              "      <td>...</td>\n",
              "      <td>...</td>\n",
              "      <td>...</td>\n",
              "      <td>...</td>\n",
              "      <td>...</td>\n",
              "      <td>...</td>\n",
              "      <td>...</td>\n",
              "      <td>...</td>\n",
              "      <td>...</td>\n",
              "      <td>...</td>\n",
              "      <td>...</td>\n",
              "      <td>...</td>\n",
              "      <td>...</td>\n",
              "      <td>...</td>\n",
              "      <td>...</td>\n",
              "      <td>...</td>\n",
              "      <td>...</td>\n",
              "      <td>...</td>\n",
              "      <td>...</td>\n",
              "      <td>...</td>\n",
              "      <td>...</td>\n",
              "      <td>...</td>\n",
              "      <td>...</td>\n",
              "      <td>...</td>\n",
              "      <td>...</td>\n",
              "      <td>...</td>\n",
              "      <td>...</td>\n",
              "      <td>...</td>\n",
              "      <td>...</td>\n",
              "    </tr>\n",
              "    <tr>\n",
              "      <th>64093</th>\n",
              "      <td>Branca</td>\n",
              "      <td>Feminino</td>\n",
              "      <td>Arapiraca</td>\n",
              "      <td>Confirmado</td>\n",
              "      <td>Isolamento Domiciliar</td>\n",
              "      <td>2020-07-01T03:00:00.000Z</td>\n",
              "      <td>2020-07-01T03:00:00.000Z</td>\n",
              "      <td>Teste Rápido</td>\n",
              "      <td>30.0</td>\n",
              "      <td>NaN</td>\n",
              "      <td>NaN</td>\n",
              "      <td>NaN</td>\n",
              "      <td>X</td>\n",
              "      <td>NaN</td>\n",
              "      <td>X</td>\n",
              "      <td>NaN</td>\n",
              "      <td>NaN</td>\n",
              "      <td>NaN</td>\n",
              "      <td>NaN</td>\n",
              "      <td>NaN</td>\n",
              "      <td>X</td>\n",
              "      <td>X</td>\n",
              "      <td>NaN</td>\n",
              "      <td>NaN</td>\n",
              "      <td>NaN</td>\n",
              "      <td>NaN</td>\n",
              "      <td>NaN</td>\n",
              "      <td>NaN</td>\n",
              "      <td>NaN</td>\n",
              "      <td>NaN</td>\n",
              "      <td>NaN</td>\n",
              "      <td>NaN</td>\n",
              "      <td>NaN</td>\n",
              "      <td>NaN</td>\n",
              "      <td>NaN</td>\n",
              "      <td>NaN</td>\n",
              "      <td>NaN</td>\n",
              "    </tr>\n",
              "    <tr>\n",
              "      <th>64094</th>\n",
              "      <td>Parda</td>\n",
              "      <td>Feminino</td>\n",
              "      <td>Arapiraca</td>\n",
              "      <td>Confirmado</td>\n",
              "      <td>Isolamento Domiciliar</td>\n",
              "      <td>2020-07-09T03:00:00.000Z</td>\n",
              "      <td>2020-07-09T03:00:00.000Z</td>\n",
              "      <td>Teste Rápido</td>\n",
              "      <td>38.0</td>\n",
              "      <td>NaN</td>\n",
              "      <td>NaN</td>\n",
              "      <td>NaN</td>\n",
              "      <td>NaN</td>\n",
              "      <td>X</td>\n",
              "      <td>NaN</td>\n",
              "      <td>NaN</td>\n",
              "      <td>NaN</td>\n",
              "      <td>NaN</td>\n",
              "      <td>NaN</td>\n",
              "      <td>NaN</td>\n",
              "      <td>NaN</td>\n",
              "      <td>X</td>\n",
              "      <td>NaN</td>\n",
              "      <td>NaN</td>\n",
              "      <td>NaN</td>\n",
              "      <td>NaN</td>\n",
              "      <td>NaN</td>\n",
              "      <td>NaN</td>\n",
              "      <td>NaN</td>\n",
              "      <td>NaN</td>\n",
              "      <td>NaN</td>\n",
              "      <td>NaN</td>\n",
              "      <td>X</td>\n",
              "      <td>NaN</td>\n",
              "      <td>NaN</td>\n",
              "      <td>NaN</td>\n",
              "      <td>NaN</td>\n",
              "    </tr>\n",
              "    <tr>\n",
              "      <th>64095</th>\n",
              "      <td>Parda</td>\n",
              "      <td>Feminino</td>\n",
              "      <td>Arapiraca</td>\n",
              "      <td>Confirmado</td>\n",
              "      <td>Isolamento Domiciliar</td>\n",
              "      <td>2020-07-02T03:00:00.000Z</td>\n",
              "      <td>2020-07-02T03:00:00.000Z</td>\n",
              "      <td>Teste Rápido</td>\n",
              "      <td>25.0</td>\n",
              "      <td>NaN</td>\n",
              "      <td>NaN</td>\n",
              "      <td>X</td>\n",
              "      <td>NaN</td>\n",
              "      <td>X</td>\n",
              "      <td>NaN</td>\n",
              "      <td>NaN</td>\n",
              "      <td>NaN</td>\n",
              "      <td>NaN</td>\n",
              "      <td>NaN</td>\n",
              "      <td>NaN</td>\n",
              "      <td>NaN</td>\n",
              "      <td>NaN</td>\n",
              "      <td>NaN</td>\n",
              "      <td>NaN</td>\n",
              "      <td>NaN</td>\n",
              "      <td>NaN</td>\n",
              "      <td>NaN</td>\n",
              "      <td>NaN</td>\n",
              "      <td>NaN</td>\n",
              "      <td>NaN</td>\n",
              "      <td>NaN</td>\n",
              "      <td>NaN</td>\n",
              "      <td>X</td>\n",
              "      <td>NaN</td>\n",
              "      <td>NaN</td>\n",
              "      <td>NaN</td>\n",
              "      <td>NaN</td>\n",
              "    </tr>\n",
              "    <tr>\n",
              "      <th>64096</th>\n",
              "      <td>Parda</td>\n",
              "      <td>Feminino</td>\n",
              "      <td>Arapiraca</td>\n",
              "      <td>Confirmado</td>\n",
              "      <td>Isolamento Domiciliar</td>\n",
              "      <td>2020-07-03T03:00:00.000Z</td>\n",
              "      <td>2020-07-03T03:00:00.000Z</td>\n",
              "      <td>Teste Rápido</td>\n",
              "      <td>34.0</td>\n",
              "      <td>NaN</td>\n",
              "      <td>NaN</td>\n",
              "      <td>NaN</td>\n",
              "      <td>NaN</td>\n",
              "      <td>X</td>\n",
              "      <td>NaN</td>\n",
              "      <td>NaN</td>\n",
              "      <td>NaN</td>\n",
              "      <td>NaN</td>\n",
              "      <td>X</td>\n",
              "      <td>NaN</td>\n",
              "      <td>X</td>\n",
              "      <td>X</td>\n",
              "      <td>NaN</td>\n",
              "      <td>NaN</td>\n",
              "      <td>NaN</td>\n",
              "      <td>NaN</td>\n",
              "      <td>NaN</td>\n",
              "      <td>NaN</td>\n",
              "      <td>NaN</td>\n",
              "      <td>NaN</td>\n",
              "      <td>NaN</td>\n",
              "      <td>NaN</td>\n",
              "      <td>NaN</td>\n",
              "      <td>NaN</td>\n",
              "      <td>NaN</td>\n",
              "      <td>NaN</td>\n",
              "      <td>NaN</td>\n",
              "    </tr>\n",
              "    <tr>\n",
              "      <th>64097</th>\n",
              "      <td>Parda</td>\n",
              "      <td>Feminino</td>\n",
              "      <td>Arapiraca</td>\n",
              "      <td>Confirmado</td>\n",
              "      <td>Isolamento Domiciliar</td>\n",
              "      <td>2020-07-09T03:00:00.000Z</td>\n",
              "      <td>2020-07-09T03:00:00.000Z</td>\n",
              "      <td>Teste Rápido</td>\n",
              "      <td>30.0</td>\n",
              "      <td>NaN</td>\n",
              "      <td>NaN</td>\n",
              "      <td>NaN</td>\n",
              "      <td>X</td>\n",
              "      <td>X</td>\n",
              "      <td>NaN</td>\n",
              "      <td>NaN</td>\n",
              "      <td>NaN</td>\n",
              "      <td>NaN</td>\n",
              "      <td>X</td>\n",
              "      <td>NaN</td>\n",
              "      <td>X</td>\n",
              "      <td>X</td>\n",
              "      <td>NaN</td>\n",
              "      <td>NaN</td>\n",
              "      <td>NaN</td>\n",
              "      <td>NaN</td>\n",
              "      <td>NaN</td>\n",
              "      <td>NaN</td>\n",
              "      <td>NaN</td>\n",
              "      <td>NaN</td>\n",
              "      <td>NaN</td>\n",
              "      <td>NaN</td>\n",
              "      <td>NaN</td>\n",
              "      <td>NaN</td>\n",
              "      <td>NaN</td>\n",
              "      <td>NaN</td>\n",
              "      <td>NaN</td>\n",
              "    </tr>\n",
              "  </tbody>\n",
              "</table>\n",
              "<p>64098 rows × 37 columns</p>\n",
              "</div>"
            ],
            "text/plain": [
              "          etnia       sexo  ... outros_fatores pneumopatia\n",
              "0      Ignorado  Masculino  ...            NaN         NaN\n",
              "1      Ignorado  Masculino  ...            NaN         NaN\n",
              "2      Ignorado   Feminino  ...              X         NaN\n",
              "3      Ignorado   Feminino  ...            NaN         NaN\n",
              "4      Ignorado   Feminino  ...            NaN         NaN\n",
              "...         ...        ...  ...            ...         ...\n",
              "64093    Branca   Feminino  ...            NaN         NaN\n",
              "64094     Parda   Feminino  ...            NaN         NaN\n",
              "64095     Parda   Feminino  ...            NaN         NaN\n",
              "64096     Parda   Feminino  ...            NaN         NaN\n",
              "64097     Parda   Feminino  ...            NaN         NaN\n",
              "\n",
              "[64098 rows x 37 columns]"
            ]
          },
          "metadata": {
            "tags": []
          },
          "execution_count": 19
        }
      ]
    },
    {
      "cell_type": "markdown",
      "metadata": {
        "id": "KMHHNqYLJ2cg"
      },
      "source": [
        "# **Semana 7**"
      ]
    },
    {
      "cell_type": "markdown",
      "metadata": {
        "id": "TZ6kzVEYXSBn"
      },
      "source": [
        "É comum que os dados a serem trabalhados não estejam disponíveis em um único arquivo. Os dados a respeito da Covid, por exemplo, são atualizados com uma certa frequência. Desse modo, podem demandar que os novos dados sejam adicionados ao dataset antigo.\n",
        "\n",
        "Para tratar esses casos, serão apresentados abaixo, alguns recursos do pabdas para junção de datasets."
      ]
    },
    {
      "cell_type": "markdown",
      "metadata": {
        "id": "GFnYhZ7onlgb"
      },
      "source": [
        "## **Merge**"
      ]
    },
    {
      "cell_type": "markdown",
      "metadata": {
        "id": "qaBVffoBnxOw"
      },
      "source": [
        "A operação `merge` une as linhas de dois datasets, de acordo com uma coluna chave (ou key)."
      ]
    },
    {
      "cell_type": "code",
      "metadata": {
        "id": "rYBMLutIajvu",
        "outputId": "6c009793-001d-408e-a35c-6dbf19d9a7ca",
        "colab": {
          "base_uri": "https://localhost:8080/",
          "height": 173
        }
      },
      "source": [
        "dados1 = {'id':[1,2,3,4],'nota_1':[9,9,8,10]}\n",
        "df1 = pd.DataFrame(dados1)\n",
        "\n",
        "df1"
      ],
      "execution_count": null,
      "outputs": [
        {
          "output_type": "execute_result",
          "data": {
            "text/html": [
              "<div>\n",
              "<style scoped>\n",
              "    .dataframe tbody tr th:only-of-type {\n",
              "        vertical-align: middle;\n",
              "    }\n",
              "\n",
              "    .dataframe tbody tr th {\n",
              "        vertical-align: top;\n",
              "    }\n",
              "\n",
              "    .dataframe thead th {\n",
              "        text-align: right;\n",
              "    }\n",
              "</style>\n",
              "<table border=\"1\" class=\"dataframe\">\n",
              "  <thead>\n",
              "    <tr style=\"text-align: right;\">\n",
              "      <th></th>\n",
              "      <th>id</th>\n",
              "      <th>nota_1</th>\n",
              "    </tr>\n",
              "  </thead>\n",
              "  <tbody>\n",
              "    <tr>\n",
              "      <th>0</th>\n",
              "      <td>1</td>\n",
              "      <td>9</td>\n",
              "    </tr>\n",
              "    <tr>\n",
              "      <th>1</th>\n",
              "      <td>2</td>\n",
              "      <td>9</td>\n",
              "    </tr>\n",
              "    <tr>\n",
              "      <th>2</th>\n",
              "      <td>3</td>\n",
              "      <td>8</td>\n",
              "    </tr>\n",
              "    <tr>\n",
              "      <th>3</th>\n",
              "      <td>4</td>\n",
              "      <td>10</td>\n",
              "    </tr>\n",
              "  </tbody>\n",
              "</table>\n",
              "</div>"
            ],
            "text/plain": [
              "   id  nota_1\n",
              "0   1       9\n",
              "1   2       9\n",
              "2   3       8\n",
              "3   4      10"
            ]
          },
          "metadata": {
            "tags": []
          },
          "execution_count": 3
        }
      ]
    },
    {
      "cell_type": "code",
      "metadata": {
        "id": "iBXhuQFLbdfC",
        "outputId": "addcbaf2-c93a-4248-ec33-5aa6ef03c9c7",
        "colab": {
          "base_uri": "https://localhost:8080/",
          "height": 173
        }
      },
      "source": [
        "dados2 = {'id':[1,2,3,4],'nota_2':[2,7,9,10]}\n",
        "df2 = pd.DataFrame(dados2,index=[-1,7,8,9])\n",
        "\n",
        "df2"
      ],
      "execution_count": null,
      "outputs": [
        {
          "output_type": "execute_result",
          "data": {
            "text/html": [
              "<div>\n",
              "<style scoped>\n",
              "    .dataframe tbody tr th:only-of-type {\n",
              "        vertical-align: middle;\n",
              "    }\n",
              "\n",
              "    .dataframe tbody tr th {\n",
              "        vertical-align: top;\n",
              "    }\n",
              "\n",
              "    .dataframe thead th {\n",
              "        text-align: right;\n",
              "    }\n",
              "</style>\n",
              "<table border=\"1\" class=\"dataframe\">\n",
              "  <thead>\n",
              "    <tr style=\"text-align: right;\">\n",
              "      <th></th>\n",
              "      <th>id</th>\n",
              "      <th>nota_2</th>\n",
              "    </tr>\n",
              "  </thead>\n",
              "  <tbody>\n",
              "    <tr>\n",
              "      <th>-1</th>\n",
              "      <td>1</td>\n",
              "      <td>2</td>\n",
              "    </tr>\n",
              "    <tr>\n",
              "      <th>7</th>\n",
              "      <td>2</td>\n",
              "      <td>7</td>\n",
              "    </tr>\n",
              "    <tr>\n",
              "      <th>8</th>\n",
              "      <td>3</td>\n",
              "      <td>9</td>\n",
              "    </tr>\n",
              "    <tr>\n",
              "      <th>9</th>\n",
              "      <td>4</td>\n",
              "      <td>10</td>\n",
              "    </tr>\n",
              "  </tbody>\n",
              "</table>\n",
              "</div>"
            ],
            "text/plain": [
              "    id  nota_2\n",
              "-1   1       2\n",
              " 7   2       7\n",
              " 8   3       9\n",
              " 9   4      10"
            ]
          },
          "metadata": {
            "tags": []
          },
          "execution_count": 4
        }
      ]
    },
    {
      "cell_type": "code",
      "metadata": {
        "id": "4eQ4ENdrb1WW",
        "outputId": "4ed97bcf-2a83-452c-fddd-4d71d753bd22",
        "colab": {
          "base_uri": "https://localhost:8080/",
          "height": 173
        }
      },
      "source": [
        "pd.merge(df1,df2)"
      ],
      "execution_count": null,
      "outputs": [
        {
          "output_type": "execute_result",
          "data": {
            "text/html": [
              "<div>\n",
              "<style scoped>\n",
              "    .dataframe tbody tr th:only-of-type {\n",
              "        vertical-align: middle;\n",
              "    }\n",
              "\n",
              "    .dataframe tbody tr th {\n",
              "        vertical-align: top;\n",
              "    }\n",
              "\n",
              "    .dataframe thead th {\n",
              "        text-align: right;\n",
              "    }\n",
              "</style>\n",
              "<table border=\"1\" class=\"dataframe\">\n",
              "  <thead>\n",
              "    <tr style=\"text-align: right;\">\n",
              "      <th></th>\n",
              "      <th>id</th>\n",
              "      <th>nota_1</th>\n",
              "      <th>nota_2</th>\n",
              "    </tr>\n",
              "  </thead>\n",
              "  <tbody>\n",
              "    <tr>\n",
              "      <th>0</th>\n",
              "      <td>1</td>\n",
              "      <td>9</td>\n",
              "      <td>2</td>\n",
              "    </tr>\n",
              "    <tr>\n",
              "      <th>1</th>\n",
              "      <td>2</td>\n",
              "      <td>9</td>\n",
              "      <td>7</td>\n",
              "    </tr>\n",
              "    <tr>\n",
              "      <th>2</th>\n",
              "      <td>3</td>\n",
              "      <td>8</td>\n",
              "      <td>9</td>\n",
              "    </tr>\n",
              "    <tr>\n",
              "      <th>3</th>\n",
              "      <td>4</td>\n",
              "      <td>10</td>\n",
              "      <td>10</td>\n",
              "    </tr>\n",
              "  </tbody>\n",
              "</table>\n",
              "</div>"
            ],
            "text/plain": [
              "   id  nota_1  nota_2\n",
              "0   1       9       2\n",
              "1   2       9       7\n",
              "2   3       8       9\n",
              "3   4      10      10"
            ]
          },
          "metadata": {
            "tags": []
          },
          "execution_count": 5
        }
      ]
    },
    {
      "cell_type": "markdown",
      "metadata": {
        "id": "znyeX1mTi2IM"
      },
      "source": [
        "Note que, independente do índice, as linhas com o mesmo valor na coluna 'id' são unidas. Por padrão, a coluna que estiver presente nos dois datasets é usada como key, porém, é uma boa prática definí-la com o argumento `on`."
      ]
    },
    {
      "cell_type": "code",
      "metadata": {
        "id": "0tgUxAAoog0x",
        "outputId": "f757820b-8c10-4404-c027-ac35a11610e8",
        "colab": {
          "base_uri": "https://localhost:8080/",
          "height": 173
        }
      },
      "source": [
        "pd.merge(df1,df2,on='id')"
      ],
      "execution_count": null,
      "outputs": [
        {
          "output_type": "execute_result",
          "data": {
            "text/html": [
              "<div>\n",
              "<style scoped>\n",
              "    .dataframe tbody tr th:only-of-type {\n",
              "        vertical-align: middle;\n",
              "    }\n",
              "\n",
              "    .dataframe tbody tr th {\n",
              "        vertical-align: top;\n",
              "    }\n",
              "\n",
              "    .dataframe thead th {\n",
              "        text-align: right;\n",
              "    }\n",
              "</style>\n",
              "<table border=\"1\" class=\"dataframe\">\n",
              "  <thead>\n",
              "    <tr style=\"text-align: right;\">\n",
              "      <th></th>\n",
              "      <th>id</th>\n",
              "      <th>nota_1</th>\n",
              "      <th>nota_2</th>\n",
              "    </tr>\n",
              "  </thead>\n",
              "  <tbody>\n",
              "    <tr>\n",
              "      <th>0</th>\n",
              "      <td>1</td>\n",
              "      <td>9</td>\n",
              "      <td>2</td>\n",
              "    </tr>\n",
              "    <tr>\n",
              "      <th>1</th>\n",
              "      <td>2</td>\n",
              "      <td>9</td>\n",
              "      <td>7</td>\n",
              "    </tr>\n",
              "    <tr>\n",
              "      <th>2</th>\n",
              "      <td>3</td>\n",
              "      <td>8</td>\n",
              "      <td>9</td>\n",
              "    </tr>\n",
              "    <tr>\n",
              "      <th>3</th>\n",
              "      <td>4</td>\n",
              "      <td>10</td>\n",
              "      <td>10</td>\n",
              "    </tr>\n",
              "  </tbody>\n",
              "</table>\n",
              "</div>"
            ],
            "text/plain": [
              "   id  nota_1  nota_2\n",
              "0   1       9       2\n",
              "1   2       9       7\n",
              "2   3       8       9\n",
              "3   4      10      10"
            ]
          },
          "metadata": {
            "tags": []
          },
          "execution_count": 6
        }
      ]
    },
    {
      "cell_type": "markdown",
      "metadata": {
        "id": "C-73rcXtqJvU"
      },
      "source": [
        "Também é possível definir diferentes colunas como key. Observe os datasets abaixo:"
      ]
    },
    {
      "cell_type": "code",
      "metadata": {
        "id": "iHqqcr0TrWXD",
        "outputId": "13438426-918e-4554-ae68-453e37449d3f",
        "colab": {
          "base_uri": "https://localhost:8080/",
          "height": 173
        }
      },
      "source": [
        "dados1 = {'chave':[1,2,3,5],'nota_1':[9,9,8,10]}\n",
        "df1 = pd.DataFrame(dados1)\n",
        "\n",
        "df1"
      ],
      "execution_count": null,
      "outputs": [
        {
          "output_type": "execute_result",
          "data": {
            "text/html": [
              "<div>\n",
              "<style scoped>\n",
              "    .dataframe tbody tr th:only-of-type {\n",
              "        vertical-align: middle;\n",
              "    }\n",
              "\n",
              "    .dataframe tbody tr th {\n",
              "        vertical-align: top;\n",
              "    }\n",
              "\n",
              "    .dataframe thead th {\n",
              "        text-align: right;\n",
              "    }\n",
              "</style>\n",
              "<table border=\"1\" class=\"dataframe\">\n",
              "  <thead>\n",
              "    <tr style=\"text-align: right;\">\n",
              "      <th></th>\n",
              "      <th>chave</th>\n",
              "      <th>nota_1</th>\n",
              "    </tr>\n",
              "  </thead>\n",
              "  <tbody>\n",
              "    <tr>\n",
              "      <th>0</th>\n",
              "      <td>1</td>\n",
              "      <td>9</td>\n",
              "    </tr>\n",
              "    <tr>\n",
              "      <th>1</th>\n",
              "      <td>2</td>\n",
              "      <td>9</td>\n",
              "    </tr>\n",
              "    <tr>\n",
              "      <th>2</th>\n",
              "      <td>3</td>\n",
              "      <td>8</td>\n",
              "    </tr>\n",
              "    <tr>\n",
              "      <th>3</th>\n",
              "      <td>5</td>\n",
              "      <td>10</td>\n",
              "    </tr>\n",
              "  </tbody>\n",
              "</table>\n",
              "</div>"
            ],
            "text/plain": [
              "   chave  nota_1\n",
              "0      1       9\n",
              "1      2       9\n",
              "2      3       8\n",
              "3      5      10"
            ]
          },
          "metadata": {
            "tags": []
          },
          "execution_count": 7
        }
      ]
    },
    {
      "cell_type": "code",
      "metadata": {
        "id": "TuZNJ9Hvrdf4",
        "outputId": "6f617a52-f0b3-4b39-94ce-e3033076e934",
        "colab": {
          "base_uri": "https://localhost:8080/",
          "height": 173
        }
      },
      "source": [
        "dados2 = {'key':[5,3,4,1],'nota_2':[2,7,9,10]}\n",
        "df2 = pd.DataFrame(dados2)\n",
        "\n",
        "df2"
      ],
      "execution_count": null,
      "outputs": [
        {
          "output_type": "execute_result",
          "data": {
            "text/html": [
              "<div>\n",
              "<style scoped>\n",
              "    .dataframe tbody tr th:only-of-type {\n",
              "        vertical-align: middle;\n",
              "    }\n",
              "\n",
              "    .dataframe tbody tr th {\n",
              "        vertical-align: top;\n",
              "    }\n",
              "\n",
              "    .dataframe thead th {\n",
              "        text-align: right;\n",
              "    }\n",
              "</style>\n",
              "<table border=\"1\" class=\"dataframe\">\n",
              "  <thead>\n",
              "    <tr style=\"text-align: right;\">\n",
              "      <th></th>\n",
              "      <th>key</th>\n",
              "      <th>nota_2</th>\n",
              "    </tr>\n",
              "  </thead>\n",
              "  <tbody>\n",
              "    <tr>\n",
              "      <th>0</th>\n",
              "      <td>5</td>\n",
              "      <td>2</td>\n",
              "    </tr>\n",
              "    <tr>\n",
              "      <th>1</th>\n",
              "      <td>3</td>\n",
              "      <td>7</td>\n",
              "    </tr>\n",
              "    <tr>\n",
              "      <th>2</th>\n",
              "      <td>4</td>\n",
              "      <td>9</td>\n",
              "    </tr>\n",
              "    <tr>\n",
              "      <th>3</th>\n",
              "      <td>1</td>\n",
              "      <td>10</td>\n",
              "    </tr>\n",
              "  </tbody>\n",
              "</table>\n",
              "</div>"
            ],
            "text/plain": [
              "   key  nota_2\n",
              "0    5       2\n",
              "1    3       7\n",
              "2    4       9\n",
              "3    1      10"
            ]
          },
          "metadata": {
            "tags": []
          },
          "execution_count": 8
        }
      ]
    },
    {
      "cell_type": "markdown",
      "metadata": {
        "id": "5A1Mn6NerkfZ"
      },
      "source": [
        "Caso o objetivo seja unir as linhas onde o valor da coluna `'chave'` é igual a coluna `'key'`, usa-se os argumentos `left_on` e `right_on`.\n",
        "\n",
        "\n",
        "\n",
        "```python\n",
        "pd.merge(df1,df2,left_on='coluna do df1',right_on='coluna do df2')\n",
        "```"
      ]
    },
    {
      "cell_type": "code",
      "metadata": {
        "id": "zXbGLunftf49",
        "outputId": "c5e441e1-9ff5-419d-a0ad-83f798632547",
        "colab": {
          "base_uri": "https://localhost:8080/",
          "height": 142
        }
      },
      "source": [
        "pd.merge(df1,df2,left_on='chave',right_on='key')"
      ],
      "execution_count": null,
      "outputs": [
        {
          "output_type": "execute_result",
          "data": {
            "text/html": [
              "<div>\n",
              "<style scoped>\n",
              "    .dataframe tbody tr th:only-of-type {\n",
              "        vertical-align: middle;\n",
              "    }\n",
              "\n",
              "    .dataframe tbody tr th {\n",
              "        vertical-align: top;\n",
              "    }\n",
              "\n",
              "    .dataframe thead th {\n",
              "        text-align: right;\n",
              "    }\n",
              "</style>\n",
              "<table border=\"1\" class=\"dataframe\">\n",
              "  <thead>\n",
              "    <tr style=\"text-align: right;\">\n",
              "      <th></th>\n",
              "      <th>chave</th>\n",
              "      <th>nota_1</th>\n",
              "      <th>key</th>\n",
              "      <th>nota_2</th>\n",
              "    </tr>\n",
              "  </thead>\n",
              "  <tbody>\n",
              "    <tr>\n",
              "      <th>0</th>\n",
              "      <td>1</td>\n",
              "      <td>9</td>\n",
              "      <td>1</td>\n",
              "      <td>10</td>\n",
              "    </tr>\n",
              "    <tr>\n",
              "      <th>1</th>\n",
              "      <td>3</td>\n",
              "      <td>8</td>\n",
              "      <td>3</td>\n",
              "      <td>7</td>\n",
              "    </tr>\n",
              "    <tr>\n",
              "      <th>2</th>\n",
              "      <td>5</td>\n",
              "      <td>10</td>\n",
              "      <td>5</td>\n",
              "      <td>2</td>\n",
              "    </tr>\n",
              "  </tbody>\n",
              "</table>\n",
              "</div>"
            ],
            "text/plain": [
              "   chave  nota_1  key  nota_2\n",
              "0      1       9    1      10\n",
              "1      3       8    3       7\n",
              "2      5      10    5       2"
            ]
          },
          "metadata": {
            "tags": []
          },
          "execution_count": 9
        }
      ]
    },
    {
      "cell_type": "markdown",
      "metadata": {
        "id": "2Z4PI2WSwErd"
      },
      "source": [
        "Note que somente as linhas onde o valor das colunas é igual constam no retorno da operação. Isso ocorre porque o padrão é considerar apenas a intersecção entre as duas colunas. Para alterar, basta usar o argumento `how`."
      ]
    },
    {
      "cell_type": "code",
      "metadata": {
        "id": "-Wr6qbSjw_VW",
        "outputId": "444bff26-7b8f-4c94-f551-18872e402db1",
        "colab": {
          "base_uri": "https://localhost:8080/",
          "height": 204
        }
      },
      "source": [
        "# Para considerar todos os valores das colunas\n",
        "# how = 'outer'\n",
        "\n",
        "pd.merge(df1,df2,left_on='chave',right_on='key',how='outer')"
      ],
      "execution_count": null,
      "outputs": [
        {
          "output_type": "execute_result",
          "data": {
            "text/html": [
              "<div>\n",
              "<style scoped>\n",
              "    .dataframe tbody tr th:only-of-type {\n",
              "        vertical-align: middle;\n",
              "    }\n",
              "\n",
              "    .dataframe tbody tr th {\n",
              "        vertical-align: top;\n",
              "    }\n",
              "\n",
              "    .dataframe thead th {\n",
              "        text-align: right;\n",
              "    }\n",
              "</style>\n",
              "<table border=\"1\" class=\"dataframe\">\n",
              "  <thead>\n",
              "    <tr style=\"text-align: right;\">\n",
              "      <th></th>\n",
              "      <th>chave</th>\n",
              "      <th>nota_1</th>\n",
              "      <th>key</th>\n",
              "      <th>nota_2</th>\n",
              "    </tr>\n",
              "  </thead>\n",
              "  <tbody>\n",
              "    <tr>\n",
              "      <th>0</th>\n",
              "      <td>1.0</td>\n",
              "      <td>9.0</td>\n",
              "      <td>1.0</td>\n",
              "      <td>10.0</td>\n",
              "    </tr>\n",
              "    <tr>\n",
              "      <th>1</th>\n",
              "      <td>2.0</td>\n",
              "      <td>9.0</td>\n",
              "      <td>NaN</td>\n",
              "      <td>NaN</td>\n",
              "    </tr>\n",
              "    <tr>\n",
              "      <th>2</th>\n",
              "      <td>3.0</td>\n",
              "      <td>8.0</td>\n",
              "      <td>3.0</td>\n",
              "      <td>7.0</td>\n",
              "    </tr>\n",
              "    <tr>\n",
              "      <th>3</th>\n",
              "      <td>5.0</td>\n",
              "      <td>10.0</td>\n",
              "      <td>5.0</td>\n",
              "      <td>2.0</td>\n",
              "    </tr>\n",
              "    <tr>\n",
              "      <th>4</th>\n",
              "      <td>NaN</td>\n",
              "      <td>NaN</td>\n",
              "      <td>4.0</td>\n",
              "      <td>9.0</td>\n",
              "    </tr>\n",
              "  </tbody>\n",
              "</table>\n",
              "</div>"
            ],
            "text/plain": [
              "   chave  nota_1  key  nota_2\n",
              "0    1.0     9.0  1.0    10.0\n",
              "1    2.0     9.0  NaN     NaN\n",
              "2    3.0     8.0  3.0     7.0\n",
              "3    5.0    10.0  5.0     2.0\n",
              "4    NaN     NaN  4.0     9.0"
            ]
          },
          "metadata": {
            "tags": []
          },
          "execution_count": 10
        }
      ]
    },
    {
      "cell_type": "code",
      "metadata": {
        "id": "2TuP4j_IxAlS",
        "outputId": "18f089e0-d26c-4386-d974-ac8850eb034b",
        "colab": {
          "base_uri": "https://localhost:8080/",
          "height": 173
        }
      },
      "source": [
        "# Para considerar todos os valores da coluna do df1\n",
        "# how = 'left'\n",
        "\n",
        "pd.merge(df1,df2,left_on='chave',right_on='key',how='left')"
      ],
      "execution_count": null,
      "outputs": [
        {
          "output_type": "execute_result",
          "data": {
            "text/html": [
              "<div>\n",
              "<style scoped>\n",
              "    .dataframe tbody tr th:only-of-type {\n",
              "        vertical-align: middle;\n",
              "    }\n",
              "\n",
              "    .dataframe tbody tr th {\n",
              "        vertical-align: top;\n",
              "    }\n",
              "\n",
              "    .dataframe thead th {\n",
              "        text-align: right;\n",
              "    }\n",
              "</style>\n",
              "<table border=\"1\" class=\"dataframe\">\n",
              "  <thead>\n",
              "    <tr style=\"text-align: right;\">\n",
              "      <th></th>\n",
              "      <th>chave</th>\n",
              "      <th>nota_1</th>\n",
              "      <th>key</th>\n",
              "      <th>nota_2</th>\n",
              "    </tr>\n",
              "  </thead>\n",
              "  <tbody>\n",
              "    <tr>\n",
              "      <th>0</th>\n",
              "      <td>1</td>\n",
              "      <td>9</td>\n",
              "      <td>1.0</td>\n",
              "      <td>10.0</td>\n",
              "    </tr>\n",
              "    <tr>\n",
              "      <th>1</th>\n",
              "      <td>2</td>\n",
              "      <td>9</td>\n",
              "      <td>NaN</td>\n",
              "      <td>NaN</td>\n",
              "    </tr>\n",
              "    <tr>\n",
              "      <th>2</th>\n",
              "      <td>3</td>\n",
              "      <td>8</td>\n",
              "      <td>3.0</td>\n",
              "      <td>7.0</td>\n",
              "    </tr>\n",
              "    <tr>\n",
              "      <th>3</th>\n",
              "      <td>5</td>\n",
              "      <td>10</td>\n",
              "      <td>5.0</td>\n",
              "      <td>2.0</td>\n",
              "    </tr>\n",
              "  </tbody>\n",
              "</table>\n",
              "</div>"
            ],
            "text/plain": [
              "   chave  nota_1  key  nota_2\n",
              "0      1       9  1.0    10.0\n",
              "1      2       9  NaN     NaN\n",
              "2      3       8  3.0     7.0\n",
              "3      5      10  5.0     2.0"
            ]
          },
          "metadata": {
            "tags": []
          },
          "execution_count": 11
        }
      ]
    },
    {
      "cell_type": "code",
      "metadata": {
        "id": "n0u8crMCx79o",
        "outputId": "0dd68a42-4dd5-431d-d2d8-88fd542de6b2",
        "colab": {
          "base_uri": "https://localhost:8080/",
          "height": 173
        }
      },
      "source": [
        "# Para considerar todos os valores da coluna do df2\n",
        "# how = 'right'\n",
        "\n",
        "pd.merge(df1,df2,left_on='chave',right_on='key',how='right')"
      ],
      "execution_count": null,
      "outputs": [
        {
          "output_type": "execute_result",
          "data": {
            "text/html": [
              "<div>\n",
              "<style scoped>\n",
              "    .dataframe tbody tr th:only-of-type {\n",
              "        vertical-align: middle;\n",
              "    }\n",
              "\n",
              "    .dataframe tbody tr th {\n",
              "        vertical-align: top;\n",
              "    }\n",
              "\n",
              "    .dataframe thead th {\n",
              "        text-align: right;\n",
              "    }\n",
              "</style>\n",
              "<table border=\"1\" class=\"dataframe\">\n",
              "  <thead>\n",
              "    <tr style=\"text-align: right;\">\n",
              "      <th></th>\n",
              "      <th>chave</th>\n",
              "      <th>nota_1</th>\n",
              "      <th>key</th>\n",
              "      <th>nota_2</th>\n",
              "    </tr>\n",
              "  </thead>\n",
              "  <tbody>\n",
              "    <tr>\n",
              "      <th>0</th>\n",
              "      <td>5.0</td>\n",
              "      <td>10.0</td>\n",
              "      <td>5</td>\n",
              "      <td>2</td>\n",
              "    </tr>\n",
              "    <tr>\n",
              "      <th>1</th>\n",
              "      <td>3.0</td>\n",
              "      <td>8.0</td>\n",
              "      <td>3</td>\n",
              "      <td>7</td>\n",
              "    </tr>\n",
              "    <tr>\n",
              "      <th>2</th>\n",
              "      <td>NaN</td>\n",
              "      <td>NaN</td>\n",
              "      <td>4</td>\n",
              "      <td>9</td>\n",
              "    </tr>\n",
              "    <tr>\n",
              "      <th>3</th>\n",
              "      <td>1.0</td>\n",
              "      <td>9.0</td>\n",
              "      <td>1</td>\n",
              "      <td>10</td>\n",
              "    </tr>\n",
              "  </tbody>\n",
              "</table>\n",
              "</div>"
            ],
            "text/plain": [
              "   chave  nota_1  key  nota_2\n",
              "0    5.0    10.0    5       2\n",
              "1    3.0     8.0    3       7\n",
              "2    NaN     NaN    4       9\n",
              "3    1.0     9.0    1      10"
            ]
          },
          "metadata": {
            "tags": []
          },
          "execution_count": 12
        }
      ]
    },
    {
      "cell_type": "markdown",
      "metadata": {
        "id": "Or6qjiw8nsoe"
      },
      "source": [
        "## **Join**"
      ]
    },
    {
      "cell_type": "markdown",
      "metadata": {
        "id": "2Gd30OHAfX9d"
      },
      "source": [
        "O método `join` é comum quando se quer usar o índice dos dataframes como key, embora também seja possível realizar essa operação com o merge.\n",
        "\n",
        "\n",
        "\n",
        "```\n",
        "df1.join(lista de datasets)\n",
        "```\n",
        "\n"
      ]
    },
    {
      "cell_type": "code",
      "metadata": {
        "id": "-WJSxj0Sib-7",
        "outputId": "28a66035-0941-4dbc-8062-712ab19f759a",
        "colab": {
          "base_uri": "https://localhost:8080/",
          "height": 173
        }
      },
      "source": [
        "df1 = pd.DataFrame({'dados':[1,2,6,8]})\n",
        "df1"
      ],
      "execution_count": null,
      "outputs": [
        {
          "output_type": "execute_result",
          "data": {
            "text/html": [
              "<div>\n",
              "<style scoped>\n",
              "    .dataframe tbody tr th:only-of-type {\n",
              "        vertical-align: middle;\n",
              "    }\n",
              "\n",
              "    .dataframe tbody tr th {\n",
              "        vertical-align: top;\n",
              "    }\n",
              "\n",
              "    .dataframe thead th {\n",
              "        text-align: right;\n",
              "    }\n",
              "</style>\n",
              "<table border=\"1\" class=\"dataframe\">\n",
              "  <thead>\n",
              "    <tr style=\"text-align: right;\">\n",
              "      <th></th>\n",
              "      <th>dados</th>\n",
              "    </tr>\n",
              "  </thead>\n",
              "  <tbody>\n",
              "    <tr>\n",
              "      <th>0</th>\n",
              "      <td>1</td>\n",
              "    </tr>\n",
              "    <tr>\n",
              "      <th>1</th>\n",
              "      <td>2</td>\n",
              "    </tr>\n",
              "    <tr>\n",
              "      <th>2</th>\n",
              "      <td>6</td>\n",
              "    </tr>\n",
              "    <tr>\n",
              "      <th>3</th>\n",
              "      <td>8</td>\n",
              "    </tr>\n",
              "  </tbody>\n",
              "</table>\n",
              "</div>"
            ],
            "text/plain": [
              "   dados\n",
              "0      1\n",
              "1      2\n",
              "2      6\n",
              "3      8"
            ]
          },
          "metadata": {
            "tags": []
          },
          "execution_count": 13
        }
      ]
    },
    {
      "cell_type": "code",
      "metadata": {
        "id": "kLfr3aBnidck",
        "outputId": "ea2a46db-fd17-4c27-df2c-83ef8450c673",
        "colab": {
          "base_uri": "https://localhost:8080/",
          "height": 142
        }
      },
      "source": [
        "df2 = pd.DataFrame({'dados2':[11,15,16]})\n",
        "df2"
      ],
      "execution_count": null,
      "outputs": [
        {
          "output_type": "execute_result",
          "data": {
            "text/html": [
              "<div>\n",
              "<style scoped>\n",
              "    .dataframe tbody tr th:only-of-type {\n",
              "        vertical-align: middle;\n",
              "    }\n",
              "\n",
              "    .dataframe tbody tr th {\n",
              "        vertical-align: top;\n",
              "    }\n",
              "\n",
              "    .dataframe thead th {\n",
              "        text-align: right;\n",
              "    }\n",
              "</style>\n",
              "<table border=\"1\" class=\"dataframe\">\n",
              "  <thead>\n",
              "    <tr style=\"text-align: right;\">\n",
              "      <th></th>\n",
              "      <th>dados2</th>\n",
              "    </tr>\n",
              "  </thead>\n",
              "  <tbody>\n",
              "    <tr>\n",
              "      <th>0</th>\n",
              "      <td>11</td>\n",
              "    </tr>\n",
              "    <tr>\n",
              "      <th>1</th>\n",
              "      <td>15</td>\n",
              "    </tr>\n",
              "    <tr>\n",
              "      <th>2</th>\n",
              "      <td>16</td>\n",
              "    </tr>\n",
              "  </tbody>\n",
              "</table>\n",
              "</div>"
            ],
            "text/plain": [
              "   dados2\n",
              "0      11\n",
              "1      15\n",
              "2      16"
            ]
          },
          "metadata": {
            "tags": []
          },
          "execution_count": 14
        }
      ]
    },
    {
      "cell_type": "code",
      "metadata": {
        "id": "w5IFWA7Qida7",
        "outputId": "69ca05f3-b08e-423f-d88e-28e2ee5a5ab9",
        "colab": {
          "base_uri": "https://localhost:8080/",
          "height": 173
        }
      },
      "source": [
        "df1.join(df2)"
      ],
      "execution_count": null,
      "outputs": [
        {
          "output_type": "execute_result",
          "data": {
            "text/html": [
              "<div>\n",
              "<style scoped>\n",
              "    .dataframe tbody tr th:only-of-type {\n",
              "        vertical-align: middle;\n",
              "    }\n",
              "\n",
              "    .dataframe tbody tr th {\n",
              "        vertical-align: top;\n",
              "    }\n",
              "\n",
              "    .dataframe thead th {\n",
              "        text-align: right;\n",
              "    }\n",
              "</style>\n",
              "<table border=\"1\" class=\"dataframe\">\n",
              "  <thead>\n",
              "    <tr style=\"text-align: right;\">\n",
              "      <th></th>\n",
              "      <th>dados</th>\n",
              "      <th>dados2</th>\n",
              "    </tr>\n",
              "  </thead>\n",
              "  <tbody>\n",
              "    <tr>\n",
              "      <th>0</th>\n",
              "      <td>1</td>\n",
              "      <td>11.0</td>\n",
              "    </tr>\n",
              "    <tr>\n",
              "      <th>1</th>\n",
              "      <td>2</td>\n",
              "      <td>15.0</td>\n",
              "    </tr>\n",
              "    <tr>\n",
              "      <th>2</th>\n",
              "      <td>6</td>\n",
              "      <td>16.0</td>\n",
              "    </tr>\n",
              "    <tr>\n",
              "      <th>3</th>\n",
              "      <td>8</td>\n",
              "      <td>NaN</td>\n",
              "    </tr>\n",
              "  </tbody>\n",
              "</table>\n",
              "</div>"
            ],
            "text/plain": [
              "   dados  dados2\n",
              "0      1    11.0\n",
              "1      2    15.0\n",
              "2      6    16.0\n",
              "3      8     NaN"
            ]
          },
          "metadata": {
            "tags": []
          },
          "execution_count": 15
        }
      ]
    },
    {
      "cell_type": "markdown",
      "metadata": {
        "id": "Nurf0Auhk9mf"
      },
      "source": [
        "Veja que `df1.join(df2)` difere de `df2.join(df1)`. O método considera apenas as linhas do primeiro dataset."
      ]
    },
    {
      "cell_type": "code",
      "metadata": {
        "id": "asv4cnxnkUvi",
        "outputId": "ea225136-7ce1-4afa-a1a5-025ea0f432bd",
        "colab": {
          "base_uri": "https://localhost:8080/",
          "height": 142
        }
      },
      "source": [
        "df2.join(df1)"
      ],
      "execution_count": null,
      "outputs": [
        {
          "output_type": "execute_result",
          "data": {
            "text/html": [
              "<div>\n",
              "<style scoped>\n",
              "    .dataframe tbody tr th:only-of-type {\n",
              "        vertical-align: middle;\n",
              "    }\n",
              "\n",
              "    .dataframe tbody tr th {\n",
              "        vertical-align: top;\n",
              "    }\n",
              "\n",
              "    .dataframe thead th {\n",
              "        text-align: right;\n",
              "    }\n",
              "</style>\n",
              "<table border=\"1\" class=\"dataframe\">\n",
              "  <thead>\n",
              "    <tr style=\"text-align: right;\">\n",
              "      <th></th>\n",
              "      <th>dados2</th>\n",
              "      <th>dados</th>\n",
              "    </tr>\n",
              "  </thead>\n",
              "  <tbody>\n",
              "    <tr>\n",
              "      <th>0</th>\n",
              "      <td>11</td>\n",
              "      <td>1</td>\n",
              "    </tr>\n",
              "    <tr>\n",
              "      <th>1</th>\n",
              "      <td>15</td>\n",
              "      <td>2</td>\n",
              "    </tr>\n",
              "    <tr>\n",
              "      <th>2</th>\n",
              "      <td>16</td>\n",
              "      <td>6</td>\n",
              "    </tr>\n",
              "  </tbody>\n",
              "</table>\n",
              "</div>"
            ],
            "text/plain": [
              "   dados2  dados\n",
              "0      11      1\n",
              "1      15      2\n",
              "2      16      6"
            ]
          },
          "metadata": {
            "tags": []
          },
          "execution_count": 16
        }
      ]
    },
    {
      "cell_type": "markdown",
      "metadata": {
        "id": "Vg6emtz_lcRg"
      },
      "source": [
        "Isso pode ser alterado de várias formas como:"
      ]
    },
    {
      "cell_type": "code",
      "metadata": {
        "id": "9ZAe3KtJlaaP",
        "outputId": "1dd5ab11-4630-4447-ff76-5b5b75737eaf",
        "colab": {
          "base_uri": "https://localhost:8080/",
          "height": 173
        }
      },
      "source": [
        "# Similar ao merge, how = 'outer' faz todas as linhas serem consideradas\n",
        "\n",
        "df2.join(df1,how='outer')"
      ],
      "execution_count": null,
      "outputs": [
        {
          "output_type": "execute_result",
          "data": {
            "text/html": [
              "<div>\n",
              "<style scoped>\n",
              "    .dataframe tbody tr th:only-of-type {\n",
              "        vertical-align: middle;\n",
              "    }\n",
              "\n",
              "    .dataframe tbody tr th {\n",
              "        vertical-align: top;\n",
              "    }\n",
              "\n",
              "    .dataframe thead th {\n",
              "        text-align: right;\n",
              "    }\n",
              "</style>\n",
              "<table border=\"1\" class=\"dataframe\">\n",
              "  <thead>\n",
              "    <tr style=\"text-align: right;\">\n",
              "      <th></th>\n",
              "      <th>dados2</th>\n",
              "      <th>dados</th>\n",
              "    </tr>\n",
              "  </thead>\n",
              "  <tbody>\n",
              "    <tr>\n",
              "      <th>0</th>\n",
              "      <td>11.0</td>\n",
              "      <td>1</td>\n",
              "    </tr>\n",
              "    <tr>\n",
              "      <th>1</th>\n",
              "      <td>15.0</td>\n",
              "      <td>2</td>\n",
              "    </tr>\n",
              "    <tr>\n",
              "      <th>2</th>\n",
              "      <td>16.0</td>\n",
              "      <td>6</td>\n",
              "    </tr>\n",
              "    <tr>\n",
              "      <th>3</th>\n",
              "      <td>NaN</td>\n",
              "      <td>8</td>\n",
              "    </tr>\n",
              "  </tbody>\n",
              "</table>\n",
              "</div>"
            ],
            "text/plain": [
              "   dados2  dados\n",
              "0    11.0      1\n",
              "1    15.0      2\n",
              "2    16.0      6\n",
              "3     NaN      8"
            ]
          },
          "metadata": {
            "tags": []
          },
          "execution_count": 17
        }
      ]
    },
    {
      "cell_type": "code",
      "metadata": {
        "id": "kny7CSmUlttY",
        "outputId": "67e7d6d1-a4e1-4be4-de4f-d2e7e27ea2e6",
        "colab": {
          "base_uri": "https://localhost:8080/",
          "height": 173
        }
      },
      "source": [
        "# how = 'right' faz a junção de acordo com o índice do segundo dataset (nesse caso, df1)\n",
        "\n",
        "df2.join(df1,how='right')"
      ],
      "execution_count": null,
      "outputs": [
        {
          "output_type": "execute_result",
          "data": {
            "text/html": [
              "<div>\n",
              "<style scoped>\n",
              "    .dataframe tbody tr th:only-of-type {\n",
              "        vertical-align: middle;\n",
              "    }\n",
              "\n",
              "    .dataframe tbody tr th {\n",
              "        vertical-align: top;\n",
              "    }\n",
              "\n",
              "    .dataframe thead th {\n",
              "        text-align: right;\n",
              "    }\n",
              "</style>\n",
              "<table border=\"1\" class=\"dataframe\">\n",
              "  <thead>\n",
              "    <tr style=\"text-align: right;\">\n",
              "      <th></th>\n",
              "      <th>dados2</th>\n",
              "      <th>dados</th>\n",
              "    </tr>\n",
              "  </thead>\n",
              "  <tbody>\n",
              "    <tr>\n",
              "      <th>0</th>\n",
              "      <td>11.0</td>\n",
              "      <td>1</td>\n",
              "    </tr>\n",
              "    <tr>\n",
              "      <th>1</th>\n",
              "      <td>15.0</td>\n",
              "      <td>2</td>\n",
              "    </tr>\n",
              "    <tr>\n",
              "      <th>2</th>\n",
              "      <td>16.0</td>\n",
              "      <td>6</td>\n",
              "    </tr>\n",
              "    <tr>\n",
              "      <th>3</th>\n",
              "      <td>NaN</td>\n",
              "      <td>8</td>\n",
              "    </tr>\n",
              "  </tbody>\n",
              "</table>\n",
              "</div>"
            ],
            "text/plain": [
              "   dados2  dados\n",
              "0    11.0      1\n",
              "1    15.0      2\n",
              "2    16.0      6\n",
              "3     NaN      8"
            ]
          },
          "metadata": {
            "tags": []
          },
          "execution_count": 18
        }
      ]
    },
    {
      "cell_type": "markdown",
      "metadata": {
        "id": "c_iHkV9cnqHn"
      },
      "source": [
        "## **Concat**"
      ]
    },
    {
      "cell_type": "markdown",
      "metadata": {
        "id": "QdSnWWceGCjr"
      },
      "source": [
        "A operação `concat` é aplicável quando o objetivo é concatenar, isto é, unir uma ou mais células de modo a produzir um único resultado[¹](https://www.dicio.com.br/concatenar/#:~:text=%5BInform%C3%A1tica%5D%20Unir%20uma%20ou%20mais,latim%20concatenare%2C%20%22encadear%22.) ao longo de um eixo (linhas/colunas).\n",
        "\n",
        "\n",
        "\n",
        "```python\n",
        "#Como usar\n",
        "pd.concat(['lista de dataframes'])\n",
        "```\n",
        "\n"
      ]
    },
    {
      "cell_type": "code",
      "metadata": {
        "id": "AjeuH0lrL48S",
        "outputId": "812c99e9-577e-4b1c-a9bc-86dfc01cf2ff",
        "colab": {
          "base_uri": "https://localhost:8080/",
          "height": 133
        }
      },
      "source": [
        "df1 = pd.DataFrame({'dados':[12,135,50]},index=['idade','altura','peso'])\n",
        "\n",
        "df1"
      ],
      "execution_count": null,
      "outputs": [
        {
          "output_type": "execute_result",
          "data": {
            "text/html": [
              "<div>\n",
              "<style scoped>\n",
              "    .dataframe tbody tr th:only-of-type {\n",
              "        vertical-align: middle;\n",
              "    }\n",
              "\n",
              "    .dataframe tbody tr th {\n",
              "        vertical-align: top;\n",
              "    }\n",
              "\n",
              "    .dataframe thead th {\n",
              "        text-align: right;\n",
              "    }\n",
              "</style>\n",
              "<table border=\"1\" class=\"dataframe\">\n",
              "  <thead>\n",
              "    <tr style=\"text-align: right;\">\n",
              "      <th></th>\n",
              "      <th>dados</th>\n",
              "    </tr>\n",
              "  </thead>\n",
              "  <tbody>\n",
              "    <tr>\n",
              "      <th>idade</th>\n",
              "      <td>12</td>\n",
              "    </tr>\n",
              "    <tr>\n",
              "      <th>altura</th>\n",
              "      <td>135</td>\n",
              "    </tr>\n",
              "    <tr>\n",
              "      <th>peso</th>\n",
              "      <td>50</td>\n",
              "    </tr>\n",
              "  </tbody>\n",
              "</table>\n",
              "</div>"
            ],
            "text/plain": [
              "        dados\n",
              "idade      12\n",
              "altura    135\n",
              "peso       50"
            ]
          },
          "metadata": {
            "tags": []
          },
          "execution_count": 19
        }
      ]
    },
    {
      "cell_type": "code",
      "metadata": {
        "id": "l6TjVI10DqNw",
        "outputId": "cc773c21-e8cf-4321-dac7-9b672b693f72",
        "colab": {
          "base_uri": "https://localhost:8080/",
          "height": 133
        }
      },
      "source": [
        "df2 = pd.DataFrame({'dados':[18,164,70]},index=['idade','altura','peso'])\n",
        "\n",
        "df2"
      ],
      "execution_count": null,
      "outputs": [
        {
          "output_type": "execute_result",
          "data": {
            "text/html": [
              "<div>\n",
              "<style scoped>\n",
              "    .dataframe tbody tr th:only-of-type {\n",
              "        vertical-align: middle;\n",
              "    }\n",
              "\n",
              "    .dataframe tbody tr th {\n",
              "        vertical-align: top;\n",
              "    }\n",
              "\n",
              "    .dataframe thead th {\n",
              "        text-align: right;\n",
              "    }\n",
              "</style>\n",
              "<table border=\"1\" class=\"dataframe\">\n",
              "  <thead>\n",
              "    <tr style=\"text-align: right;\">\n",
              "      <th></th>\n",
              "      <th>dados</th>\n",
              "    </tr>\n",
              "  </thead>\n",
              "  <tbody>\n",
              "    <tr>\n",
              "      <th>idade</th>\n",
              "      <td>18</td>\n",
              "    </tr>\n",
              "    <tr>\n",
              "      <th>altura</th>\n",
              "      <td>164</td>\n",
              "    </tr>\n",
              "    <tr>\n",
              "      <th>peso</th>\n",
              "      <td>70</td>\n",
              "    </tr>\n",
              "  </tbody>\n",
              "</table>\n",
              "</div>"
            ],
            "text/plain": [
              "        dados\n",
              "idade      18\n",
              "altura    164\n",
              "peso       70"
            ]
          },
          "metadata": {
            "tags": []
          },
          "execution_count": 20
        }
      ]
    },
    {
      "cell_type": "code",
      "metadata": {
        "id": "8FhGgMlpKE1R",
        "outputId": "72370d02-9e8b-4790-8455-3389b9b66a0a",
        "colab": {
          "base_uri": "https://localhost:8080/",
          "height": 220
        }
      },
      "source": [
        "pd.concat([df1,df2])"
      ],
      "execution_count": null,
      "outputs": [
        {
          "output_type": "execute_result",
          "data": {
            "text/html": [
              "<div>\n",
              "<style scoped>\n",
              "    .dataframe tbody tr th:only-of-type {\n",
              "        vertical-align: middle;\n",
              "    }\n",
              "\n",
              "    .dataframe tbody tr th {\n",
              "        vertical-align: top;\n",
              "    }\n",
              "\n",
              "    .dataframe thead th {\n",
              "        text-align: right;\n",
              "    }\n",
              "</style>\n",
              "<table border=\"1\" class=\"dataframe\">\n",
              "  <thead>\n",
              "    <tr style=\"text-align: right;\">\n",
              "      <th></th>\n",
              "      <th>dados</th>\n",
              "    </tr>\n",
              "  </thead>\n",
              "  <tbody>\n",
              "    <tr>\n",
              "      <th>idade</th>\n",
              "      <td>12</td>\n",
              "    </tr>\n",
              "    <tr>\n",
              "      <th>altura</th>\n",
              "      <td>135</td>\n",
              "    </tr>\n",
              "    <tr>\n",
              "      <th>peso</th>\n",
              "      <td>50</td>\n",
              "    </tr>\n",
              "    <tr>\n",
              "      <th>idade</th>\n",
              "      <td>18</td>\n",
              "    </tr>\n",
              "    <tr>\n",
              "      <th>altura</th>\n",
              "      <td>164</td>\n",
              "    </tr>\n",
              "    <tr>\n",
              "      <th>peso</th>\n",
              "      <td>70</td>\n",
              "    </tr>\n",
              "  </tbody>\n",
              "</table>\n",
              "</div>"
            ],
            "text/plain": [
              "        dados\n",
              "idade      12\n",
              "altura    135\n",
              "peso       50\n",
              "idade      18\n",
              "altura    164\n",
              "peso       70"
            ]
          },
          "metadata": {
            "tags": []
          },
          "execution_count": 21
        }
      ]
    },
    {
      "cell_type": "markdown",
      "metadata": {
        "id": "sLPelt71PKND"
      },
      "source": [
        "Note que o concat apenas \"cola\" os dataframes um abaixo do outro, o valor do índice de cada um deles não é alterado. Em algumas situações, no entanto, é útil rotular cada DataFrame. Para isso, existe o argumento keys.\n",
        "\n",
        "\n",
        "\n",
        "```python\n",
        "pd.concat(lista de dataframes,keys=lista de índices)\n",
        "```\n",
        "\n"
      ]
    },
    {
      "cell_type": "code",
      "metadata": {
        "id": "WySmOHpJO6s9",
        "outputId": "cae0f64a-c53f-476e-d129-f645965321ef",
        "colab": {
          "base_uri": "https://localhost:8080/",
          "height": 220
        }
      },
      "source": [
        "pd.concat([df1,df2],keys=['João','Maria'])"
      ],
      "execution_count": null,
      "outputs": [
        {
          "output_type": "execute_result",
          "data": {
            "text/html": [
              "<div>\n",
              "<style scoped>\n",
              "    .dataframe tbody tr th:only-of-type {\n",
              "        vertical-align: middle;\n",
              "    }\n",
              "\n",
              "    .dataframe tbody tr th {\n",
              "        vertical-align: top;\n",
              "    }\n",
              "\n",
              "    .dataframe thead th {\n",
              "        text-align: right;\n",
              "    }\n",
              "</style>\n",
              "<table border=\"1\" class=\"dataframe\">\n",
              "  <thead>\n",
              "    <tr style=\"text-align: right;\">\n",
              "      <th></th>\n",
              "      <th></th>\n",
              "      <th>dados</th>\n",
              "    </tr>\n",
              "  </thead>\n",
              "  <tbody>\n",
              "    <tr>\n",
              "      <th rowspan=\"3\" valign=\"top\">João</th>\n",
              "      <th>idade</th>\n",
              "      <td>12</td>\n",
              "    </tr>\n",
              "    <tr>\n",
              "      <th>altura</th>\n",
              "      <td>135</td>\n",
              "    </tr>\n",
              "    <tr>\n",
              "      <th>peso</th>\n",
              "      <td>50</td>\n",
              "    </tr>\n",
              "    <tr>\n",
              "      <th rowspan=\"3\" valign=\"top\">Maria</th>\n",
              "      <th>idade</th>\n",
              "      <td>18</td>\n",
              "    </tr>\n",
              "    <tr>\n",
              "      <th>altura</th>\n",
              "      <td>164</td>\n",
              "    </tr>\n",
              "    <tr>\n",
              "      <th>peso</th>\n",
              "      <td>70</td>\n",
              "    </tr>\n",
              "  </tbody>\n",
              "</table>\n",
              "</div>"
            ],
            "text/plain": [
              "              dados\n",
              "João  idade      12\n",
              "      altura    135\n",
              "      peso       50\n",
              "Maria idade      18\n",
              "      altura    164\n",
              "      peso       70"
            ]
          },
          "metadata": {
            "tags": []
          },
          "execution_count": 22
        }
      ]
    },
    {
      "cell_type": "markdown",
      "metadata": {
        "id": "_lXZJH4DS_P1"
      },
      "source": [
        "Definindo `axis=1`, os datasets são concatenados no eixo das colunas."
      ]
    },
    {
      "cell_type": "code",
      "metadata": {
        "id": "njS8qMm0SzK0",
        "outputId": "a5e94429-9e02-41db-ef8d-d5670c95c0b4",
        "colab": {
          "base_uri": "https://localhost:8080/",
          "height": 105
        }
      },
      "source": [
        "df3 = pd.DataFrame({'idade':[12,18],'altura':[135,164]})\n",
        "\n",
        "df3"
      ],
      "execution_count": null,
      "outputs": [
        {
          "output_type": "execute_result",
          "data": {
            "text/html": [
              "<div>\n",
              "<style scoped>\n",
              "    .dataframe tbody tr th:only-of-type {\n",
              "        vertical-align: middle;\n",
              "    }\n",
              "\n",
              "    .dataframe tbody tr th {\n",
              "        vertical-align: top;\n",
              "    }\n",
              "\n",
              "    .dataframe thead th {\n",
              "        text-align: right;\n",
              "    }\n",
              "</style>\n",
              "<table border=\"1\" class=\"dataframe\">\n",
              "  <thead>\n",
              "    <tr style=\"text-align: right;\">\n",
              "      <th></th>\n",
              "      <th>idade</th>\n",
              "      <th>altura</th>\n",
              "    </tr>\n",
              "  </thead>\n",
              "  <tbody>\n",
              "    <tr>\n",
              "      <th>0</th>\n",
              "      <td>12</td>\n",
              "      <td>135</td>\n",
              "    </tr>\n",
              "    <tr>\n",
              "      <th>1</th>\n",
              "      <td>18</td>\n",
              "      <td>164</td>\n",
              "    </tr>\n",
              "  </tbody>\n",
              "</table>\n",
              "</div>"
            ],
            "text/plain": [
              "   idade  altura\n",
              "0     12     135\n",
              "1     18     164"
            ]
          },
          "metadata": {
            "tags": []
          },
          "execution_count": 23
        }
      ]
    },
    {
      "cell_type": "code",
      "metadata": {
        "id": "qcfiHGBRTn2t",
        "outputId": "edcb6660-1575-40a5-d180-7da78ea436a3",
        "colab": {
          "base_uri": "https://localhost:8080/",
          "height": 105
        }
      },
      "source": [
        "df4 = pd.DataFrame({'peso':[12,18]})\n",
        "df4"
      ],
      "execution_count": null,
      "outputs": [
        {
          "output_type": "execute_result",
          "data": {
            "text/html": [
              "<div>\n",
              "<style scoped>\n",
              "    .dataframe tbody tr th:only-of-type {\n",
              "        vertical-align: middle;\n",
              "    }\n",
              "\n",
              "    .dataframe tbody tr th {\n",
              "        vertical-align: top;\n",
              "    }\n",
              "\n",
              "    .dataframe thead th {\n",
              "        text-align: right;\n",
              "    }\n",
              "</style>\n",
              "<table border=\"1\" class=\"dataframe\">\n",
              "  <thead>\n",
              "    <tr style=\"text-align: right;\">\n",
              "      <th></th>\n",
              "      <th>peso</th>\n",
              "    </tr>\n",
              "  </thead>\n",
              "  <tbody>\n",
              "    <tr>\n",
              "      <th>0</th>\n",
              "      <td>12</td>\n",
              "    </tr>\n",
              "    <tr>\n",
              "      <th>1</th>\n",
              "      <td>18</td>\n",
              "    </tr>\n",
              "  </tbody>\n",
              "</table>\n",
              "</div>"
            ],
            "text/plain": [
              "   peso\n",
              "0    12\n",
              "1    18"
            ]
          },
          "metadata": {
            "tags": []
          },
          "execution_count": 24
        }
      ]
    },
    {
      "cell_type": "code",
      "metadata": {
        "id": "9-eDHj0DSrrH",
        "outputId": "18b47fce-bc9e-44ee-e380-7753f887e218",
        "colab": {
          "base_uri": "https://localhost:8080/",
          "height": 105
        }
      },
      "source": [
        "pd.concat([df3,df4],axis=1)"
      ],
      "execution_count": null,
      "outputs": [
        {
          "output_type": "execute_result",
          "data": {
            "text/html": [
              "<div>\n",
              "<style scoped>\n",
              "    .dataframe tbody tr th:only-of-type {\n",
              "        vertical-align: middle;\n",
              "    }\n",
              "\n",
              "    .dataframe tbody tr th {\n",
              "        vertical-align: top;\n",
              "    }\n",
              "\n",
              "    .dataframe thead th {\n",
              "        text-align: right;\n",
              "    }\n",
              "</style>\n",
              "<table border=\"1\" class=\"dataframe\">\n",
              "  <thead>\n",
              "    <tr style=\"text-align: right;\">\n",
              "      <th></th>\n",
              "      <th>idade</th>\n",
              "      <th>altura</th>\n",
              "      <th>peso</th>\n",
              "    </tr>\n",
              "  </thead>\n",
              "  <tbody>\n",
              "    <tr>\n",
              "      <th>0</th>\n",
              "      <td>12</td>\n",
              "      <td>135</td>\n",
              "      <td>12</td>\n",
              "    </tr>\n",
              "    <tr>\n",
              "      <th>1</th>\n",
              "      <td>18</td>\n",
              "      <td>164</td>\n",
              "      <td>18</td>\n",
              "    </tr>\n",
              "  </tbody>\n",
              "</table>\n",
              "</div>"
            ],
            "text/plain": [
              "   idade  altura  peso\n",
              "0     12     135    12\n",
              "1     18     164    18"
            ]
          },
          "metadata": {
            "tags": []
          },
          "execution_count": 25
        }
      ]
    },
    {
      "cell_type": "markdown",
      "metadata": {
        "id": "7nWLaR8te6sW"
      },
      "source": [
        "## **Exercícios**"
      ]
    },
    {
      "cell_type": "markdown",
      "metadata": {
        "id": "s8CTw81GmmPF"
      },
      "source": [
        "**Exercício 1.1** Use o merge para unir os datasets abaixo de acordo com a coluna `'estudante_id'`.\n",
        "\n",
        "Saída esperada:\n",
        " ![](https://i.imgur.com/4QOrJd7.png)\n"
      ]
    },
    {
      "cell_type": "code",
      "metadata": {
        "id": "flZYgLxTmmXS"
      },
      "source": [
        "data1 = pd.DataFrame({\n",
        "        'estudante_id': ['S1', 'S2', 'S3', 'S4', 'S5'],\n",
        "         'nome': ['Daniella', 'Rodrigo', 'Bruno', 'Ed', 'Kaio'], \n",
        "        'pontuacao': [200, 210, 190, 222, 199]})\n",
        "\n",
        "\n",
        "data2 = pd.DataFrame({\n",
        "        'estudante_id': ['S1', 'S2', 'S3', 'S4', 'S5'],\n",
        "        'prova_id': [23, 45, 12, 67, 21]})\n"
      ],
      "execution_count": null,
      "outputs": []
    },
    {
      "cell_type": "code",
      "metadata": {
        "id": "9oxjEUQEaVht",
        "outputId": "a722c10c-4f97-4829-ae53-aff684e1b36f",
        "colab": {
          "base_uri": "https://localhost:8080/",
          "height": 191
        }
      },
      "source": [
        "data1"
      ],
      "execution_count": null,
      "outputs": [
        {
          "output_type": "execute_result",
          "data": {
            "text/html": [
              "<div>\n",
              "<style scoped>\n",
              "    .dataframe tbody tr th:only-of-type {\n",
              "        vertical-align: middle;\n",
              "    }\n",
              "\n",
              "    .dataframe tbody tr th {\n",
              "        vertical-align: top;\n",
              "    }\n",
              "\n",
              "    .dataframe thead th {\n",
              "        text-align: right;\n",
              "    }\n",
              "</style>\n",
              "<table border=\"1\" class=\"dataframe\">\n",
              "  <thead>\n",
              "    <tr style=\"text-align: right;\">\n",
              "      <th></th>\n",
              "      <th>estudante_id</th>\n",
              "      <th>nome</th>\n",
              "      <th>pontuacao</th>\n",
              "    </tr>\n",
              "  </thead>\n",
              "  <tbody>\n",
              "    <tr>\n",
              "      <th>0</th>\n",
              "      <td>S1</td>\n",
              "      <td>Daniella</td>\n",
              "      <td>200</td>\n",
              "    </tr>\n",
              "    <tr>\n",
              "      <th>1</th>\n",
              "      <td>S2</td>\n",
              "      <td>Rodrigo</td>\n",
              "      <td>210</td>\n",
              "    </tr>\n",
              "    <tr>\n",
              "      <th>2</th>\n",
              "      <td>S3</td>\n",
              "      <td>Bruno</td>\n",
              "      <td>190</td>\n",
              "    </tr>\n",
              "    <tr>\n",
              "      <th>3</th>\n",
              "      <td>S4</td>\n",
              "      <td>Ed</td>\n",
              "      <td>222</td>\n",
              "    </tr>\n",
              "    <tr>\n",
              "      <th>4</th>\n",
              "      <td>S5</td>\n",
              "      <td>Kaio</td>\n",
              "      <td>199</td>\n",
              "    </tr>\n",
              "  </tbody>\n",
              "</table>\n",
              "</div>"
            ],
            "text/plain": [
              "  estudante_id      nome  pontuacao\n",
              "0           S1  Daniella        200\n",
              "1           S2   Rodrigo        210\n",
              "2           S3     Bruno        190\n",
              "3           S4        Ed        222\n",
              "4           S5      Kaio        199"
            ]
          },
          "metadata": {
            "tags": []
          },
          "execution_count": 28
        }
      ]
    },
    {
      "cell_type": "code",
      "metadata": {
        "id": "8uqasVcvaVqw",
        "outputId": "380eb2c1-9e64-4f2b-f3ed-d74cc394c878",
        "colab": {
          "base_uri": "https://localhost:8080/",
          "height": 191
        }
      },
      "source": [
        "data2"
      ],
      "execution_count": null,
      "outputs": [
        {
          "output_type": "execute_result",
          "data": {
            "text/html": [
              "<div>\n",
              "<style scoped>\n",
              "    .dataframe tbody tr th:only-of-type {\n",
              "        vertical-align: middle;\n",
              "    }\n",
              "\n",
              "    .dataframe tbody tr th {\n",
              "        vertical-align: top;\n",
              "    }\n",
              "\n",
              "    .dataframe thead th {\n",
              "        text-align: right;\n",
              "    }\n",
              "</style>\n",
              "<table border=\"1\" class=\"dataframe\">\n",
              "  <thead>\n",
              "    <tr style=\"text-align: right;\">\n",
              "      <th></th>\n",
              "      <th>estudante_id</th>\n",
              "      <th>prova_id</th>\n",
              "    </tr>\n",
              "  </thead>\n",
              "  <tbody>\n",
              "    <tr>\n",
              "      <th>0</th>\n",
              "      <td>S1</td>\n",
              "      <td>23</td>\n",
              "    </tr>\n",
              "    <tr>\n",
              "      <th>1</th>\n",
              "      <td>S2</td>\n",
              "      <td>45</td>\n",
              "    </tr>\n",
              "    <tr>\n",
              "      <th>2</th>\n",
              "      <td>S3</td>\n",
              "      <td>12</td>\n",
              "    </tr>\n",
              "    <tr>\n",
              "      <th>3</th>\n",
              "      <td>S4</td>\n",
              "      <td>67</td>\n",
              "    </tr>\n",
              "    <tr>\n",
              "      <th>4</th>\n",
              "      <td>S5</td>\n",
              "      <td>21</td>\n",
              "    </tr>\n",
              "  </tbody>\n",
              "</table>\n",
              "</div>"
            ],
            "text/plain": [
              "  estudante_id  prova_id\n",
              "0           S1        23\n",
              "1           S2        45\n",
              "2           S3        12\n",
              "3           S4        67\n",
              "4           S5        21"
            ]
          },
          "metadata": {
            "tags": []
          },
          "execution_count": 29
        }
      ]
    },
    {
      "cell_type": "code",
      "metadata": {
        "id": "WP5h946mbAyJ",
        "outputId": "01e7c59a-7e85-485c-a926-cf760fed2626",
        "colab": {
          "base_uri": "https://localhost:8080/",
          "height": 191
        }
      },
      "source": [
        "pd.merge(data1,data2,on='estudante_id')"
      ],
      "execution_count": null,
      "outputs": [
        {
          "output_type": "execute_result",
          "data": {
            "text/html": [
              "<div>\n",
              "<style scoped>\n",
              "    .dataframe tbody tr th:only-of-type {\n",
              "        vertical-align: middle;\n",
              "    }\n",
              "\n",
              "    .dataframe tbody tr th {\n",
              "        vertical-align: top;\n",
              "    }\n",
              "\n",
              "    .dataframe thead th {\n",
              "        text-align: right;\n",
              "    }\n",
              "</style>\n",
              "<table border=\"1\" class=\"dataframe\">\n",
              "  <thead>\n",
              "    <tr style=\"text-align: right;\">\n",
              "      <th></th>\n",
              "      <th>estudante_id</th>\n",
              "      <th>nome</th>\n",
              "      <th>pontuacao</th>\n",
              "      <th>prova_id</th>\n",
              "    </tr>\n",
              "  </thead>\n",
              "  <tbody>\n",
              "    <tr>\n",
              "      <th>0</th>\n",
              "      <td>S1</td>\n",
              "      <td>Daniella</td>\n",
              "      <td>200</td>\n",
              "      <td>23</td>\n",
              "    </tr>\n",
              "    <tr>\n",
              "      <th>1</th>\n",
              "      <td>S2</td>\n",
              "      <td>Rodrigo</td>\n",
              "      <td>210</td>\n",
              "      <td>45</td>\n",
              "    </tr>\n",
              "    <tr>\n",
              "      <th>2</th>\n",
              "      <td>S3</td>\n",
              "      <td>Bruno</td>\n",
              "      <td>190</td>\n",
              "      <td>12</td>\n",
              "    </tr>\n",
              "    <tr>\n",
              "      <th>3</th>\n",
              "      <td>S4</td>\n",
              "      <td>Ed</td>\n",
              "      <td>222</td>\n",
              "      <td>67</td>\n",
              "    </tr>\n",
              "    <tr>\n",
              "      <th>4</th>\n",
              "      <td>S5</td>\n",
              "      <td>Kaio</td>\n",
              "      <td>199</td>\n",
              "      <td>21</td>\n",
              "    </tr>\n",
              "  </tbody>\n",
              "</table>\n",
              "</div>"
            ],
            "text/plain": [
              "  estudante_id      nome  pontuacao  prova_id\n",
              "0           S1  Daniella        200        23\n",
              "1           S2   Rodrigo        210        45\n",
              "2           S3     Bruno        190        12\n",
              "3           S4        Ed        222        67\n",
              "4           S5      Kaio        199        21"
            ]
          },
          "metadata": {
            "tags": []
          },
          "execution_count": 30
        }
      ]
    },
    {
      "cell_type": "markdown",
      "metadata": {
        "id": "mIShhI79mm2R"
      },
      "source": [
        "**Exercício 1.2** Crie dois Dataframes `df_2005` e `df_2006` que armazenem os dados das tabelas baixo, respectivamente.\n",
        "\n",
        "Então, concatene os dois DataFrames adicionando os anos ao índice.\n",
        "\n",
        "![](https://profjefferson.files.wordpress.com/2010/03/matrizes_tabela22.jpg)\n",
        "\n",
        "****Saída esperada:****\n",
        "\n",
        "![](https://i.imgur.com/4UoYylK.png)"
      ]
    },
    {
      "cell_type": "code",
      "metadata": {
        "id": "v9RxBYtbe5Pz"
      },
      "source": [
        "producao2005 = pd.DataFrame({\n",
        "        'soja': [1000, 3000, 500], \n",
        "        'feijao': [250, 500, 200],\n",
        "        'arroz': [400,700,200],\n",
        "        'milho': [600,1200,600]}, index=['Sudeste', 'Centro-Oeste','Sul']\n",
        "        )\n",
        "\n",
        "producao2006 = pd.DataFrame({\n",
        "        'soja': [900, 2700, 600], \n",
        "        'feijao': [200, 450, 300],\n",
        "        'arroz': [500,600,100],\n",
        "        'milho': [700,1200,450]},index=['Sudeste','Centro-Oeste','Sul']\n",
        "        )"
      ],
      "execution_count": null,
      "outputs": []
    },
    {
      "cell_type": "code",
      "metadata": {
        "id": "6OEv-DT3ghgp",
        "outputId": "01c28b2a-0ed3-49bb-9900-c8b1fa6a2c6c",
        "colab": {
          "base_uri": "https://localhost:8080/",
          "height": 133
        }
      },
      "source": [
        "producao2005"
      ],
      "execution_count": null,
      "outputs": [
        {
          "output_type": "execute_result",
          "data": {
            "text/html": [
              "<div>\n",
              "<style scoped>\n",
              "    .dataframe tbody tr th:only-of-type {\n",
              "        vertical-align: middle;\n",
              "    }\n",
              "\n",
              "    .dataframe tbody tr th {\n",
              "        vertical-align: top;\n",
              "    }\n",
              "\n",
              "    .dataframe thead th {\n",
              "        text-align: right;\n",
              "    }\n",
              "</style>\n",
              "<table border=\"1\" class=\"dataframe\">\n",
              "  <thead>\n",
              "    <tr style=\"text-align: right;\">\n",
              "      <th></th>\n",
              "      <th>soja</th>\n",
              "      <th>feijao</th>\n",
              "      <th>arroz</th>\n",
              "      <th>milho</th>\n",
              "    </tr>\n",
              "  </thead>\n",
              "  <tbody>\n",
              "    <tr>\n",
              "      <th>Sudeste</th>\n",
              "      <td>1000</td>\n",
              "      <td>250</td>\n",
              "      <td>400</td>\n",
              "      <td>600</td>\n",
              "    </tr>\n",
              "    <tr>\n",
              "      <th>Centro-Oeste</th>\n",
              "      <td>3000</td>\n",
              "      <td>500</td>\n",
              "      <td>700</td>\n",
              "      <td>1200</td>\n",
              "    </tr>\n",
              "    <tr>\n",
              "      <th>Sul</th>\n",
              "      <td>500</td>\n",
              "      <td>200</td>\n",
              "      <td>200</td>\n",
              "      <td>600</td>\n",
              "    </tr>\n",
              "  </tbody>\n",
              "</table>\n",
              "</div>"
            ],
            "text/plain": [
              "              soja  feijao  arroz  milho\n",
              "Sudeste       1000     250    400    600\n",
              "Centro-Oeste  3000     500    700   1200\n",
              "Sul            500     200    200    600"
            ]
          },
          "metadata": {
            "tags": []
          },
          "execution_count": 38
        }
      ]
    },
    {
      "cell_type": "code",
      "metadata": {
        "id": "_qEu9WK0gn6j",
        "outputId": "64083d54-8566-4720-d1da-9f7687d00960",
        "colab": {
          "base_uri": "https://localhost:8080/",
          "height": 133
        }
      },
      "source": [
        "producao2006"
      ],
      "execution_count": null,
      "outputs": [
        {
          "output_type": "execute_result",
          "data": {
            "text/html": [
              "<div>\n",
              "<style scoped>\n",
              "    .dataframe tbody tr th:only-of-type {\n",
              "        vertical-align: middle;\n",
              "    }\n",
              "\n",
              "    .dataframe tbody tr th {\n",
              "        vertical-align: top;\n",
              "    }\n",
              "\n",
              "    .dataframe thead th {\n",
              "        text-align: right;\n",
              "    }\n",
              "</style>\n",
              "<table border=\"1\" class=\"dataframe\">\n",
              "  <thead>\n",
              "    <tr style=\"text-align: right;\">\n",
              "      <th></th>\n",
              "      <th>soja</th>\n",
              "      <th>feijao</th>\n",
              "      <th>arroz</th>\n",
              "      <th>milho</th>\n",
              "    </tr>\n",
              "  </thead>\n",
              "  <tbody>\n",
              "    <tr>\n",
              "      <th>Sudeste</th>\n",
              "      <td>900</td>\n",
              "      <td>200</td>\n",
              "      <td>500</td>\n",
              "      <td>700</td>\n",
              "    </tr>\n",
              "    <tr>\n",
              "      <th>Centro-Oeste</th>\n",
              "      <td>2700</td>\n",
              "      <td>450</td>\n",
              "      <td>600</td>\n",
              "      <td>1200</td>\n",
              "    </tr>\n",
              "    <tr>\n",
              "      <th>Sul</th>\n",
              "      <td>600</td>\n",
              "      <td>300</td>\n",
              "      <td>100</td>\n",
              "      <td>450</td>\n",
              "    </tr>\n",
              "  </tbody>\n",
              "</table>\n",
              "</div>"
            ],
            "text/plain": [
              "              soja  feijao  arroz  milho\n",
              "Sudeste        900     200    500    700\n",
              "Centro-Oeste  2700     450    600   1200\n",
              "Sul            600     300    100    450"
            ]
          },
          "metadata": {
            "tags": []
          },
          "execution_count": 40
        }
      ]
    },
    {
      "cell_type": "code",
      "metadata": {
        "id": "AJ5ynQp9gq_M",
        "outputId": "4c6e3fb7-86b6-45af-a914-d0d4e32cd733",
        "colab": {
          "base_uri": "https://localhost:8080/",
          "height": 220
        }
      },
      "source": [
        "pd.concat([producao2005,producao2006],keys=['2005','2006'])"
      ],
      "execution_count": null,
      "outputs": [
        {
          "output_type": "execute_result",
          "data": {
            "text/html": [
              "<div>\n",
              "<style scoped>\n",
              "    .dataframe tbody tr th:only-of-type {\n",
              "        vertical-align: middle;\n",
              "    }\n",
              "\n",
              "    .dataframe tbody tr th {\n",
              "        vertical-align: top;\n",
              "    }\n",
              "\n",
              "    .dataframe thead th {\n",
              "        text-align: right;\n",
              "    }\n",
              "</style>\n",
              "<table border=\"1\" class=\"dataframe\">\n",
              "  <thead>\n",
              "    <tr style=\"text-align: right;\">\n",
              "      <th></th>\n",
              "      <th></th>\n",
              "      <th>soja</th>\n",
              "      <th>feijao</th>\n",
              "      <th>arroz</th>\n",
              "      <th>milho</th>\n",
              "    </tr>\n",
              "  </thead>\n",
              "  <tbody>\n",
              "    <tr>\n",
              "      <th rowspan=\"3\" valign=\"top\">2005</th>\n",
              "      <th>Sudeste</th>\n",
              "      <td>1000</td>\n",
              "      <td>250</td>\n",
              "      <td>400</td>\n",
              "      <td>600</td>\n",
              "    </tr>\n",
              "    <tr>\n",
              "      <th>Centro-Oeste</th>\n",
              "      <td>3000</td>\n",
              "      <td>500</td>\n",
              "      <td>700</td>\n",
              "      <td>1200</td>\n",
              "    </tr>\n",
              "    <tr>\n",
              "      <th>Sul</th>\n",
              "      <td>500</td>\n",
              "      <td>200</td>\n",
              "      <td>200</td>\n",
              "      <td>600</td>\n",
              "    </tr>\n",
              "    <tr>\n",
              "      <th rowspan=\"3\" valign=\"top\">2006</th>\n",
              "      <th>Sudeste</th>\n",
              "      <td>900</td>\n",
              "      <td>200</td>\n",
              "      <td>500</td>\n",
              "      <td>700</td>\n",
              "    </tr>\n",
              "    <tr>\n",
              "      <th>Centro-Oeste</th>\n",
              "      <td>2700</td>\n",
              "      <td>450</td>\n",
              "      <td>600</td>\n",
              "      <td>1200</td>\n",
              "    </tr>\n",
              "    <tr>\n",
              "      <th>Sul</th>\n",
              "      <td>600</td>\n",
              "      <td>300</td>\n",
              "      <td>100</td>\n",
              "      <td>450</td>\n",
              "    </tr>\n",
              "  </tbody>\n",
              "</table>\n",
              "</div>"
            ],
            "text/plain": [
              "                   soja  feijao  arroz  milho\n",
              "2005 Sudeste       1000     250    400    600\n",
              "     Centro-Oeste  3000     500    700   1200\n",
              "     Sul            500     200    200    600\n",
              "2006 Sudeste        900     200    500    700\n",
              "     Centro-Oeste  2700     450    600   1200\n",
              "     Sul            600     300    100    450"
            ]
          },
          "metadata": {
            "tags": []
          },
          "execution_count": 41
        }
      ]
    },
    {
      "cell_type": "markdown",
      "metadata": {
        "id": "eJ2EV2fyTeUy"
      },
      "source": [
        "# **Semana 8**"
      ]
    },
    {
      "cell_type": "markdown",
      "metadata": {
        "id": "OkTDPEwUTeTI"
      },
      "source": [
        "## **Groupby**"
      ]
    },
    {
      "cell_type": "markdown",
      "metadata": {
        "id": "7B1fSMrKjlRT"
      },
      "source": [
        "Observe os dados abaixo:"
      ]
    },
    {
      "cell_type": "code",
      "metadata": {
        "id": "qfexgss-Zw7R",
        "outputId": "7aa0e066-ce50-4fec-e664-3715068f000a",
        "colab": {
          "base_uri": "https://localhost:8080/",
          "height": 167
        }
      },
      "source": [
        "dados = {'id_turma':['turma1','turma2','turma2','turma1'],'nota':[7,8,6.25,9.5]}\n",
        "\n",
        "df = pd.DataFrame(dados,index=['joão','luana','marcela','isa'])\n",
        "\n",
        "df"
      ],
      "execution_count": 4,
      "outputs": [
        {
          "output_type": "execute_result",
          "data": {
            "text/html": [
              "<div>\n",
              "<style scoped>\n",
              "    .dataframe tbody tr th:only-of-type {\n",
              "        vertical-align: middle;\n",
              "    }\n",
              "\n",
              "    .dataframe tbody tr th {\n",
              "        vertical-align: top;\n",
              "    }\n",
              "\n",
              "    .dataframe thead th {\n",
              "        text-align: right;\n",
              "    }\n",
              "</style>\n",
              "<table border=\"1\" class=\"dataframe\">\n",
              "  <thead>\n",
              "    <tr style=\"text-align: right;\">\n",
              "      <th></th>\n",
              "      <th>id_turma</th>\n",
              "      <th>nota</th>\n",
              "    </tr>\n",
              "  </thead>\n",
              "  <tbody>\n",
              "    <tr>\n",
              "      <th>joão</th>\n",
              "      <td>turma1</td>\n",
              "      <td>7.00</td>\n",
              "    </tr>\n",
              "    <tr>\n",
              "      <th>luana</th>\n",
              "      <td>turma2</td>\n",
              "      <td>8.00</td>\n",
              "    </tr>\n",
              "    <tr>\n",
              "      <th>marcela</th>\n",
              "      <td>turma2</td>\n",
              "      <td>6.25</td>\n",
              "    </tr>\n",
              "    <tr>\n",
              "      <th>isa</th>\n",
              "      <td>turma1</td>\n",
              "      <td>9.50</td>\n",
              "    </tr>\n",
              "  </tbody>\n",
              "</table>\n",
              "</div>"
            ],
            "text/plain": [
              "        id_turma  nota\n",
              "joão      turma1  7.00\n",
              "luana     turma2  8.00\n",
              "marcela   turma2  6.25\n",
              "isa       turma1  9.50"
            ]
          },
          "metadata": {
            "tags": []
          },
          "execution_count": 4
        }
      ]
    },
    {
      "cell_type": "markdown",
      "metadata": {
        "id": "4XBzC5g5jNVN"
      },
      "source": [
        "Suponha que você precise calcular as médias de cada turma. O groupby é uma ferramenta que o pandas dispõe para agrupar dados de acordo com uma coluna/linha chave.\n",
        "\n",
        "\n",
        "\n",
        "```python\n",
        "dataframe.groupby(chaves).funcao()\n",
        "```"
      ]
    },
    {
      "cell_type": "code",
      "metadata": {
        "id": "EUDQkGYvZ6AR",
        "outputId": "6384ef52-30a2-4554-996c-105d945228d4",
        "colab": {
          "base_uri": "https://localhost:8080/",
          "height": 137
        }
      },
      "source": [
        "df.groupby('id_turma').mean()"
      ],
      "execution_count": 5,
      "outputs": [
        {
          "output_type": "execute_result",
          "data": {
            "text/html": [
              "<div>\n",
              "<style scoped>\n",
              "    .dataframe tbody tr th:only-of-type {\n",
              "        vertical-align: middle;\n",
              "    }\n",
              "\n",
              "    .dataframe tbody tr th {\n",
              "        vertical-align: top;\n",
              "    }\n",
              "\n",
              "    .dataframe thead th {\n",
              "        text-align: right;\n",
              "    }\n",
              "</style>\n",
              "<table border=\"1\" class=\"dataframe\">\n",
              "  <thead>\n",
              "    <tr style=\"text-align: right;\">\n",
              "      <th></th>\n",
              "      <th>nota</th>\n",
              "    </tr>\n",
              "    <tr>\n",
              "      <th>id_turma</th>\n",
              "      <th></th>\n",
              "    </tr>\n",
              "  </thead>\n",
              "  <tbody>\n",
              "    <tr>\n",
              "      <th>turma1</th>\n",
              "      <td>8.250</td>\n",
              "    </tr>\n",
              "    <tr>\n",
              "      <th>turma2</th>\n",
              "      <td>7.125</td>\n",
              "    </tr>\n",
              "  </tbody>\n",
              "</table>\n",
              "</div>"
            ],
            "text/plain": [
              "           nota\n",
              "id_turma       \n",
              "turma1    8.250\n",
              "turma2    7.125"
            ]
          },
          "metadata": {
            "tags": []
          },
          "execution_count": 5
        }
      ]
    },
    {
      "cell_type": "markdown",
      "metadata": {
        "id": "T_mwbm6Un5G9"
      },
      "source": [
        "A operação separou em grupos os valores do dataframe onde a coluna `'id_turma'` possui o mesmo valor, calculou a média para cada um desses grupos e, por fim, combinou os resultados, como no exemplo abaixo.\n",
        "\n",
        "![](https://miro.medium.com/max/494/1*f5niM7lW-uTRJkSSGhW7QQ.png)\n",
        "\n",
        "Por padrão, o groupby opera sobre o eixo das linhas. Para mudar para colunas, `axis=1`."
      ]
    },
    {
      "cell_type": "markdown",
      "metadata": {
        "id": "mWRlvuZyqcNr"
      },
      "source": [
        "O método também funciona normalmente quando se tem mais de uma coluna no resultado final."
      ]
    },
    {
      "cell_type": "code",
      "metadata": {
        "id": "VXwsF9XZp7Rl",
        "outputId": "6de19873-5e61-48a5-930b-919f64b681f7",
        "colab": {
          "base_uri": "https://localhost:8080/",
          "height": 167
        }
      },
      "source": [
        "dados = {'id_turma':['turma1','turma2','turma2','turma1'],'matemática':[7,8,6.25,9.5],'história':[9,6,10,7.8]}\n",
        "\n",
        "df = pd.DataFrame(dados,index=['joão','luana','marcela','isa'])\n",
        "\n",
        "df"
      ],
      "execution_count": 6,
      "outputs": [
        {
          "output_type": "execute_result",
          "data": {
            "text/html": [
              "<div>\n",
              "<style scoped>\n",
              "    .dataframe tbody tr th:only-of-type {\n",
              "        vertical-align: middle;\n",
              "    }\n",
              "\n",
              "    .dataframe tbody tr th {\n",
              "        vertical-align: top;\n",
              "    }\n",
              "\n",
              "    .dataframe thead th {\n",
              "        text-align: right;\n",
              "    }\n",
              "</style>\n",
              "<table border=\"1\" class=\"dataframe\">\n",
              "  <thead>\n",
              "    <tr style=\"text-align: right;\">\n",
              "      <th></th>\n",
              "      <th>id_turma</th>\n",
              "      <th>matemática</th>\n",
              "      <th>história</th>\n",
              "    </tr>\n",
              "  </thead>\n",
              "  <tbody>\n",
              "    <tr>\n",
              "      <th>joão</th>\n",
              "      <td>turma1</td>\n",
              "      <td>7.00</td>\n",
              "      <td>9.0</td>\n",
              "    </tr>\n",
              "    <tr>\n",
              "      <th>luana</th>\n",
              "      <td>turma2</td>\n",
              "      <td>8.00</td>\n",
              "      <td>6.0</td>\n",
              "    </tr>\n",
              "    <tr>\n",
              "      <th>marcela</th>\n",
              "      <td>turma2</td>\n",
              "      <td>6.25</td>\n",
              "      <td>10.0</td>\n",
              "    </tr>\n",
              "    <tr>\n",
              "      <th>isa</th>\n",
              "      <td>turma1</td>\n",
              "      <td>9.50</td>\n",
              "      <td>7.8</td>\n",
              "    </tr>\n",
              "  </tbody>\n",
              "</table>\n",
              "</div>"
            ],
            "text/plain": [
              "        id_turma  matemática  história\n",
              "joão      turma1        7.00       9.0\n",
              "luana     turma2        8.00       6.0\n",
              "marcela   turma2        6.25      10.0\n",
              "isa       turma1        9.50       7.8"
            ]
          },
          "metadata": {
            "tags": []
          },
          "execution_count": 6
        }
      ]
    },
    {
      "cell_type": "code",
      "metadata": {
        "id": "3wbS34cGqVzF",
        "outputId": "52efb17d-323f-40ab-f7f6-15106eccb4f7",
        "colab": {
          "base_uri": "https://localhost:8080/",
          "height": 137
        }
      },
      "source": [
        "df.groupby('id_turma').mean()"
      ],
      "execution_count": 7,
      "outputs": [
        {
          "output_type": "execute_result",
          "data": {
            "text/html": [
              "<div>\n",
              "<style scoped>\n",
              "    .dataframe tbody tr th:only-of-type {\n",
              "        vertical-align: middle;\n",
              "    }\n",
              "\n",
              "    .dataframe tbody tr th {\n",
              "        vertical-align: top;\n",
              "    }\n",
              "\n",
              "    .dataframe thead th {\n",
              "        text-align: right;\n",
              "    }\n",
              "</style>\n",
              "<table border=\"1\" class=\"dataframe\">\n",
              "  <thead>\n",
              "    <tr style=\"text-align: right;\">\n",
              "      <th></th>\n",
              "      <th>matemática</th>\n",
              "      <th>história</th>\n",
              "    </tr>\n",
              "    <tr>\n",
              "      <th>id_turma</th>\n",
              "      <th></th>\n",
              "      <th></th>\n",
              "    </tr>\n",
              "  </thead>\n",
              "  <tbody>\n",
              "    <tr>\n",
              "      <th>turma1</th>\n",
              "      <td>8.250</td>\n",
              "      <td>8.4</td>\n",
              "    </tr>\n",
              "    <tr>\n",
              "      <th>turma2</th>\n",
              "      <td>7.125</td>\n",
              "      <td>8.0</td>\n",
              "    </tr>\n",
              "  </tbody>\n",
              "</table>\n",
              "</div>"
            ],
            "text/plain": [
              "          matemática  história\n",
              "id_turma                      \n",
              "turma1         8.250       8.4\n",
              "turma2         7.125       8.0"
            ]
          },
          "metadata": {
            "tags": []
          },
          "execution_count": 7
        }
      ]
    },
    {
      "cell_type": "markdown",
      "metadata": {
        "id": "NAM9Lhk-ri80"
      },
      "source": [
        "Também é possível usar mais de uma linha/coluna como chave (funcionarão como um MultiIndex)."
      ]
    },
    {
      "cell_type": "code",
      "metadata": {
        "id": "7n-d8ciUrkDE",
        "outputId": "ed45298e-e3d8-4bc2-c264-5f4fc16c4725",
        "colab": {
          "base_uri": "https://localhost:8080/",
          "height": 167
        }
      },
      "source": [
        "dados = {'id_turma':['turma1','turma2','turma2','turma1'],'gênero':['F','M','F','M'],'matemática':[7,8,6.25,9.5],'história':[9,6,10,7.8]}\n",
        "\n",
        "df = pd.DataFrame(dados,index=['luana','joão','marcela','isa'])\n",
        "\n",
        "df"
      ],
      "execution_count": 8,
      "outputs": [
        {
          "output_type": "execute_result",
          "data": {
            "text/html": [
              "<div>\n",
              "<style scoped>\n",
              "    .dataframe tbody tr th:only-of-type {\n",
              "        vertical-align: middle;\n",
              "    }\n",
              "\n",
              "    .dataframe tbody tr th {\n",
              "        vertical-align: top;\n",
              "    }\n",
              "\n",
              "    .dataframe thead th {\n",
              "        text-align: right;\n",
              "    }\n",
              "</style>\n",
              "<table border=\"1\" class=\"dataframe\">\n",
              "  <thead>\n",
              "    <tr style=\"text-align: right;\">\n",
              "      <th></th>\n",
              "      <th>id_turma</th>\n",
              "      <th>gênero</th>\n",
              "      <th>matemática</th>\n",
              "      <th>história</th>\n",
              "    </tr>\n",
              "  </thead>\n",
              "  <tbody>\n",
              "    <tr>\n",
              "      <th>luana</th>\n",
              "      <td>turma1</td>\n",
              "      <td>F</td>\n",
              "      <td>7.00</td>\n",
              "      <td>9.0</td>\n",
              "    </tr>\n",
              "    <tr>\n",
              "      <th>joão</th>\n",
              "      <td>turma2</td>\n",
              "      <td>M</td>\n",
              "      <td>8.00</td>\n",
              "      <td>6.0</td>\n",
              "    </tr>\n",
              "    <tr>\n",
              "      <th>marcela</th>\n",
              "      <td>turma2</td>\n",
              "      <td>F</td>\n",
              "      <td>6.25</td>\n",
              "      <td>10.0</td>\n",
              "    </tr>\n",
              "    <tr>\n",
              "      <th>isa</th>\n",
              "      <td>turma1</td>\n",
              "      <td>M</td>\n",
              "      <td>9.50</td>\n",
              "      <td>7.8</td>\n",
              "    </tr>\n",
              "  </tbody>\n",
              "</table>\n",
              "</div>"
            ],
            "text/plain": [
              "        id_turma gênero  matemática  história\n",
              "luana     turma1      F        7.00       9.0\n",
              "joão      turma2      M        8.00       6.0\n",
              "marcela   turma2      F        6.25      10.0\n",
              "isa       turma1      M        9.50       7.8"
            ]
          },
          "metadata": {
            "tags": []
          },
          "execution_count": 8
        }
      ]
    },
    {
      "cell_type": "code",
      "metadata": {
        "id": "eOyWSsSLrwsj",
        "outputId": "48240e61-6536-46f3-a088-3997eb179a9b",
        "colab": {
          "base_uri": "https://localhost:8080/",
          "height": 197
        }
      },
      "source": [
        "df.groupby(['id_turma','gênero']).mean()"
      ],
      "execution_count": 9,
      "outputs": [
        {
          "output_type": "execute_result",
          "data": {
            "text/html": [
              "<div>\n",
              "<style scoped>\n",
              "    .dataframe tbody tr th:only-of-type {\n",
              "        vertical-align: middle;\n",
              "    }\n",
              "\n",
              "    .dataframe tbody tr th {\n",
              "        vertical-align: top;\n",
              "    }\n",
              "\n",
              "    .dataframe thead th {\n",
              "        text-align: right;\n",
              "    }\n",
              "</style>\n",
              "<table border=\"1\" class=\"dataframe\">\n",
              "  <thead>\n",
              "    <tr style=\"text-align: right;\">\n",
              "      <th></th>\n",
              "      <th></th>\n",
              "      <th>matemática</th>\n",
              "      <th>história</th>\n",
              "    </tr>\n",
              "    <tr>\n",
              "      <th>id_turma</th>\n",
              "      <th>gênero</th>\n",
              "      <th></th>\n",
              "      <th></th>\n",
              "    </tr>\n",
              "  </thead>\n",
              "  <tbody>\n",
              "    <tr>\n",
              "      <th rowspan=\"2\" valign=\"top\">turma1</th>\n",
              "      <th>F</th>\n",
              "      <td>7.00</td>\n",
              "      <td>9.0</td>\n",
              "    </tr>\n",
              "    <tr>\n",
              "      <th>M</th>\n",
              "      <td>9.50</td>\n",
              "      <td>7.8</td>\n",
              "    </tr>\n",
              "    <tr>\n",
              "      <th rowspan=\"2\" valign=\"top\">turma2</th>\n",
              "      <th>F</th>\n",
              "      <td>6.25</td>\n",
              "      <td>10.0</td>\n",
              "    </tr>\n",
              "    <tr>\n",
              "      <th>M</th>\n",
              "      <td>8.00</td>\n",
              "      <td>6.0</td>\n",
              "    </tr>\n",
              "  </tbody>\n",
              "</table>\n",
              "</div>"
            ],
            "text/plain": [
              "                 matemática  história\n",
              "id_turma gênero                      \n",
              "turma1   F             7.00       9.0\n",
              "         M             9.50       7.8\n",
              "turma2   F             6.25      10.0\n",
              "         M             8.00       6.0"
            ]
          },
          "metadata": {
            "tags": []
          },
          "execution_count": 9
        }
      ]
    },
    {
      "cell_type": "markdown",
      "metadata": {
        "id": "TcsNd2x0t6td"
      },
      "source": [
        "Para retornar um dos grupos, usa-se o método `get_group()`."
      ]
    },
    {
      "cell_type": "code",
      "metadata": {
        "id": "rj01WaVmuFRV",
        "outputId": "d7e3dd91-d02e-4a1e-e644-78cdbd7a425a",
        "colab": {
          "base_uri": "https://localhost:8080/",
          "height": 107
        }
      },
      "source": [
        "df.groupby('id_turma').get_group('turma1')"
      ],
      "execution_count": 10,
      "outputs": [
        {
          "output_type": "execute_result",
          "data": {
            "text/html": [
              "<div>\n",
              "<style scoped>\n",
              "    .dataframe tbody tr th:only-of-type {\n",
              "        vertical-align: middle;\n",
              "    }\n",
              "\n",
              "    .dataframe tbody tr th {\n",
              "        vertical-align: top;\n",
              "    }\n",
              "\n",
              "    .dataframe thead th {\n",
              "        text-align: right;\n",
              "    }\n",
              "</style>\n",
              "<table border=\"1\" class=\"dataframe\">\n",
              "  <thead>\n",
              "    <tr style=\"text-align: right;\">\n",
              "      <th></th>\n",
              "      <th>id_turma</th>\n",
              "      <th>gênero</th>\n",
              "      <th>matemática</th>\n",
              "      <th>história</th>\n",
              "    </tr>\n",
              "  </thead>\n",
              "  <tbody>\n",
              "    <tr>\n",
              "      <th>luana</th>\n",
              "      <td>turma1</td>\n",
              "      <td>F</td>\n",
              "      <td>7.0</td>\n",
              "      <td>9.0</td>\n",
              "    </tr>\n",
              "    <tr>\n",
              "      <th>isa</th>\n",
              "      <td>turma1</td>\n",
              "      <td>M</td>\n",
              "      <td>9.5</td>\n",
              "      <td>7.8</td>\n",
              "    </tr>\n",
              "  </tbody>\n",
              "</table>\n",
              "</div>"
            ],
            "text/plain": [
              "      id_turma gênero  matemática  história\n",
              "luana   turma1      F         7.0       9.0\n",
              "isa     turma1      M         9.5       7.8"
            ]
          },
          "metadata": {
            "tags": []
          },
          "execution_count": 10
        }
      ]
    },
    {
      "cell_type": "markdown",
      "metadata": {
        "id": "CiagBVSBhFWa"
      },
      "source": [
        "## **Exercícios - CovidAL**"
      ]
    },
    {
      "cell_type": "markdown",
      "metadata": {
        "id": "eAFM2Gzo60Ae"
      },
      "source": [
        "**Observação:** use o dataset já limpo do projeto da semana 6."
      ]
    },
    {
      "cell_type": "markdown",
      "metadata": {
        "id": "-DVFGE77hIEp"
      },
      "source": [
        "**Exercício 1.1** Use o `groupby` para retornar as médias das idades de homens e mulheres dos exemplos do dataset CovidAL. Lembre-se de considerar apenas valores no intervalo 1 <= idade <= 110.\n"
      ]
    },
    {
      "cell_type": "code",
      "metadata": {
        "id": "uPhkUysaaD3Q",
        "outputId": "1622dfa9-06eb-44d4-96a2-4c721143a093",
        "colab": {
          "base_uri": "https://localhost:8080/",
          "height": 137
        }
      },
      "source": [
        "df_covid_v4.groupby('sexo').mean()"
      ],
      "execution_count": 34,
      "outputs": [
        {
          "output_type": "execute_result",
          "data": {
            "text/html": [
              "<div>\n",
              "<style scoped>\n",
              "    .dataframe tbody tr th:only-of-type {\n",
              "        vertical-align: middle;\n",
              "    }\n",
              "\n",
              "    .dataframe tbody tr th {\n",
              "        vertical-align: top;\n",
              "    }\n",
              "\n",
              "    .dataframe thead th {\n",
              "        text-align: right;\n",
              "    }\n",
              "</style>\n",
              "<table border=\"1\" class=\"dataframe\">\n",
              "  <thead>\n",
              "    <tr style=\"text-align: right;\">\n",
              "      <th></th>\n",
              "      <th>idade</th>\n",
              "    </tr>\n",
              "    <tr>\n",
              "      <th>sexo</th>\n",
              "      <th></th>\n",
              "    </tr>\n",
              "  </thead>\n",
              "  <tbody>\n",
              "    <tr>\n",
              "      <th>Feminino</th>\n",
              "      <td>42.107202</td>\n",
              "    </tr>\n",
              "    <tr>\n",
              "      <th>Masculino</th>\n",
              "      <td>42.975634</td>\n",
              "    </tr>\n",
              "  </tbody>\n",
              "</table>\n",
              "</div>"
            ],
            "text/plain": [
              "               idade\n",
              "sexo                \n",
              "Feminino   42.107202\n",
              "Masculino  42.975634"
            ]
          },
          "metadata": {
            "tags": []
          },
          "execution_count": 34
        }
      ]
    },
    {
      "cell_type": "markdown",
      "metadata": {
        "id": "_WojlRg31I2V"
      },
      "source": [
        "**Exercício 1.2** Dentre os residentes no munincípio de Maceió, qual a maior idade encontrada? "
      ]
    },
    {
      "cell_type": "code",
      "metadata": {
        "id": "-eOagYqH6oBg",
        "outputId": "4315e970-2478-4912-b222-a358eb42022e",
        "colab": {
          "base_uri": "https://localhost:8080/",
          "height": 456
        }
      },
      "source": [
        "# df.groupby('Maceió', axis=1).mean()\n",
        "\n",
        "df_covid_v4[df_covid_v4.municipio_residencia == 'Maceió' ].groupby('idade').count()"
      ],
      "execution_count": 89,
      "outputs": [
        {
          "output_type": "execute_result",
          "data": {
            "text/html": [
              "<div>\n",
              "<style scoped>\n",
              "    .dataframe tbody tr th:only-of-type {\n",
              "        vertical-align: middle;\n",
              "    }\n",
              "\n",
              "    .dataframe tbody tr th {\n",
              "        vertical-align: top;\n",
              "    }\n",
              "\n",
              "    .dataframe thead th {\n",
              "        text-align: right;\n",
              "    }\n",
              "</style>\n",
              "<table border=\"1\" class=\"dataframe\">\n",
              "  <thead>\n",
              "    <tr style=\"text-align: right;\">\n",
              "      <th></th>\n",
              "      <th>etnia</th>\n",
              "      <th>sexo</th>\n",
              "      <th>municipio_residencia</th>\n",
              "      <th>classificacao</th>\n",
              "      <th>situacao_atual</th>\n",
              "      <th>data_resultado_exame</th>\n",
              "      <th>data_atendimento</th>\n",
              "      <th>tipo_coleta</th>\n",
              "      <th>data_obito</th>\n",
              "      <th>data_confirmacao_obito</th>\n",
              "      <th>febre</th>\n",
              "      <th>tosse</th>\n",
              "      <th>cefaleia</th>\n",
              "      <th>dificuldade_respiratoria</th>\n",
              "      <th>dispineia</th>\n",
              "      <th>mialgia</th>\n",
              "      <th>saturacao_menor_noventa_cinco</th>\n",
              "      <th>adinofagia</th>\n",
              "      <th>diarreia</th>\n",
              "      <th>adinamia</th>\n",
              "      <th>nao_informado</th>\n",
              "      <th>doenca_cardiovascular</th>\n",
              "      <th>diabetes</th>\n",
              "      <th>doenca_respiratoria_cronica</th>\n",
              "      <th>hipertensao</th>\n",
              "      <th>paciente_oncologico</th>\n",
              "      <th>idoso</th>\n",
              "      <th>profissional_saude</th>\n",
              "      <th>obesidade</th>\n",
              "      <th>doenca_renal_cronica</th>\n",
              "      <th>doenca_auto_imune</th>\n",
              "      <th>asma</th>\n",
              "      <th>sem_comorbidade</th>\n",
              "      <th>fator_nao_informado</th>\n",
              "      <th>outros_fatores</th>\n",
              "      <th>pneumopatia</th>\n",
              "    </tr>\n",
              "    <tr>\n",
              "      <th>idade</th>\n",
              "      <th></th>\n",
              "      <th></th>\n",
              "      <th></th>\n",
              "      <th></th>\n",
              "      <th></th>\n",
              "      <th></th>\n",
              "      <th></th>\n",
              "      <th></th>\n",
              "      <th></th>\n",
              "      <th></th>\n",
              "      <th></th>\n",
              "      <th></th>\n",
              "      <th></th>\n",
              "      <th></th>\n",
              "      <th></th>\n",
              "      <th></th>\n",
              "      <th></th>\n",
              "      <th></th>\n",
              "      <th></th>\n",
              "      <th></th>\n",
              "      <th></th>\n",
              "      <th></th>\n",
              "      <th></th>\n",
              "      <th></th>\n",
              "      <th></th>\n",
              "      <th></th>\n",
              "      <th></th>\n",
              "      <th></th>\n",
              "      <th></th>\n",
              "      <th></th>\n",
              "      <th></th>\n",
              "      <th></th>\n",
              "      <th></th>\n",
              "      <th></th>\n",
              "      <th></th>\n",
              "      <th></th>\n",
              "    </tr>\n",
              "  </thead>\n",
              "  <tbody>\n",
              "    <tr>\n",
              "      <th>1.0</th>\n",
              "      <td>37</td>\n",
              "      <td>37</td>\n",
              "      <td>37</td>\n",
              "      <td>37</td>\n",
              "      <td>37</td>\n",
              "      <td>37</td>\n",
              "      <td>37</td>\n",
              "      <td>37</td>\n",
              "      <td>0</td>\n",
              "      <td>0</td>\n",
              "      <td>20</td>\n",
              "      <td>21</td>\n",
              "      <td>2</td>\n",
              "      <td>1</td>\n",
              "      <td>0</td>\n",
              "      <td>3</td>\n",
              "      <td>1</td>\n",
              "      <td>6</td>\n",
              "      <td>1</td>\n",
              "      <td>4</td>\n",
              "      <td>0</td>\n",
              "      <td>0</td>\n",
              "      <td>0</td>\n",
              "      <td>0</td>\n",
              "      <td>0</td>\n",
              "      <td>0</td>\n",
              "      <td>0</td>\n",
              "      <td>0</td>\n",
              "      <td>0</td>\n",
              "      <td>0</td>\n",
              "      <td>0</td>\n",
              "      <td>10</td>\n",
              "      <td>0</td>\n",
              "      <td>0</td>\n",
              "      <td>10</td>\n",
              "      <td>0</td>\n",
              "    </tr>\n",
              "    <tr>\n",
              "      <th>2.0</th>\n",
              "      <td>33</td>\n",
              "      <td>33</td>\n",
              "      <td>33</td>\n",
              "      <td>33</td>\n",
              "      <td>33</td>\n",
              "      <td>33</td>\n",
              "      <td>33</td>\n",
              "      <td>33</td>\n",
              "      <td>0</td>\n",
              "      <td>0</td>\n",
              "      <td>22</td>\n",
              "      <td>16</td>\n",
              "      <td>0</td>\n",
              "      <td>2</td>\n",
              "      <td>0</td>\n",
              "      <td>2</td>\n",
              "      <td>0</td>\n",
              "      <td>6</td>\n",
              "      <td>3</td>\n",
              "      <td>4</td>\n",
              "      <td>0</td>\n",
              "      <td>0</td>\n",
              "      <td>0</td>\n",
              "      <td>1</td>\n",
              "      <td>0</td>\n",
              "      <td>0</td>\n",
              "      <td>0</td>\n",
              "      <td>0</td>\n",
              "      <td>0</td>\n",
              "      <td>0</td>\n",
              "      <td>0</td>\n",
              "      <td>5</td>\n",
              "      <td>0</td>\n",
              "      <td>0</td>\n",
              "      <td>13</td>\n",
              "      <td>0</td>\n",
              "    </tr>\n",
              "    <tr>\n",
              "      <th>3.0</th>\n",
              "      <td>40</td>\n",
              "      <td>40</td>\n",
              "      <td>40</td>\n",
              "      <td>40</td>\n",
              "      <td>40</td>\n",
              "      <td>40</td>\n",
              "      <td>40</td>\n",
              "      <td>40</td>\n",
              "      <td>0</td>\n",
              "      <td>0</td>\n",
              "      <td>26</td>\n",
              "      <td>22</td>\n",
              "      <td>5</td>\n",
              "      <td>1</td>\n",
              "      <td>0</td>\n",
              "      <td>9</td>\n",
              "      <td>4</td>\n",
              "      <td>4</td>\n",
              "      <td>0</td>\n",
              "      <td>8</td>\n",
              "      <td>1</td>\n",
              "      <td>0</td>\n",
              "      <td>0</td>\n",
              "      <td>0</td>\n",
              "      <td>0</td>\n",
              "      <td>0</td>\n",
              "      <td>0</td>\n",
              "      <td>0</td>\n",
              "      <td>0</td>\n",
              "      <td>0</td>\n",
              "      <td>0</td>\n",
              "      <td>13</td>\n",
              "      <td>0</td>\n",
              "      <td>0</td>\n",
              "      <td>7</td>\n",
              "      <td>0</td>\n",
              "    </tr>\n",
              "    <tr>\n",
              "      <th>4.0</th>\n",
              "      <td>45</td>\n",
              "      <td>45</td>\n",
              "      <td>45</td>\n",
              "      <td>45</td>\n",
              "      <td>45</td>\n",
              "      <td>45</td>\n",
              "      <td>45</td>\n",
              "      <td>45</td>\n",
              "      <td>2</td>\n",
              "      <td>2</td>\n",
              "      <td>28</td>\n",
              "      <td>16</td>\n",
              "      <td>9</td>\n",
              "      <td>1</td>\n",
              "      <td>0</td>\n",
              "      <td>4</td>\n",
              "      <td>3</td>\n",
              "      <td>5</td>\n",
              "      <td>2</td>\n",
              "      <td>6</td>\n",
              "      <td>2</td>\n",
              "      <td>0</td>\n",
              "      <td>0</td>\n",
              "      <td>1</td>\n",
              "      <td>0</td>\n",
              "      <td>0</td>\n",
              "      <td>0</td>\n",
              "      <td>0</td>\n",
              "      <td>0</td>\n",
              "      <td>0</td>\n",
              "      <td>0</td>\n",
              "      <td>7</td>\n",
              "      <td>0</td>\n",
              "      <td>1</td>\n",
              "      <td>20</td>\n",
              "      <td>0</td>\n",
              "    </tr>\n",
              "    <tr>\n",
              "      <th>5.0</th>\n",
              "      <td>35</td>\n",
              "      <td>35</td>\n",
              "      <td>35</td>\n",
              "      <td>35</td>\n",
              "      <td>35</td>\n",
              "      <td>35</td>\n",
              "      <td>35</td>\n",
              "      <td>35</td>\n",
              "      <td>1</td>\n",
              "      <td>1</td>\n",
              "      <td>19</td>\n",
              "      <td>15</td>\n",
              "      <td>9</td>\n",
              "      <td>0</td>\n",
              "      <td>0</td>\n",
              "      <td>10</td>\n",
              "      <td>2</td>\n",
              "      <td>3</td>\n",
              "      <td>2</td>\n",
              "      <td>12</td>\n",
              "      <td>0</td>\n",
              "      <td>0</td>\n",
              "      <td>0</td>\n",
              "      <td>0</td>\n",
              "      <td>0</td>\n",
              "      <td>0</td>\n",
              "      <td>0</td>\n",
              "      <td>0</td>\n",
              "      <td>0</td>\n",
              "      <td>0</td>\n",
              "      <td>0</td>\n",
              "      <td>6</td>\n",
              "      <td>0</td>\n",
              "      <td>1</td>\n",
              "      <td>8</td>\n",
              "      <td>0</td>\n",
              "    </tr>\n",
              "    <tr>\n",
              "      <th>...</th>\n",
              "      <td>...</td>\n",
              "      <td>...</td>\n",
              "      <td>...</td>\n",
              "      <td>...</td>\n",
              "      <td>...</td>\n",
              "      <td>...</td>\n",
              "      <td>...</td>\n",
              "      <td>...</td>\n",
              "      <td>...</td>\n",
              "      <td>...</td>\n",
              "      <td>...</td>\n",
              "      <td>...</td>\n",
              "      <td>...</td>\n",
              "      <td>...</td>\n",
              "      <td>...</td>\n",
              "      <td>...</td>\n",
              "      <td>...</td>\n",
              "      <td>...</td>\n",
              "      <td>...</td>\n",
              "      <td>...</td>\n",
              "      <td>...</td>\n",
              "      <td>...</td>\n",
              "      <td>...</td>\n",
              "      <td>...</td>\n",
              "      <td>...</td>\n",
              "      <td>...</td>\n",
              "      <td>...</td>\n",
              "      <td>...</td>\n",
              "      <td>...</td>\n",
              "      <td>...</td>\n",
              "      <td>...</td>\n",
              "      <td>...</td>\n",
              "      <td>...</td>\n",
              "      <td>...</td>\n",
              "      <td>...</td>\n",
              "      <td>...</td>\n",
              "    </tr>\n",
              "    <tr>\n",
              "      <th>98.0</th>\n",
              "      <td>7</td>\n",
              "      <td>7</td>\n",
              "      <td>7</td>\n",
              "      <td>7</td>\n",
              "      <td>7</td>\n",
              "      <td>7</td>\n",
              "      <td>7</td>\n",
              "      <td>7</td>\n",
              "      <td>3</td>\n",
              "      <td>3</td>\n",
              "      <td>3</td>\n",
              "      <td>2</td>\n",
              "      <td>1</td>\n",
              "      <td>0</td>\n",
              "      <td>0</td>\n",
              "      <td>1</td>\n",
              "      <td>0</td>\n",
              "      <td>1</td>\n",
              "      <td>0</td>\n",
              "      <td>1</td>\n",
              "      <td>0</td>\n",
              "      <td>0</td>\n",
              "      <td>0</td>\n",
              "      <td>0</td>\n",
              "      <td>0</td>\n",
              "      <td>0</td>\n",
              "      <td>0</td>\n",
              "      <td>0</td>\n",
              "      <td>0</td>\n",
              "      <td>0</td>\n",
              "      <td>0</td>\n",
              "      <td>0</td>\n",
              "      <td>0</td>\n",
              "      <td>0</td>\n",
              "      <td>3</td>\n",
              "      <td>0</td>\n",
              "    </tr>\n",
              "    <tr>\n",
              "      <th>99.0</th>\n",
              "      <td>3</td>\n",
              "      <td>3</td>\n",
              "      <td>3</td>\n",
              "      <td>3</td>\n",
              "      <td>3</td>\n",
              "      <td>3</td>\n",
              "      <td>3</td>\n",
              "      <td>3</td>\n",
              "      <td>0</td>\n",
              "      <td>0</td>\n",
              "      <td>1</td>\n",
              "      <td>2</td>\n",
              "      <td>0</td>\n",
              "      <td>0</td>\n",
              "      <td>0</td>\n",
              "      <td>0</td>\n",
              "      <td>0</td>\n",
              "      <td>0</td>\n",
              "      <td>0</td>\n",
              "      <td>0</td>\n",
              "      <td>0</td>\n",
              "      <td>1</td>\n",
              "      <td>0</td>\n",
              "      <td>0</td>\n",
              "      <td>0</td>\n",
              "      <td>0</td>\n",
              "      <td>0</td>\n",
              "      <td>0</td>\n",
              "      <td>0</td>\n",
              "      <td>0</td>\n",
              "      <td>0</td>\n",
              "      <td>0</td>\n",
              "      <td>0</td>\n",
              "      <td>0</td>\n",
              "      <td>2</td>\n",
              "      <td>0</td>\n",
              "    </tr>\n",
              "    <tr>\n",
              "      <th>100.0</th>\n",
              "      <td>1</td>\n",
              "      <td>1</td>\n",
              "      <td>1</td>\n",
              "      <td>1</td>\n",
              "      <td>1</td>\n",
              "      <td>1</td>\n",
              "      <td>1</td>\n",
              "      <td>1</td>\n",
              "      <td>0</td>\n",
              "      <td>0</td>\n",
              "      <td>1</td>\n",
              "      <td>0</td>\n",
              "      <td>0</td>\n",
              "      <td>0</td>\n",
              "      <td>0</td>\n",
              "      <td>0</td>\n",
              "      <td>0</td>\n",
              "      <td>0</td>\n",
              "      <td>0</td>\n",
              "      <td>0</td>\n",
              "      <td>0</td>\n",
              "      <td>1</td>\n",
              "      <td>0</td>\n",
              "      <td>0</td>\n",
              "      <td>0</td>\n",
              "      <td>0</td>\n",
              "      <td>0</td>\n",
              "      <td>0</td>\n",
              "      <td>0</td>\n",
              "      <td>0</td>\n",
              "      <td>0</td>\n",
              "      <td>0</td>\n",
              "      <td>0</td>\n",
              "      <td>0</td>\n",
              "      <td>0</td>\n",
              "      <td>0</td>\n",
              "    </tr>\n",
              "    <tr>\n",
              "      <th>101.0</th>\n",
              "      <td>1</td>\n",
              "      <td>1</td>\n",
              "      <td>1</td>\n",
              "      <td>1</td>\n",
              "      <td>1</td>\n",
              "      <td>1</td>\n",
              "      <td>1</td>\n",
              "      <td>1</td>\n",
              "      <td>0</td>\n",
              "      <td>0</td>\n",
              "      <td>1</td>\n",
              "      <td>1</td>\n",
              "      <td>0</td>\n",
              "      <td>0</td>\n",
              "      <td>0</td>\n",
              "      <td>1</td>\n",
              "      <td>0</td>\n",
              "      <td>1</td>\n",
              "      <td>0</td>\n",
              "      <td>0</td>\n",
              "      <td>0</td>\n",
              "      <td>0</td>\n",
              "      <td>0</td>\n",
              "      <td>0</td>\n",
              "      <td>0</td>\n",
              "      <td>0</td>\n",
              "      <td>0</td>\n",
              "      <td>0</td>\n",
              "      <td>0</td>\n",
              "      <td>0</td>\n",
              "      <td>0</td>\n",
              "      <td>0</td>\n",
              "      <td>0</td>\n",
              "      <td>0</td>\n",
              "      <td>1</td>\n",
              "      <td>0</td>\n",
              "    </tr>\n",
              "    <tr>\n",
              "      <th>102.0</th>\n",
              "      <td>6</td>\n",
              "      <td>6</td>\n",
              "      <td>6</td>\n",
              "      <td>6</td>\n",
              "      <td>6</td>\n",
              "      <td>6</td>\n",
              "      <td>6</td>\n",
              "      <td>6</td>\n",
              "      <td>2</td>\n",
              "      <td>2</td>\n",
              "      <td>4</td>\n",
              "      <td>6</td>\n",
              "      <td>0</td>\n",
              "      <td>1</td>\n",
              "      <td>1</td>\n",
              "      <td>2</td>\n",
              "      <td>1</td>\n",
              "      <td>0</td>\n",
              "      <td>0</td>\n",
              "      <td>0</td>\n",
              "      <td>0</td>\n",
              "      <td>0</td>\n",
              "      <td>0</td>\n",
              "      <td>0</td>\n",
              "      <td>0</td>\n",
              "      <td>0</td>\n",
              "      <td>0</td>\n",
              "      <td>0</td>\n",
              "      <td>0</td>\n",
              "      <td>0</td>\n",
              "      <td>0</td>\n",
              "      <td>1</td>\n",
              "      <td>0</td>\n",
              "      <td>0</td>\n",
              "      <td>2</td>\n",
              "      <td>0</td>\n",
              "    </tr>\n",
              "  </tbody>\n",
              "</table>\n",
              "<p>102 rows × 36 columns</p>\n",
              "</div>"
            ],
            "text/plain": [
              "       etnia  sexo  ...  outros_fatores  pneumopatia\n",
              "idade               ...                             \n",
              "1.0       37    37  ...              10            0\n",
              "2.0       33    33  ...              13            0\n",
              "3.0       40    40  ...               7            0\n",
              "4.0       45    45  ...              20            0\n",
              "5.0       35    35  ...               8            0\n",
              "...      ...   ...  ...             ...          ...\n",
              "98.0       7     7  ...               3            0\n",
              "99.0       3     3  ...               2            0\n",
              "100.0      1     1  ...               0            0\n",
              "101.0      1     1  ...               1            0\n",
              "102.0      6     6  ...               2            0\n",
              "\n",
              "[102 rows x 36 columns]"
            ]
          },
          "metadata": {
            "tags": []
          },
          "execution_count": 89
        }
      ]
    },
    {
      "cell_type": "markdown",
      "metadata": {
        "id": "ksVpYAFNjLU4"
      },
      "source": [
        "A maior idade encontrada foi de 102 anos, sendo a idade de 6 pessoas. "
      ]
    },
    {
      "cell_type": "markdown",
      "metadata": {
        "id": "yiQrjmZ01uYF"
      },
      "source": [
        "**Exercício 1.3** Entre os pacientes com mais de 80 anos, quantos estão finalizando o isolamento ('situacao_atual'== Encerramento do Isolamento Domiciliar)?"
      ]
    },
    {
      "cell_type": "code",
      "metadata": {
        "id": "gCWOJ4LB6ohw",
        "outputId": "bfb7d251-31d7-416c-b23a-73dcaa15fb45",
        "colab": {
          "base_uri": "https://localhost:8080/",
          "height": 374
        }
      },
      "source": [
        "df_covid_v4[df_covid_v4.idade > 80 ].groupby('situacao_atual').count()"
      ],
      "execution_count": 96,
      "outputs": [
        {
          "output_type": "execute_result",
          "data": {
            "text/html": [
              "<div>\n",
              "<style scoped>\n",
              "    .dataframe tbody tr th:only-of-type {\n",
              "        vertical-align: middle;\n",
              "    }\n",
              "\n",
              "    .dataframe tbody tr th {\n",
              "        vertical-align: top;\n",
              "    }\n",
              "\n",
              "    .dataframe thead th {\n",
              "        text-align: right;\n",
              "    }\n",
              "</style>\n",
              "<table border=\"1\" class=\"dataframe\">\n",
              "  <thead>\n",
              "    <tr style=\"text-align: right;\">\n",
              "      <th></th>\n",
              "      <th>etnia</th>\n",
              "      <th>sexo</th>\n",
              "      <th>municipio_residencia</th>\n",
              "      <th>classificacao</th>\n",
              "      <th>data_resultado_exame</th>\n",
              "      <th>data_atendimento</th>\n",
              "      <th>tipo_coleta</th>\n",
              "      <th>idade</th>\n",
              "      <th>data_obito</th>\n",
              "      <th>data_confirmacao_obito</th>\n",
              "      <th>febre</th>\n",
              "      <th>tosse</th>\n",
              "      <th>cefaleia</th>\n",
              "      <th>dificuldade_respiratoria</th>\n",
              "      <th>dispineia</th>\n",
              "      <th>mialgia</th>\n",
              "      <th>saturacao_menor_noventa_cinco</th>\n",
              "      <th>adinofagia</th>\n",
              "      <th>diarreia</th>\n",
              "      <th>adinamia</th>\n",
              "      <th>nao_informado</th>\n",
              "      <th>doenca_cardiovascular</th>\n",
              "      <th>diabetes</th>\n",
              "      <th>doenca_respiratoria_cronica</th>\n",
              "      <th>hipertensao</th>\n",
              "      <th>paciente_oncologico</th>\n",
              "      <th>idoso</th>\n",
              "      <th>profissional_saude</th>\n",
              "      <th>obesidade</th>\n",
              "      <th>doenca_renal_cronica</th>\n",
              "      <th>doenca_auto_imune</th>\n",
              "      <th>asma</th>\n",
              "      <th>sem_comorbidade</th>\n",
              "      <th>fator_nao_informado</th>\n",
              "      <th>outros_fatores</th>\n",
              "      <th>pneumopatia</th>\n",
              "    </tr>\n",
              "    <tr>\n",
              "      <th>situacao_atual</th>\n",
              "      <th></th>\n",
              "      <th></th>\n",
              "      <th></th>\n",
              "      <th></th>\n",
              "      <th></th>\n",
              "      <th></th>\n",
              "      <th></th>\n",
              "      <th></th>\n",
              "      <th></th>\n",
              "      <th></th>\n",
              "      <th></th>\n",
              "      <th></th>\n",
              "      <th></th>\n",
              "      <th></th>\n",
              "      <th></th>\n",
              "      <th></th>\n",
              "      <th></th>\n",
              "      <th></th>\n",
              "      <th></th>\n",
              "      <th></th>\n",
              "      <th></th>\n",
              "      <th></th>\n",
              "      <th></th>\n",
              "      <th></th>\n",
              "      <th></th>\n",
              "      <th></th>\n",
              "      <th></th>\n",
              "      <th></th>\n",
              "      <th></th>\n",
              "      <th></th>\n",
              "      <th></th>\n",
              "      <th></th>\n",
              "      <th></th>\n",
              "      <th></th>\n",
              "      <th></th>\n",
              "      <th></th>\n",
              "    </tr>\n",
              "  </thead>\n",
              "  <tbody>\n",
              "    <tr>\n",
              "      <th>Alta Hospitalar</th>\n",
              "      <td>76</td>\n",
              "      <td>76</td>\n",
              "      <td>76</td>\n",
              "      <td>76</td>\n",
              "      <td>76</td>\n",
              "      <td>76</td>\n",
              "      <td>76</td>\n",
              "      <td>76</td>\n",
              "      <td>0</td>\n",
              "      <td>0</td>\n",
              "      <td>35</td>\n",
              "      <td>41</td>\n",
              "      <td>3</td>\n",
              "      <td>6</td>\n",
              "      <td>6</td>\n",
              "      <td>11</td>\n",
              "      <td>3</td>\n",
              "      <td>2</td>\n",
              "      <td>0</td>\n",
              "      <td>11</td>\n",
              "      <td>3</td>\n",
              "      <td>14</td>\n",
              "      <td>14</td>\n",
              "      <td>2</td>\n",
              "      <td>29</td>\n",
              "      <td>3</td>\n",
              "      <td>7</td>\n",
              "      <td>0</td>\n",
              "      <td>0</td>\n",
              "      <td>2</td>\n",
              "      <td>6</td>\n",
              "      <td>5</td>\n",
              "      <td>0</td>\n",
              "      <td>0</td>\n",
              "      <td>8</td>\n",
              "      <td>0</td>\n",
              "    </tr>\n",
              "    <tr>\n",
              "      <th>Alta Médica</th>\n",
              "      <td>4</td>\n",
              "      <td>4</td>\n",
              "      <td>4</td>\n",
              "      <td>4</td>\n",
              "      <td>4</td>\n",
              "      <td>4</td>\n",
              "      <td>4</td>\n",
              "      <td>4</td>\n",
              "      <td>0</td>\n",
              "      <td>0</td>\n",
              "      <td>2</td>\n",
              "      <td>2</td>\n",
              "      <td>1</td>\n",
              "      <td>1</td>\n",
              "      <td>0</td>\n",
              "      <td>1</td>\n",
              "      <td>0</td>\n",
              "      <td>1</td>\n",
              "      <td>0</td>\n",
              "      <td>3</td>\n",
              "      <td>1</td>\n",
              "      <td>2</td>\n",
              "      <td>1</td>\n",
              "      <td>0</td>\n",
              "      <td>0</td>\n",
              "      <td>0</td>\n",
              "      <td>0</td>\n",
              "      <td>0</td>\n",
              "      <td>0</td>\n",
              "      <td>0</td>\n",
              "      <td>0</td>\n",
              "      <td>2</td>\n",
              "      <td>0</td>\n",
              "      <td>0</td>\n",
              "      <td>0</td>\n",
              "      <td>0</td>\n",
              "    </tr>\n",
              "    <tr>\n",
              "      <th>Encerramento do Isolamento Domiciliar</th>\n",
              "      <td>57</td>\n",
              "      <td>57</td>\n",
              "      <td>57</td>\n",
              "      <td>57</td>\n",
              "      <td>57</td>\n",
              "      <td>57</td>\n",
              "      <td>57</td>\n",
              "      <td>57</td>\n",
              "      <td>0</td>\n",
              "      <td>0</td>\n",
              "      <td>21</td>\n",
              "      <td>28</td>\n",
              "      <td>1</td>\n",
              "      <td>1</td>\n",
              "      <td>0</td>\n",
              "      <td>3</td>\n",
              "      <td>3</td>\n",
              "      <td>1</td>\n",
              "      <td>0</td>\n",
              "      <td>6</td>\n",
              "      <td>3</td>\n",
              "      <td>6</td>\n",
              "      <td>9</td>\n",
              "      <td>2</td>\n",
              "      <td>1</td>\n",
              "      <td>0</td>\n",
              "      <td>0</td>\n",
              "      <td>0</td>\n",
              "      <td>0</td>\n",
              "      <td>1</td>\n",
              "      <td>0</td>\n",
              "      <td>2</td>\n",
              "      <td>0</td>\n",
              "      <td>0</td>\n",
              "      <td>9</td>\n",
              "      <td>0</td>\n",
              "    </tr>\n",
              "    <tr>\n",
              "      <th>Internação Leito Clínico</th>\n",
              "      <td>126</td>\n",
              "      <td>126</td>\n",
              "      <td>126</td>\n",
              "      <td>126</td>\n",
              "      <td>126</td>\n",
              "      <td>126</td>\n",
              "      <td>126</td>\n",
              "      <td>126</td>\n",
              "      <td>1</td>\n",
              "      <td>0</td>\n",
              "      <td>71</td>\n",
              "      <td>66</td>\n",
              "      <td>16</td>\n",
              "      <td>9</td>\n",
              "      <td>16</td>\n",
              "      <td>12</td>\n",
              "      <td>6</td>\n",
              "      <td>3</td>\n",
              "      <td>1</td>\n",
              "      <td>25</td>\n",
              "      <td>5</td>\n",
              "      <td>37</td>\n",
              "      <td>27</td>\n",
              "      <td>6</td>\n",
              "      <td>24</td>\n",
              "      <td>0</td>\n",
              "      <td>6</td>\n",
              "      <td>0</td>\n",
              "      <td>0</td>\n",
              "      <td>0</td>\n",
              "      <td>5</td>\n",
              "      <td>7</td>\n",
              "      <td>0</td>\n",
              "      <td>1</td>\n",
              "      <td>18</td>\n",
              "      <td>1</td>\n",
              "    </tr>\n",
              "    <tr>\n",
              "      <th>Internação UTI</th>\n",
              "      <td>25</td>\n",
              "      <td>25</td>\n",
              "      <td>25</td>\n",
              "      <td>25</td>\n",
              "      <td>25</td>\n",
              "      <td>25</td>\n",
              "      <td>25</td>\n",
              "      <td>25</td>\n",
              "      <td>0</td>\n",
              "      <td>0</td>\n",
              "      <td>10</td>\n",
              "      <td>16</td>\n",
              "      <td>3</td>\n",
              "      <td>0</td>\n",
              "      <td>4</td>\n",
              "      <td>3</td>\n",
              "      <td>0</td>\n",
              "      <td>2</td>\n",
              "      <td>0</td>\n",
              "      <td>5</td>\n",
              "      <td>0</td>\n",
              "      <td>5</td>\n",
              "      <td>5</td>\n",
              "      <td>0</td>\n",
              "      <td>6</td>\n",
              "      <td>0</td>\n",
              "      <td>0</td>\n",
              "      <td>0</td>\n",
              "      <td>0</td>\n",
              "      <td>0</td>\n",
              "      <td>2</td>\n",
              "      <td>5</td>\n",
              "      <td>0</td>\n",
              "      <td>0</td>\n",
              "      <td>1</td>\n",
              "      <td>0</td>\n",
              "    </tr>\n",
              "    <tr>\n",
              "      <th>Isolamento Domiciliar</th>\n",
              "      <td>748</td>\n",
              "      <td>748</td>\n",
              "      <td>748</td>\n",
              "      <td>748</td>\n",
              "      <td>748</td>\n",
              "      <td>748</td>\n",
              "      <td>748</td>\n",
              "      <td>748</td>\n",
              "      <td>0</td>\n",
              "      <td>0</td>\n",
              "      <td>334</td>\n",
              "      <td>457</td>\n",
              "      <td>89</td>\n",
              "      <td>21</td>\n",
              "      <td>7</td>\n",
              "      <td>48</td>\n",
              "      <td>20</td>\n",
              "      <td>34</td>\n",
              "      <td>21</td>\n",
              "      <td>158</td>\n",
              "      <td>58</td>\n",
              "      <td>97</td>\n",
              "      <td>98</td>\n",
              "      <td>16</td>\n",
              "      <td>21</td>\n",
              "      <td>0</td>\n",
              "      <td>24</td>\n",
              "      <td>1</td>\n",
              "      <td>0</td>\n",
              "      <td>4</td>\n",
              "      <td>13</td>\n",
              "      <td>175</td>\n",
              "      <td>4</td>\n",
              "      <td>2</td>\n",
              "      <td>174</td>\n",
              "      <td>2</td>\n",
              "    </tr>\n",
              "    <tr>\n",
              "      <th>Óbito</th>\n",
              "      <td>336</td>\n",
              "      <td>336</td>\n",
              "      <td>336</td>\n",
              "      <td>336</td>\n",
              "      <td>336</td>\n",
              "      <td>336</td>\n",
              "      <td>336</td>\n",
              "      <td>336</td>\n",
              "      <td>334</td>\n",
              "      <td>333</td>\n",
              "      <td>142</td>\n",
              "      <td>168</td>\n",
              "      <td>20</td>\n",
              "      <td>21</td>\n",
              "      <td>29</td>\n",
              "      <td>19</td>\n",
              "      <td>5</td>\n",
              "      <td>4</td>\n",
              "      <td>11</td>\n",
              "      <td>45</td>\n",
              "      <td>7</td>\n",
              "      <td>48</td>\n",
              "      <td>80</td>\n",
              "      <td>10</td>\n",
              "      <td>43</td>\n",
              "      <td>1</td>\n",
              "      <td>4</td>\n",
              "      <td>0</td>\n",
              "      <td>4</td>\n",
              "      <td>6</td>\n",
              "      <td>10</td>\n",
              "      <td>36</td>\n",
              "      <td>2</td>\n",
              "      <td>1</td>\n",
              "      <td>49</td>\n",
              "      <td>5</td>\n",
              "    </tr>\n",
              "  </tbody>\n",
              "</table>\n",
              "</div>"
            ],
            "text/plain": [
              "                                       etnia  sexo  ...  outros_fatores  pneumopatia\n",
              "situacao_atual                                      ...                             \n",
              "Alta Hospitalar                           76    76  ...               8            0\n",
              "Alta Médica                                4     4  ...               0            0\n",
              "Encerramento do Isolamento Domiciliar     57    57  ...               9            0\n",
              "Internação Leito Clínico                 126   126  ...              18            1\n",
              "Internação UTI                            25    25  ...               1            0\n",
              "Isolamento Domiciliar                    748   748  ...             174            2\n",
              "Óbito                                    336   336  ...              49            5\n",
              "\n",
              "[7 rows x 36 columns]"
            ]
          },
          "metadata": {
            "tags": []
          },
          "execution_count": 96
        }
      ]
    },
    {
      "cell_type": "markdown",
      "metadata": {
        "id": "JmYQp2rxknsu"
      },
      "source": [
        "Dentre os pacientes com mais de 80 anos, 57 estão em encerramento do isolamento social"
      ]
    },
    {
      "cell_type": "markdown",
      "metadata": {
        "id": "NtC1yMG34avG"
      },
      "source": [
        "**Exercício 1.4** Dentre os pacientes que vieram a óbito, qual a [comorbidade](https://www.dicio.com.br/comorbidade/) mais comum?\n",
        "\n",
        "\n",
        "\n",
        "```python\n",
        "comorbidades  = ['doenca_cardiovascular', 'diabetes',\n",
        "       'doenca_respiratoria_cronica', 'hipertensao', 'paciente_oncologico',\n",
        "       'idoso', 'profissional_saude', 'obesidade', 'doenca_renal_cronica',\n",
        "       'doenca_auto_imune', 'asma', 'sem_comorbidade', 'fator_nao_informado',\n",
        "       'outros_fatores', 'pneumopatia']\n",
        "```\n",
        "\n"
      ]
    },
    {
      "cell_type": "code",
      "metadata": {
        "id": "JAuVYngqevAC"
      },
      "source": [
        "comorbidades  = ['doenca_cardiovascular', 'diabetes',\n",
        "       'doenca_respiratoria_cronica', 'hipertensao', 'paciente_oncologico',\n",
        "       'idoso', 'profissional_saude', 'obesidade', 'doenca_renal_cronica',\n",
        "       'doenca_auto_imune', 'asma', 'sem_comorbidade', 'fator_nao_informado',\n",
        "       'outros_fatores', 'pneumopatia']"
      ],
      "execution_count": 56,
      "outputs": []
    },
    {
      "cell_type": "code",
      "metadata": {
        "id": "JgMu3OV96p4Q",
        "outputId": "469c639e-4308-44f6-9d6f-64d6c8d7b4eb",
        "colab": {
          "base_uri": "https://localhost:8080/",
          "height": 674
        }
      },
      "source": [
        "df_covid_v4[df_covid_v4.situacao_atual == 'Óbito'].groupby('situacao_atual').count().max()"
      ],
      "execution_count": 109,
      "outputs": [
        {
          "output_type": "execute_result",
          "data": {
            "text/plain": [
              "etnia                            1700\n",
              "sexo                             1700\n",
              "municipio_residencia             1700\n",
              "classificacao                    1700\n",
              "data_resultado_exame             1700\n",
              "data_atendimento                 1700\n",
              "tipo_coleta                      1700\n",
              "idade                            1693\n",
              "data_obito                       1691\n",
              "data_confirmacao_obito           1671\n",
              "febre                             801\n",
              "tosse                             876\n",
              "cefaleia                          133\n",
              "dificuldade_respiratoria          114\n",
              "dispineia                         134\n",
              "mialgia                            88\n",
              "saturacao_menor_noventa_cinco      42\n",
              "adinofagia                         27\n",
              "diarreia                           33\n",
              "adinamia                          211\n",
              "nao_informado                      66\n",
              "doenca_cardiovascular             253\n",
              "diabetes                          452\n",
              "doenca_respiratoria_cronica        55\n",
              "hipertensao                       176\n",
              "paciente_oncologico                 9\n",
              "idoso                              14\n",
              "profissional_saude                  0\n",
              "obesidade                          26\n",
              "doenca_renal_cronica               42\n",
              "doenca_auto_imune                  46\n",
              "asma                              145\n",
              "sem_comorbidade                     4\n",
              "fator_nao_informado                 6\n",
              "outros_fatores                    303\n",
              "pneumopatia                         8\n",
              "dtype: int64"
            ]
          },
          "metadata": {
            "tags": []
          },
          "execution_count": 109
        }
      ]
    },
    {
      "cell_type": "markdown",
      "metadata": {
        "id": "PdgTQPCBov19"
      },
      "source": [
        "Podemos ver que a diabetes é a comorbidade mais comum dentre todas para os pacientes que vieram a óbito."
      ]
    }
  ]
}